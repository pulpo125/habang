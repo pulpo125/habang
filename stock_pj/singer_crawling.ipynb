{
 "cells": [
  {
   "attachments": {},
   "cell_type": "markdown",
   "metadata": {},
   "source": [
    "### 2. 소속 가수 앨범 날짜 크롤링"
   ]
  },
  {
   "cell_type": "code",
   "execution_count": 6,
   "metadata": {},
   "outputs": [],
   "source": [
    "import requests\n",
    "from bs4 import BeautifulSoup\n",
    "from selenium import webdriver\n",
    "from selenium.webdriver.common.by import By\n",
    "import pandas as pd\n",
    "import re"
   ]
  },
  {
   "cell_type": "code",
   "execution_count": 7,
   "metadata": {},
   "outputs": [
    {
     "name": "stderr",
     "output_type": "stream",
     "text": [
      "C:\\Users\\k9942\\AppData\\Local\\Temp\\ipykernel_10000\\3454815965.py:3: DeprecationWarning: executable_path has been deprecated, please pass in a Service object\n",
      "  driver = webdriver.Chrome(driver_path)\n"
     ]
    }
   ],
   "source": [
    "# driver_path = 'C:/Users/Playdata/Desktop/dev/setup/chromdriver.exe'\n",
    "driver_path = 'C:/Users/k9942/OneDrive/바탕 화면/playdata/dev/setup/chromdriver.exe'\n",
    "driver = webdriver.Chrome(driver_path)"
   ]
  },
  {
   "cell_type": "code",
   "execution_count": 8,
   "metadata": {},
   "outputs": [],
   "source": [
    "# 앨범 정보 크롤링 함수\n",
    "def create_album_info(url, singer):\n",
    "    driver.get(url)\n",
    "    html = driver.page_source\n",
    "    soup = BeautifulSoup(html, 'html.parser')\n",
    "    album_info = soup.select('div > .atist_info')[1:]\n",
    "\n",
    "    album_total_data = []\n",
    "\n",
    "    for album in album_info:\n",
    "        title = album.select_one('div > dl > dt > a').get_text()\n",
    "        type = album.select_one('.vdo_name').get_text()[1:-1]\n",
    "        release_date = album.select_one('.cnt_view').get_text()\n",
    "        album_data = [singer, title, type, release_date]\n",
    "        album_total_data.append(album_data)\n",
    "    \n",
    "    return album_total_data\n"
   ]
  },
  {
   "cell_type": "code",
   "execution_count": 9,
   "metadata": {},
   "outputs": [],
   "source": [
    "# 페이지 인덱스로 url 생성하는 함수\n",
    "def get_url(idx):\n",
    "    url = 'https://www.melon.com/artist/album.htm?artistId=672375#params%5BlistType%5D=0&params%5BorderBy%5D=ISSUE_DATE&params%5BartistId%5D=672375&po=pageObj&startIndex=' + f'{idx}'\n",
    "    return url"
   ]
  },
  {
   "cell_type": "code",
   "execution_count": 10,
   "metadata": {},
   "outputs": [],
   "source": [
    "# 앨범 정보 크롤링\n",
    "bts_total_data = []\n",
    "page_num = 6\n",
    "index = [i*15+1 for i in range(page_num)]\n",
    "\n",
    "for idx in index:\n",
    "    url = get_url(idx)\n",
    "    singer = 'BTS'\n",
    "    bts_album_data = create_album_info(url, singer)\n",
    "    bts_total_data.append(bts_album_data)"
   ]
  },
  {
   "cell_type": "code",
   "execution_count": 12,
   "metadata": {},
   "outputs": [
    {
     "data": {
      "text/html": [
       "<div>\n",
       "<style scoped>\n",
       "    .dataframe tbody tr th:only-of-type {\n",
       "        vertical-align: middle;\n",
       "    }\n",
       "\n",
       "    .dataframe tbody tr th {\n",
       "        vertical-align: top;\n",
       "    }\n",
       "\n",
       "    .dataframe thead th {\n",
       "        text-align: right;\n",
       "    }\n",
       "</style>\n",
       "<table border=\"1\" class=\"dataframe\">\n",
       "  <thead>\n",
       "    <tr style=\"text-align: right;\">\n",
       "      <th></th>\n",
       "      <th>singer</th>\n",
       "      <th>title</th>\n",
       "      <th>album_type</th>\n",
       "      <th>release_date</th>\n",
       "    </tr>\n",
       "  </thead>\n",
       "  <tbody>\n",
       "    <tr>\n",
       "      <th>85</th>\n",
       "      <td>BTS</td>\n",
       "      <td>DARK&amp;WILD</td>\n",
       "      <td>정규</td>\n",
       "      <td>2014.08.20</td>\n",
       "    </tr>\n",
       "    <tr>\n",
       "      <th>86</th>\n",
       "      <td>BTS</td>\n",
       "      <td>Skool Luv Affair Special Addition</td>\n",
       "      <td>정규</td>\n",
       "      <td>2014.05.14</td>\n",
       "    </tr>\n",
       "    <tr>\n",
       "      <th>87</th>\n",
       "      <td>BTS</td>\n",
       "      <td>Skool Luv Affair</td>\n",
       "      <td>EP</td>\n",
       "      <td>2014.02.12</td>\n",
       "    </tr>\n",
       "    <tr>\n",
       "      <th>88</th>\n",
       "      <td>BTS</td>\n",
       "      <td>O!RUL8,2?</td>\n",
       "      <td>EP</td>\n",
       "      <td>2013.09.11</td>\n",
       "    </tr>\n",
       "    <tr>\n",
       "      <th>89</th>\n",
       "      <td>BTS</td>\n",
       "      <td>2 COOL 4 SKOOL</td>\n",
       "      <td>싱글</td>\n",
       "      <td>2013.06.12</td>\n",
       "    </tr>\n",
       "  </tbody>\n",
       "</table>\n",
       "</div>"
      ],
      "text/plain": [
       "   singer                              title album_type release_date\n",
       "85    BTS                          DARK&WILD         정규   2014.08.20\n",
       "86    BTS  Skool Luv Affair Special Addition         정규   2014.05.14\n",
       "87    BTS                   Skool Luv Affair         EP   2014.02.12\n",
       "88    BTS                          O!RUL8,2?         EP   2013.09.11\n",
       "89    BTS                     2 COOL 4 SKOOL         싱글   2013.06.12"
      ]
     },
     "execution_count": 12,
     "metadata": {},
     "output_type": "execute_result"
    }
   ],
   "source": [
    "import numpy as np \n",
    "columns = ['singer', 'title', 'album_type', 'release_date']\n",
    "df = pd.DataFrame(np.array(bts_total_data, dtype='object').reshape(-1,4))\n",
    "# df.reset_index(drop=True, inplace=True)\n",
    "df.columns = columns\n",
    "df.tail()"
   ]
  },
  {
   "cell_type": "code",
   "execution_count": 122,
   "metadata": {},
   "outputs": [],
   "source": [
    "# df.to_csv('data/BTS_album.csv', index=False)"
   ]
  },
  {
   "attachments": {},
   "cell_type": "markdown",
   "metadata": {},
   "source": [
    "### 수정 1\n",
    "참조 테이블인 stock 의 date의 범위는 2020-10-15 부터인데 BTS 앨범 정보는 2013년도 부터 있기 때문에 참조할 데이터가 없어 db에 데이터를 insert 할 시에 오류가 난다. 때문에, 2010-10-15 이후에 발매한 앨범만 추출해야한다."
   ]
  },
  {
   "cell_type": "code",
   "execution_count": 13,
   "metadata": {},
   "outputs": [],
   "source": [
    "# 문자열을 datetime으로 변환하기\n",
    "df['release_date'] = pd.to_datetime(df['release_date'], format='%Y-%m-%d')"
   ]
  },
  {
   "cell_type": "code",
   "execution_count": 14,
   "metadata": {},
   "outputs": [],
   "source": [
    "bts_df = df[df['release_date'].between('2020-10-15', '2023-05-25')]"
   ]
  },
  {
   "cell_type": "code",
   "execution_count": 56,
   "metadata": {},
   "outputs": [],
   "source": [
    "# bts_df.to_csv('data/BTS_album.csv', index=False)"
   ]
  },
  {
   "cell_type": "code",
   "execution_count": 58,
   "metadata": {},
   "outputs": [
    {
     "data": {
      "text/html": [
       "<div>\n",
       "<style scoped>\n",
       "    .dataframe tbody tr th:only-of-type {\n",
       "        vertical-align: middle;\n",
       "    }\n",
       "\n",
       "    .dataframe tbody tr th {\n",
       "        vertical-align: top;\n",
       "    }\n",
       "\n",
       "    .dataframe thead th {\n",
       "        text-align: right;\n",
       "    }\n",
       "</style>\n",
       "<table border=\"1\" class=\"dataframe\">\n",
       "  <thead>\n",
       "    <tr style=\"text-align: right;\">\n",
       "      <th></th>\n",
       "      <th>singer</th>\n",
       "      <th>title</th>\n",
       "      <th>album_type</th>\n",
       "      <th>release_date</th>\n",
       "    </tr>\n",
       "  </thead>\n",
       "  <tbody>\n",
       "    <tr>\n",
       "      <th>3</th>\n",
       "      <td>BTS</td>\n",
       "      <td>Dreamers [Music from the FIFA World Cup Qatar ...</td>\n",
       "      <td>싱글</td>\n",
       "      <td>2022-11-20</td>\n",
       "    </tr>\n",
       "    <tr>\n",
       "      <th>18</th>\n",
       "      <td>BTS</td>\n",
       "      <td>Dreamers [Music from the FIFA World Cup Qatar ...</td>\n",
       "      <td>싱글</td>\n",
       "      <td>2022-11-20</td>\n",
       "    </tr>\n",
       "    <tr>\n",
       "      <th>35</th>\n",
       "      <td>BTS</td>\n",
       "      <td>My Universe (SUGA's Remix)</td>\n",
       "      <td>리믹스</td>\n",
       "      <td>2021-09-26</td>\n",
       "    </tr>\n",
       "  </tbody>\n",
       "</table>\n",
       "</div>"
      ],
      "text/plain": [
       "   singer                                              title album_type  \\\n",
       "3     BTS  Dreamers [Music from the FIFA World Cup Qatar ...         싱글   \n",
       "18    BTS  Dreamers [Music from the FIFA World Cup Qatar ...         싱글   \n",
       "35    BTS                         My Universe (SUGA's Remix)        리믹스   \n",
       "\n",
       "   release_date  \n",
       "3    2022-11-20  \n",
       "18   2022-11-20  \n",
       "35   2021-09-26  "
      ]
     },
     "execution_count": 58,
     "metadata": {},
     "output_type": "execute_result"
    }
   ],
   "source": [
    "bts_df.query('release_date.dt.dayofweek == 6')\n",
    "# 문제점: 주가 데이터는 공휴일 및 주말에 없기 때문에 참조 상에 문제가 생긴다. => db 변경"
   ]
  },
  {
   "attachments": {},
   "cell_type": "markdown",
   "metadata": {},
   "source": [
    "### 수정 2\n",
    "\n",
    "'s (작은 따옴표) 때문에 쿼리 Syntax 오류가 난다.\n",
    "-> 앞에 작은 따옴표를 하나 더 붙여서 이스케이프를 해야한다."
   ]
  },
  {
   "cell_type": "code",
   "execution_count": 61,
   "metadata": {},
   "outputs": [
    {
     "data": {
      "text/plain": [
       "singer                                 BTS\n",
       "title           My Universe (SUGA's Remix)\n",
       "album_type                             리믹스\n",
       "release_date           2021-09-26 00:00:00\n",
       "Name: 35, dtype: object"
      ]
     },
     "execution_count": 61,
     "metadata": {},
     "output_type": "execute_result"
    }
   ],
   "source": [
    "bts_df.loc[35]"
   ]
  },
  {
   "cell_type": "code",
   "execution_count": 4,
   "metadata": {},
   "outputs": [
    {
     "data": {
      "text/plain": [
       "\"My Universe (SUGA''s Remix)\""
      ]
     },
     "execution_count": 4,
     "metadata": {},
     "output_type": "execute_result"
    }
   ],
   "source": [
    "# 아이디어\n",
    "\"My Universe (SUGA's Remix)\".replace(\"'\", \"''\")"
   ]
  },
  {
   "cell_type": "code",
   "execution_count": 16,
   "metadata": {},
   "outputs": [
    {
     "name": "stderr",
     "output_type": "stream",
     "text": [
      "C:\\Users\\k9942\\AppData\\Local\\Temp\\ipykernel_10000\\1275685817.py:1: SettingWithCopyWarning: \n",
      "A value is trying to be set on a copy of a slice from a DataFrame.\n",
      "Try using .loc[row_indexer,col_indexer] = value instead\n",
      "\n",
      "See the caveats in the documentation: https://pandas.pydata.org/pandas-docs/stable/user_guide/indexing.html#returning-a-view-versus-a-copy\n",
      "  bts_df['title'] = [title.replace(\"'\", \"''\") for title in bts_df['title']]\n"
     ]
    }
   ],
   "source": [
    "bts_df['title'] = [title.replace(\"'\", \"''\") for title in bts_df['title']]"
   ]
  },
  {
   "cell_type": "code",
   "execution_count": 17,
   "metadata": {},
   "outputs": [
    {
     "data": {
      "text/plain": [
       "singer                                  BTS\n",
       "title           My Universe (SUGA''s Remix)\n",
       "album_type                              리믹스\n",
       "release_date            2021-09-26 00:00:00\n",
       "Name: 35, dtype: object"
      ]
     },
     "execution_count": 17,
     "metadata": {},
     "output_type": "execute_result"
    }
   ],
   "source": [
    "# 확인\n",
    "bts_df.loc[35]"
   ]
  },
  {
   "cell_type": "code",
   "execution_count": 18,
   "metadata": {},
   "outputs": [],
   "source": [
    "bts_df.to_csv('data/BTS_album.csv', index=False)"
   ]
  },
  {
   "cell_type": "code",
   "execution_count": null,
   "metadata": {},
   "outputs": [],
   "source": []
  }
 ],
 "metadata": {
  "kernelspec": {
   "display_name": "base",
   "language": "python",
   "name": "python3"
  },
  "language_info": {
   "codemirror_mode": {
    "name": "ipython",
    "version": 3
   },
   "file_extension": ".py",
   "mimetype": "text/x-python",
   "name": "python",
   "nbconvert_exporter": "python",
   "pygments_lexer": "ipython3",
   "version": "3.10.9"
  },
  "orig_nbformat": 4
 },
 "nbformat": 4,
 "nbformat_minor": 2
}
