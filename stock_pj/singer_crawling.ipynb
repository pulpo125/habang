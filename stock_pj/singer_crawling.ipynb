{
 "cells": [
  {
   "cell_type": "code",
   "execution_count": 96,
   "metadata": {},
   "outputs": [],
   "source": [
    "import requests\n",
    "from bs4 import BeautifulSoup\n",
    "from selenium import webdriver\n",
    "from selenium.webdriver.common.by import By\n",
    "import pandas as pd\n",
    "import re"
   ]
  },
  {
   "cell_type": "code",
   "execution_count": 97,
   "metadata": {},
   "outputs": [
    {
     "name": "stderr",
     "output_type": "stream",
     "text": [
      "C:\\Users\\Playdata\\AppData\\Local\\Temp\\ipykernel_10564\\2719056226.py:2: DeprecationWarning: executable_path has been deprecated, please pass in a Service object\n",
      "  driver = webdriver.Chrome(driver_path)\n"
     ]
    }
   ],
   "source": [
    "driver_path = 'C:/Users/Playdata/Desktop/dev/setup/chromdriver.exe'\n",
    "driver = webdriver.Chrome(driver_path)"
   ]
  },
  {
   "cell_type": "code",
   "execution_count": 83,
   "metadata": {},
   "outputs": [],
   "source": [
    "# 앨범 정보 크롤링 함수\n",
    "\n",
    "url = 'https://www.melon.com/artist/album.htm?artistId=672375#params%5BlistType%5D=0&params%5BorderBy%5D=ISSUE_DATE&params%5BartistId%5D=672375&po=pageObj&startIndex=1'\n",
    "singer = 'BTS'\n",
    "\n",
    "def create_album_info(url, singer):\n",
    "    driver.get(url)\n",
    "    html = driver.page_source\n",
    "    soup = BeautifulSoup(html, 'html.parser')\n",
    "    album_info = soup.select('div > .atist_info')[1:]\n",
    "\n",
    "    album_total_data = []\n",
    "\n",
    "    for album in album_info:\n",
    "        title = album.select_one('div > dl > dt > a').get_text()\n",
    "        type = album.select_one('.vdo_name').get_text()[1:-1]\n",
    "        release_date = album.select_one('.cnt_view').get_text()\n",
    "        album_data = [singer, title, type, release_date]\n",
    "        album_total_data.append(album_data)\n",
    "    \n",
    "    return album_total_data\n"
   ]
  },
  {
   "cell_type": "code",
   "execution_count": 100,
   "metadata": {},
   "outputs": [],
   "source": [
    "def get_url(idx):\n",
    "    url = 'https://www.melon.com/artist/album.htm?artistId=672375#params%5BlistType%5D=0&params%5BorderBy%5D=ISSUE_DATE&params%5BartistId%5D=672375&po=pageObj&startIndex=' + f'{idx}'\n",
    "    return url"
   ]
  },
  {
   "cell_type": "code",
   "execution_count": 101,
   "metadata": {},
   "outputs": [],
   "source": [
    "bts_total_data = []\n",
    "index = [1, 16, 31, 46, 61, 76]\n",
    "\n",
    "for idx in index:\n",
    "    url = get_url(idx)\n",
    "    signer = 'BTS'\n",
    "\n",
    "    bts_album_data = create_album_info(url, singer)\n",
    "    bts_total_data.append(bts_album_data)\n",
    "    "
   ]
  },
  {
   "cell_type": "code",
   "execution_count": 120,
   "metadata": {},
   "outputs": [
    {
     "data": {
      "text/html": [
       "<div>\n",
       "<style scoped>\n",
       "    .dataframe tbody tr th:only-of-type {\n",
       "        vertical-align: middle;\n",
       "    }\n",
       "\n",
       "    .dataframe tbody tr th {\n",
       "        vertical-align: top;\n",
       "    }\n",
       "\n",
       "    .dataframe thead th {\n",
       "        text-align: right;\n",
       "    }\n",
       "</style>\n",
       "<table border=\"1\" class=\"dataframe\">\n",
       "  <thead>\n",
       "    <tr style=\"text-align: right;\">\n",
       "      <th></th>\n",
       "      <th>singer</th>\n",
       "      <th>title</th>\n",
       "      <th>type</th>\n",
       "      <th>release_date</th>\n",
       "    </tr>\n",
       "  </thead>\n",
       "  <tbody>\n",
       "    <tr>\n",
       "      <th>0</th>\n",
       "      <td>BTS</td>\n",
       "      <td>Angel Pt. 1 (feat. Jimin of BTS, JVKE &amp; Muni L...</td>\n",
       "      <td>싱글</td>\n",
       "      <td>2023.05.17</td>\n",
       "    </tr>\n",
       "    <tr>\n",
       "      <th>1</th>\n",
       "      <td>BTS</td>\n",
       "      <td>The Planet</td>\n",
       "      <td>싱글</td>\n",
       "      <td>2023.05.12</td>\n",
       "    </tr>\n",
       "    <tr>\n",
       "      <th>2</th>\n",
       "      <td>BTS</td>\n",
       "      <td>FIFA World Cup Qatar 2022™ (Official Soundtrack)</td>\n",
       "      <td>옴니버스</td>\n",
       "      <td>2022.12.09</td>\n",
       "    </tr>\n",
       "    <tr>\n",
       "      <th>3</th>\n",
       "      <td>BTS</td>\n",
       "      <td>Dreamers [Music from the FIFA World Cup Qatar ...</td>\n",
       "      <td>싱글</td>\n",
       "      <td>2022.11.20</td>\n",
       "    </tr>\n",
       "    <tr>\n",
       "      <th>4</th>\n",
       "      <td>BTS</td>\n",
       "      <td>CHARLIE</td>\n",
       "      <td>정규</td>\n",
       "      <td>2022.10.07</td>\n",
       "    </tr>\n",
       "    <tr>\n",
       "      <th>...</th>\n",
       "      <td>...</td>\n",
       "      <td>...</td>\n",
       "      <td>...</td>\n",
       "      <td>...</td>\n",
       "    </tr>\n",
       "    <tr>\n",
       "      <th>85</th>\n",
       "      <td>BTS</td>\n",
       "      <td>DARK&amp;WILD</td>\n",
       "      <td>정규</td>\n",
       "      <td>2014.08.20</td>\n",
       "    </tr>\n",
       "    <tr>\n",
       "      <th>86</th>\n",
       "      <td>BTS</td>\n",
       "      <td>Skool Luv Affair Special Addition</td>\n",
       "      <td>정규</td>\n",
       "      <td>2014.05.14</td>\n",
       "    </tr>\n",
       "    <tr>\n",
       "      <th>87</th>\n",
       "      <td>BTS</td>\n",
       "      <td>Skool Luv Affair</td>\n",
       "      <td>EP</td>\n",
       "      <td>2014.02.12</td>\n",
       "    </tr>\n",
       "    <tr>\n",
       "      <th>88</th>\n",
       "      <td>BTS</td>\n",
       "      <td>O!RUL8,2?</td>\n",
       "      <td>EP</td>\n",
       "      <td>2013.09.11</td>\n",
       "    </tr>\n",
       "    <tr>\n",
       "      <th>89</th>\n",
       "      <td>BTS</td>\n",
       "      <td>2 COOL 4 SKOOL</td>\n",
       "      <td>싱글</td>\n",
       "      <td>2013.06.12</td>\n",
       "    </tr>\n",
       "  </tbody>\n",
       "</table>\n",
       "<p>90 rows × 4 columns</p>\n",
       "</div>"
      ],
      "text/plain": [
       "   singer                                              title  type  \\\n",
       "0     BTS  Angel Pt. 1 (feat. Jimin of BTS, JVKE & Muni L...    싱글   \n",
       "1     BTS                                         The Planet    싱글   \n",
       "2     BTS   FIFA World Cup Qatar 2022™ (Official Soundtrack)  옴니버스   \n",
       "3     BTS  Dreamers [Music from the FIFA World Cup Qatar ...    싱글   \n",
       "4     BTS                                            CHARLIE    정규   \n",
       "..    ...                                                ...   ...   \n",
       "85    BTS                                          DARK&WILD    정규   \n",
       "86    BTS                  Skool Luv Affair Special Addition    정규   \n",
       "87    BTS                                   Skool Luv Affair    EP   \n",
       "88    BTS                                          O!RUL8,2?    EP   \n",
       "89    BTS                                     2 COOL 4 SKOOL    싱글   \n",
       "\n",
       "   release_date  \n",
       "0    2023.05.17  \n",
       "1    2023.05.12  \n",
       "2    2022.12.09  \n",
       "3    2022.11.20  \n",
       "4    2022.10.07  \n",
       "..          ...  \n",
       "85   2014.08.20  \n",
       "86   2014.05.14  \n",
       "87   2014.02.12  \n",
       "88   2013.09.11  \n",
       "89   2013.06.12  \n",
       "\n",
       "[90 rows x 4 columns]"
      ]
     },
     "execution_count": 120,
     "metadata": {},
     "output_type": "execute_result"
    }
   ],
   "source": [
    "import numpy as np \n",
    "columns = ['singer', 'title', 'type', 'release_date']\n",
    "df = pd.DataFrame(np.array(bts_total_data, dtype='object').reshape(-1,4))\n",
    "df.reset_index(drop=True)\n",
    "df.columns = columns\n",
    "df"
   ]
  },
  {
   "cell_type": "code",
   "execution_count": 122,
   "metadata": {},
   "outputs": [],
   "source": [
    "df.to_csv('data/BTS_album.csv', index=False)"
   ]
  },
  {
   "cell_type": "code",
   "execution_count": null,
   "metadata": {},
   "outputs": [],
   "source": []
  }
 ],
 "metadata": {
  "kernelspec": {
   "display_name": "base",
   "language": "python",
   "name": "python3"
  },
  "language_info": {
   "codemirror_mode": {
    "name": "ipython",
    "version": 3
   },
   "file_extension": ".py",
   "mimetype": "text/x-python",
   "name": "python",
   "nbconvert_exporter": "python",
   "pygments_lexer": "ipython3",
   "version": "3.10.9"
  },
  "orig_nbformat": 4
 },
 "nbformat": 4,
 "nbformat_minor": 2
}
