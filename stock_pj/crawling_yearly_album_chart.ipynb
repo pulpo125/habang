{
 "cells": [
  {
   "cell_type": "code",
   "execution_count": 16,
   "metadata": {},
   "outputs": [],
   "source": [
    "import requests\n",
    "from bs4 import BeautifulSoup\n",
    "from selenium import webdriver\n",
    "from selenium.webdriver.common.by import By\n",
    "import pandas as pd\n",
    "import re"
   ]
  },
  {
   "attachments": {},
   "cell_type": "markdown",
   "metadata": {},
   "source": [
    "### 연간 앨범 판매량 순위 차트 크롤링"
   ]
  },
  {
   "cell_type": "code",
   "execution_count": 19,
   "metadata": {},
   "outputs": [
    {
     "name": "stderr",
     "output_type": "stream",
     "text": [
      "C:\\Users\\k9942\\AppData\\Local\\Temp\\ipykernel_11396\\3454815965.py:3: DeprecationWarning: executable_path has been deprecated, please pass in a Service object\n",
      "  driver = webdriver.Chrome(driver_path)\n"
     ]
    }
   ],
   "source": [
    "# driver_path = 'C:/Users/Playdata/Desktop/dev/setup/chromdriver.exe'\n",
    "driver_path = 'C:/Users/k9942/OneDrive/바탕 화면/playdata/dev/setup/chromdriver.exe'\n",
    "driver = webdriver.Chrome(driver_path)"
   ]
  },
  {
   "cell_type": "code",
   "execution_count": 20,
   "metadata": {},
   "outputs": [],
   "source": [
    "url = 'https://circlechart.kr/page_chart/album.circle?nationGbn=T&targetTime=2022&hitYear=2022&termGbn=year&yearTime=3'\n",
    "driver.get(url)\n",
    "html = driver.page_source\n",
    "soup = BeautifulSoup(html, 'html.parser')"
   ]
  },
  {
   "cell_type": "code",
   "execution_count": 26,
   "metadata": {},
   "outputs": [
    {
     "data": {
      "text/plain": [
       "100"
      ]
     },
     "execution_count": 26,
     "metadata": {},
     "output_type": "execute_result"
    }
   ],
   "source": [
    "# 차트 테이블 중 행(tr) 추출\n",
    "len(soup.select('#pc_chart_tbody > tr')) # 개수 확인"
   ]
  },
  {
   "cell_type": "code",
   "execution_count": 37,
   "metadata": {},
   "outputs": [],
   "source": [
    "chart_tr = soup.select('#pc_chart_tbody > tr')"
   ]
  },
  {
   "cell_type": "code",
   "execution_count": 33,
   "metadata": {},
   "outputs": [
    {
     "data": {
      "text/plain": [
       "100"
      ]
     },
     "execution_count": 33,
     "metadata": {},
     "output_type": "execute_result"
    }
   ],
   "source": [
    "# title\n",
    "len(soup.select('div.ml-6 > div.mb-2'))"
   ]
  },
  {
   "cell_type": "code",
   "execution_count": 36,
   "metadata": {},
   "outputs": [
    {
     "data": {
      "text/plain": [
       "'Proof'"
      ]
     },
     "execution_count": 36,
     "metadata": {},
     "output_type": "execute_result"
    }
   ],
   "source": [
    "chart_tr[0].select_one('div.ml-6 > div.mb-2').get_text()"
   ]
  },
  {
   "cell_type": "code",
   "execution_count": 34,
   "metadata": {},
   "outputs": [
    {
     "data": {
      "text/plain": [
       "100"
      ]
     },
     "execution_count": 34,
     "metadata": {},
     "output_type": "execute_result"
    }
   ],
   "source": [
    "# singer\n",
    "len(soup.select('div.ml-6 > .text-sm'))"
   ]
  },
  {
   "cell_type": "code",
   "execution_count": 35,
   "metadata": {},
   "outputs": [
    {
     "data": {
      "text/plain": [
       "'방탄소년단'"
      ]
     },
     "execution_count": 35,
     "metadata": {},
     "output_type": "execute_result"
    }
   ],
   "source": [
    "chart_tr[0].select_one('div.ml-6 > .text-sm').get_text()"
   ]
  },
  {
   "cell_type": "code",
   "execution_count": 41,
   "metadata": {},
   "outputs": [
    {
     "data": {
      "text/plain": [
       "100"
      ]
     },
     "execution_count": 41,
     "metadata": {},
     "output_type": "execute_result"
    }
   ],
   "source": [
    "# sales\n",
    "len(soup.select('td.text-center > span.font-bold'))"
   ]
  },
  {
   "cell_type": "code",
   "execution_count": 42,
   "metadata": {},
   "outputs": [
    {
     "data": {
      "text/plain": [
       "'3,482,598 '"
      ]
     },
     "execution_count": 42,
     "metadata": {},
     "output_type": "execute_result"
    }
   ],
   "source": [
    "chart_tr[0].select_one('td.text-center > span.font-bold').get_text()"
   ]
  },
  {
   "cell_type": "code",
   "execution_count": 52,
   "metadata": {},
   "outputs": [],
   "source": [
    "# 연간 앨범 순위 정보 크롤링 함수\n",
    "chart_tr = soup.select('#pc_chart_tbody > tr')\n",
    "rank = 0\n",
    "chart_total_list = []\n",
    "\n",
    "for chart in chart_tr:\n",
    "    title = chart.select_one('div.ml-6 > div.mb-2').get_text()\n",
    "    singer = chart.select_one('div.ml-6 > .text-sm').get_text()\n",
    "    sales = chart.select_one('td.text-center > span.font-bold').get_text().strip()\n",
    "    rank += 1\n",
    "    year = 2022\n",
    "\n",
    "    chart_list = [year, rank, title, singer, sales]\n",
    "    chart_total_list.append(chart_list)"
   ]
  },
  {
   "cell_type": "code",
   "execution_count": 57,
   "metadata": {},
   "outputs": [],
   "source": [
    "def create_yearly_chart(chart_tr, year):\n",
    "    rank = 0\n",
    "    chart_total_list = []\n",
    "\n",
    "    for chart in chart_tr:\n",
    "        title = chart.select_one('div.ml-6 > div.mb-2').get_text()\n",
    "        singer = chart.select_one('div.ml-6 > .text-sm').get_text()\n",
    "        sales = chart.select_one('td.text-center > span.font-bold').get_text().strip()\n",
    "        rank += 1\n",
    "\n",
    "        chart_list = [year, rank, title, singer, sales]\n",
    "        chart_total_list.append(chart_list)\n",
    "    \n",
    "    return chart_total_list"
   ]
  },
  {
   "cell_type": "code",
   "execution_count": 53,
   "metadata": {},
   "outputs": [],
   "source": [
    "# url 생성 함수\n",
    "def get_url(year):\n",
    "    url = f'https://circlechart.kr/page_chart/album.circle?nationGbn=T&targetTime={year}&hitYear={year}&termGbn=year&yearTime=3'\n",
    "    return url"
   ]
  },
  {
   "cell_type": "code",
   "execution_count": 63,
   "metadata": {},
   "outputs": [],
   "source": [
    "year_list = [i for i in range(2018, 2023)]\n",
    "total_chart_list = []\n",
    "\n",
    "for year in year_list:\n",
    "    url = get_url(year)\n",
    "    driver.get(url)\n",
    "    html = driver.page_source\n",
    "    soup = BeautifulSoup(html, 'html.parser')\n",
    "    chart_tr = soup.select('#pc_chart_tbody > tr')\n",
    "\n",
    "    one_year_chart_list = create_yearly_chart(chart_tr, year)\n",
    "    total_chart_list += one_year_chart_list\n"
   ]
  },
  {
   "cell_type": "code",
   "execution_count": 64,
   "metadata": {},
   "outputs": [
    {
     "data": {
      "text/plain": [
       "500"
      ]
     },
     "execution_count": 64,
     "metadata": {},
     "output_type": "execute_result"
    }
   ],
   "source": [
    "len(total_chart_list)"
   ]
  },
  {
   "cell_type": "code",
   "execution_count": 66,
   "metadata": {},
   "outputs": [
    {
     "data": {
      "text/html": [
       "<div>\n",
       "<style scoped>\n",
       "    .dataframe tbody tr th:only-of-type {\n",
       "        vertical-align: middle;\n",
       "    }\n",
       "\n",
       "    .dataframe tbody tr th {\n",
       "        vertical-align: top;\n",
       "    }\n",
       "\n",
       "    .dataframe thead th {\n",
       "        text-align: right;\n",
       "    }\n",
       "</style>\n",
       "<table border=\"1\" class=\"dataframe\">\n",
       "  <thead>\n",
       "    <tr style=\"text-align: right;\">\n",
       "      <th></th>\n",
       "      <th>year</th>\n",
       "      <th>rank</th>\n",
       "      <th>title</th>\n",
       "      <th>singer</th>\n",
       "      <th>sales</th>\n",
       "    </tr>\n",
       "  </thead>\n",
       "  <tbody>\n",
       "    <tr>\n",
       "      <th>0</th>\n",
       "      <td>2018</td>\n",
       "      <td>1</td>\n",
       "      <td>LOVE YOURSELF 結 `Answer`</td>\n",
       "      <td>방탄소년단</td>\n",
       "      <td>2,197,808</td>\n",
       "    </tr>\n",
       "    <tr>\n",
       "      <th>1</th>\n",
       "      <td>2018</td>\n",
       "      <td>2</td>\n",
       "      <td>LOVE YOURSELF 轉 `Tear`</td>\n",
       "      <td>방탄소년단</td>\n",
       "      <td>1,849,537</td>\n",
       "    </tr>\n",
       "    <tr>\n",
       "      <th>2</th>\n",
       "      <td>2018</td>\n",
       "      <td>3</td>\n",
       "      <td>DON`T MESS UP MY TEMPO - The 5th Album</td>\n",
       "      <td>EXO</td>\n",
       "      <td>1,452,030</td>\n",
       "    </tr>\n",
       "    <tr>\n",
       "      <th>3</th>\n",
       "      <td>2018</td>\n",
       "      <td>4</td>\n",
       "      <td>0+1=1 (I PROMISE YOU)</td>\n",
       "      <td>Wanna One (워너원)</td>\n",
       "      <td>782,562</td>\n",
       "    </tr>\n",
       "    <tr>\n",
       "      <th>4</th>\n",
       "      <td>2018</td>\n",
       "      <td>5</td>\n",
       "      <td>1÷χ=1 (UNDIVIDED)</td>\n",
       "      <td>Wanna One (워너원)</td>\n",
       "      <td>641,131</td>\n",
       "    </tr>\n",
       "  </tbody>\n",
       "</table>\n",
       "</div>"
      ],
      "text/plain": [
       "   year  rank                                   title           singer  \\\n",
       "0  2018     1                LOVE YOURSELF 結 `Answer`            방탄소년단   \n",
       "1  2018     2                  LOVE YOURSELF 轉 `Tear`            방탄소년단   \n",
       "2  2018     3  DON`T MESS UP MY TEMPO - The 5th Album              EXO   \n",
       "3  2018     4                   0+1=1 (I PROMISE YOU)  Wanna One (워너원)   \n",
       "4  2018     5                       1÷χ=1 (UNDIVIDED)  Wanna One (워너원)   \n",
       "\n",
       "       sales  \n",
       "0  2,197,808  \n",
       "1  1,849,537  \n",
       "2  1,452,030  \n",
       "3    782,562  \n",
       "4    641,131  "
      ]
     },
     "execution_count": 66,
     "metadata": {},
     "output_type": "execute_result"
    }
   ],
   "source": [
    "yearly_album_chart_df = pd.DataFrame(total_chart_list)\n",
    "yearly_album_chart_df.columns = ['year', 'rank', 'title', 'singer', 'sales']\n",
    "yearly_album_chart_df.head()"
   ]
  },
  {
   "cell_type": "code",
   "execution_count": 67,
   "metadata": {},
   "outputs": [],
   "source": [
    "yearly_album_chart_df.to_csv('data/yearly_album_chart_df.csv', index=False)"
   ]
  },
  {
   "cell_type": "code",
   "execution_count": 1,
   "metadata": {},
   "outputs": [
    {
     "data": {
      "text/html": [
       "<div>\n",
       "<style scoped>\n",
       "    .dataframe tbody tr th:only-of-type {\n",
       "        vertical-align: middle;\n",
       "    }\n",
       "\n",
       "    .dataframe tbody tr th {\n",
       "        vertical-align: top;\n",
       "    }\n",
       "\n",
       "    .dataframe thead th {\n",
       "        text-align: right;\n",
       "    }\n",
       "</style>\n",
       "<table border=\"1\" class=\"dataframe\">\n",
       "  <thead>\n",
       "    <tr style=\"text-align: right;\">\n",
       "      <th></th>\n",
       "      <th>year</th>\n",
       "      <th>rank</th>\n",
       "      <th>title</th>\n",
       "      <th>singer</th>\n",
       "      <th>sales</th>\n",
       "    </tr>\n",
       "  </thead>\n",
       "  <tbody>\n",
       "    <tr>\n",
       "      <th>0</th>\n",
       "      <td>2018</td>\n",
       "      <td>1</td>\n",
       "      <td>LOVE YOURSELF 結 ''Answer''</td>\n",
       "      <td>방탄소년단</td>\n",
       "      <td>2197808</td>\n",
       "    </tr>\n",
       "    <tr>\n",
       "      <th>1</th>\n",
       "      <td>2018</td>\n",
       "      <td>2</td>\n",
       "      <td>LOVE YOURSELF 轉 ''Tear''</td>\n",
       "      <td>방탄소년단</td>\n",
       "      <td>1849537</td>\n",
       "    </tr>\n",
       "    <tr>\n",
       "      <th>2</th>\n",
       "      <td>2018</td>\n",
       "      <td>3</td>\n",
       "      <td>DON''T MESS UP MY TEMPO - The 5th Album</td>\n",
       "      <td>EXO</td>\n",
       "      <td>1452030</td>\n",
       "    </tr>\n",
       "    <tr>\n",
       "      <th>3</th>\n",
       "      <td>2018</td>\n",
       "      <td>4</td>\n",
       "      <td>0+1=1 (I PROMISE YOU)</td>\n",
       "      <td>Wanna One (워너원)</td>\n",
       "      <td>782562</td>\n",
       "    </tr>\n",
       "    <tr>\n",
       "      <th>4</th>\n",
       "      <td>2018</td>\n",
       "      <td>5</td>\n",
       "      <td>1÷χ=1 (UNDIVIDED)</td>\n",
       "      <td>Wanna One (워너원)</td>\n",
       "      <td>641131</td>\n",
       "    </tr>\n",
       "    <tr>\n",
       "      <th>...</th>\n",
       "      <td>...</td>\n",
       "      <td>...</td>\n",
       "      <td>...</td>\n",
       "      <td>...</td>\n",
       "      <td>...</td>\n",
       "    </tr>\n",
       "    <tr>\n",
       "      <th>495</th>\n",
       "      <td>2022</td>\n",
       "      <td>96</td>\n",
       "      <td>혼돈의 장: FREEZE</td>\n",
       "      <td>투모로우바이투게더</td>\n",
       "      <td>152900</td>\n",
       "    </tr>\n",
       "    <tr>\n",
       "      <th>496</th>\n",
       "      <td>2022</td>\n",
       "      <td>97</td>\n",
       "      <td>The Story (META)</td>\n",
       "      <td>강다니엘</td>\n",
       "      <td>149807</td>\n",
       "    </tr>\n",
       "    <tr>\n",
       "      <th>497</th>\n",
       "      <td>2022</td>\n",
       "      <td>98</td>\n",
       "      <td>REFUGE</td>\n",
       "      <td>문빈&amp;산하</td>\n",
       "      <td>147056</td>\n",
       "    </tr>\n",
       "    <tr>\n",
       "      <th>498</th>\n",
       "      <td>2022</td>\n",
       "      <td>99</td>\n",
       "      <td>Love Pt.2 : Passion</td>\n",
       "      <td>위아이 (WEi)</td>\n",
       "      <td>146044</td>\n",
       "    </tr>\n",
       "    <tr>\n",
       "      <th>499</th>\n",
       "      <td>2022</td>\n",
       "      <td>100</td>\n",
       "      <td>7TH MINI ALBUM [BE AWARE] (META)</td>\n",
       "      <td>더보이즈(THE BOYZ)</td>\n",
       "      <td>144734</td>\n",
       "    </tr>\n",
       "  </tbody>\n",
       "</table>\n",
       "<p>500 rows × 5 columns</p>\n",
       "</div>"
      ],
      "text/plain": [
       "     year  rank                                    title           singer  \\\n",
       "0    2018     1               LOVE YOURSELF 結 ''Answer''            방탄소년단   \n",
       "1    2018     2                 LOVE YOURSELF 轉 ''Tear''            방탄소년단   \n",
       "2    2018     3  DON''T MESS UP MY TEMPO - The 5th Album              EXO   \n",
       "3    2018     4                    0+1=1 (I PROMISE YOU)  Wanna One (워너원)   \n",
       "4    2018     5                        1÷χ=1 (UNDIVIDED)  Wanna One (워너원)   \n",
       "..    ...   ...                                      ...              ...   \n",
       "495  2022    96                            혼돈의 장: FREEZE        투모로우바이투게더   \n",
       "496  2022    97                         The Story (META)             강다니엘   \n",
       "497  2022    98                                   REFUGE            문빈&산하   \n",
       "498  2022    99                      Love Pt.2 : Passion        위아이 (WEi)   \n",
       "499  2022   100         7TH MINI ALBUM [BE AWARE] (META)   더보이즈(THE BOYZ)   \n",
       "\n",
       "       sales  \n",
       "0    2197808  \n",
       "1    1849537  \n",
       "2    1452030  \n",
       "3     782562  \n",
       "4     641131  \n",
       "..       ...  \n",
       "495   152900  \n",
       "496   149807  \n",
       "497   147056  \n",
       "498   146044  \n",
       "499   144734  \n",
       "\n",
       "[500 rows x 5 columns]"
      ]
     },
     "execution_count": 1,
     "metadata": {},
     "output_type": "execute_result"
    }
   ],
   "source": [
    "import pandas as pd\n",
    "yearly_album_chart_df = pd.read_csv('data/yearly_album_chart_df.csv')\n",
    "yearly_album_chart_df"
   ]
  },
  {
   "attachments": {},
   "cell_type": "markdown",
   "metadata": {},
   "source": [
    "### 수정 1\n",
    "'s (작은 따옴표) 때문에 쿼리 Syntax 오류가 난다.\n",
    "-> 앞에 작은 따옴표를 하나 더 붙여서 이스케이프를 해야한다."
   ]
  },
  {
   "cell_type": "code",
   "execution_count": 2,
   "metadata": {},
   "outputs": [],
   "source": [
    "yearly_album_chart_df['title'] = [title.replace(\"'\", \"''\") for title in yearly_album_chart_df['title']]"
   ]
  },
  {
   "cell_type": "code",
   "execution_count": 4,
   "metadata": {},
   "outputs": [],
   "source": [
    "yearly_album_chart_df['title'] = [title.replace(\"`\", \"''\") for title in yearly_album_chart_df['title']]"
   ]
  },
  {
   "cell_type": "code",
   "execution_count": 5,
   "metadata": {},
   "outputs": [],
   "source": [
    "yearly_album_chart_df.to_csv('data/yearly_album_chart_df.csv', index=False)"
   ]
  },
  {
   "attachments": {},
   "cell_type": "markdown",
   "metadata": {},
   "source": [
    "### 수정 2\n",
    "\n",
    "- sales int형 변환"
   ]
  },
  {
   "cell_type": "code",
   "execution_count": 6,
   "metadata": {},
   "outputs": [
    {
     "data": {
      "text/html": [
       "<div>\n",
       "<style scoped>\n",
       "    .dataframe tbody tr th:only-of-type {\n",
       "        vertical-align: middle;\n",
       "    }\n",
       "\n",
       "    .dataframe tbody tr th {\n",
       "        vertical-align: top;\n",
       "    }\n",
       "\n",
       "    .dataframe thead th {\n",
       "        text-align: right;\n",
       "    }\n",
       "</style>\n",
       "<table border=\"1\" class=\"dataframe\">\n",
       "  <thead>\n",
       "    <tr style=\"text-align: right;\">\n",
       "      <th></th>\n",
       "      <th>year</th>\n",
       "      <th>rank</th>\n",
       "      <th>title</th>\n",
       "      <th>singer</th>\n",
       "      <th>sales</th>\n",
       "    </tr>\n",
       "  </thead>\n",
       "  <tbody>\n",
       "    <tr>\n",
       "      <th>0</th>\n",
       "      <td>2018</td>\n",
       "      <td>1</td>\n",
       "      <td>LOVE YOURSELF 結 ''Answer''</td>\n",
       "      <td>방탄소년단</td>\n",
       "      <td>2197808</td>\n",
       "    </tr>\n",
       "    <tr>\n",
       "      <th>1</th>\n",
       "      <td>2018</td>\n",
       "      <td>2</td>\n",
       "      <td>LOVE YOURSELF 轉 ''Tear''</td>\n",
       "      <td>방탄소년단</td>\n",
       "      <td>1849537</td>\n",
       "    </tr>\n",
       "    <tr>\n",
       "      <th>2</th>\n",
       "      <td>2018</td>\n",
       "      <td>3</td>\n",
       "      <td>DON''T MESS UP MY TEMPO - The 5th Album</td>\n",
       "      <td>EXO</td>\n",
       "      <td>1452030</td>\n",
       "    </tr>\n",
       "    <tr>\n",
       "      <th>3</th>\n",
       "      <td>2018</td>\n",
       "      <td>4</td>\n",
       "      <td>0+1=1 (I PROMISE YOU)</td>\n",
       "      <td>Wanna One (워너원)</td>\n",
       "      <td>782562</td>\n",
       "    </tr>\n",
       "    <tr>\n",
       "      <th>4</th>\n",
       "      <td>2018</td>\n",
       "      <td>5</td>\n",
       "      <td>1÷χ=1 (UNDIVIDED)</td>\n",
       "      <td>Wanna One (워너원)</td>\n",
       "      <td>641131</td>\n",
       "    </tr>\n",
       "  </tbody>\n",
       "</table>\n",
       "</div>"
      ],
      "text/plain": [
       "   year  rank                                    title           singer  \\\n",
       "0  2018     1               LOVE YOURSELF 結 ''Answer''            방탄소년단   \n",
       "1  2018     2                 LOVE YOURSELF 轉 ''Tear''            방탄소년단   \n",
       "2  2018     3  DON''T MESS UP MY TEMPO - The 5th Album              EXO   \n",
       "3  2018     4                    0+1=1 (I PROMISE YOU)  Wanna One (워너원)   \n",
       "4  2018     5                        1÷χ=1 (UNDIVIDED)  Wanna One (워너원)   \n",
       "\n",
       "     sales  \n",
       "0  2197808  \n",
       "1  1849537  \n",
       "2  1452030  \n",
       "3   782562  \n",
       "4   641131  "
      ]
     },
     "execution_count": 6,
     "metadata": {},
     "output_type": "execute_result"
    }
   ],
   "source": [
    "yearly_album_chart_df['sales'] = [sales.replace(',', '') for sales in yearly_album_chart_df['sales']]\n",
    "yearly_album_chart_df['sales'].astype('int')\n",
    "yearly_album_chart_df.head()"
   ]
  },
  {
   "cell_type": "code",
   "execution_count": 7,
   "metadata": {},
   "outputs": [],
   "source": [
    "yearly_album_chart_df.to_csv('data/yearly_album_chart_df.csv', index=False)"
   ]
  }
 ],
 "metadata": {
  "kernelspec": {
   "display_name": "base",
   "language": "python",
   "name": "python3"
  },
  "language_info": {
   "codemirror_mode": {
    "name": "ipython",
    "version": 3
   },
   "file_extension": ".py",
   "mimetype": "text/x-python",
   "name": "python",
   "nbconvert_exporter": "python",
   "pygments_lexer": "ipython3",
   "version": "3.10.9"
  },
  "orig_nbformat": 4
 },
 "nbformat": 4,
 "nbformat_minor": 2
}
