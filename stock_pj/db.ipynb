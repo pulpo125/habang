{
 "cells": [
  {
   "attachments": {},
   "cell_type": "markdown",
   "metadata": {},
   "source": [
    "### DB"
   ]
  },
  {
   "cell_type": "code",
   "execution_count": 27,
   "metadata": {},
   "outputs": [],
   "source": [
    "import pandas as pd\n",
    "import pymysql"
   ]
  },
  {
   "cell_type": "code",
   "execution_count": 28,
   "metadata": {},
   "outputs": [],
   "source": [
    "conn = pymysql.connect(host='127.0.0.1'\n",
    "                , port=3306\n",
    "                , user = 'root'\n",
    "                , password='root1234'\n",
    "                , db = 'stock_pj'\n",
    "                , charset='utf8'\n",
    "                ) "
   ]
  },
  {
   "cell_type": "code",
   "execution_count": 29,
   "metadata": {},
   "outputs": [
    {
     "data": {
      "text/plain": [
       "(('album',), ('singer_agency',), ('stock',))"
      ]
     },
     "execution_count": 29,
     "metadata": {},
     "output_type": "execute_result"
    }
   ],
   "source": [
    "cur = conn.cursor()\n",
    "cur.execute('SHOW TABLES') # 연동 확인\n",
    "cur.fetchall() # 테이블 이름 확인"
   ]
  },
  {
   "attachments": {},
   "cell_type": "markdown",
   "metadata": {},
   "source": [
    "- INSERT"
   ]
  },
  {
   "cell_type": "code",
   "execution_count": 89,
   "metadata": {},
   "outputs": [
    {
     "data": {
      "text/plain": [
       "'2020-10-15'"
      ]
     },
     "execution_count": 89,
     "metadata": {},
     "output_type": "execute_result"
    }
   ],
   "source": [
    "stock_df = pd.read_csv('data/hybe_stock.csv')\n",
    "stock_df['date'][0]"
   ]
  },
  {
   "cell_type": "code",
   "execution_count": 90,
   "metadata": {},
   "outputs": [],
   "source": [
    "# insert stock table\n",
    "for i in range(len(stock_df)):\n",
    "    cur.execute(f\"INSERT INTO stock (agency_name, date, stock_price) VALUES \\\n",
    "                ('{stock_df['agency_name'][i]}', '{stock_df['date'][i]}', {stock_df['stock_price'][i]});\") "
   ]
  },
  {
   "cell_type": "code",
   "execution_count": 23,
   "metadata": {},
   "outputs": [
    {
     "data": {
      "text/html": [
       "<div>\n",
       "<style scoped>\n",
       "    .dataframe tbody tr th:only-of-type {\n",
       "        vertical-align: middle;\n",
       "    }\n",
       "\n",
       "    .dataframe tbody tr th {\n",
       "        vertical-align: top;\n",
       "    }\n",
       "\n",
       "    .dataframe thead th {\n",
       "        text-align: right;\n",
       "    }\n",
       "</style>\n",
       "<table border=\"1\" class=\"dataframe\">\n",
       "  <thead>\n",
       "    <tr style=\"text-align: right;\">\n",
       "      <th></th>\n",
       "      <th>singer</th>\n",
       "      <th>title</th>\n",
       "      <th>album_type</th>\n",
       "      <th>release_date</th>\n",
       "    </tr>\n",
       "  </thead>\n",
       "  <tbody>\n",
       "    <tr>\n",
       "      <th>0</th>\n",
       "      <td>BTS</td>\n",
       "      <td>Angel Pt. 1 (feat. Jimin of BTS, JVKE &amp; Muni L...</td>\n",
       "      <td>싱글</td>\n",
       "      <td>2023-05-17</td>\n",
       "    </tr>\n",
       "    <tr>\n",
       "      <th>1</th>\n",
       "      <td>BTS</td>\n",
       "      <td>The Planet</td>\n",
       "      <td>싱글</td>\n",
       "      <td>2023-05-12</td>\n",
       "    </tr>\n",
       "    <tr>\n",
       "      <th>2</th>\n",
       "      <td>BTS</td>\n",
       "      <td>FIFA World Cup Qatar 2022™ (Official Soundtrack)</td>\n",
       "      <td>옴니버스</td>\n",
       "      <td>2022-12-09</td>\n",
       "    </tr>\n",
       "    <tr>\n",
       "      <th>3</th>\n",
       "      <td>BTS</td>\n",
       "      <td>Dreamers [Music from the FIFA World Cup Qatar ...</td>\n",
       "      <td>싱글</td>\n",
       "      <td>2022-11-20</td>\n",
       "    </tr>\n",
       "    <tr>\n",
       "      <th>4</th>\n",
       "      <td>BTS</td>\n",
       "      <td>CHARLIE</td>\n",
       "      <td>정규</td>\n",
       "      <td>2022-10-07</td>\n",
       "    </tr>\n",
       "  </tbody>\n",
       "</table>\n",
       "</div>"
      ],
      "text/plain": [
       "  singer                                              title album_type  \\\n",
       "0    BTS  Angel Pt. 1 (feat. Jimin of BTS, JVKE & Muni L...         싱글   \n",
       "1    BTS                                         The Planet         싱글   \n",
       "2    BTS   FIFA World Cup Qatar 2022™ (Official Soundtrack)       옴니버스   \n",
       "3    BTS  Dreamers [Music from the FIFA World Cup Qatar ...         싱글   \n",
       "4    BTS                                            CHARLIE         정규   \n",
       "\n",
       "  release_date  \n",
       "0   2023-05-17  \n",
       "1   2023-05-12  \n",
       "2   2022-12-09  \n",
       "3   2022-11-20  \n",
       "4   2022-10-07  "
      ]
     },
     "execution_count": 23,
     "metadata": {},
     "output_type": "execute_result"
    }
   ],
   "source": [
    "bts_df = pd.read_csv('data/BTS_album.csv')\n",
    "bts_df.head()"
   ]
  },
  {
   "cell_type": "code",
   "execution_count": 24,
   "metadata": {},
   "outputs": [],
   "source": [
    "# insert album table\n",
    "for i in range(len(bts_df)):\n",
    "    cur.execute(f\"INSERT INTO album (singer, title, album_type, release_date) VALUES ('{bts_df['singer'][i]}', '{bts_df['title'][i]}', '{bts_df['album_type'][i]}', '{bts_df['release_date'][i]}');\")"
   ]
  },
  {
   "cell_type": "code",
   "execution_count": 25,
   "metadata": {},
   "outputs": [],
   "source": [
    "# db 반영\n",
    "conn.commit()"
   ]
  },
  {
   "cell_type": "code",
   "execution_count": 26,
   "metadata": {},
   "outputs": [],
   "source": [
    "conn.close()"
   ]
  },
  {
   "attachments": {},
   "cell_type": "markdown",
   "metadata": {},
   "source": [
    "- 예시1: Butter 앨범과 주가의 경향성 탐색"
   ]
  },
  {
   "cell_type": "code",
   "execution_count": 31,
   "metadata": {},
   "outputs": [],
   "source": [
    "cur.execute('''SELECT distinct s.date, s.stock_price\n",
    "            FROM album as al JOIN singer_agency as sa ON al.singer = sa.singer JOIN stock as s ON sa.agency_name = s.agency_name\n",
    "            WHERE s.date >= (\n",
    "\t        SELECT release_date FROM album\n",
    "\t        WHERE title = 'Butter'\n",
    "            )\n",
    "            LIMIT 10;''')"
   ]
  },
  {
   "cell_type": "code",
   "execution_count": 33,
   "metadata": {},
   "outputs": [],
   "source": [
    "butter_stock_price =  cur.fetchall()"
   ]
  },
  {
   "cell_type": "code",
   "execution_count": 34,
   "metadata": {},
   "outputs": [
    {
     "data": {
      "text/plain": [
       "((datetime.date(2021, 5, 21), 261500),\n",
       " (datetime.date(2021, 5, 24), 263500),\n",
       " (datetime.date(2021, 5, 25), 260500),\n",
       " (datetime.date(2021, 5, 26), 259000),\n",
       " (datetime.date(2021, 5, 27), 253000),\n",
       " (datetime.date(2021, 5, 28), 261000),\n",
       " (datetime.date(2021, 5, 31), 265000),\n",
       " (datetime.date(2021, 6, 1), 261000),\n",
       " (datetime.date(2021, 6, 2), 263500),\n",
       " (datetime.date(2021, 6, 3), 269500))"
      ]
     },
     "execution_count": 34,
     "metadata": {},
     "output_type": "execute_result"
    }
   ],
   "source": [
    "butter_stock_price"
   ]
  },
  {
   "cell_type": "code",
   "execution_count": null,
   "metadata": {},
   "outputs": [],
   "source": []
  }
 ],
 "metadata": {
  "kernelspec": {
   "display_name": "base",
   "language": "python",
   "name": "python3"
  },
  "language_info": {
   "codemirror_mode": {
    "name": "ipython",
    "version": 3
   },
   "file_extension": ".py",
   "mimetype": "text/x-python",
   "name": "python",
   "nbconvert_exporter": "python",
   "pygments_lexer": "ipython3",
   "version": "3.10.9"
  },
  "orig_nbformat": 4
 },
 "nbformat": 4,
 "nbformat_minor": 2
}
