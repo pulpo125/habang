{
 "cells": [
  {
   "attachments": {},
   "cell_type": "markdown",
   "metadata": {},
   "source": [
    "## 선형회귀 서울자전거 예제"
   ]
  },
  {
   "cell_type": "code",
   "execution_count": 2,
   "metadata": {},
   "outputs": [],
   "source": [
    "import pandas as pd\n",
    "import numpy as np\n",
    "import matplotlib.pyplot as plt"
   ]
  },
  {
   "attachments": {},
   "cell_type": "markdown",
   "metadata": {},
   "source": [
    "- 데이터 불러오기"
   ]
  },
  {
   "cell_type": "code",
   "execution_count": 3,
   "metadata": {},
   "outputs": [
    {
     "data": {
      "text/html": [
       "<div>\n",
       "<style scoped>\n",
       "    .dataframe tbody tr th:only-of-type {\n",
       "        vertical-align: middle;\n",
       "    }\n",
       "\n",
       "    .dataframe tbody tr th {\n",
       "        vertical-align: top;\n",
       "    }\n",
       "\n",
       "    .dataframe thead th {\n",
       "        text-align: right;\n",
       "    }\n",
       "</style>\n",
       "<table border=\"1\" class=\"dataframe\">\n",
       "  <thead>\n",
       "    <tr style=\"text-align: right;\">\n",
       "      <th></th>\n",
       "      <th>Date</th>\n",
       "      <th>Rented Bike Count</th>\n",
       "      <th>Hour</th>\n",
       "      <th>Temperature</th>\n",
       "      <th>Humidity(%)</th>\n",
       "      <th>Wind speed (m/s)</th>\n",
       "      <th>Visibility (10m)</th>\n",
       "      <th>Dew point temperature</th>\n",
       "      <th>Solar Radiation (MJ/m2)</th>\n",
       "      <th>Rainfall(mm)</th>\n",
       "      <th>Snowfall (cm)</th>\n",
       "      <th>Seasons</th>\n",
       "      <th>Holiday</th>\n",
       "      <th>Functioning Day</th>\n",
       "    </tr>\n",
       "  </thead>\n",
       "  <tbody>\n",
       "    <tr>\n",
       "      <th>0</th>\n",
       "      <td>01/12/2017</td>\n",
       "      <td>254</td>\n",
       "      <td>0</td>\n",
       "      <td>-5.2</td>\n",
       "      <td>37</td>\n",
       "      <td>2.2</td>\n",
       "      <td>2000</td>\n",
       "      <td>-17.6</td>\n",
       "      <td>0.0</td>\n",
       "      <td>0.0</td>\n",
       "      <td>0.0</td>\n",
       "      <td>Winter</td>\n",
       "      <td>No Holiday</td>\n",
       "      <td>Yes</td>\n",
       "    </tr>\n",
       "    <tr>\n",
       "      <th>1</th>\n",
       "      <td>01/12/2017</td>\n",
       "      <td>204</td>\n",
       "      <td>1</td>\n",
       "      <td>-5.5</td>\n",
       "      <td>38</td>\n",
       "      <td>0.8</td>\n",
       "      <td>2000</td>\n",
       "      <td>-17.6</td>\n",
       "      <td>0.0</td>\n",
       "      <td>0.0</td>\n",
       "      <td>0.0</td>\n",
       "      <td>Winter</td>\n",
       "      <td>No Holiday</td>\n",
       "      <td>Yes</td>\n",
       "    </tr>\n",
       "    <tr>\n",
       "      <th>2</th>\n",
       "      <td>01/12/2017</td>\n",
       "      <td>173</td>\n",
       "      <td>2</td>\n",
       "      <td>-6.0</td>\n",
       "      <td>39</td>\n",
       "      <td>1.0</td>\n",
       "      <td>2000</td>\n",
       "      <td>-17.7</td>\n",
       "      <td>0.0</td>\n",
       "      <td>0.0</td>\n",
       "      <td>0.0</td>\n",
       "      <td>Winter</td>\n",
       "      <td>No Holiday</td>\n",
       "      <td>Yes</td>\n",
       "    </tr>\n",
       "    <tr>\n",
       "      <th>3</th>\n",
       "      <td>01/12/2017</td>\n",
       "      <td>107</td>\n",
       "      <td>3</td>\n",
       "      <td>-6.2</td>\n",
       "      <td>40</td>\n",
       "      <td>0.9</td>\n",
       "      <td>2000</td>\n",
       "      <td>-17.6</td>\n",
       "      <td>0.0</td>\n",
       "      <td>0.0</td>\n",
       "      <td>0.0</td>\n",
       "      <td>Winter</td>\n",
       "      <td>No Holiday</td>\n",
       "      <td>Yes</td>\n",
       "    </tr>\n",
       "    <tr>\n",
       "      <th>4</th>\n",
       "      <td>01/12/2017</td>\n",
       "      <td>78</td>\n",
       "      <td>4</td>\n",
       "      <td>-6.0</td>\n",
       "      <td>36</td>\n",
       "      <td>2.3</td>\n",
       "      <td>2000</td>\n",
       "      <td>-18.6</td>\n",
       "      <td>0.0</td>\n",
       "      <td>0.0</td>\n",
       "      <td>0.0</td>\n",
       "      <td>Winter</td>\n",
       "      <td>No Holiday</td>\n",
       "      <td>Yes</td>\n",
       "    </tr>\n",
       "  </tbody>\n",
       "</table>\n",
       "</div>"
      ],
      "text/plain": [
       "         Date  Rented Bike Count  Hour  Temperature  Humidity(%)  \\\n",
       "0  01/12/2017                254     0         -5.2           37   \n",
       "1  01/12/2017                204     1         -5.5           38   \n",
       "2  01/12/2017                173     2         -6.0           39   \n",
       "3  01/12/2017                107     3         -6.2           40   \n",
       "4  01/12/2017                 78     4         -6.0           36   \n",
       "\n",
       "   Wind speed (m/s)  Visibility (10m)  Dew point temperature  \\\n",
       "0               2.2              2000                  -17.6   \n",
       "1               0.8              2000                  -17.6   \n",
       "2               1.0              2000                  -17.7   \n",
       "3               0.9              2000                  -17.6   \n",
       "4               2.3              2000                  -18.6   \n",
       "\n",
       "   Solar Radiation (MJ/m2)  Rainfall(mm)  Snowfall (cm) Seasons     Holiday  \\\n",
       "0                      0.0           0.0            0.0  Winter  No Holiday   \n",
       "1                      0.0           0.0            0.0  Winter  No Holiday   \n",
       "2                      0.0           0.0            0.0  Winter  No Holiday   \n",
       "3                      0.0           0.0            0.0  Winter  No Holiday   \n",
       "4                      0.0           0.0            0.0  Winter  No Holiday   \n",
       "\n",
       "  Functioning Day  \n",
       "0             Yes  \n",
       "1             Yes  \n",
       "2             Yes  \n",
       "3             Yes  \n",
       "4             Yes  "
      ]
     },
     "execution_count": 3,
     "metadata": {},
     "output_type": "execute_result"
    }
   ],
   "source": [
    "df = pd.read_csv('../python/0_data/SeoulBikeData.csv')\n",
    "df.head()"
   ]
  },
  {
   "cell_type": "code",
   "execution_count": 4,
   "metadata": {},
   "outputs": [
    {
     "data": {
      "text/html": [
       "<div>\n",
       "<style scoped>\n",
       "    .dataframe tbody tr th:only-of-type {\n",
       "        vertical-align: middle;\n",
       "    }\n",
       "\n",
       "    .dataframe tbody tr th {\n",
       "        vertical-align: top;\n",
       "    }\n",
       "\n",
       "    .dataframe thead th {\n",
       "        text-align: right;\n",
       "    }\n",
       "</style>\n",
       "<table border=\"1\" class=\"dataframe\">\n",
       "  <thead>\n",
       "    <tr style=\"text-align: right;\">\n",
       "      <th></th>\n",
       "      <th>Date</th>\n",
       "      <th>Rented Bike Count</th>\n",
       "      <th>Hour</th>\n",
       "      <th>Temperature</th>\n",
       "      <th>Humidity</th>\n",
       "      <th>Wind speed</th>\n",
       "      <th>Visibility</th>\n",
       "      <th>Dew point temperature</th>\n",
       "      <th>Solar Radiation</th>\n",
       "      <th>Rainfall</th>\n",
       "      <th>Snowfall</th>\n",
       "      <th>Seasons</th>\n",
       "      <th>Holiday</th>\n",
       "      <th>Functioning Day</th>\n",
       "    </tr>\n",
       "  </thead>\n",
       "  <tbody>\n",
       "    <tr>\n",
       "      <th>0</th>\n",
       "      <td>01/12/2017</td>\n",
       "      <td>254</td>\n",
       "      <td>0</td>\n",
       "      <td>-5.2</td>\n",
       "      <td>37</td>\n",
       "      <td>2.2</td>\n",
       "      <td>2000</td>\n",
       "      <td>-17.6</td>\n",
       "      <td>0.0</td>\n",
       "      <td>0.0</td>\n",
       "      <td>0.0</td>\n",
       "      <td>Winter</td>\n",
       "      <td>No Holiday</td>\n",
       "      <td>Yes</td>\n",
       "    </tr>\n",
       "    <tr>\n",
       "      <th>1</th>\n",
       "      <td>01/12/2017</td>\n",
       "      <td>204</td>\n",
       "      <td>1</td>\n",
       "      <td>-5.5</td>\n",
       "      <td>38</td>\n",
       "      <td>0.8</td>\n",
       "      <td>2000</td>\n",
       "      <td>-17.6</td>\n",
       "      <td>0.0</td>\n",
       "      <td>0.0</td>\n",
       "      <td>0.0</td>\n",
       "      <td>Winter</td>\n",
       "      <td>No Holiday</td>\n",
       "      <td>Yes</td>\n",
       "    </tr>\n",
       "    <tr>\n",
       "      <th>2</th>\n",
       "      <td>01/12/2017</td>\n",
       "      <td>173</td>\n",
       "      <td>2</td>\n",
       "      <td>-6.0</td>\n",
       "      <td>39</td>\n",
       "      <td>1.0</td>\n",
       "      <td>2000</td>\n",
       "      <td>-17.7</td>\n",
       "      <td>0.0</td>\n",
       "      <td>0.0</td>\n",
       "      <td>0.0</td>\n",
       "      <td>Winter</td>\n",
       "      <td>No Holiday</td>\n",
       "      <td>Yes</td>\n",
       "    </tr>\n",
       "    <tr>\n",
       "      <th>3</th>\n",
       "      <td>01/12/2017</td>\n",
       "      <td>107</td>\n",
       "      <td>3</td>\n",
       "      <td>-6.2</td>\n",
       "      <td>40</td>\n",
       "      <td>0.9</td>\n",
       "      <td>2000</td>\n",
       "      <td>-17.6</td>\n",
       "      <td>0.0</td>\n",
       "      <td>0.0</td>\n",
       "      <td>0.0</td>\n",
       "      <td>Winter</td>\n",
       "      <td>No Holiday</td>\n",
       "      <td>Yes</td>\n",
       "    </tr>\n",
       "    <tr>\n",
       "      <th>4</th>\n",
       "      <td>01/12/2017</td>\n",
       "      <td>78</td>\n",
       "      <td>4</td>\n",
       "      <td>-6.0</td>\n",
       "      <td>36</td>\n",
       "      <td>2.3</td>\n",
       "      <td>2000</td>\n",
       "      <td>-18.6</td>\n",
       "      <td>0.0</td>\n",
       "      <td>0.0</td>\n",
       "      <td>0.0</td>\n",
       "      <td>Winter</td>\n",
       "      <td>No Holiday</td>\n",
       "      <td>Yes</td>\n",
       "    </tr>\n",
       "  </tbody>\n",
       "</table>\n",
       "</div>"
      ],
      "text/plain": [
       "         Date  Rented Bike Count  Hour  Temperature  Humidity  Wind speed  \\\n",
       "0  01/12/2017                254     0         -5.2        37         2.2   \n",
       "1  01/12/2017                204     1         -5.5        38         0.8   \n",
       "2  01/12/2017                173     2         -6.0        39         1.0   \n",
       "3  01/12/2017                107     3         -6.2        40         0.9   \n",
       "4  01/12/2017                 78     4         -6.0        36         2.3   \n",
       "\n",
       "   Visibility  Dew point temperature  Solar Radiation  Rainfall  Snowfall  \\\n",
       "0        2000                  -17.6              0.0       0.0       0.0   \n",
       "1        2000                  -17.6              0.0       0.0       0.0   \n",
       "2        2000                  -17.7              0.0       0.0       0.0   \n",
       "3        2000                  -17.6              0.0       0.0       0.0   \n",
       "4        2000                  -18.6              0.0       0.0       0.0   \n",
       "\n",
       "  Seasons     Holiday Functioning Day  \n",
       "0  Winter  No Holiday             Yes  \n",
       "1  Winter  No Holiday             Yes  \n",
       "2  Winter  No Holiday             Yes  \n",
       "3  Winter  No Holiday             Yes  \n",
       "4  Winter  No Holiday             Yes  "
      ]
     },
     "execution_count": 4,
     "metadata": {},
     "output_type": "execute_result"
    }
   ],
   "source": [
    "df.columns = ['Date', 'Rented Bike Count', 'Hour', 'Temperature', 'Humidity','Wind speed', 'Visibility', 'Dew point temperature', 'Solar Radiation', 'Rainfall', 'Snowfall', 'Seasons','Holiday', 'Functioning Day']\n",
    "df.head()"
   ]
  },
  {
   "cell_type": "code",
   "execution_count": 5,
   "metadata": {},
   "outputs": [
    {
     "name": "stdout",
     "output_type": "stream",
     "text": [
      "<class 'pandas.core.frame.DataFrame'>\n",
      "RangeIndex: 8760 entries, 0 to 8759\n",
      "Data columns (total 14 columns):\n",
      " #   Column                 Non-Null Count  Dtype  \n",
      "---  ------                 --------------  -----  \n",
      " 0   Date                   8760 non-null   object \n",
      " 1   Rented Bike Count      8760 non-null   int64  \n",
      " 2   Hour                   8760 non-null   int64  \n",
      " 3   Temperature            8760 non-null   float64\n",
      " 4   Humidity               8760 non-null   int64  \n",
      " 5   Wind speed             8760 non-null   float64\n",
      " 6   Visibility             8760 non-null   int64  \n",
      " 7   Dew point temperature  8760 non-null   float64\n",
      " 8   Solar Radiation        8760 non-null   float64\n",
      " 9   Rainfall               8760 non-null   float64\n",
      " 10  Snowfall               8760 non-null   float64\n",
      " 11  Seasons                8760 non-null   object \n",
      " 12  Holiday                8760 non-null   object \n",
      " 13  Functioning Day        8760 non-null   object \n",
      "dtypes: float64(6), int64(4), object(4)\n",
      "memory usage: 958.2+ KB\n"
     ]
    }
   ],
   "source": [
    "df.info() # 결측치 처리가 X "
   ]
  },
  {
   "cell_type": "code",
   "execution_count": 6,
   "metadata": {},
   "outputs": [
    {
     "name": "stderr",
     "output_type": "stream",
     "text": [
      "C:\\Users\\Playdata\\AppData\\Local\\Temp\\ipykernel_9928\\1134722465.py:1: FutureWarning: The default value of numeric_only in DataFrame.corr is deprecated. In a future version, it will default to False. Select only valid columns or specify the value of numeric_only to silence this warning.\n",
      "  df.corr()\n"
     ]
    },
    {
     "data": {
      "text/html": [
       "<div>\n",
       "<style scoped>\n",
       "    .dataframe tbody tr th:only-of-type {\n",
       "        vertical-align: middle;\n",
       "    }\n",
       "\n",
       "    .dataframe tbody tr th {\n",
       "        vertical-align: top;\n",
       "    }\n",
       "\n",
       "    .dataframe thead th {\n",
       "        text-align: right;\n",
       "    }\n",
       "</style>\n",
       "<table border=\"1\" class=\"dataframe\">\n",
       "  <thead>\n",
       "    <tr style=\"text-align: right;\">\n",
       "      <th></th>\n",
       "      <th>Rented Bike Count</th>\n",
       "      <th>Hour</th>\n",
       "      <th>Temperature</th>\n",
       "      <th>Humidity</th>\n",
       "      <th>Wind speed</th>\n",
       "      <th>Visibility</th>\n",
       "      <th>Dew point temperature</th>\n",
       "      <th>Solar Radiation</th>\n",
       "      <th>Rainfall</th>\n",
       "      <th>Snowfall</th>\n",
       "    </tr>\n",
       "  </thead>\n",
       "  <tbody>\n",
       "    <tr>\n",
       "      <th>Rented Bike Count</th>\n",
       "      <td>1.000000</td>\n",
       "      <td>0.410257</td>\n",
       "      <td>0.538558</td>\n",
       "      <td>-0.199780</td>\n",
       "      <td>0.121108</td>\n",
       "      <td>0.199280</td>\n",
       "      <td>0.379788</td>\n",
       "      <td>0.261837</td>\n",
       "      <td>-0.123074</td>\n",
       "      <td>-0.141804</td>\n",
       "    </tr>\n",
       "    <tr>\n",
       "      <th>Hour</th>\n",
       "      <td>0.410257</td>\n",
       "      <td>1.000000</td>\n",
       "      <td>0.124114</td>\n",
       "      <td>-0.241644</td>\n",
       "      <td>0.285197</td>\n",
       "      <td>0.098753</td>\n",
       "      <td>0.003054</td>\n",
       "      <td>0.145131</td>\n",
       "      <td>0.008715</td>\n",
       "      <td>-0.021516</td>\n",
       "    </tr>\n",
       "    <tr>\n",
       "      <th>Temperature</th>\n",
       "      <td>0.538558</td>\n",
       "      <td>0.124114</td>\n",
       "      <td>1.000000</td>\n",
       "      <td>0.159371</td>\n",
       "      <td>-0.036252</td>\n",
       "      <td>0.034794</td>\n",
       "      <td>0.912798</td>\n",
       "      <td>0.353505</td>\n",
       "      <td>0.050282</td>\n",
       "      <td>-0.218405</td>\n",
       "    </tr>\n",
       "    <tr>\n",
       "      <th>Humidity</th>\n",
       "      <td>-0.199780</td>\n",
       "      <td>-0.241644</td>\n",
       "      <td>0.159371</td>\n",
       "      <td>1.000000</td>\n",
       "      <td>-0.336683</td>\n",
       "      <td>-0.543090</td>\n",
       "      <td>0.536894</td>\n",
       "      <td>-0.461919</td>\n",
       "      <td>0.236397</td>\n",
       "      <td>0.108183</td>\n",
       "    </tr>\n",
       "    <tr>\n",
       "      <th>Wind speed</th>\n",
       "      <td>0.121108</td>\n",
       "      <td>0.285197</td>\n",
       "      <td>-0.036252</td>\n",
       "      <td>-0.336683</td>\n",
       "      <td>1.000000</td>\n",
       "      <td>0.171507</td>\n",
       "      <td>-0.176486</td>\n",
       "      <td>0.332274</td>\n",
       "      <td>-0.019674</td>\n",
       "      <td>-0.003554</td>\n",
       "    </tr>\n",
       "    <tr>\n",
       "      <th>Visibility</th>\n",
       "      <td>0.199280</td>\n",
       "      <td>0.098753</td>\n",
       "      <td>0.034794</td>\n",
       "      <td>-0.543090</td>\n",
       "      <td>0.171507</td>\n",
       "      <td>1.000000</td>\n",
       "      <td>-0.176630</td>\n",
       "      <td>0.149738</td>\n",
       "      <td>-0.167629</td>\n",
       "      <td>-0.121695</td>\n",
       "    </tr>\n",
       "    <tr>\n",
       "      <th>Dew point temperature</th>\n",
       "      <td>0.379788</td>\n",
       "      <td>0.003054</td>\n",
       "      <td>0.912798</td>\n",
       "      <td>0.536894</td>\n",
       "      <td>-0.176486</td>\n",
       "      <td>-0.176630</td>\n",
       "      <td>1.000000</td>\n",
       "      <td>0.094381</td>\n",
       "      <td>0.125597</td>\n",
       "      <td>-0.150887</td>\n",
       "    </tr>\n",
       "    <tr>\n",
       "      <th>Solar Radiation</th>\n",
       "      <td>0.261837</td>\n",
       "      <td>0.145131</td>\n",
       "      <td>0.353505</td>\n",
       "      <td>-0.461919</td>\n",
       "      <td>0.332274</td>\n",
       "      <td>0.149738</td>\n",
       "      <td>0.094381</td>\n",
       "      <td>1.000000</td>\n",
       "      <td>-0.074290</td>\n",
       "      <td>-0.072301</td>\n",
       "    </tr>\n",
       "    <tr>\n",
       "      <th>Rainfall</th>\n",
       "      <td>-0.123074</td>\n",
       "      <td>0.008715</td>\n",
       "      <td>0.050282</td>\n",
       "      <td>0.236397</td>\n",
       "      <td>-0.019674</td>\n",
       "      <td>-0.167629</td>\n",
       "      <td>0.125597</td>\n",
       "      <td>-0.074290</td>\n",
       "      <td>1.000000</td>\n",
       "      <td>0.008500</td>\n",
       "    </tr>\n",
       "    <tr>\n",
       "      <th>Snowfall</th>\n",
       "      <td>-0.141804</td>\n",
       "      <td>-0.021516</td>\n",
       "      <td>-0.218405</td>\n",
       "      <td>0.108183</td>\n",
       "      <td>-0.003554</td>\n",
       "      <td>-0.121695</td>\n",
       "      <td>-0.150887</td>\n",
       "      <td>-0.072301</td>\n",
       "      <td>0.008500</td>\n",
       "      <td>1.000000</td>\n",
       "    </tr>\n",
       "  </tbody>\n",
       "</table>\n",
       "</div>"
      ],
      "text/plain": [
       "                       Rented Bike Count      Hour  Temperature  Humidity  \\\n",
       "Rented Bike Count               1.000000  0.410257     0.538558 -0.199780   \n",
       "Hour                            0.410257  1.000000     0.124114 -0.241644   \n",
       "Temperature                     0.538558  0.124114     1.000000  0.159371   \n",
       "Humidity                       -0.199780 -0.241644     0.159371  1.000000   \n",
       "Wind speed                      0.121108  0.285197    -0.036252 -0.336683   \n",
       "Visibility                      0.199280  0.098753     0.034794 -0.543090   \n",
       "Dew point temperature           0.379788  0.003054     0.912798  0.536894   \n",
       "Solar Radiation                 0.261837  0.145131     0.353505 -0.461919   \n",
       "Rainfall                       -0.123074  0.008715     0.050282  0.236397   \n",
       "Snowfall                       -0.141804 -0.021516    -0.218405  0.108183   \n",
       "\n",
       "                       Wind speed  Visibility  Dew point temperature  \\\n",
       "Rented Bike Count        0.121108    0.199280               0.379788   \n",
       "Hour                     0.285197    0.098753               0.003054   \n",
       "Temperature             -0.036252    0.034794               0.912798   \n",
       "Humidity                -0.336683   -0.543090               0.536894   \n",
       "Wind speed               1.000000    0.171507              -0.176486   \n",
       "Visibility               0.171507    1.000000              -0.176630   \n",
       "Dew point temperature   -0.176486   -0.176630               1.000000   \n",
       "Solar Radiation          0.332274    0.149738               0.094381   \n",
       "Rainfall                -0.019674   -0.167629               0.125597   \n",
       "Snowfall                -0.003554   -0.121695              -0.150887   \n",
       "\n",
       "                       Solar Radiation  Rainfall  Snowfall  \n",
       "Rented Bike Count             0.261837 -0.123074 -0.141804  \n",
       "Hour                          0.145131  0.008715 -0.021516  \n",
       "Temperature                   0.353505  0.050282 -0.218405  \n",
       "Humidity                     -0.461919  0.236397  0.108183  \n",
       "Wind speed                    0.332274 -0.019674 -0.003554  \n",
       "Visibility                    0.149738 -0.167629 -0.121695  \n",
       "Dew point temperature         0.094381  0.125597 -0.150887  \n",
       "Solar Radiation               1.000000 -0.074290 -0.072301  \n",
       "Rainfall                     -0.074290  1.000000  0.008500  \n",
       "Snowfall                     -0.072301  0.008500  1.000000  "
      ]
     },
     "execution_count": 6,
     "metadata": {},
     "output_type": "execute_result"
    }
   ],
   "source": [
    "df.corr()"
   ]
  },
  {
   "attachments": {},
   "cell_type": "markdown",
   "metadata": {},
   "source": [
    "- 데이터 전처리(Data Preparation)"
   ]
  },
  {
   "cell_type": "code",
   "execution_count": 7,
   "metadata": {},
   "outputs": [
    {
     "data": {
      "text/plain": [
       "0       12월\n",
       "1       12월\n",
       "2       12월\n",
       "3       12월\n",
       "4       12월\n",
       "       ... \n",
       "8755    11월\n",
       "8756    11월\n",
       "8757    11월\n",
       "8758    11월\n",
       "8759    11월\n",
       "Name: Month, Length: 8760, dtype: object"
      ]
     },
     "execution_count": 7,
     "metadata": {},
     "output_type": "execute_result"
    }
   ],
   "source": [
    "# 요일 추출은 유의미한 변수가 될 수 있음\n",
    "# Date라는 컬럼 -> # Month라는 컬럼을 추가 \n",
    "df['Month'] = df['Date'].apply(lambda x: x.split('/')[1] + '월')\n",
    "\n",
    "# Date 컬럼의 자료형을 datetime으로 변경\n",
    "# pd.to_datetime(df['Date']) => 디폴트로 MM/DD/YYYY로 전환\n",
    "# 그러므로, dayfirst = True 를 설정하여 DD/MM/YYYY로 설정해준다.\n",
    "# df['Date'] = pd.to_datetime(df['Date'], dayfirst = True)\n",
    "# df['Month'] = df['Date'].dt.month\n",
    "df['Month']"
   ]
  },
  {
   "cell_type": "code",
   "execution_count": 8,
   "metadata": {},
   "outputs": [
    {
     "data": {
      "text/html": [
       "<div>\n",
       "<style scoped>\n",
       "    .dataframe tbody tr th:only-of-type {\n",
       "        vertical-align: middle;\n",
       "    }\n",
       "\n",
       "    .dataframe tbody tr th {\n",
       "        vertical-align: top;\n",
       "    }\n",
       "\n",
       "    .dataframe thead th {\n",
       "        text-align: right;\n",
       "    }\n",
       "</style>\n",
       "<table border=\"1\" class=\"dataframe\">\n",
       "  <thead>\n",
       "    <tr style=\"text-align: right;\">\n",
       "      <th></th>\n",
       "      <th>Date</th>\n",
       "      <th>Rented Bike Count</th>\n",
       "      <th>Hour</th>\n",
       "      <th>Temperature</th>\n",
       "      <th>Humidity</th>\n",
       "      <th>Wind speed</th>\n",
       "      <th>Visibility</th>\n",
       "      <th>Dew point temperature</th>\n",
       "      <th>Solar Radiation</th>\n",
       "      <th>Rainfall</th>\n",
       "      <th>...</th>\n",
       "      <th>Month_03월</th>\n",
       "      <th>Month_04월</th>\n",
       "      <th>Month_05월</th>\n",
       "      <th>Month_06월</th>\n",
       "      <th>Month_07월</th>\n",
       "      <th>Month_08월</th>\n",
       "      <th>Month_09월</th>\n",
       "      <th>Month_10월</th>\n",
       "      <th>Month_11월</th>\n",
       "      <th>Month_12월</th>\n",
       "    </tr>\n",
       "  </thead>\n",
       "  <tbody>\n",
       "    <tr>\n",
       "      <th>0</th>\n",
       "      <td>01/12/2017</td>\n",
       "      <td>254</td>\n",
       "      <td>0</td>\n",
       "      <td>-5.2</td>\n",
       "      <td>37</td>\n",
       "      <td>2.2</td>\n",
       "      <td>2000</td>\n",
       "      <td>-17.6</td>\n",
       "      <td>0.0</td>\n",
       "      <td>0.0</td>\n",
       "      <td>...</td>\n",
       "      <td>0</td>\n",
       "      <td>0</td>\n",
       "      <td>0</td>\n",
       "      <td>0</td>\n",
       "      <td>0</td>\n",
       "      <td>0</td>\n",
       "      <td>0</td>\n",
       "      <td>0</td>\n",
       "      <td>0</td>\n",
       "      <td>1</td>\n",
       "    </tr>\n",
       "    <tr>\n",
       "      <th>1</th>\n",
       "      <td>01/12/2017</td>\n",
       "      <td>204</td>\n",
       "      <td>1</td>\n",
       "      <td>-5.5</td>\n",
       "      <td>38</td>\n",
       "      <td>0.8</td>\n",
       "      <td>2000</td>\n",
       "      <td>-17.6</td>\n",
       "      <td>0.0</td>\n",
       "      <td>0.0</td>\n",
       "      <td>...</td>\n",
       "      <td>0</td>\n",
       "      <td>0</td>\n",
       "      <td>0</td>\n",
       "      <td>0</td>\n",
       "      <td>0</td>\n",
       "      <td>0</td>\n",
       "      <td>0</td>\n",
       "      <td>0</td>\n",
       "      <td>0</td>\n",
       "      <td>1</td>\n",
       "    </tr>\n",
       "    <tr>\n",
       "      <th>2</th>\n",
       "      <td>01/12/2017</td>\n",
       "      <td>173</td>\n",
       "      <td>2</td>\n",
       "      <td>-6.0</td>\n",
       "      <td>39</td>\n",
       "      <td>1.0</td>\n",
       "      <td>2000</td>\n",
       "      <td>-17.7</td>\n",
       "      <td>0.0</td>\n",
       "      <td>0.0</td>\n",
       "      <td>...</td>\n",
       "      <td>0</td>\n",
       "      <td>0</td>\n",
       "      <td>0</td>\n",
       "      <td>0</td>\n",
       "      <td>0</td>\n",
       "      <td>0</td>\n",
       "      <td>0</td>\n",
       "      <td>0</td>\n",
       "      <td>0</td>\n",
       "      <td>1</td>\n",
       "    </tr>\n",
       "    <tr>\n",
       "      <th>3</th>\n",
       "      <td>01/12/2017</td>\n",
       "      <td>107</td>\n",
       "      <td>3</td>\n",
       "      <td>-6.2</td>\n",
       "      <td>40</td>\n",
       "      <td>0.9</td>\n",
       "      <td>2000</td>\n",
       "      <td>-17.6</td>\n",
       "      <td>0.0</td>\n",
       "      <td>0.0</td>\n",
       "      <td>...</td>\n",
       "      <td>0</td>\n",
       "      <td>0</td>\n",
       "      <td>0</td>\n",
       "      <td>0</td>\n",
       "      <td>0</td>\n",
       "      <td>0</td>\n",
       "      <td>0</td>\n",
       "      <td>0</td>\n",
       "      <td>0</td>\n",
       "      <td>1</td>\n",
       "    </tr>\n",
       "    <tr>\n",
       "      <th>4</th>\n",
       "      <td>01/12/2017</td>\n",
       "      <td>78</td>\n",
       "      <td>4</td>\n",
       "      <td>-6.0</td>\n",
       "      <td>36</td>\n",
       "      <td>2.3</td>\n",
       "      <td>2000</td>\n",
       "      <td>-18.6</td>\n",
       "      <td>0.0</td>\n",
       "      <td>0.0</td>\n",
       "      <td>...</td>\n",
       "      <td>0</td>\n",
       "      <td>0</td>\n",
       "      <td>0</td>\n",
       "      <td>0</td>\n",
       "      <td>0</td>\n",
       "      <td>0</td>\n",
       "      <td>0</td>\n",
       "      <td>0</td>\n",
       "      <td>0</td>\n",
       "      <td>1</td>\n",
       "    </tr>\n",
       "  </tbody>\n",
       "</table>\n",
       "<p>5 rows × 31 columns</p>\n",
       "</div>"
      ],
      "text/plain": [
       "         Date  Rented Bike Count  Hour  Temperature  Humidity  Wind speed  \\\n",
       "0  01/12/2017                254     0         -5.2        37         2.2   \n",
       "1  01/12/2017                204     1         -5.5        38         0.8   \n",
       "2  01/12/2017                173     2         -6.0        39         1.0   \n",
       "3  01/12/2017                107     3         -6.2        40         0.9   \n",
       "4  01/12/2017                 78     4         -6.0        36         2.3   \n",
       "\n",
       "   Visibility  Dew point temperature  Solar Radiation  Rainfall  ...  \\\n",
       "0        2000                  -17.6              0.0       0.0  ...   \n",
       "1        2000                  -17.6              0.0       0.0  ...   \n",
       "2        2000                  -17.7              0.0       0.0  ...   \n",
       "3        2000                  -17.6              0.0       0.0  ...   \n",
       "4        2000                  -18.6              0.0       0.0  ...   \n",
       "\n",
       "   Month_03월  Month_04월  Month_05월  Month_06월  Month_07월  Month_08월  \\\n",
       "0          0          0          0          0          0          0   \n",
       "1          0          0          0          0          0          0   \n",
       "2          0          0          0          0          0          0   \n",
       "3          0          0          0          0          0          0   \n",
       "4          0          0          0          0          0          0   \n",
       "\n",
       "   Month_09월  Month_10월  Month_11월  Month_12월  \n",
       "0          0          0          0          1  \n",
       "1          0          0          0          1  \n",
       "2          0          0          0          1  \n",
       "3          0          0          0          1  \n",
       "4          0          0          0          1  \n",
       "\n",
       "[5 rows x 31 columns]"
      ]
     },
     "execution_count": 8,
     "metadata": {},
     "output_type": "execute_result"
    }
   ],
   "source": [
    "# 카테고리 변수 -> one-hot encoding (수치 변환)\n",
    "# 카테고리 변수 중에서 증가나 감소의 의미가 있으면 one-hot encoding 사용하지 않는 것이 좋을 때도 있음(예: pclass)\n",
    "# pd.get_dummies(df, columns=['Seasons', 'Holiday', 'Functioning Day', 'Month'])\n",
    "df_enc = pd.get_dummies(df, columns=['Seasons', 'Holiday', 'Functioning Day', 'Month'])\n",
    "df_enc.head()\n",
    "\n",
    "# 봄,여름,가을,겨울 / pclass(등급) 같은 시간, 높낮이의 의미가 있는 컬럼은 one-hot이 아닌 0,1,2,3 과 같이 표현하여 한 컬럼으로만 표현할 수 있다."
   ]
  },
  {
   "cell_type": "code",
   "execution_count": 9,
   "metadata": {},
   "outputs": [
    {
     "data": {
      "text/plain": [
       "Index(['Date', 'Rented Bike Count', 'Hour', 'Temperature', 'Humidity',\n",
       "       'Wind speed', 'Visibility', 'Dew point temperature', 'Solar Radiation',\n",
       "       'Rainfall', 'Snowfall', 'Seasons_Autumn', 'Seasons_Spring',\n",
       "       'Seasons_Summer', 'Seasons_Winter', 'Holiday_Holiday',\n",
       "       'Holiday_No Holiday', 'Functioning Day_No', 'Functioning Day_Yes',\n",
       "       'Month_01월', 'Month_02월', 'Month_03월', 'Month_04월', 'Month_05월',\n",
       "       'Month_06월', 'Month_07월', 'Month_08월', 'Month_09월', 'Month_10월',\n",
       "       'Month_11월', 'Month_12월'],\n",
       "      dtype='object')"
      ]
     },
     "execution_count": 9,
     "metadata": {},
     "output_type": "execute_result"
    }
   ],
   "source": [
    "df_enc.columns"
   ]
  },
  {
   "attachments": {},
   "cell_type": "markdown",
   "metadata": {},
   "source": [
    "> Input 변수와 Output 변수 분리"
   ]
  },
  {
   "cell_type": "code",
   "execution_count": 10,
   "metadata": {},
   "outputs": [
    {
     "data": {
      "text/plain": [
       "((8760, 29), (8760,))"
      ]
     },
     "execution_count": 10,
     "metadata": {},
     "output_type": "execute_result"
    }
   ],
   "source": [
    "# 'Rented Bike Count', 'Date' 제외 # (8760, 29)\n",
    "# df_enc.columns[2:]\n",
    "# df_enc.columns.difference(['Rented Bike Count', 'Date'])\n",
    "\n",
    "X = df_enc[df_enc.columns.difference(['Rented Bike Count', 'Date'])]\n",
    "# 타겟변수 'Rented Bike Count' # (8760,)\n",
    "y = df_enc['Rented Bike Count']\n",
    "X.shape, y.shape"
   ]
  },
  {
   "attachments": {},
   "cell_type": "markdown",
   "metadata": {},
   "source": [
    "> 머신러닝 모델을 만들기전에 어떤 전처리 ??"
   ]
  },
  {
   "attachments": {},
   "cell_type": "markdown",
   "metadata": {},
   "source": [
    "> Train set(80%) 과 Test set(20%) 분리 "
   ]
  },
  {
   "cell_type": "code",
   "execution_count": 11,
   "metadata": {},
   "outputs": [
    {
     "data": {
      "text/plain": [
       "((7008, 29), (1752, 29), (7008,), (1752,))"
      ]
     },
     "execution_count": 11,
     "metadata": {},
     "output_type": "execute_result"
    }
   ],
   "source": [
    "from sklearn.model_selection import train_test_split\n",
    "X_train, X_test, y_train, y_test = train_test_split(X, y, test_size=0.2, random_state=0)\n",
    "X_train.shape, X_test.shape, y_train.shape, y_test.shape"
   ]
  },
  {
   "attachments": {},
   "cell_type": "markdown",
   "metadata": {},
   "source": [
    "- 모델링(선형회귀)"
   ]
  },
  {
   "cell_type": "code",
   "execution_count": 12,
   "metadata": {},
   "outputs": [],
   "source": [
    "from sklearn.linear_model import LinearRegression"
   ]
  },
  {
   "attachments": {},
   "cell_type": "markdown",
   "metadata": {},
   "source": [
    "- Temperature 변수만 사용하여 자전거 대여량 예측"
   ]
  },
  {
   "cell_type": "code",
   "execution_count": 13,
   "metadata": {},
   "outputs": [
    {
     "data": {
      "text/html": [
       "<style>#sk-container-id-1 {color: black;background-color: white;}#sk-container-id-1 pre{padding: 0;}#sk-container-id-1 div.sk-toggleable {background-color: white;}#sk-container-id-1 label.sk-toggleable__label {cursor: pointer;display: block;width: 100%;margin-bottom: 0;padding: 0.3em;box-sizing: border-box;text-align: center;}#sk-container-id-1 label.sk-toggleable__label-arrow:before {content: \"▸\";float: left;margin-right: 0.25em;color: #696969;}#sk-container-id-1 label.sk-toggleable__label-arrow:hover:before {color: black;}#sk-container-id-1 div.sk-estimator:hover label.sk-toggleable__label-arrow:before {color: black;}#sk-container-id-1 div.sk-toggleable__content {max-height: 0;max-width: 0;overflow: hidden;text-align: left;background-color: #f0f8ff;}#sk-container-id-1 div.sk-toggleable__content pre {margin: 0.2em;color: black;border-radius: 0.25em;background-color: #f0f8ff;}#sk-container-id-1 input.sk-toggleable__control:checked~div.sk-toggleable__content {max-height: 200px;max-width: 100%;overflow: auto;}#sk-container-id-1 input.sk-toggleable__control:checked~label.sk-toggleable__label-arrow:before {content: \"▾\";}#sk-container-id-1 div.sk-estimator input.sk-toggleable__control:checked~label.sk-toggleable__label {background-color: #d4ebff;}#sk-container-id-1 div.sk-label input.sk-toggleable__control:checked~label.sk-toggleable__label {background-color: #d4ebff;}#sk-container-id-1 input.sk-hidden--visually {border: 0;clip: rect(1px 1px 1px 1px);clip: rect(1px, 1px, 1px, 1px);height: 1px;margin: -1px;overflow: hidden;padding: 0;position: absolute;width: 1px;}#sk-container-id-1 div.sk-estimator {font-family: monospace;background-color: #f0f8ff;border: 1px dotted black;border-radius: 0.25em;box-sizing: border-box;margin-bottom: 0.5em;}#sk-container-id-1 div.sk-estimator:hover {background-color: #d4ebff;}#sk-container-id-1 div.sk-parallel-item::after {content: \"\";width: 100%;border-bottom: 1px solid gray;flex-grow: 1;}#sk-container-id-1 div.sk-label:hover label.sk-toggleable__label {background-color: #d4ebff;}#sk-container-id-1 div.sk-serial::before {content: \"\";position: absolute;border-left: 1px solid gray;box-sizing: border-box;top: 0;bottom: 0;left: 50%;z-index: 0;}#sk-container-id-1 div.sk-serial {display: flex;flex-direction: column;align-items: center;background-color: white;padding-right: 0.2em;padding-left: 0.2em;position: relative;}#sk-container-id-1 div.sk-item {position: relative;z-index: 1;}#sk-container-id-1 div.sk-parallel {display: flex;align-items: stretch;justify-content: center;background-color: white;position: relative;}#sk-container-id-1 div.sk-item::before, #sk-container-id-1 div.sk-parallel-item::before {content: \"\";position: absolute;border-left: 1px solid gray;box-sizing: border-box;top: 0;bottom: 0;left: 50%;z-index: -1;}#sk-container-id-1 div.sk-parallel-item {display: flex;flex-direction: column;z-index: 1;position: relative;background-color: white;}#sk-container-id-1 div.sk-parallel-item:first-child::after {align-self: flex-end;width: 50%;}#sk-container-id-1 div.sk-parallel-item:last-child::after {align-self: flex-start;width: 50%;}#sk-container-id-1 div.sk-parallel-item:only-child::after {width: 0;}#sk-container-id-1 div.sk-dashed-wrapped {border: 1px dashed gray;margin: 0 0.4em 0.5em 0.4em;box-sizing: border-box;padding-bottom: 0.4em;background-color: white;}#sk-container-id-1 div.sk-label label {font-family: monospace;font-weight: bold;display: inline-block;line-height: 1.2em;}#sk-container-id-1 div.sk-label-container {text-align: center;}#sk-container-id-1 div.sk-container {/* jupyter's `normalize.less` sets `[hidden] { display: none; }` but bootstrap.min.css set `[hidden] { display: none !important; }` so we also need the `!important` here to be able to override the default hidden behavior on the sphinx rendered scikit-learn.org. See: https://github.com/scikit-learn/scikit-learn/issues/21755 */display: inline-block !important;position: relative;}#sk-container-id-1 div.sk-text-repr-fallback {display: none;}</style><div id=\"sk-container-id-1\" class=\"sk-top-container\"><div class=\"sk-text-repr-fallback\"><pre>LinearRegression()</pre><b>In a Jupyter environment, please rerun this cell to show the HTML representation or trust the notebook. <br />On GitHub, the HTML representation is unable to render, please try loading this page with nbviewer.org.</b></div><div class=\"sk-container\" hidden><div class=\"sk-item\"><div class=\"sk-estimator sk-toggleable\"><input class=\"sk-toggleable__control sk-hidden--visually\" id=\"sk-estimator-id-1\" type=\"checkbox\" checked><label for=\"sk-estimator-id-1\" class=\"sk-toggleable__label sk-toggleable__label-arrow\">LinearRegression</label><div class=\"sk-toggleable__content\"><pre>LinearRegression()</pre></div></div></div></div></div>"
      ],
      "text/plain": [
       "LinearRegression()"
      ]
     },
     "execution_count": 13,
     "metadata": {},
     "output_type": "execute_result"
    }
   ],
   "source": [
    "reg = LinearRegression()\n",
    "# fit의 의미가 학습의 의미이다. (오차를 최소화하는 가중치를 구하는 계산)\n",
    "reg.fit(X=X_train[['Temperature']], y=y_train) # X는 2차원 배열로 넣어줘야해서 변수가 하나여도 대괄호를 쳐야한다"
   ]
  },
  {
   "cell_type": "code",
   "execution_count": 14,
   "metadata": {},
   "outputs": [
    {
     "data": {
      "text/plain": [
       "331.78038016740726"
      ]
     },
     "execution_count": 14,
     "metadata": {},
     "output_type": "execute_result"
    }
   ],
   "source": [
    "# W_0 \n",
    "reg.intercept_"
   ]
  },
  {
   "attachments": {},
   "cell_type": "markdown",
   "metadata": {},
   "source": [
    "절편(intercept): 회귀직선의 절편일 때의 예측값 <br>\n",
    "회귀계수(regression coefficient): 회귀직선의 기울기"
   ]
  },
  {
   "cell_type": "code",
   "execution_count": 15,
   "metadata": {},
   "outputs": [
    {
     "data": {
      "text/plain": [
       "array([29.34160985])"
      ]
     },
     "execution_count": 15,
     "metadata": {},
     "output_type": "execute_result"
    }
   ],
   "source": [
    "# W_1\n",
    "reg.coef_"
   ]
  },
  {
   "cell_type": "code",
   "execution_count": 16,
   "metadata": {},
   "outputs": [],
   "source": [
    "# y(자전거대여량) = w_0 + w_1 * x(온도) \n",
    "# y = 331.78038016740726 + 29.34160985 * x"
   ]
  },
  {
   "cell_type": "code",
   "execution_count": 17,
   "metadata": {},
   "outputs": [
    {
     "data": {
      "text/plain": [
       "1212.0286755881673"
      ]
     },
     "execution_count": 17,
     "metadata": {},
     "output_type": "execute_result"
    }
   ],
   "source": [
    "# 예: 온도 30 -> 자전거 대여량은?\n",
    "x = 30\n",
    "reg.intercept_ + reg.coef_[0] * x"
   ]
  },
  {
   "cell_type": "code",
   "execution_count": 18,
   "metadata": {},
   "outputs": [
    {
     "name": "stderr",
     "output_type": "stream",
     "text": [
      "c:\\Users\\Playdata\\AppData\\Local\\anaconda3\\lib\\site-packages\\sklearn\\base.py:420: UserWarning: X does not have valid feature names, but LinearRegression was fitted with feature names\n",
      "  warnings.warn(\n"
     ]
    },
    {
     "data": {
      "text/plain": [
       "array([1212.02867559, 1358.73672482,  331.78038017,   38.36428169])"
      ]
     },
     "execution_count": 18,
     "metadata": {},
     "output_type": "execute_result"
    }
   ],
   "source": [
    "reg.predict([  [30]\n",
    "             , [35]\n",
    "             , [0]\n",
    "             , [-10]\n",
    "             ])"
   ]
  },
  {
   "cell_type": "code",
   "execution_count": 19,
   "metadata": {},
   "outputs": [],
   "source": [
    "# 모델 평가(MAE, R^2)\n",
    "# test_set에 예측값\n",
    "y_pred = reg.predict(X_test[['Temperature']])"
   ]
  },
  {
   "cell_type": "code",
   "execution_count": 20,
   "metadata": {},
   "outputs": [],
   "source": [
    "# 정답은 y_test에 있음"
   ]
  },
  {
   "cell_type": "code",
   "execution_count": 21,
   "metadata": {},
   "outputs": [
    {
     "data": {
      "text/plain": [
       "416.2653398260372"
      ]
     },
     "execution_count": 21,
     "metadata": {},
     "output_type": "execute_result"
    }
   ],
   "source": [
    "# MAE (절댓값 평균 에러)\n",
    "abs(y_pred - y_test).mean()"
   ]
  },
  {
   "cell_type": "code",
   "execution_count": 22,
   "metadata": {},
   "outputs": [],
   "source": [
    "from sklearn.metrics import mean_absolute_error, r2_score"
   ]
  },
  {
   "cell_type": "code",
   "execution_count": 23,
   "metadata": {},
   "outputs": [
    {
     "data": {
      "text/plain": [
       "416.2653398260372"
      ]
     },
     "execution_count": 23,
     "metadata": {},
     "output_type": "execute_result"
    }
   ],
   "source": [
    "mean_absolute_error(y_true =y_test, y_pred=y_pred)"
   ]
  },
  {
   "cell_type": "code",
   "execution_count": 24,
   "metadata": {},
   "outputs": [
    {
     "data": {
      "text/plain": [
       "count    8760.000000\n",
       "mean      704.602055\n",
       "std       644.997468\n",
       "min         0.000000\n",
       "25%       191.000000\n",
       "50%       504.500000\n",
       "75%      1065.250000\n",
       "max      3556.000000\n",
       "Name: Rented Bike Count, dtype: float64"
      ]
     },
     "execution_count": 24,
     "metadata": {},
     "output_type": "execute_result"
    }
   ],
   "source": [
    "df['Rented Bike Count'].describe()"
   ]
  },
  {
   "cell_type": "code",
   "execution_count": 25,
   "metadata": {},
   "outputs": [
    {
     "data": {
      "text/plain": [
       "0.26068022436317684"
      ]
     },
     "execution_count": 25,
     "metadata": {},
     "output_type": "execute_result"
    }
   ],
   "source": [
    "# R^2\n",
    "r2_score(y_true =y_test, y_pred=y_pred)\n",
    "# 오차가 많다."
   ]
  },
  {
   "cell_type": "code",
   "execution_count": 26,
   "metadata": {},
   "outputs": [
    {
     "data": {
      "image/png": "[encoded data removed]",
      "text/plain": [
       "<Figure size 640x480 with 1 Axes>"
      ]
     },
     "metadata": {},
     "output_type": "display_data"
    }
   ],
   "source": [
    "plt.plot(X_test['Temperature'], y_test, 'o')\n",
    "plt.plot(X_test['Temperature'], y_pred, 'r')\n",
    "plt.xlabel('Temperature')\n",
    "plt.ylabel('Rented Bike Count')\n",
    "plt.show()"
   ]
  },
  {
   "attachments": {},
   "cell_type": "markdown",
   "metadata": {},
   "source": [
    "- 시간으로 (Hour) 자전거 대여량을 예측하는 선형회귀 모델 만들고 평가(MAE, R^2)"
   ]
  },
  {
   "cell_type": "code",
   "execution_count": 27,
   "metadata": {},
   "outputs": [
    {
     "data": {
      "text/plain": [
       "469.80445700960956"
      ]
     },
     "execution_count": 27,
     "metadata": {},
     "output_type": "execute_result"
    }
   ],
   "source": [
    "reg = LinearRegression()\n",
    "reg.fit(X=X_train[['Hour']], y=y_train)\n",
    "y_pred = reg.predict(X_test[['Hour']])\n",
    "\n",
    "# MAE\n",
    "abs(y_pred - y_test).mean()"
   ]
  },
  {
   "cell_type": "code",
   "execution_count": 28,
   "metadata": {},
   "outputs": [
    {
     "data": {
      "text/plain": [
       "0.15466121738474936"
      ]
     },
     "execution_count": 28,
     "metadata": {},
     "output_type": "execute_result"
    }
   ],
   "source": [
    "# R^2\n",
    "r2_score(y_true =y_test, y_pred=y_pred)"
   ]
  },
  {
   "cell_type": "code",
   "execution_count": 29,
   "metadata": {},
   "outputs": [
    {
     "data": {
      "image/png": "[encoded data removed]",
      "text/plain": [
       "<Figure size 640x480 with 1 Axes>"
      ]
     },
     "metadata": {},
     "output_type": "display_data"
    }
   ],
   "source": [
    "plt.plot(X_test['Hour'], y_test, 'o')\n",
    "plt.plot(X_test['Hour'], y_pred, 'r')\n",
    "plt.xlabel('Hour')\n",
    "plt.ylabel('Rented Bike Count')\n",
    "plt.show()"
   ]
  },
  {
   "cell_type": "code",
   "execution_count": 30,
   "metadata": {},
   "outputs": [
    {
     "data": {
      "text/plain": [
       "(469.80445700960956, 0.15466121738474936)"
      ]
     },
     "execution_count": 30,
     "metadata": {},
     "output_type": "execute_result"
    }
   ],
   "source": [
    "reg = LinearRegression()\n",
    "reg.fit(X=X_train[['Hour']], y=y_train)\n",
    "y_pred = reg.predict(X_test[['Hour']])\n",
    "\n",
    "MAE = abs(y_pred - y_test).mean()\n",
    "Rsquared = r2_score(y_true =y_test, y_pred=y_pred)\n",
    "MAE, Rsquared"
   ]
  },
  {
   "attachments": {},
   "cell_type": "markdown",
   "metadata": {},
   "source": [
    "- 기온과 강수량 선형회귀 모델 만들기"
   ]
  },
  {
   "cell_type": "code",
   "execution_count": 31,
   "metadata": {},
   "outputs": [
    {
     "data": {
      "text/plain": [
       "(407.655844222717, 0.28706003242192835)"
      ]
     },
     "execution_count": 31,
     "metadata": {},
     "output_type": "execute_result"
    }
   ],
   "source": [
    "reg = LinearRegression()\n",
    "reg.fit(X=X_train[['Temperature', 'Rainfall']], y=y_train)\n",
    "y_pred = reg.predict(X_test[['Temperature', 'Rainfall']])\n",
    "\n",
    "MAE = abs(y_pred - y_test).mean()\n",
    "Rsquared = r2_score(y_true=y_test, y_pred=y_pred)\n",
    "MAE, Rsquared"
   ]
  },
  {
   "attachments": {},
   "cell_type": "markdown",
   "metadata": {},
   "source": [
    "- 모든 입력 변수를 다 활용하여 자전거 대여량 예측 선형회귀 모델 만들기"
   ]
  },
  {
   "cell_type": "code",
   "execution_count": 32,
   "metadata": {},
   "outputs": [
    {
     "data": {
      "text/plain": [
       "(310.872983196479, 0.5833302658222703)"
      ]
     },
     "execution_count": 32,
     "metadata": {},
     "output_type": "execute_result"
    }
   ],
   "source": [
    "reg = LinearRegression()\n",
    "reg.fit(X=X_train, y=y_train)\n",
    "y_pred = reg.predict(X_test)\n",
    "\n",
    "MAE = abs(y_pred - y_test).mean()\n",
    "Rsquared = r2_score(y_true=y_test, y_pred=y_pred)\n",
    "MAE, Rsquared"
   ]
  },
  {
   "cell_type": "code",
   "execution_count": 33,
   "metadata": {},
   "outputs": [],
   "source": [
    "# 참고: 다변량 분석 multivariate data analysis 관련 내용 추가 학습 \n",
    "# reg = LinearRegression().fit(X_train, y_train) # 특정 컬럼을 선택할 필요 X\n",
    "# print('w_0: ', reg.intercept_)\n",
    "# print('w_0 외 w: ', reg.coef_)"
   ]
  },
  {
   "attachments": {},
   "cell_type": "markdown",
   "metadata": {},
   "source": [
    "### Numpy를 활용해서 최소제곱법으로 선형회귀 구현"
   ]
  },
  {
   "attachments": {},
   "cell_type": "markdown",
   "metadata": {},
   "source": [
    "$(X^TX)^{-1}X^Ty$ 를 계산하여 $w$를 계산 => 331.78, 29.34가 나와야함"
   ]
  },
  {
   "cell_type": "code",
   "execution_count": 34,
   "metadata": {},
   "outputs": [
    {
     "data": {
      "text/plain": [
       "array([[1., 1.],\n",
       "       [1., 1.]])"
      ]
     },
     "execution_count": 34,
     "metadata": {},
     "output_type": "execute_result"
    }
   ],
   "source": [
    "# X\n",
    "np.ones((2,2)) # X_0 = 1 ( W0와 곱해지는 값(절편은 1 * w0))\n",
    "\n",
    "# shape을 넣어주면 shape과 같은 행렬에 1을 채워줌"
   ]
  },
  {
   "cell_type": "code",
   "execution_count": 35,
   "metadata": {},
   "outputs": [
    {
     "data": {
      "text/plain": [
       "(7008, 1)"
      ]
     },
     "execution_count": 35,
     "metadata": {},
     "output_type": "execute_result"
    }
   ],
   "source": [
    "X_train[['Temperature']].shape"
   ]
  },
  {
   "cell_type": "code",
   "execution_count": 36,
   "metadata": {},
   "outputs": [],
   "source": [
    "X_train_matrix = np.ones((7008, 2)) # 2 = (사용하는 변수의 개수(온도 1개) + 1) -> w의 개수도 2개가 됨\n",
    "X_train_matrix[:,1] = X_train['Temperature']"
   ]
  },
  {
   "cell_type": "code",
   "execution_count": 37,
   "metadata": {},
   "outputs": [
    {
     "data": {
      "text/plain": [
       "array([[ 1. ,  8.2],\n",
       "       [ 1. , 28.4],\n",
       "       [ 1. , 29.9]])"
      ]
     },
     "execution_count": 37,
     "metadata": {},
     "output_type": "execute_result"
    }
   ],
   "source": [
    "X_train_matrix[:3,:]"
   ]
  },
  {
   "cell_type": "code",
   "execution_count": 38,
   "metadata": {},
   "outputs": [
    {
     "data": {
      "text/plain": [
       "(2, 2)"
      ]
     },
     "execution_count": 38,
     "metadata": {},
     "output_type": "execute_result"
    }
   ],
   "source": [
    "# (X^T X)^-1\n",
    "left_side = np.linalg.inv(np.matmul(X_train_matrix.T, X_train_matrix)) # np.linalg.inv: 역행렬함수\n",
    "left_side.shape\n",
    "# np.matmul: 행렬에서의 dot product 계산"
   ]
  },
  {
   "cell_type": "code",
   "execution_count": 39,
   "metadata": {},
   "outputs": [
    {
     "data": {
      "text/plain": [
       "(2, 7008)"
      ]
     },
     "execution_count": 39,
     "metadata": {},
     "output_type": "execute_result"
    }
   ],
   "source": [
    "middle = np.matmul(left_side, X_train_matrix.T)\n",
    "middle.shape"
   ]
  },
  {
   "cell_type": "code",
   "execution_count": 42,
   "metadata": {},
   "outputs": [
    {
     "data": {
      "text/plain": [
       "(2,)"
      ]
     },
     "execution_count": 42,
     "metadata": {},
     "output_type": "execute_result"
    }
   ],
   "source": [
    "w_hat = np.matmul(middle, y_train)\n",
    "w_hat.shape"
   ]
  },
  {
   "cell_type": "code",
   "execution_count": 43,
   "metadata": {},
   "outputs": [
    {
     "data": {
      "text/plain": [
       "array([331.78038017,  29.34160985])"
      ]
     },
     "execution_count": 43,
     "metadata": {},
     "output_type": "execute_result"
    }
   ],
   "source": [
    "# [w_0, w_1]\n",
    "w_hat"
   ]
  },
  {
   "cell_type": "code",
   "execution_count": 44,
   "metadata": {},
   "outputs": [],
   "source": [
    "reg = LinearRegression().fit(X_train[['Temperature']], y_train)"
   ]
  },
  {
   "cell_type": "code",
   "execution_count": 45,
   "metadata": {},
   "outputs": [
    {
     "data": {
      "text/plain": [
       "331.78038016740726"
      ]
     },
     "execution_count": 45,
     "metadata": {},
     "output_type": "execute_result"
    }
   ],
   "source": [
    "reg.intercept_ # w_0"
   ]
  },
  {
   "cell_type": "code",
   "execution_count": 46,
   "metadata": {},
   "outputs": [
    {
     "data": {
      "text/plain": [
       "array([29.34160985])"
      ]
     },
     "execution_count": 46,
     "metadata": {},
     "output_type": "execute_result"
    }
   ],
   "source": [
    "reg.coef_ #w_1"
   ]
  },
  {
   "cell_type": "code",
   "execution_count": null,
   "metadata": {},
   "outputs": [],
   "source": []
  }
 ],
 "metadata": {
  "kernelspec": {
   "display_name": "base",
   "language": "python",
   "name": "python3"
  },
  "language_info": {
   "codemirror_mode": {
    "name": "ipython",
    "version": 3
   },
   "file_extension": ".py",
   "mimetype": "text/x-python",
   "name": "python",
   "nbconvert_exporter": "python",
   "pygments_lexer": "ipython3",
   "version": "3.10.9"
  },
  "orig_nbformat": 4
 },
 "nbformat": 4,
 "nbformat_minor": 2
}
