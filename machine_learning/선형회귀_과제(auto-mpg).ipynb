{
 "cells": [
  {
   "attachments": {},
   "cell_type": "markdown",
   "metadata": {},
   "source": [
    "## 선형회귀 과제\n",
    "## 자동차의 특성을 통해 연비 (mpg(miles per gallon)) 예측"
   ]
  },
  {
   "cell_type": "code",
   "execution_count": 71,
   "metadata": {},
   "outputs": [],
   "source": [
    "import pandas as pd\n",
    "import numpy as np\n",
    "import matplotlib.pyplot as plt"
   ]
  },
  {
   "attachments": {},
   "cell_type": "markdown",
   "metadata": {},
   "source": [
    "- 데이터 불러오기"
   ]
  },
  {
   "cell_type": "code",
   "execution_count": 72,
   "metadata": {},
   "outputs": [
    {
     "data": {
      "text/html": [
       "<div>\n",
       "<style scoped>\n",
       "    .dataframe tbody tr th:only-of-type {\n",
       "        vertical-align: middle;\n",
       "    }\n",
       "\n",
       "    .dataframe tbody tr th {\n",
       "        vertical-align: top;\n",
       "    }\n",
       "\n",
       "    .dataframe thead th {\n",
       "        text-align: right;\n",
       "    }\n",
       "</style>\n",
       "<table border=\"1\" class=\"dataframe\">\n",
       "  <thead>\n",
       "    <tr style=\"text-align: right;\">\n",
       "      <th></th>\n",
       "      <th>mpg</th>\n",
       "      <th>cylinders</th>\n",
       "      <th>displacement</th>\n",
       "      <th>horsepower</th>\n",
       "      <th>weight</th>\n",
       "      <th>acceleration</th>\n",
       "      <th>model_year</th>\n",
       "      <th>origin</th>\n",
       "      <th>car_name</th>\n",
       "    </tr>\n",
       "  </thead>\n",
       "  <tbody>\n",
       "    <tr>\n",
       "      <th>0</th>\n",
       "      <td>18.0</td>\n",
       "      <td>8</td>\n",
       "      <td>307.0</td>\n",
       "      <td>130.0</td>\n",
       "      <td>3504.0</td>\n",
       "      <td>12.0</td>\n",
       "      <td>70</td>\n",
       "      <td>1</td>\n",
       "      <td>chevrolet chevelle malibu</td>\n",
       "    </tr>\n",
       "    <tr>\n",
       "      <th>1</th>\n",
       "      <td>15.0</td>\n",
       "      <td>8</td>\n",
       "      <td>350.0</td>\n",
       "      <td>165.0</td>\n",
       "      <td>3693.0</td>\n",
       "      <td>11.5</td>\n",
       "      <td>70</td>\n",
       "      <td>1</td>\n",
       "      <td>buick skylark 320</td>\n",
       "    </tr>\n",
       "    <tr>\n",
       "      <th>2</th>\n",
       "      <td>18.0</td>\n",
       "      <td>8</td>\n",
       "      <td>318.0</td>\n",
       "      <td>150.0</td>\n",
       "      <td>3436.0</td>\n",
       "      <td>11.0</td>\n",
       "      <td>70</td>\n",
       "      <td>1</td>\n",
       "      <td>plymouth satellite</td>\n",
       "    </tr>\n",
       "    <tr>\n",
       "      <th>3</th>\n",
       "      <td>16.0</td>\n",
       "      <td>8</td>\n",
       "      <td>304.0</td>\n",
       "      <td>150.0</td>\n",
       "      <td>3433.0</td>\n",
       "      <td>12.0</td>\n",
       "      <td>70</td>\n",
       "      <td>1</td>\n",
       "      <td>amc rebel sst</td>\n",
       "    </tr>\n",
       "    <tr>\n",
       "      <th>4</th>\n",
       "      <td>17.0</td>\n",
       "      <td>8</td>\n",
       "      <td>302.0</td>\n",
       "      <td>140.0</td>\n",
       "      <td>3449.0</td>\n",
       "      <td>10.5</td>\n",
       "      <td>70</td>\n",
       "      <td>1</td>\n",
       "      <td>ford torino</td>\n",
       "    </tr>\n",
       "  </tbody>\n",
       "</table>\n",
       "</div>"
      ],
      "text/plain": [
       "    mpg  cylinders  displacement  horsepower  weight  acceleration  \\\n",
       "0  18.0          8         307.0       130.0  3504.0          12.0   \n",
       "1  15.0          8         350.0       165.0  3693.0          11.5   \n",
       "2  18.0          8         318.0       150.0  3436.0          11.0   \n",
       "3  16.0          8         304.0       150.0  3433.0          12.0   \n",
       "4  17.0          8         302.0       140.0  3449.0          10.5   \n",
       "\n",
       "   model_year  origin                   car_name  \n",
       "0          70       1  chevrolet chevelle malibu  \n",
       "1          70       1          buick skylark 320  \n",
       "2          70       1         plymouth satellite  \n",
       "3          70       1              amc rebel sst  \n",
       "4          70       1                ford torino  "
      ]
     },
     "execution_count": 72,
     "metadata": {},
     "output_type": "execute_result"
    }
   ],
   "source": [
    "# 데이터 출처: https://archive.ics.uci.edu/ml/datasets/auto+mpg\n",
    "\n",
    "col_names = ['mpg', 'cylinders', 'displacement', 'horsepower', 'weight', 'acceleration', 'model_year', 'origin', 'car_name']\n",
    "\n",
    "# 주요 컬럼: \n",
    "# mpg: mile per gallon 연비\n",
    "# horsepower: 마력\n",
    "# weight: 무게\n",
    "# origin: 제조국 (1: USA, 2: Europe, 3: Asia)\n",
    "\n",
    "# comma가 아니라 whitespace로 컬럼 분리, ? 값는 결측치로 처리함\n",
    "df = pd.read_csv('data/auto-mpg.data', delim_whitespace=True, names=col_names, na_values='?') \n",
    "df.head()"
   ]
  },
  {
   "cell_type": "code",
   "execution_count": 73,
   "metadata": {},
   "outputs": [
    {
     "name": "stdout",
     "output_type": "stream",
     "text": [
      "<class 'pandas.core.frame.DataFrame'>\n",
      "RangeIndex: 398 entries, 0 to 397\n",
      "Data columns (total 9 columns):\n",
      " #   Column        Non-Null Count  Dtype  \n",
      "---  ------        --------------  -----  \n",
      " 0   mpg           398 non-null    float64\n",
      " 1   cylinders     398 non-null    int64  \n",
      " 2   displacement  398 non-null    float64\n",
      " 3   horsepower    392 non-null    float64\n",
      " 4   weight        398 non-null    float64\n",
      " 5   acceleration  398 non-null    float64\n",
      " 6   model_year    398 non-null    int64  \n",
      " 7   origin        398 non-null    int64  \n",
      " 8   car_name      398 non-null    object \n",
      "dtypes: float64(5), int64(3), object(1)\n",
      "memory usage: 28.1+ KB\n"
     ]
    }
   ],
   "source": [
    "df.info() # Null 값 확인(Age, Cabin 컬럼)"
   ]
  },
  {
   "cell_type": "code",
   "execution_count": 74,
   "metadata": {},
   "outputs": [
    {
     "name": "stdout",
     "output_type": "stream",
     "text": [
      "<class 'pandas.core.frame.DataFrame'>\n",
      "RangeIndex: 398 entries, 0 to 397\n",
      "Data columns (total 9 columns):\n",
      " #   Column        Non-Null Count  Dtype  \n",
      "---  ------        --------------  -----  \n",
      " 0   mpg           398 non-null    float64\n",
      " 1   cylinders     398 non-null    int64  \n",
      " 2   displacement  398 non-null    float64\n",
      " 3   horsepower    392 non-null    float64\n",
      " 4   weight        398 non-null    float64\n",
      " 5   acceleration  398 non-null    float64\n",
      " 6   model_year    398 non-null    int64  \n",
      " 7   origin        398 non-null    int64  \n",
      " 8   car_name      398 non-null    object \n",
      "dtypes: float64(5), int64(3), object(1)\n",
      "memory usage: 28.1+ KB\n"
     ]
    }
   ],
   "source": [
    "df.info()"
   ]
  },
  {
   "cell_type": "code",
   "execution_count": 75,
   "metadata": {},
   "outputs": [
    {
     "data": {
      "text/plain": [
       "mpg             0\n",
       "cylinders       0\n",
       "displacement    0\n",
       "horsepower      6\n",
       "weight          0\n",
       "acceleration    0\n",
       "model_year      0\n",
       "origin          0\n",
       "car_name        0\n",
       "dtype: int64"
      ]
     },
     "execution_count": 75,
     "metadata": {},
     "output_type": "execute_result"
    }
   ],
   "source": [
    "np.sum(df.isna()) # isna함수를 사용하여 horsepower 변수에만 6개의 null값이 있는 것 확인 가능"
   ]
  },
  {
   "attachments": {},
   "cell_type": "markdown",
   "metadata": {},
   "source": [
    "# 2. 데이터의 이해"
   ]
  },
  {
   "attachments": {},
   "cell_type": "markdown",
   "metadata": {},
   "source": [
    "## 2.1 Null값이 하나라도 들어있는 행 제거 \n",
    "- 모든 행의 non-null 개수가 같아져야 함\n",
    "- np.sum(df.isna())을 통해 null이 있는 변수가 없다는 것 확인"
   ]
  },
  {
   "cell_type": "code",
   "execution_count": 76,
   "metadata": {},
   "outputs": [],
   "source": [
    "df.dropna(inplace=True)"
   ]
  },
  {
   "attachments": {},
   "cell_type": "markdown",
   "metadata": {},
   "source": [
    "## 2.2 연비(MPG)의 분포는?\n",
    "- 히스토그램과 Boxplot으로 표현하기 \n",
    "- 연비가 낮은 차들이 연비가 높은 차들보다 많이 있는 것을 시각적으로 확인할 수 있음"
   ]
  },
  {
   "cell_type": "code",
   "execution_count": 77,
   "metadata": {},
   "outputs": [
    {
     "data": {
      "text/plain": [
       "mpg             0\n",
       "cylinders       0\n",
       "displacement    0\n",
       "horsepower      0\n",
       "weight          0\n",
       "acceleration    0\n",
       "model_year      0\n",
       "origin          0\n",
       "car_name        0\n",
       "dtype: int64"
      ]
     },
     "execution_count": 77,
     "metadata": {},
     "output_type": "execute_result"
    }
   ],
   "source": [
    "np.sum(df.isna())"
   ]
  },
  {
   "cell_type": "code",
   "execution_count": 78,
   "metadata": {},
   "outputs": [
    {
     "data": {
      "text/plain": [
       "Text(0, 0.5, 'Frequency')"
      ]
     },
     "execution_count": 78,
     "metadata": {},
     "output_type": "execute_result"
    },
    {
     "data": {
      "image/png": "[encoded data removed]",
      "text/plain": [
       "<Figure size 640x480 with 1 Axes>"
      ]
     },
     "metadata": {},
     "output_type": "display_data"
    }
   ],
   "source": [
    "plt.hist(df['mpg'])\n",
    "plt.xlabel('MPG')\n",
    "plt.ylabel('Frequency')"
   ]
  },
  {
   "cell_type": "code",
   "execution_count": 79,
   "metadata": {},
   "outputs": [
    {
     "data": {
      "text/plain": [
       "Text(0, 0.5, 'MPG')"
      ]
     },
     "execution_count": 79,
     "metadata": {},
     "output_type": "execute_result"
    },
    {
     "data": {
      "image/png": "[encoded data removed]",
      "text/plain": [
       "<Figure size 640x480 with 1 Axes>"
      ]
     },
     "metadata": {},
     "output_type": "display_data"
    }
   ],
   "source": [
    "plt.boxplot(df['mpg'])\n",
    "plt.ylabel('MPG')"
   ]
  },
  {
   "attachments": {},
   "cell_type": "markdown",
   "metadata": {},
   "source": [
    "## 2.3 제조국(Origin)에 따른 연비 평균은? \n",
    "- Origin에서 1: USA, 2: Europe, 3: Asia"
   ]
  },
  {
   "cell_type": "code",
   "execution_count": 80,
   "metadata": {},
   "outputs": [
    {
     "name": "stderr",
     "output_type": "stream",
     "text": [
      "C:\\Users\\Playdata\\AppData\\Local\\Temp\\ipykernel_12952\\1291682366.py:1: FutureWarning: The default value of numeric_only in DataFrameGroupBy.mean is deprecated. In a future version, numeric_only will default to False. Either specify numeric_only or select only columns which should be valid for the function.\n",
      "  mpgs = df.groupby('origin').mean()['mpg']\n"
     ]
    },
    {
     "data": {
      "text/plain": [
       "origin\n",
       "1    20.033469\n",
       "2    27.602941\n",
       "3    30.450633\n",
       "Name: mpg, dtype: float64"
      ]
     },
     "execution_count": 80,
     "metadata": {},
     "output_type": "execute_result"
    }
   ],
   "source": [
    "mpgs = df.groupby('origin').mean()['mpg']\n",
    "mpgs"
   ]
  },
  {
   "cell_type": "code",
   "execution_count": 81,
   "metadata": {},
   "outputs": [
    {
     "data": {
      "text/plain": [
       "Text(0, 0.5, 'MPG (mean)')"
      ]
     },
     "execution_count": 81,
     "metadata": {},
     "output_type": "execute_result"
    },
    {
     "data": {
      "image/png": "[encoded data removed]",
      "text/plain": [
       "<Figure size 640x480 with 1 Axes>"
      ]
     },
     "metadata": {},
     "output_type": "display_data"
    }
   ],
   "source": [
    "plt.bar(['USA', 'Europe', 'Asia'], mpgs)\n",
    "plt.xlabel('Origin')\n",
    "plt.ylabel('MPG (mean)')"
   ]
  },
  {
   "attachments": {},
   "cell_type": "markdown",
   "metadata": {},
   "source": [
    "## 2.4 차의 무게(Weight)와 연비(MPG)의 관계는?\n",
    "- Scatter plot과 상관계수 구하기 "
   ]
  },
  {
   "cell_type": "code",
   "execution_count": 82,
   "metadata": {},
   "outputs": [
    {
     "data": {
      "text/plain": [
       "Text(0, 0.5, 'MPG')"
      ]
     },
     "execution_count": 82,
     "metadata": {},
     "output_type": "execute_result"
    },
    {
     "data": {
      "image/png": "[encoded data removed]",
      "text/plain": [
       "<Figure size 640x480 with 1 Axes>"
      ]
     },
     "metadata": {},
     "output_type": "display_data"
    }
   ],
   "source": [
    "plt.scatter(df['weight'], df['mpg'])\n",
    "plt.xlabel('Weight')\n",
    "plt.ylabel('MPG')"
   ]
  },
  {
   "cell_type": "code",
   "execution_count": 83,
   "metadata": {},
   "outputs": [
    {
     "data": {
      "text/plain": [
       "array([[ 1.        , -0.83224421],\n",
       "       [-0.83224421,  1.        ]])"
      ]
     },
     "execution_count": 83,
     "metadata": {},
     "output_type": "execute_result"
    }
   ],
   "source": [
    "np.corrcoef(df['weight'], df['mpg'])"
   ]
  },
  {
   "attachments": {},
   "cell_type": "markdown",
   "metadata": {},
   "source": [
    "## 2.5 마력(Horsepower)과 연비(MPG)의 관계는?\n",
    "- Scatter plot과 상관계수 구하기 "
   ]
  },
  {
   "cell_type": "code",
   "execution_count": 84,
   "metadata": {},
   "outputs": [
    {
     "data": {
      "text/plain": [
       "Text(0, 0.5, 'Weight')"
      ]
     },
     "execution_count": 84,
     "metadata": {},
     "output_type": "execute_result"
    },
    {
     "data": {
      "image/png": "[encoded data removed]",
      "text/plain": [
       "<Figure size 640x480 with 1 Axes>"
      ]
     },
     "metadata": {},
     "output_type": "display_data"
    }
   ],
   "source": [
    "plt.scatter(df['horsepower'], df['weight'])\n",
    "plt.xlabel('Horsepower')\n",
    "plt.ylabel('Weight')"
   ]
  },
  {
   "cell_type": "code",
   "execution_count": 85,
   "metadata": {},
   "outputs": [
    {
     "data": {
      "text/plain": [
       "array([[1.        , 0.86453774],\n",
       "       [0.86453774, 1.        ]])"
      ]
     },
     "execution_count": 85,
     "metadata": {},
     "output_type": "execute_result"
    }
   ],
   "source": [
    "np.corrcoef(df['horsepower'], df['weight'])"
   ]
  },
  {
   "attachments": {},
   "cell_type": "markdown",
   "metadata": {},
   "source": [
    "# 3. 선형회귀"
   ]
  },
  {
   "cell_type": "code",
   "execution_count": 86,
   "metadata": {},
   "outputs": [],
   "source": [
    "from sklearn.linear_model import LinearRegression\n",
    "from sklearn.model_selection import train_test_split\n",
    "from sklearn.metrics import mean_squared_error, mean_absolute_error, r2_score"
   ]
  },
  {
   "attachments": {},
   "cell_type": "markdown",
   "metadata": {},
   "source": [
    "## 3.1 출시연도(\"Model Year\")와 제조국(\"Origin\")을 One-hot encoding으로 변환"
   ]
  },
  {
   "cell_type": "code",
   "execution_count": 87,
   "metadata": {},
   "outputs": [
    {
     "name": "stdout",
     "output_type": "stream",
     "text": [
      "<class 'pandas.core.frame.DataFrame'>\n",
      "Int64Index: 392 entries, 0 to 397\n",
      "Data columns (total 23 columns):\n",
      " #   Column         Non-Null Count  Dtype  \n",
      "---  ------         --------------  -----  \n",
      " 0   mpg            392 non-null    float64\n",
      " 1   cylinders      392 non-null    int64  \n",
      " 2   displacement   392 non-null    float64\n",
      " 3   horsepower     392 non-null    float64\n",
      " 4   weight         392 non-null    float64\n",
      " 5   acceleration   392 non-null    float64\n",
      " 6   car_name       392 non-null    object \n",
      " 7   model_year_70  392 non-null    uint8  \n",
      " 8   model_year_71  392 non-null    uint8  \n",
      " 9   model_year_72  392 non-null    uint8  \n",
      " 10  model_year_73  392 non-null    uint8  \n",
      " 11  model_year_74  392 non-null    uint8  \n",
      " 12  model_year_75  392 non-null    uint8  \n",
      " 13  model_year_76  392 non-null    uint8  \n",
      " 14  model_year_77  392 non-null    uint8  \n",
      " 15  model_year_78  392 non-null    uint8  \n",
      " 16  model_year_79  392 non-null    uint8  \n",
      " 17  model_year_80  392 non-null    uint8  \n",
      " 18  model_year_81  392 non-null    uint8  \n",
      " 19  model_year_82  392 non-null    uint8  \n",
      " 20  origin_1       392 non-null    uint8  \n",
      " 21  origin_2       392 non-null    uint8  \n",
      " 22  origin_3       392 non-null    uint8  \n",
      "dtypes: float64(5), int64(1), object(1), uint8(16)\n",
      "memory usage: 30.6+ KB\n"
     ]
    }
   ],
   "source": [
    "df_enc = pd.get_dummies(df, columns=['model_year', 'origin'])\n",
    "df_enc.info()"
   ]
  },
  {
   "attachments": {},
   "cell_type": "markdown",
   "metadata": {},
   "source": [
    "## 3.2 Input 데이터(X)와 Target 데이터(y) 분리"
   ]
  },
  {
   "cell_type": "code",
   "execution_count": 88,
   "metadata": {},
   "outputs": [
    {
     "data": {
      "text/plain": [
       "((392, 23), (392,))"
      ]
     },
     "execution_count": 88,
     "metadata": {},
     "output_type": "execute_result"
    }
   ],
   "source": [
    "# df_enc에서 'car_name'과 'mpg'를 제외한 컬럼들만 X에 대입\n",
    "# df_enc에서 'mpg'만 y에 대입\n",
    "X = df_enc[df_enc.columns.difference(['Anonymous Customer ID', 'Churn'])]\n",
    "y = df_enc['mpg']\n",
    "X.shape, y.shape\n",
    "# X.shape, y.shape 출력 결과 아래와 같음"
   ]
  },
  {
   "attachments": {},
   "cell_type": "markdown",
   "metadata": {},
   "source": [
    "## 3.3 Train set 과 Test set으로 분리\n",
    "- test set에 30%의 데이터 포함 \n",
    "- X_train, X_test, y_train, y_test로 구분"
   ]
  },
  {
   "cell_type": "code",
   "execution_count": 89,
   "metadata": {},
   "outputs": [
    {
     "data": {
      "text/plain": [
       "((274, 23), (118, 23), (274,), (118,))"
      ]
     },
     "execution_count": 89,
     "metadata": {},
     "output_type": "execute_result"
    }
   ],
   "source": [
    "# test set의 비율을 0.3, random_state=0으로\n",
    "# X_train.shape, X_test.shape, y_train.shape, y_test.shape <= 결과는 아래와 같음\n",
    "X_train, X_test, y_train, y_test = train_test_split(X, y, test_size=0.3, random_state=0)\n",
    "X_train.shape, X_test.shape, y_train.shape, y_test.shape"
   ]
  },
  {
   "attachments": {},
   "cell_type": "markdown",
   "metadata": {},
   "source": [
    "## 3.4 자동차 무게(Weight)를 통해 연비(MPG) 예측하기 \n",
    "- 선형회귀 모델 만들기\n",
    "- MAE와 $R^2$로 평가\n",
    "- 무게와 연비를 그래프로 표현하고, 선형회귀 예측 결과를 시각화"
   ]
  },
  {
   "cell_type": "code",
   "execution_count": 104,
   "metadata": {},
   "outputs": [
    {
     "name": "stderr",
     "output_type": "stream",
     "text": [
      "C:\\Users\\Playdata\\AppData\\Local\\Temp\\ipykernel_12952\\131534602.py:1: FutureWarning: The default value of numeric_only in DataFrame.corr is deprecated. In a future version, it will default to False. Select only valid columns or specify the value of numeric_only to silence this warning.\n",
      "  X_train.corr()\n"
     ]
    },
    {
     "data": {
      "text/html": [
       "<div>\n",
       "<style scoped>\n",
       "    .dataframe tbody tr th:only-of-type {\n",
       "        vertical-align: middle;\n",
       "    }\n",
       "\n",
       "    .dataframe tbody tr th {\n",
       "        vertical-align: top;\n",
       "    }\n",
       "\n",
       "    .dataframe thead th {\n",
       "        text-align: right;\n",
       "    }\n",
       "</style>\n",
       "<table border=\"1\" class=\"dataframe\">\n",
       "  <thead>\n",
       "    <tr style=\"text-align: right;\">\n",
       "      <th></th>\n",
       "      <th>acceleration</th>\n",
       "      <th>cylinders</th>\n",
       "      <th>displacement</th>\n",
       "      <th>horsepower</th>\n",
       "      <th>model_year_70</th>\n",
       "      <th>model_year_71</th>\n",
       "      <th>model_year_72</th>\n",
       "      <th>model_year_73</th>\n",
       "      <th>model_year_74</th>\n",
       "      <th>model_year_75</th>\n",
       "      <th>...</th>\n",
       "      <th>model_year_78</th>\n",
       "      <th>model_year_79</th>\n",
       "      <th>model_year_80</th>\n",
       "      <th>model_year_81</th>\n",
       "      <th>model_year_82</th>\n",
       "      <th>mpg</th>\n",
       "      <th>origin_1</th>\n",
       "      <th>origin_2</th>\n",
       "      <th>origin_3</th>\n",
       "      <th>weight</th>\n",
       "    </tr>\n",
       "  </thead>\n",
       "  <tbody>\n",
       "    <tr>\n",
       "      <th>acceleration</th>\n",
       "      <td>1.000000</td>\n",
       "      <td>-0.490167</td>\n",
       "      <td>-0.514724</td>\n",
       "      <td>-0.672461</td>\n",
       "      <td>-0.228829</td>\n",
       "      <td>-0.122372</td>\n",
       "      <td>-0.044327</td>\n",
       "      <td>-0.166511</td>\n",
       "      <td>0.094445</td>\n",
       "      <td>0.047883</td>\n",
       "      <td>...</td>\n",
       "      <td>0.019272</td>\n",
       "      <td>0.029347</td>\n",
       "      <td>0.130975</td>\n",
       "      <td>0.084489</td>\n",
       "      <td>0.069398</td>\n",
       "      <td>0.390812</td>\n",
       "      <td>-0.213805</td>\n",
       "      <td>0.203012</td>\n",
       "      <td>0.069197</td>\n",
       "      <td>-0.375924</td>\n",
       "    </tr>\n",
       "    <tr>\n",
       "      <th>cylinders</th>\n",
       "      <td>-0.490167</td>\n",
       "      <td>1.000000</td>\n",
       "      <td>0.952824</td>\n",
       "      <td>0.839680</td>\n",
       "      <td>0.201326</td>\n",
       "      <td>0.069717</td>\n",
       "      <td>0.049858</td>\n",
       "      <td>0.181678</td>\n",
       "      <td>-0.048745</td>\n",
       "      <td>0.037202</td>\n",
       "      <td>...</td>\n",
       "      <td>0.004343</td>\n",
       "      <td>0.021871</td>\n",
       "      <td>-0.200179</td>\n",
       "      <td>-0.132401</td>\n",
       "      <td>-0.246044</td>\n",
       "      <td>-0.788188</td>\n",
       "      <td>0.600255</td>\n",
       "      <td>-0.340487</td>\n",
       "      <td>-0.406516</td>\n",
       "      <td>0.895298</td>\n",
       "    </tr>\n",
       "    <tr>\n",
       "      <th>displacement</th>\n",
       "      <td>-0.514724</td>\n",
       "      <td>0.952824</td>\n",
       "      <td>1.000000</td>\n",
       "      <td>0.887352</td>\n",
       "      <td>0.186422</td>\n",
       "      <td>0.107021</td>\n",
       "      <td>0.064249</td>\n",
       "      <td>0.210770</td>\n",
       "      <td>-0.065377</td>\n",
       "      <td>0.053270</td>\n",
       "      <td>...</td>\n",
       "      <td>-0.031309</td>\n",
       "      <td>0.017889</td>\n",
       "      <td>-0.191736</td>\n",
       "      <td>-0.152271</td>\n",
       "      <td>-0.215703</td>\n",
       "      <td>-0.812281</td>\n",
       "      <td>0.648847</td>\n",
       "      <td>-0.360802</td>\n",
       "      <td>-0.446129</td>\n",
       "      <td>0.927360</td>\n",
       "    </tr>\n",
       "    <tr>\n",
       "      <th>horsepower</th>\n",
       "      <td>-0.672461</td>\n",
       "      <td>0.839680</td>\n",
       "      <td>0.887352</td>\n",
       "      <td>1.000000</td>\n",
       "      <td>0.249385</td>\n",
       "      <td>0.060967</td>\n",
       "      <td>0.123098</td>\n",
       "      <td>0.252003</td>\n",
       "      <td>-0.067692</td>\n",
       "      <td>-0.005631</td>\n",
       "      <td>...</td>\n",
       "      <td>-0.014862</td>\n",
       "      <td>-0.044375</td>\n",
       "      <td>-0.170361</td>\n",
       "      <td>-0.167984</td>\n",
       "      <td>-0.185775</td>\n",
       "      <td>-0.770134</td>\n",
       "      <td>0.469633</td>\n",
       "      <td>-0.272716</td>\n",
       "      <td>-0.312205</td>\n",
       "      <td>0.853331</td>\n",
       "    </tr>\n",
       "    <tr>\n",
       "      <th>model_year_70</th>\n",
       "      <td>-0.228829</td>\n",
       "      <td>0.201326</td>\n",
       "      <td>0.186422</td>\n",
       "      <td>0.249385</td>\n",
       "      <td>1.000000</td>\n",
       "      <td>-0.076395</td>\n",
       "      <td>-0.068198</td>\n",
       "      <td>-0.094710</td>\n",
       "      <td>-0.068198</td>\n",
       "      <td>-0.076395</td>\n",
       "      <td>...</td>\n",
       "      <td>-0.087670</td>\n",
       "      <td>-0.072381</td>\n",
       "      <td>-0.070313</td>\n",
       "      <td>-0.074407</td>\n",
       "      <td>-0.078348</td>\n",
       "      <td>-0.184273</td>\n",
       "      <td>0.078622</td>\n",
       "      <td>-0.038021</td>\n",
       "      <td>-0.059328</td>\n",
       "      <td>0.078932</td>\n",
       "    </tr>\n",
       "    <tr>\n",
       "      <th>model_year_71</th>\n",
       "      <td>-0.122372</td>\n",
       "      <td>0.069717</td>\n",
       "      <td>0.107021</td>\n",
       "      <td>0.060967</td>\n",
       "      <td>-0.076395</td>\n",
       "      <td>1.000000</td>\n",
       "      <td>-0.074098</td>\n",
       "      <td>-0.102903</td>\n",
       "      <td>-0.074098</td>\n",
       "      <td>-0.083004</td>\n",
       "      <td>...</td>\n",
       "      <td>-0.095254</td>\n",
       "      <td>-0.078642</td>\n",
       "      <td>-0.076395</td>\n",
       "      <td>-0.080844</td>\n",
       "      <td>-0.085126</td>\n",
       "      <td>-0.114150</td>\n",
       "      <td>0.075924</td>\n",
       "      <td>-0.053653</td>\n",
       "      <td>-0.041627</td>\n",
       "      <td>0.075154</td>\n",
       "    </tr>\n",
       "    <tr>\n",
       "      <th>model_year_72</th>\n",
       "      <td>-0.044327</td>\n",
       "      <td>0.049858</td>\n",
       "      <td>0.064249</td>\n",
       "      <td>0.123098</td>\n",
       "      <td>-0.068198</td>\n",
       "      <td>-0.074098</td>\n",
       "      <td>1.000000</td>\n",
       "      <td>-0.091862</td>\n",
       "      <td>-0.066148</td>\n",
       "      <td>-0.074098</td>\n",
       "      <td>...</td>\n",
       "      <td>-0.085034</td>\n",
       "      <td>-0.070204</td>\n",
       "      <td>-0.068198</td>\n",
       "      <td>-0.072170</td>\n",
       "      <td>-0.075992</td>\n",
       "      <td>-0.151864</td>\n",
       "      <td>0.006423</td>\n",
       "      <td>0.008495</td>\n",
       "      <td>-0.015577</td>\n",
       "      <td>0.092304</td>\n",
       "    </tr>\n",
       "    <tr>\n",
       "      <th>model_year_73</th>\n",
       "      <td>-0.166511</td>\n",
       "      <td>0.181678</td>\n",
       "      <td>0.210770</td>\n",
       "      <td>0.252003</td>\n",
       "      <td>-0.094710</td>\n",
       "      <td>-0.102903</td>\n",
       "      <td>-0.091862</td>\n",
       "      <td>1.000000</td>\n",
       "      <td>-0.091862</td>\n",
       "      <td>-0.102903</td>\n",
       "      <td>...</td>\n",
       "      <td>-0.118089</td>\n",
       "      <td>-0.097495</td>\n",
       "      <td>-0.094710</td>\n",
       "      <td>-0.100225</td>\n",
       "      <td>-0.105533</td>\n",
       "      <td>-0.284022</td>\n",
       "      <td>0.079310</td>\n",
       "      <td>0.028261</td>\n",
       "      <td>-0.121464</td>\n",
       "      <td>0.166728</td>\n",
       "    </tr>\n",
       "    <tr>\n",
       "      <th>model_year_74</th>\n",
       "      <td>0.094445</td>\n",
       "      <td>-0.048745</td>\n",
       "      <td>-0.065377</td>\n",
       "      <td>-0.067692</td>\n",
       "      <td>-0.068198</td>\n",
       "      <td>-0.074098</td>\n",
       "      <td>-0.066148</td>\n",
       "      <td>-0.091862</td>\n",
       "      <td>1.000000</td>\n",
       "      <td>-0.074098</td>\n",
       "      <td>...</td>\n",
       "      <td>-0.085034</td>\n",
       "      <td>-0.070204</td>\n",
       "      <td>-0.068198</td>\n",
       "      <td>-0.072170</td>\n",
       "      <td>-0.075992</td>\n",
       "      <td>-0.003652</td>\n",
       "      <td>-0.056429</td>\n",
       "      <td>0.008495</td>\n",
       "      <td>0.059965</td>\n",
       "      <td>-0.031459</td>\n",
       "    </tr>\n",
       "    <tr>\n",
       "      <th>model_year_75</th>\n",
       "      <td>0.047883</td>\n",
       "      <td>0.037202</td>\n",
       "      <td>0.053270</td>\n",
       "      <td>-0.005631</td>\n",
       "      <td>-0.076395</td>\n",
       "      <td>-0.083004</td>\n",
       "      <td>-0.074098</td>\n",
       "      <td>-0.102903</td>\n",
       "      <td>-0.074098</td>\n",
       "      <td>1.000000</td>\n",
       "      <td>...</td>\n",
       "      <td>-0.095254</td>\n",
       "      <td>-0.078642</td>\n",
       "      <td>-0.076395</td>\n",
       "      <td>-0.080844</td>\n",
       "      <td>-0.085126</td>\n",
       "      <td>-0.128298</td>\n",
       "      <td>0.047426</td>\n",
       "      <td>0.020407</td>\n",
       "      <td>-0.075878</td>\n",
       "      <td>0.107288</td>\n",
       "    </tr>\n",
       "    <tr>\n",
       "      <th>model_year_76</th>\n",
       "      <td>0.079477</td>\n",
       "      <td>0.000730</td>\n",
       "      <td>-0.030983</td>\n",
       "      <td>-0.056503</td>\n",
       "      <td>-0.089460</td>\n",
       "      <td>-0.097199</td>\n",
       "      <td>-0.086770</td>\n",
       "      <td>-0.120501</td>\n",
       "      <td>-0.086770</td>\n",
       "      <td>-0.097199</td>\n",
       "      <td>...</td>\n",
       "      <td>-0.111544</td>\n",
       "      <td>-0.092091</td>\n",
       "      <td>-0.089460</td>\n",
       "      <td>-0.094669</td>\n",
       "      <td>-0.099683</td>\n",
       "      <td>-0.058603</td>\n",
       "      <td>-0.044576</td>\n",
       "      <td>0.110623</td>\n",
       "      <td>-0.048745</td>\n",
       "      <td>0.001672</td>\n",
       "    </tr>\n",
       "    <tr>\n",
       "      <th>model_year_77</th>\n",
       "      <td>0.029032</td>\n",
       "      <td>0.033791</td>\n",
       "      <td>0.020136</td>\n",
       "      <td>-0.002164</td>\n",
       "      <td>-0.063813</td>\n",
       "      <td>-0.069334</td>\n",
       "      <td>-0.061895</td>\n",
       "      <td>-0.085955</td>\n",
       "      <td>-0.061895</td>\n",
       "      <td>-0.069334</td>\n",
       "      <td>...</td>\n",
       "      <td>-0.079566</td>\n",
       "      <td>-0.065690</td>\n",
       "      <td>-0.063813</td>\n",
       "      <td>-0.067530</td>\n",
       "      <td>-0.071106</td>\n",
       "      <td>-0.012480</td>\n",
       "      <td>0.049137</td>\n",
       "      <td>-0.063376</td>\n",
       "      <td>-0.000439</td>\n",
       "      <td>0.030551</td>\n",
       "    </tr>\n",
       "    <tr>\n",
       "      <th>model_year_78</th>\n",
       "      <td>0.019272</td>\n",
       "      <td>0.004343</td>\n",
       "      <td>-0.031309</td>\n",
       "      <td>-0.014862</td>\n",
       "      <td>-0.087670</td>\n",
       "      <td>-0.095254</td>\n",
       "      <td>-0.085034</td>\n",
       "      <td>-0.118089</td>\n",
       "      <td>-0.085034</td>\n",
       "      <td>-0.095254</td>\n",
       "      <td>...</td>\n",
       "      <td>1.000000</td>\n",
       "      <td>-0.090249</td>\n",
       "      <td>-0.087670</td>\n",
       "      <td>-0.092775</td>\n",
       "      <td>-0.097689</td>\n",
       "      <td>-0.003413</td>\n",
       "      <td>-0.003713</td>\n",
       "      <td>-0.014355</td>\n",
       "      <td>0.017740</td>\n",
       "      <td>-0.020914</td>\n",
       "    </tr>\n",
       "    <tr>\n",
       "      <th>model_year_79</th>\n",
       "      <td>0.029347</td>\n",
       "      <td>0.021871</td>\n",
       "      <td>0.017889</td>\n",
       "      <td>-0.044375</td>\n",
       "      <td>-0.072381</td>\n",
       "      <td>-0.078642</td>\n",
       "      <td>-0.070204</td>\n",
       "      <td>-0.097495</td>\n",
       "      <td>-0.070204</td>\n",
       "      <td>-0.078642</td>\n",
       "      <td>...</td>\n",
       "      <td>-0.090249</td>\n",
       "      <td>1.000000</td>\n",
       "      <td>-0.072381</td>\n",
       "      <td>-0.076596</td>\n",
       "      <td>-0.080652</td>\n",
       "      <td>0.085537</td>\n",
       "      <td>0.057724</td>\n",
       "      <td>0.034107</td>\n",
       "      <td>-0.100926</td>\n",
       "      <td>0.006474</td>\n",
       "    </tr>\n",
       "    <tr>\n",
       "      <th>model_year_80</th>\n",
       "      <td>0.130975</td>\n",
       "      <td>-0.200179</td>\n",
       "      <td>-0.191736</td>\n",
       "      <td>-0.170361</td>\n",
       "      <td>-0.070313</td>\n",
       "      <td>-0.076395</td>\n",
       "      <td>-0.068198</td>\n",
       "      <td>-0.094710</td>\n",
       "      <td>-0.068198</td>\n",
       "      <td>-0.076395</td>\n",
       "      <td>...</td>\n",
       "      <td>-0.087670</td>\n",
       "      <td>-0.072381</td>\n",
       "      <td>1.000000</td>\n",
       "      <td>-0.074407</td>\n",
       "      <td>-0.078348</td>\n",
       "      <td>0.325584</td>\n",
       "      <td>-0.166177</td>\n",
       "      <td>0.081266</td>\n",
       "      <td>0.124563</td>\n",
       "      <td>-0.155318</td>\n",
       "    </tr>\n",
       "    <tr>\n",
       "      <th>model_year_81</th>\n",
       "      <td>0.084489</td>\n",
       "      <td>-0.132401</td>\n",
       "      <td>-0.152271</td>\n",
       "      <td>-0.167984</td>\n",
       "      <td>-0.074407</td>\n",
       "      <td>-0.080844</td>\n",
       "      <td>-0.072170</td>\n",
       "      <td>-0.100225</td>\n",
       "      <td>-0.072170</td>\n",
       "      <td>-0.080844</td>\n",
       "      <td>...</td>\n",
       "      <td>-0.092775</td>\n",
       "      <td>-0.076596</td>\n",
       "      <td>-0.074407</td>\n",
       "      <td>1.000000</td>\n",
       "      <td>-0.082910</td>\n",
       "      <td>0.247988</td>\n",
       "      <td>-0.078709</td>\n",
       "      <td>-0.048650</td>\n",
       "      <td>0.139601</td>\n",
       "      <td>-0.155166</td>\n",
       "    </tr>\n",
       "    <tr>\n",
       "      <th>model_year_82</th>\n",
       "      <td>0.069398</td>\n",
       "      <td>-0.246044</td>\n",
       "      <td>-0.215703</td>\n",
       "      <td>-0.185775</td>\n",
       "      <td>-0.078348</td>\n",
       "      <td>-0.085126</td>\n",
       "      <td>-0.075992</td>\n",
       "      <td>-0.105533</td>\n",
       "      <td>-0.075992</td>\n",
       "      <td>-0.085126</td>\n",
       "      <td>...</td>\n",
       "      <td>-0.097689</td>\n",
       "      <td>-0.080652</td>\n",
       "      <td>-0.078348</td>\n",
       "      <td>-0.082910</td>\n",
       "      <td>1.000000</td>\n",
       "      <td>0.339805</td>\n",
       "      <td>-0.054980</td>\n",
       "      <td>-0.094728</td>\n",
       "      <td>0.153700</td>\n",
       "      <td>-0.219344</td>\n",
       "    </tr>\n",
       "    <tr>\n",
       "      <th>mpg</th>\n",
       "      <td>0.390812</td>\n",
       "      <td>-0.788188</td>\n",
       "      <td>-0.812281</td>\n",
       "      <td>-0.770134</td>\n",
       "      <td>-0.184273</td>\n",
       "      <td>-0.114150</td>\n",
       "      <td>-0.151864</td>\n",
       "      <td>-0.284022</td>\n",
       "      <td>-0.003652</td>\n",
       "      <td>-0.128298</td>\n",
       "      <td>...</td>\n",
       "      <td>-0.003413</td>\n",
       "      <td>0.085537</td>\n",
       "      <td>0.325584</td>\n",
       "      <td>0.247988</td>\n",
       "      <td>0.339805</td>\n",
       "      <td>1.000000</td>\n",
       "      <td>-0.554175</td>\n",
       "      <td>0.237829</td>\n",
       "      <td>0.446086</td>\n",
       "      <td>-0.838572</td>\n",
       "    </tr>\n",
       "    <tr>\n",
       "      <th>origin_1</th>\n",
       "      <td>-0.213805</td>\n",
       "      <td>0.600255</td>\n",
       "      <td>0.648847</td>\n",
       "      <td>0.469633</td>\n",
       "      <td>0.078622</td>\n",
       "      <td>0.075924</td>\n",
       "      <td>0.006423</td>\n",
       "      <td>0.079310</td>\n",
       "      <td>-0.056429</td>\n",
       "      <td>0.047426</td>\n",
       "      <td>...</td>\n",
       "      <td>-0.003713</td>\n",
       "      <td>0.057724</td>\n",
       "      <td>-0.166177</td>\n",
       "      <td>-0.078709</td>\n",
       "      <td>-0.054980</td>\n",
       "      <td>-0.554175</td>\n",
       "      <td>1.000000</td>\n",
       "      <td>-0.584740</td>\n",
       "      <td>-0.661049</td>\n",
       "      <td>0.586193</td>\n",
       "    </tr>\n",
       "    <tr>\n",
       "      <th>origin_2</th>\n",
       "      <td>0.203012</td>\n",
       "      <td>-0.340487</td>\n",
       "      <td>-0.360802</td>\n",
       "      <td>-0.272716</td>\n",
       "      <td>-0.038021</td>\n",
       "      <td>-0.053653</td>\n",
       "      <td>0.008495</td>\n",
       "      <td>0.028261</td>\n",
       "      <td>0.008495</td>\n",
       "      <td>0.020407</td>\n",
       "      <td>...</td>\n",
       "      <td>-0.014355</td>\n",
       "      <td>0.034107</td>\n",
       "      <td>0.081266</td>\n",
       "      <td>-0.048650</td>\n",
       "      <td>-0.094728</td>\n",
       "      <td>0.237829</td>\n",
       "      <td>-0.584740</td>\n",
       "      <td>1.000000</td>\n",
       "      <td>-0.222151</td>\n",
       "      <td>-0.271086</td>\n",
       "    </tr>\n",
       "    <tr>\n",
       "      <th>origin_3</th>\n",
       "      <td>0.069197</td>\n",
       "      <td>-0.406516</td>\n",
       "      <td>-0.446129</td>\n",
       "      <td>-0.312205</td>\n",
       "      <td>-0.059328</td>\n",
       "      <td>-0.041627</td>\n",
       "      <td>-0.015577</td>\n",
       "      <td>-0.121464</td>\n",
       "      <td>0.059965</td>\n",
       "      <td>-0.075878</td>\n",
       "      <td>...</td>\n",
       "      <td>0.017740</td>\n",
       "      <td>-0.100926</td>\n",
       "      <td>0.124563</td>\n",
       "      <td>0.139601</td>\n",
       "      <td>0.153700</td>\n",
       "      <td>0.446086</td>\n",
       "      <td>-0.661049</td>\n",
       "      <td>-0.222151</td>\n",
       "      <td>1.000000</td>\n",
       "      <td>-0.453808</td>\n",
       "    </tr>\n",
       "    <tr>\n",
       "      <th>weight</th>\n",
       "      <td>-0.375924</td>\n",
       "      <td>0.895298</td>\n",
       "      <td>0.927360</td>\n",
       "      <td>0.853331</td>\n",
       "      <td>0.078932</td>\n",
       "      <td>0.075154</td>\n",
       "      <td>0.092304</td>\n",
       "      <td>0.166728</td>\n",
       "      <td>-0.031459</td>\n",
       "      <td>0.107288</td>\n",
       "      <td>...</td>\n",
       "      <td>-0.020914</td>\n",
       "      <td>0.006474</td>\n",
       "      <td>-0.155318</td>\n",
       "      <td>-0.155166</td>\n",
       "      <td>-0.219344</td>\n",
       "      <td>-0.838572</td>\n",
       "      <td>0.586193</td>\n",
       "      <td>-0.271086</td>\n",
       "      <td>-0.453808</td>\n",
       "      <td>1.000000</td>\n",
       "    </tr>\n",
       "  </tbody>\n",
       "</table>\n",
       "<p>22 rows × 22 columns</p>\n",
       "</div>"
      ],
      "text/plain": [
       "               acceleration  cylinders  displacement  horsepower  \\\n",
       "acceleration       1.000000  -0.490167     -0.514724   -0.672461   \n",
       "cylinders         -0.490167   1.000000      0.952824    0.839680   \n",
       "displacement      -0.514724   0.952824      1.000000    0.887352   \n",
       "horsepower        -0.672461   0.839680      0.887352    1.000000   \n",
       "model_year_70     -0.228829   0.201326      0.186422    0.249385   \n",
       "model_year_71     -0.122372   0.069717      0.107021    0.060967   \n",
       "model_year_72     -0.044327   0.049858      0.064249    0.123098   \n",
       "model_year_73     -0.166511   0.181678      0.210770    0.252003   \n",
       "model_year_74      0.094445  -0.048745     -0.065377   -0.067692   \n",
       "model_year_75      0.047883   0.037202      0.053270   -0.005631   \n",
       "model_year_76      0.079477   0.000730     -0.030983   -0.056503   \n",
       "model_year_77      0.029032   0.033791      0.020136   -0.002164   \n",
       "model_year_78      0.019272   0.004343     -0.031309   -0.014862   \n",
       "model_year_79      0.029347   0.021871      0.017889   -0.044375   \n",
       "model_year_80      0.130975  -0.200179     -0.191736   -0.170361   \n",
       "model_year_81      0.084489  -0.132401     -0.152271   -0.167984   \n",
       "model_year_82      0.069398  -0.246044     -0.215703   -0.185775   \n",
       "mpg                0.390812  -0.788188     -0.812281   -0.770134   \n",
       "origin_1          -0.213805   0.600255      0.648847    0.469633   \n",
       "origin_2           0.203012  -0.340487     -0.360802   -0.272716   \n",
       "origin_3           0.069197  -0.406516     -0.446129   -0.312205   \n",
       "weight            -0.375924   0.895298      0.927360    0.853331   \n",
       "\n",
       "               model_year_70  model_year_71  model_year_72  model_year_73  \\\n",
       "acceleration       -0.228829      -0.122372      -0.044327      -0.166511   \n",
       "cylinders           0.201326       0.069717       0.049858       0.181678   \n",
       "displacement        0.186422       0.107021       0.064249       0.210770   \n",
       "horsepower          0.249385       0.060967       0.123098       0.252003   \n",
       "model_year_70       1.000000      -0.076395      -0.068198      -0.094710   \n",
       "model_year_71      -0.076395       1.000000      -0.074098      -0.102903   \n",
       "model_year_72      -0.068198      -0.074098       1.000000      -0.091862   \n",
       "model_year_73      -0.094710      -0.102903      -0.091862       1.000000   \n",
       "model_year_74      -0.068198      -0.074098      -0.066148      -0.091862   \n",
       "model_year_75      -0.076395      -0.083004      -0.074098      -0.102903   \n",
       "model_year_76      -0.089460      -0.097199      -0.086770      -0.120501   \n",
       "model_year_77      -0.063813      -0.069334      -0.061895      -0.085955   \n",
       "model_year_78      -0.087670      -0.095254      -0.085034      -0.118089   \n",
       "model_year_79      -0.072381      -0.078642      -0.070204      -0.097495   \n",
       "model_year_80      -0.070313      -0.076395      -0.068198      -0.094710   \n",
       "model_year_81      -0.074407      -0.080844      -0.072170      -0.100225   \n",
       "model_year_82      -0.078348      -0.085126      -0.075992      -0.105533   \n",
       "mpg                -0.184273      -0.114150      -0.151864      -0.284022   \n",
       "origin_1            0.078622       0.075924       0.006423       0.079310   \n",
       "origin_2           -0.038021      -0.053653       0.008495       0.028261   \n",
       "origin_3           -0.059328      -0.041627      -0.015577      -0.121464   \n",
       "weight              0.078932       0.075154       0.092304       0.166728   \n",
       "\n",
       "               model_year_74  model_year_75  ...  model_year_78  \\\n",
       "acceleration        0.094445       0.047883  ...       0.019272   \n",
       "cylinders          -0.048745       0.037202  ...       0.004343   \n",
       "displacement       -0.065377       0.053270  ...      -0.031309   \n",
       "horsepower         -0.067692      -0.005631  ...      -0.014862   \n",
       "model_year_70      -0.068198      -0.076395  ...      -0.087670   \n",
       "model_year_71      -0.074098      -0.083004  ...      -0.095254   \n",
       "model_year_72      -0.066148      -0.074098  ...      -0.085034   \n",
       "model_year_73      -0.091862      -0.102903  ...      -0.118089   \n",
       "model_year_74       1.000000      -0.074098  ...      -0.085034   \n",
       "model_year_75      -0.074098       1.000000  ...      -0.095254   \n",
       "model_year_76      -0.086770      -0.097199  ...      -0.111544   \n",
       "model_year_77      -0.061895      -0.069334  ...      -0.079566   \n",
       "model_year_78      -0.085034      -0.095254  ...       1.000000   \n",
       "model_year_79      -0.070204      -0.078642  ...      -0.090249   \n",
       "model_year_80      -0.068198      -0.076395  ...      -0.087670   \n",
       "model_year_81      -0.072170      -0.080844  ...      -0.092775   \n",
       "model_year_82      -0.075992      -0.085126  ...      -0.097689   \n",
       "mpg                -0.003652      -0.128298  ...      -0.003413   \n",
       "origin_1           -0.056429       0.047426  ...      -0.003713   \n",
       "origin_2            0.008495       0.020407  ...      -0.014355   \n",
       "origin_3            0.059965      -0.075878  ...       0.017740   \n",
       "weight             -0.031459       0.107288  ...      -0.020914   \n",
       "\n",
       "               model_year_79  model_year_80  model_year_81  model_year_82  \\\n",
       "acceleration        0.029347       0.130975       0.084489       0.069398   \n",
       "cylinders           0.021871      -0.200179      -0.132401      -0.246044   \n",
       "displacement        0.017889      -0.191736      -0.152271      -0.215703   \n",
       "horsepower         -0.044375      -0.170361      -0.167984      -0.185775   \n",
       "model_year_70      -0.072381      -0.070313      -0.074407      -0.078348   \n",
       "model_year_71      -0.078642      -0.076395      -0.080844      -0.085126   \n",
       "model_year_72      -0.070204      -0.068198      -0.072170      -0.075992   \n",
       "model_year_73      -0.097495      -0.094710      -0.100225      -0.105533   \n",
       "model_year_74      -0.070204      -0.068198      -0.072170      -0.075992   \n",
       "model_year_75      -0.078642      -0.076395      -0.080844      -0.085126   \n",
       "model_year_76      -0.092091      -0.089460      -0.094669      -0.099683   \n",
       "model_year_77      -0.065690      -0.063813      -0.067530      -0.071106   \n",
       "model_year_78      -0.090249      -0.087670      -0.092775      -0.097689   \n",
       "model_year_79       1.000000      -0.072381      -0.076596      -0.080652   \n",
       "model_year_80      -0.072381       1.000000      -0.074407      -0.078348   \n",
       "model_year_81      -0.076596      -0.074407       1.000000      -0.082910   \n",
       "model_year_82      -0.080652      -0.078348      -0.082910       1.000000   \n",
       "mpg                 0.085537       0.325584       0.247988       0.339805   \n",
       "origin_1            0.057724      -0.166177      -0.078709      -0.054980   \n",
       "origin_2            0.034107       0.081266      -0.048650      -0.094728   \n",
       "origin_3           -0.100926       0.124563       0.139601       0.153700   \n",
       "weight              0.006474      -0.155318      -0.155166      -0.219344   \n",
       "\n",
       "                    mpg  origin_1  origin_2  origin_3    weight  \n",
       "acceleration   0.390812 -0.213805  0.203012  0.069197 -0.375924  \n",
       "cylinders     -0.788188  0.600255 -0.340487 -0.406516  0.895298  \n",
       "displacement  -0.812281  0.648847 -0.360802 -0.446129  0.927360  \n",
       "horsepower    -0.770134  0.469633 -0.272716 -0.312205  0.853331  \n",
       "model_year_70 -0.184273  0.078622 -0.038021 -0.059328  0.078932  \n",
       "model_year_71 -0.114150  0.075924 -0.053653 -0.041627  0.075154  \n",
       "model_year_72 -0.151864  0.006423  0.008495 -0.015577  0.092304  \n",
       "model_year_73 -0.284022  0.079310  0.028261 -0.121464  0.166728  \n",
       "model_year_74 -0.003652 -0.056429  0.008495  0.059965 -0.031459  \n",
       "model_year_75 -0.128298  0.047426  0.020407 -0.075878  0.107288  \n",
       "model_year_76 -0.058603 -0.044576  0.110623 -0.048745  0.001672  \n",
       "model_year_77 -0.012480  0.049137 -0.063376 -0.000439  0.030551  \n",
       "model_year_78 -0.003413 -0.003713 -0.014355  0.017740 -0.020914  \n",
       "model_year_79  0.085537  0.057724  0.034107 -0.100926  0.006474  \n",
       "model_year_80  0.325584 -0.166177  0.081266  0.124563 -0.155318  \n",
       "model_year_81  0.247988 -0.078709 -0.048650  0.139601 -0.155166  \n",
       "model_year_82  0.339805 -0.054980 -0.094728  0.153700 -0.219344  \n",
       "mpg            1.000000 -0.554175  0.237829  0.446086 -0.838572  \n",
       "origin_1      -0.554175  1.000000 -0.584740 -0.661049  0.586193  \n",
       "origin_2       0.237829 -0.584740  1.000000 -0.222151 -0.271086  \n",
       "origin_3       0.446086 -0.661049 -0.222151  1.000000 -0.453808  \n",
       "weight        -0.838572  0.586193 -0.271086 -0.453808  1.000000  \n",
       "\n",
       "[22 rows x 22 columns]"
      ]
     },
     "execution_count": 104,
     "metadata": {},
     "output_type": "execute_result"
    }
   ],
   "source": [
    "X_train.corr()"
   ]
  },
  {
   "cell_type": "code",
   "execution_count": 90,
   "metadata": {},
   "outputs": [],
   "source": [
    "reg = LinearRegression().fit(X=X_train[['weight']], y=y_train)\n",
    "y_pred = reg.predict(X_test[['weight']])"
   ]
  },
  {
   "cell_type": "code",
   "execution_count": 91,
   "metadata": {},
   "outputs": [
    {
     "name": "stdout",
     "output_type": "stream",
     "text": [
      "w_0:  46.25404117214739\n",
      "w_1:  [-0.00770724]\n"
     ]
    }
   ],
   "source": [
    "# 아래와 같이 학습됨\n",
    "print('w_0: ', reg.intercept_)\n",
    "print('w_1: ', reg.coef_)"
   ]
  },
  {
   "cell_type": "code",
   "execution_count": 92,
   "metadata": {},
   "outputs": [
    {
     "name": "stdout",
     "output_type": "stream",
     "text": [
      "MAE:  3.405889347991331  R_squared:  0.6644440345914269\n"
     ]
    }
   ],
   "source": [
    "# 평가 결과\n",
    "print('MAE: ', mean_absolute_error(y_test, y_pred),' R_squared: ', r2_score(y_test, y_pred))"
   ]
  },
  {
   "cell_type": "code",
   "execution_count": 93,
   "metadata": {},
   "outputs": [
    {
     "data": {
      "image/png": "[encoded data removed]",
      "text/plain": [
       "<Figure size 640x480 with 1 Axes>"
      ]
     },
     "metadata": {},
     "output_type": "display_data"
    }
   ],
   "source": [
    "plt.plot(X_test['weight'], y_test, 'o')\n",
    "plt.plot(X_test['weight'], y_pred, 'r')\n",
    "plt.xlabel('weight')\n",
    "plt.ylabel('mpg')\n",
    "plt.show()"
   ]
  },
  {
   "attachments": {},
   "cell_type": "markdown",
   "metadata": {},
   "source": [
    "## 3.5 두개 이상의 변수를 사용하여 선형회귀 3.4보다 성능이 좋은 모델 만들기 \n",
    "- 성능이 좋은 기준: MAE가 더 작고 $R^2$가 더 큼\n",
    "- MAE와 $R^2$로 평가"
   ]
  },
  {
   "attachments": {},
   "cell_type": "markdown",
   "metadata": {},
   "source": [
    "['cylinders','displacement','horsepower'] False <br>\n",
    "['displacement','horsepower'] False  <br>"
   ]
  },
  {
   "cell_type": "code",
   "execution_count": 108,
   "metadata": {},
   "outputs": [],
   "source": [
    "reg = LinearRegression().fit(X=X_train[['horsepower','weight']], y=y_train)\n",
    "y_pred = reg.predict(X_test[['horsepower','weight']])"
   ]
  },
  {
   "cell_type": "code",
   "execution_count": 109,
   "metadata": {},
   "outputs": [
    {
     "name": "stdout",
     "output_type": "stream",
     "text": [
      "w_0:  45.84184795806567\n",
      "w_1:  [-0.04107628 -0.00613322]\n"
     ]
    }
   ],
   "source": [
    "# 모델 학습 결과\n",
    "print('w_0: ', reg.intercept_)\n",
    "print('w_1: ', reg.coef_)\n",
    "\n",
    "# w_0:  45.841847958065685\n",
    "# w_1:  [-0.04107628 -0.00613322]"
   ]
  },
  {
   "cell_type": "code",
   "execution_count": 110,
   "metadata": {},
   "outputs": [
    {
     "name": "stdout",
     "output_type": "stream",
     "text": [
      "MAE:  3.333009530460732  R_squared:  0.6834117333600404\n"
     ]
    }
   ],
   "source": [
    "# 3.4보다 성능이 좋은 모델이 나오기만 하면 됨\n",
    "print('MAE: ', mean_absolute_error(y_test, y_pred),' R_squared: ', r2_score(y_test, y_pred))\n",
    "# MAE:  3.3330095304607315  R_squared:  0.6834117333600405"
   ]
  },
  {
   "attachments": {},
   "cell_type": "markdown",
   "metadata": {},
   "source": [
    "----"
   ]
  }
 ],
 "metadata": {
  "kernelspec": {
   "display_name": "base",
   "language": "python",
   "name": "python3"
  },
  "language_info": {
   "codemirror_mode": {
    "name": "ipython",
    "version": 3
   },
   "file_extension": ".py",
   "mimetype": "text/x-python",
   "name": "python",
   "nbconvert_exporter": "python",
   "pygments_lexer": "ipython3",
   "version": "3.10.9"
  },
  "orig_nbformat": 4
 },
 "nbformat": 4,
 "nbformat_minor": 2
}
