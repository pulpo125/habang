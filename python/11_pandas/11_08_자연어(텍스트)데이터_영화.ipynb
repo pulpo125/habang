{
 "cells": [
  {
   "attachments": {},
   "cell_type": "markdown",
   "metadata": {},
   "source": [
    "### 자연어 데이터 넘파이 실습"
   ]
  },
  {
   "cell_type": "code",
   "execution_count": null,
   "metadata": {},
   "outputs": [],
   "source": [
    "# https://pypi.org/project/sentence-transformers/"
   ]
  },
  {
   "cell_type": "code",
   "execution_count": null,
   "metadata": {},
   "outputs": [],
   "source": [
    "from sentence_transformers import SentenceTransformer\n",
    "model =  SentenceTransformer('all-MiniLM-L6-v2')"
   ]
  },
  {
   "cell_type": "code",
   "execution_count": null,
   "metadata": {},
   "outputs": [],
   "source": [
    "sentence1 = \"나는 오늘 밖에서 산책을 하고 왔어요.\"\n",
    "sentence2 = \"나는 오늘 산책을 하러 밖으로 나갔다가 돌아왔어요.\"\n",
    "sentence3 = \"오늘 날씨가 좋아서 친구들과 축구를 하고 왔어요.\"\n",
    "sentences = [sentence1,sentence2,sentence3]"
   ]
  },
  {
   "cell_type": "code",
   "execution_count": null,
   "metadata": {},
   "outputs": [],
   "source": [
    "embeddings = model.encode(sentences) # encode: 문자열(텍스트) -> 숫자로 표현 (각 문장이 1차원 배열로 표현됨)\n",
    "embeddings.shape"
   ]
  },
  {
   "cell_type": "code",
   "execution_count": null,
   "metadata": {},
   "outputs": [],
   "source": [
    "type(embeddings)"
   ]
  },
  {
   "cell_type": "code",
   "execution_count": null,
   "metadata": {},
   "outputs": [],
   "source": [
    "# 첫번째 문장(나는 오늘 밖에서 ~~~)을 표현한 부분을 슬라이싱\n",
    "embeddings[0,:][:10] "
   ]
  },
  {
   "cell_type": "code",
   "execution_count": null,
   "metadata": {},
   "outputs": [],
   "source": [
    "# 두번째 문장\n",
    "embeddings[1,:][:10]"
   ]
  },
  {
   "cell_type": "code",
   "execution_count": null,
   "metadata": {},
   "outputs": [],
   "source": [
    "# 세번째 문장\n",
    "embeddings[2,:][:10]"
   ]
  },
  {
   "cell_type": "code",
   "execution_count": null,
   "metadata": {},
   "outputs": [],
   "source": [
    "# shape이 (384,) 1차원 -> 2차원 (1, 384)\n",
    "embeddings[0,:].shape "
   ]
  },
  {
   "cell_type": "code",
   "execution_count": null,
   "metadata": {},
   "outputs": [],
   "source": [
    "embeddings[0,:].reshape(1,-1).shape"
   ]
  },
  {
   "cell_type": "code",
   "execution_count": null,
   "metadata": {},
   "outputs": [],
   "source": [
    "from sklearn.metrics.pairwise import cosine_similarity"
   ]
  },
  {
   "cell_type": "code",
   "execution_count": null,
   "metadata": {},
   "outputs": [],
   "source": [
    "# 첫번째 문장과 두번째 문장의 거리(Cosine Similarity)\n",
    "cosine_similarity(embeddings[0,:].reshape(1,-1), \n",
    "                  embeddings[1,:].reshape(1,-1))"
   ]
  },
  {
   "cell_type": "code",
   "execution_count": null,
   "metadata": {},
   "outputs": [],
   "source": [
    "cosine_similarity([embeddings[0,:]], \n",
    "                  [embeddings[1,:],embeddings[2,:]])"
   ]
  },
  {
   "cell_type": "code",
   "execution_count": null,
   "metadata": {},
   "outputs": [],
   "source": [
    "sentence1 = \"나는 오늘 밖에서 산책을 하고 왔어요.\"\n",
    "sentence2 = \"나는 오늘 산책을 하러 밖으로 나갔다가 돌아왔어요.\"\n",
    "sentence3 = \"오늘 날씨가 좋아서 친구들과 축구를 하고 왔어요.\"\n",
    "sentence4 = '나는 오늘 친구들과 날씨가 좋아서 축구를 하다가 넘어졌다'\n",
    "sentences = [sentence1,sentence2,sentence3,sentence4]\n",
    "embeddings = model.encode(sentences)\n",
    "embeddings.shape"
   ]
  },
  {
   "cell_type": "code",
   "execution_count": null,
   "metadata": {},
   "outputs": [],
   "source": [
    "# 1번째 문장의 거리와 4번째 문장의 거리\n",
    "cosine_similarity([embeddings[3,:]], [embeddings[0,:]])"
   ]
  },
  {
   "cell_type": "code",
   "execution_count": null,
   "metadata": {},
   "outputs": [],
   "source": [
    "# 3번째 문장의 거리와 4번째 문장의 거리\n",
    "cosine_similarity([embeddings[3,:]], [embeddings[2,:]])"
   ]
  },
  {
   "cell_type": "code",
   "execution_count": null,
   "metadata": {},
   "outputs": [],
   "source": [
    "# 4번째 문장과, 1번째와 3번째 문장과의 거리를 한 번에 비교 \n",
    "cosine_similarity([embeddings[3,:]], [embeddings[0,:],embeddings[2,:]])"
   ]
  },
  {
   "cell_type": "code",
   "execution_count": null,
   "metadata": {},
   "outputs": [],
   "source": [
    "# 복습: 축(axis에 대한 참고)\n",
    "embeddings.shape"
   ]
  },
  {
   "cell_type": "code",
   "execution_count": null,
   "metadata": {},
   "outputs": [],
   "source": [
    "# 열(컬럼) 별로 평균 -> (,384) 1차원 배열\n",
    "embeddings.mean(axis=0).shape"
   ]
  },
  {
   "cell_type": "code",
   "execution_count": null,
   "metadata": {},
   "outputs": [],
   "source": [
    "# 행 별로 평균 -> (4,) 1차원 배열\n",
    "embeddings.mean(axis=1).shape"
   ]
  },
  {
   "attachments": {},
   "cell_type": "markdown",
   "metadata": {},
   "source": [
    "### 영화 데이터에 적용 (판다스 결합)"
   ]
  },
  {
   "cell_type": "code",
   "execution_count": null,
   "metadata": {},
   "outputs": [],
   "source": [
    "# 출처: https://github.com/e9t/nsmc\n",
    "import pandas as pd\n",
    "import numpy as np \n",
    "\n",
    "df = pd.read_csv('data/ratings_test.txt', sep='\\t')\n",
    "df.info()"
   ]
  },
  {
   "cell_type": "code",
   "execution_count": null,
   "metadata": {},
   "outputs": [],
   "source": [
    "df.head()"
   ]
  },
  {
   "attachments": {},
   "cell_type": "markdown",
   "metadata": {},
   "source": [
    "- 자연어 -> 숫자 representation"
   ]
  },
  {
   "attachments": {},
   "cell_type": "markdown",
   "metadata": {},
   "source": []
  }
 ],
 "metadata": {
  "language_info": {
   "name": "python"
  },
  "orig_nbformat": 4
 },
 "nbformat": 4,
 "nbformat_minor": 2
}
