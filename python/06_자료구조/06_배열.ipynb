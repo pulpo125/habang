{
 "cells": [
  {
   "cell_type": "code",
   "execution_count": 3,
   "metadata": {},
   "outputs": [],
   "source": [
    "# 2차원 배열\n",
    "my_array = [[1, 2, 3], [4, 5, 6],[7, 8, 9]]"
   ]
  },
  {
   "cell_type": "code",
   "execution_count": 4,
   "metadata": {},
   "outputs": [
    {
     "data": {
      "text/plain": [
       "2"
      ]
     },
     "execution_count": 4,
     "metadata": {},
     "output_type": "execute_result"
    }
   ],
   "source": [
    "# 정수형 배열\n",
    "my_array[0][1] # 정수형 반환"
   ]
  },
  {
   "cell_type": "code",
   "execution_count": 5,
   "metadata": {},
   "outputs": [],
   "source": [
    "# 문자열 배열\n",
    "my_array = ['123', '456', '789']"
   ]
  },
  {
   "cell_type": "code",
   "execution_count": 6,
   "metadata": {},
   "outputs": [
    {
     "data": {
      "text/plain": [
       "'2'"
      ]
     },
     "execution_count": 6,
     "metadata": {},
     "output_type": "execute_result"
    }
   ],
   "source": [
    "my_array[0][1] # 문자열 반환"
   ]
  },
  {
   "cell_type": "code",
   "execution_count": 12,
   "metadata": {},
   "outputs": [],
   "source": [
    "# 예제: 2 차원 배열에서 모든 요소에 1을 더하기\n",
    "my_array = [[1, 2, 3], [4, 5, 6],[7, 8, 9]]"
   ]
  },
  {
   "cell_type": "code",
   "execution_count": 13,
   "metadata": {},
   "outputs": [
    {
     "name": "stdout",
     "output_type": "stream",
     "text": [
      "[[2, 3, 4], [5, 6, 7], [8, 9, 10]]\n"
     ]
    }
   ],
   "source": [
    "for i in range(len(my_array)): # 3 번 행을 돈다.\n",
    "    for j in range(len(my_array[i])):\n",
    "        # print(i, j)\n",
    "        my_array[i][j] += 1 \n",
    "\n",
    "print(my_array)\n"
   ]
  },
  {
   "cell_type": "code",
   "execution_count": 14,
   "metadata": {},
   "outputs": [],
   "source": [
    "# 문제: 2 차원 배열에서 모든 원소의 합 구하기\n",
    "my_array = [[1, 2, 3], [4, 5, 6],[7, 8, 9]]"
   ]
  },
  {
   "cell_type": "code",
   "execution_count": 24,
   "metadata": {},
   "outputs": [],
   "source": [
    "def solve(array):\n",
    "    total_sum = 0\n",
    "    for i in range(len(array)):\n",
    "        for j in range(len(array[i])):\n",
    "            total_sum += array[i][j]\n",
    "    return total_sum"
   ]
  },
  {
   "cell_type": "code",
   "execution_count": 25,
   "metadata": {},
   "outputs": [
    {
     "data": {
      "text/plain": [
       "45"
      ]
     },
     "execution_count": 25,
     "metadata": {},
     "output_type": "execute_result"
    }
   ],
   "source": [
    "solve(my_array)"
   ]
  },
  {
   "cell_type": "code",
   "execution_count": 51,
   "metadata": {},
   "outputs": [],
   "source": [
    "# 예제: 2 차원 배열에서 특정 값 위치 찾기\n",
    "my_array = [[1, 2, 3], [4, 5, 6],[7, 8, 9]]\n",
    "search_value = 7 # 7 => (2, 0) 위치에 있음"
   ]
  },
  {
   "cell_type": "code",
   "execution_count": 52,
   "metadata": {},
   "outputs": [
    {
     "name": "stdout",
     "output_type": "stream",
     "text": [
      "7은 (2, 0)에 위치해 있음\n"
     ]
    }
   ],
   "source": [
    "for i in range(len(my_array)):\n",
    "        for j in range(len(my_array[i])):\n",
    "            if my_array[i][j] == search_value:\n",
    "                  print(f'{search_value}은 ({i}, {j})에 위치해 있음')"
   ]
  },
  {
   "cell_type": "code",
   "execution_count": 53,
   "metadata": {},
   "outputs": [],
   "source": [
    "# 문제 2: 각 행의 합 구하기\n",
    "given_array1 = [[1, 2, 3], [4, 5, 6], [7, 8, 9]]\n",
    "given_array2 = [[1, 2],[3, 4],[5, 6],[7, 8],[9, 10]]"
   ]
  },
  {
   "cell_type": "code",
   "execution_count": 49,
   "metadata": {},
   "outputs": [],
   "source": [
    "def solve(given_array):\n",
    "    sum_list = []\n",
    "    for i in range(len(given_array)):\n",
    "        row_sum = 0\n",
    "        for j in range(len(given_array[i])):\n",
    "            row_sum += given_array[i][j]\n",
    "        sum_list.append(sum(given_array[i]))\n",
    "    return sum_list"
   ]
  },
  {
   "cell_type": "code",
   "execution_count": 45,
   "metadata": {},
   "outputs": [],
   "source": [
    "def solve(given_array):\n",
    "    result_list = []\n",
    "    for i in range(len(given_array)):\n",
    "        sum_value = sum(given_array[i])\n",
    "        result_list.append(sum(given_array[i]))\n",
    "    return result_list"
   ]
  },
  {
   "cell_type": "code",
   "execution_count": 50,
   "metadata": {},
   "outputs": [],
   "source": [
    "assert solve(given_array1) == [6, 15, 24]\n",
    "assert solve(given_array2) == [3, 7, 11, 15, 19]"
   ]
  },
  {
   "cell_type": "code",
   "execution_count": null,
   "metadata": {},
   "outputs": [],
   "source": []
  },
  {
   "cell_type": "code",
   "execution_count": 61,
   "metadata": {},
   "outputs": [
    {
     "name": "stdout",
     "output_type": "stream",
     "text": [
      "7 35\n"
     ]
    }
   ],
   "source": [
    "# 백준 10818번: 최소, 최대\n",
    "n = int(input())\n",
    "n_list = list(map(int, input().split()))\n",
    "print(min(n_list), max(n_list))"
   ]
  },
  {
   "cell_type": "code",
   "execution_count": 62,
   "metadata": {},
   "outputs": [
    {
     "data": {
      "text/plain": [
       "[20, 10, 35, 30, 7]"
      ]
     },
     "execution_count": 62,
     "metadata": {},
     "output_type": "execute_result"
    }
   ],
   "source": [
    "n_list"
   ]
  },
  {
   "cell_type": "code",
   "execution_count": 72,
   "metadata": {},
   "outputs": [
    {
     "name": "stdout",
     "output_type": "stream",
     "text": [
      "3 19\n"
     ]
    }
   ],
   "source": [
    "# 백준 2953번: 나는 요리사다\n",
    "score_array = []\n",
    "for i in range(5):\n",
    "    score_list = list(map(int, input().split()))\n",
    "    score_array.append(score_list)\n",
    "\n",
    "result_list = []\n",
    "for i in range(len(score_array)):\n",
    "    sum_value = sum(score_array[i])\n",
    "    result_list.append(sum(score_array[i]))\n",
    "\n",
    "print(result_list.index(max(result_list))+1, max(result_list))"
   ]
  }
 ],
 "metadata": {
  "kernelspec": {
   "display_name": "base",
   "language": "python",
   "name": "python3"
  },
  "language_info": {
   "codemirror_mode": {
    "name": "ipython",
    "version": 3
   },
   "file_extension": ".py",
   "mimetype": "text/x-python",
   "name": "python",
   "nbconvert_exporter": "python",
   "pygments_lexer": "ipython3",
   "version": "3.10.9"
  },
  "orig_nbformat": 4
 },
 "nbformat": 4,
 "nbformat_minor": 2
}
