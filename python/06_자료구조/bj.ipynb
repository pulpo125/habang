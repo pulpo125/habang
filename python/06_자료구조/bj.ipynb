{
 "cells": [
  {
   "cell_type": "code",
   "execution_count": 26,
   "metadata": {},
   "outputs": [
    {
     "name": "stdout",
     "output_type": "stream",
     "text": [
      "1\n",
      "2\n",
      "5\n"
     ]
    }
   ],
   "source": [
    "# 1966: 프린터 큐\n",
    "\n",
    "test_case = int(input()) # 테스트 케이스 수\n",
    "\n",
    "priority_list = []\n",
    "# 테스트 케이스 수 만큼 input 받음\n",
    "for _ in range(test_case):\n",
    "    n, m = list(map(int, input().split())) # n: 문서의 개수 / m: 찾는 문서 위치\n",
    "    priority_list = list(map(int, input().split())) # 문서의 중요도\n",
    "    index_priority_arr = list(enumerate(priority_list)) #[(index, priority)]\n",
    "\n",
    "    my_doc = index_priority_arr[m] # 찾는 문서\n",
    "    cnt = 0 # 몇 번째 출력되는지 (결과값)\n",
    "    while index_priority_arr:\n",
    "        max_value = max([i[1] for i in index_priority_arr])\n",
    "\n",
    "        # 맨 앞 문서의 중요도가 최댓값이랑 같으면 출력\n",
    "        if index_priority_arr[0][1] == max_value:\n",
    "            curr_doc = index_priority_arr.pop(0)\n",
    "            cnt += 1\n",
    "\n",
    "            # 현재 출력한 문서가 내가 찾는 문서이면 cnt 출력 후 종료\n",
    "            if curr_doc == my_doc:\n",
    "                print(cnt)\n",
    "                break\n",
    "        \n",
    "        # 맨 앞의 문서의 중요도가 최댓값보다 작으면 뒤로 추가\n",
    "        else:\n",
    "            curr_doc = index_priority_arr.pop(0)\n",
    "            index_priority_arr.append(curr_doc)\n"
   ]
  },
  {
   "cell_type": "code",
   "execution_count": 1,
   "metadata": {},
   "outputs": [
    {
     "data": {
      "text/plain": [
       "10"
      ]
     },
     "execution_count": 1,
     "metadata": {},
     "output_type": "execute_result"
    }
   ],
   "source": [
    "# 10799 쇠막대기\n",
    "total = 0\n",
    "total += len([1, 2, 3]) * 2 \n",
    "total += len([1, 2, 3])\n",
    "# len([0, 1])\n",
    "total += len([1, 2]) + len([4]) * 2\n",
    "# len([0, 1])\n",
    "total += len([1, 2])\n",
    "# len([])\n",
    "total += len([5]) * 2\n"
   ]
  },
  {
   "cell_type": "code",
   "execution_count": 46,
   "metadata": {},
   "outputs": [
    {
     "name": "stdout",
     "output_type": "stream",
     "text": [
      "10\n",
      "4\n",
      "21\n",
      "2\n",
      "1\n"
     ]
    }
   ],
   "source": [
    "# 10869\n",
    "a, b = list(map(int, input().split()))\n",
    "print(a+b)\n",
    "print(a-b)\n",
    "print(a*b)\n",
    "print(a//b)\n",
    "print(a%b)"
   ]
  },
  {
   "cell_type": "code",
   "execution_count": 48,
   "metadata": {},
   "outputs": [
    {
     "name": "stdout",
     "output_type": "stream",
     "text": [
      "848\n"
     ]
    }
   ],
   "source": [
    "## 5543\n",
    "# 세트면 합계 - 50\n",
    "b_list = []\n",
    "d_list = []\n",
    "for i in range(5):\n",
    "    input_menu = int(input())\n",
    "    if i < 3:\n",
    "        b_list.append(input_menu)\n",
    "    else:\n",
    "        d_list.append(input_menu)\n",
    "\n",
    "print(min(b_list) + min(d_list) - 50)"
   ]
  },
  {
   "cell_type": "code",
   "execution_count": 50,
   "metadata": {},
   "outputs": [
    {
     "data": {
      "text/plain": [
       "[800, 700, 900, 198]"
      ]
     },
     "execution_count": 50,
     "metadata": {},
     "output_type": "execute_result"
    }
   ],
   "source": [
    "# 11720\n",
    "n = int(input()) # 문자의 개수\n",
    "nums = input()\n",
    "print(eval('+'.join(nums)))"
   ]
  },
  {
   "cell_type": "code",
   "execution_count": 61,
   "metadata": {},
   "outputs": [
    {
     "name": "stdout",
     "output_type": "stream",
     "text": [
      "75.0\n"
     ]
    }
   ],
   "source": [
    "# 1546: 평균\n",
    "# m 최댓값\n",
    "# 총 점수 / m * 100\n",
    "\n",
    "n = int(input()) # 과목의 개수\n",
    "\n",
    "grade_list = list(map(int, input().split()))\n",
    "max_val = max(grade_list)\n",
    "\n",
    "new_list = []\n",
    "for i in range(n):\n",
    "    new_list.append(grade_list[i] / max_val * 100)\n",
    "\n",
    "print(sum(new_list)/len(new_list))\n"
   ]
  },
  {
   "cell_type": "code",
   "execution_count": 89,
   "metadata": {},
   "outputs": [
    {
     "name": "stdout",
     "output_type": "stream",
     "text": [
      "12\n",
      "9\n",
      "1\n"
     ]
    }
   ],
   "source": [
    "# 11659\n",
    "n, m = list(map(int, input().split()))\n",
    "nums = list(input().split())\n",
    "\n",
    "for _ in range(m):\n",
    "    i, j = list(map(int, input().split()))\n",
    "    result = '+'.join(nums[i-1:j])\n",
    "    print(eval(result))"
   ]
  },
  {
   "cell_type": "code",
   "execution_count": 14,
   "metadata": {},
   "outputs": [
    {
     "name": "stdout",
     "output_type": "stream",
     "text": [
      "[0, 5, 9, 12, 14, 15]\n",
      "12\n",
      "9\n",
      "1\n"
     ]
    }
   ],
   "source": [
    "import sys\n",
    "# input = sys.stdin.readline\n",
    "n, m = map(int, input().split())\n",
    "nums_list = list(map(int, input().split()))\n",
    "sum_list = [0] # 인덱스 초기값 설정\n",
    " \n",
    "sum = 0    \n",
    "for num in nums_list:   \n",
    "    sum += num\n",
    "    sum_list.append(sum)\n",
    "\n",
    "#print(sum_list)\n",
    " \n",
    "for k in range(m):\n",
    "    i, j = map(int, input().split())\n",
    "    print(sum_list[j] - sum_list[i-1])\n"
   ]
  },
  {
   "cell_type": "code",
   "execution_count": null,
   "metadata": {},
   "outputs": [],
   "source": [
    "#~실버4: ok"
   ]
  },
  {
   "cell_type": "code",
   "execution_count": null,
   "metadata": {},
   "outputs": [],
   "source": []
  }
 ],
 "metadata": {
  "kernelspec": {
   "display_name": "base",
   "language": "python",
   "name": "python3"
  },
  "language_info": {
   "codemirror_mode": {
    "name": "ipython",
    "version": 3
   },
   "file_extension": ".py",
   "mimetype": "text/x-python",
   "name": "python",
   "nbconvert_exporter": "python",
   "pygments_lexer": "ipython3",
   "version": "3.10.9"
  },
  "orig_nbformat": 4
 },
 "nbformat": 4,
 "nbformat_minor": 2
}
