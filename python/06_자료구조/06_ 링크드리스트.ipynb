{
 "cells": [
  {
   "cell_type": "code",
   "execution_count": 22,
   "metadata": {},
   "outputs": [],
   "source": [
    "class Node:\n",
    "    def __init__(self, data):\n",
    "        self.data = data\n",
    "        self.next = None"
   ]
  },
  {
   "cell_type": "code",
   "execution_count": 23,
   "metadata": {},
   "outputs": [],
   "source": [
    "class LinkedList:\n",
    "    def __init__(self):\n",
    "        self.head = None"
   ]
  },
  {
   "cell_type": "code",
   "execution_count": 24,
   "metadata": {},
   "outputs": [],
   "source": [
    "# 끝에 데이터 추가\n",
    "def insert_at_end(linked_list, data):\n",
    "    if not linked_list.head:\n",
    "        linked_list.head = Node(data)\n",
    "        return\n",
    "    \n",
    "    curr = linked_list.head # current\n",
    "    while curr.next:\n",
    "        curr = curr.next\n",
    "    curr.next = Node(data)\n"
   ]
  },
  {
   "cell_type": "code",
   "execution_count": 25,
   "metadata": {},
   "outputs": [],
   "source": [
    "linked_list = LinkedList()"
   ]
  },
  {
   "cell_type": "code",
   "execution_count": 26,
   "metadata": {},
   "outputs": [],
   "source": [
    "insert_at_end(linked_list,1)\n",
    "insert_at_end(linked_list,2)\n",
    "insert_at_end(linked_list,3)"
   ]
  },
  {
   "cell_type": "code",
   "execution_count": 27,
   "metadata": {},
   "outputs": [
    {
     "data": {
      "text/plain": [
       "(1, <__main__.Node at 0x1ed1cd5d810>)"
      ]
     },
     "execution_count": 27,
     "metadata": {},
     "output_type": "execute_result"
    }
   ],
   "source": [
    "linked_list.head.data, linked_list.head.next"
   ]
  },
  {
   "cell_type": "code",
   "execution_count": 28,
   "metadata": {},
   "outputs": [
    {
     "data": {
      "text/plain": [
       "(2, <__main__.Node at 0x1ed1cd1c040>)"
      ]
     },
     "execution_count": 28,
     "metadata": {},
     "output_type": "execute_result"
    }
   ],
   "source": [
    "linked_list.head.next.data, linked_list.head.next.next"
   ]
  },
  {
   "cell_type": "code",
   "execution_count": 29,
   "metadata": {},
   "outputs": [],
   "source": [
    "#  출력하기\n",
    "def print_linked_list(linked_list):\n",
    "    curr = linked_list.head\n",
    "    while curr:\n",
    "        print(curr.data, end=' ')\n",
    "        curr = curr.next\n",
    "    print()"
   ]
  },
  {
   "cell_type": "code",
   "execution_count": 30,
   "metadata": {},
   "outputs": [
    {
     "name": "stdout",
     "output_type": "stream",
     "text": [
      "1 2 3 \n"
     ]
    }
   ],
   "source": [
    "print_linked_list(linked_list)"
   ]
  },
  {
   "cell_type": "code",
   "execution_count": 31,
   "metadata": {},
   "outputs": [
    {
     "name": "stdout",
     "output_type": "stream",
     "text": [
      "1 2 3 4 \n"
     ]
    }
   ],
   "source": [
    "insert_at_end(linked_list, 4)\n",
    "print_linked_list(linked_list)"
   ]
  },
  {
   "cell_type": "code",
   "execution_count": 32,
   "metadata": {},
   "outputs": [],
   "source": [
    "# 중간에 데이터 추가\n",
    "def insert_after_item(linked_list, item, data):\n",
    "    curr = linked_list.head\n",
    "    while curr:\n",
    "        if curr.data == item:\n",
    "            break\n",
    "        curr = curr.next\n",
    "\n",
    "    if not curr:\n",
    "        print(f'{item}이 존재하지 않습니다.')\n",
    "        return\n",
    "\n",
    "    new_node = Node(data)\n",
    "    new_node.next = curr.next # 연결 관계 추가\n",
    "    curr.next = new_node # 연결 관계 변경"
   ]
  },
  {
   "cell_type": "code",
   "execution_count": 34,
   "metadata": {},
   "outputs": [],
   "source": [
    "insert_after_item(linked_list, 2, 2.5)"
   ]
  },
  {
   "cell_type": "code",
   "execution_count": 35,
   "metadata": {},
   "outputs": [
    {
     "name": "stdout",
     "output_type": "stream",
     "text": [
      "1 2 2.5 3 4 \n"
     ]
    }
   ],
   "source": [
    "print_linked_list(linked_list)"
   ]
  },
  {
   "cell_type": "code",
   "execution_count": 36,
   "metadata": {},
   "outputs": [
    {
     "name": "stdout",
     "output_type": "stream",
     "text": [
      "5이 존재하지 않습니다.\n"
     ]
    }
   ],
   "source": [
    "insert_after_item(linked_list, 5, 5.5)"
   ]
  },
  {
   "cell_type": "code",
   "execution_count": 37,
   "metadata": {},
   "outputs": [],
   "source": [
    "# 특정 값 삭제\n",
    "\n",
    "def delete_item_by_value(linked_list, item):\n",
    "    if item == linked_list.head.data:\n",
    "        linked_list.head = linked_list.head.next\n",
    "        return\n",
    "    \n",
    "    curr = linked_list.head\n",
    "    \n",
    "    # while에 지금 위치(curr)가 아니라 넥스트(next)를 사용\n",
    "    while curr.next:\n",
    "        if curr.next.data == item:\n",
    "            break\n",
    "        curr = curr.next\n",
    "\n",
    "    if not curr.next:\n",
    "        print(f'{item}이 존재하지 않음')\n",
    "        return\n",
    "    \n",
    "    curr.next = curr.next.next\n"
   ]
  },
  {
   "cell_type": "code",
   "execution_count": 38,
   "metadata": {},
   "outputs": [],
   "source": [
    "delete_item_by_value(linked_list, 3)"
   ]
  },
  {
   "cell_type": "code",
   "execution_count": 39,
   "metadata": {},
   "outputs": [
    {
     "name": "stdout",
     "output_type": "stream",
     "text": [
      "1 2 2.5 4 \n"
     ]
    }
   ],
   "source": [
    "print_linked_list(linked_list)"
   ]
  }
 ],
 "metadata": {
  "kernelspec": {
   "display_name": "base",
   "language": "python",
   "name": "python3"
  },
  "language_info": {
   "codemirror_mode": {
    "name": "ipython",
    "version": 3
   },
   "file_extension": ".py",
   "mimetype": "text/x-python",
   "name": "python",
   "nbconvert_exporter": "python",
   "pygments_lexer": "ipython3",
   "version": "3.10.9"
  },
  "orig_nbformat": 4
 },
 "nbformat": 4,
 "nbformat_minor": 2
}
