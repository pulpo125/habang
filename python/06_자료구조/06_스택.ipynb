{
 "cells": [
  {
   "cell_type": "code",
   "execution_count": 1,
   "metadata": {},
   "outputs": [],
   "source": [
    "# deque 활용\n",
    "from collections import deque\n",
    "stack = deque()\n",
    "stack.append(1)\n",
    "stack.append(2)\n",
    "stack.append(3)"
   ]
  },
  {
   "cell_type": "code",
   "execution_count": 2,
   "metadata": {},
   "outputs": [
    {
     "data": {
      "text/plain": [
       "3"
      ]
     },
     "execution_count": 2,
     "metadata": {},
     "output_type": "execute_result"
    }
   ],
   "source": [
    "stack[-1]"
   ]
  },
  {
   "cell_type": "code",
   "execution_count": 3,
   "metadata": {},
   "outputs": [
    {
     "data": {
      "text/plain": [
       "3"
      ]
     },
     "execution_count": 3,
     "metadata": {},
     "output_type": "execute_result"
    }
   ],
   "source": [
    "stack.pop()"
   ]
  },
  {
   "cell_type": "code",
   "execution_count": 4,
   "metadata": {},
   "outputs": [
    {
     "data": {
      "text/plain": [
       "2"
      ]
     },
     "execution_count": 4,
     "metadata": {},
     "output_type": "execute_result"
    }
   ],
   "source": [
    "stack[-1]"
   ]
  },
  {
   "cell_type": "code",
   "execution_count": 1,
   "metadata": {},
   "outputs": [
    {
     "name": "stdout",
     "output_type": "stream",
     "text": [
      "5\n",
      "4\n",
      "3\n",
      "2\n",
      "1\n",
      "1 함수 호출 종료\n",
      "2 함수 호출 종료\n",
      "3 함수 호출 종료\n",
      "4 함수 호출 종료\n",
      "5 함수 호출 종료\n"
     ]
    }
   ],
   "source": [
    "# 스택 활용 예시: 함수 호출\n",
    "def print_numbers(n):\n",
    "    if n == 0:\n",
    "        return\n",
    "    print(n)\n",
    "    print_numbers(n-1)\n",
    "    print(n, '함수 호출 종료')\n",
    "\n",
    "print_numbers(5)"
   ]
  },
  {
   "cell_type": "code",
   "execution_count": null,
   "metadata": {},
   "outputs": [],
   "source": [
    "# print_numbers(5) -> 스택: [print_numbers(5)]\n",
    "# print_numbers(4) -> 스택: [print_numbers(5), print_numbers(4)]\n",
    "# print_numbers(3) -> 스택: [print_numbers(5), print_numbers(4), print_numbers(3)]\n",
    "# print_numbers(2) -> 스택: [print_numbers(5), print_numbers(4), print_numbers(3), print_numbers(2)]\n",
    "# print_numbers(1) -> 스택: [print_numbers(5), print_numbers(4), print_numbers(3), print_numbers(2), print_numbers(1)]"
   ]
  },
  {
   "cell_type": "code",
   "execution_count": 57,
   "metadata": {},
   "outputs": [],
   "source": [
    "# 백준: 9012\n",
    "ps = '()()()()(()()())()'\n",
    "ps_list = list(ps)"
   ]
  },
  {
   "cell_type": "code",
   "execution_count": 58,
   "metadata": {},
   "outputs": [
    {
     "name": "stdout",
     "output_type": "stream",
     "text": [
      "YES\n"
     ]
    }
   ],
   "source": [
    "stack_list = []\n",
    "\n",
    "result = None\n",
    "for i in range(len(ps_list)):\n",
    "    if len(stack_list) == 0:\n",
    "        if ')' == ps_list[i]:\n",
    "            result = 'NO'\n",
    "            break\n",
    "    \n",
    "    if '(' == ps_list[i]:\n",
    "        stack_list.append(ps_list[i])\n",
    "    elif ')' == ps_list[i]:\n",
    "        stack_list.pop()\n",
    "\n",
    "    if len(stack_list) == 0:\n",
    "        result = 'YES'\n",
    "    else:\n",
    "        result = 'NO'\n",
    "\n",
    "print(result)"
   ]
  },
  {
   "cell_type": "code",
   "execution_count": 66,
   "metadata": {},
   "outputs": [
    {
     "name": "stdout",
     "output_type": "stream",
     "text": [
      "NO\n",
      "NO\n",
      "NO\n"
     ]
    }
   ],
   "source": [
    "n = int(input())\n",
    "\n",
    "for _ in range(n):\n",
    "    ps = input()\n",
    "    ps_list = list(ps)\n",
    "\n",
    "    stack_list = []\n",
    "    result = None\n",
    "\n",
    "    for i in range(len(ps_list)):\n",
    "        if len(stack_list) == 0:\n",
    "            if ')' == ps_list[i]:\n",
    "                result = 'NO'\n",
    "                break\n",
    "    \n",
    "        if '(' == ps_list[i]:\n",
    "            stack_list.append(ps_list[i])\n",
    "        elif ')' == ps_list[i]:\n",
    "            stack_list.pop()\n",
    "\n",
    "        if len(stack_list) == 0:\n",
    "            result = 'YES'\n",
    "        else:\n",
    "            result = 'NO'\n",
    "        \n",
    "    print(result)\n"
   ]
  },
  {
   "cell_type": "code",
   "execution_count": null,
   "metadata": {},
   "outputs": [],
   "source": [
    "n = int(input())\n",
    "\n",
    "for _ in range(n):\n",
    "    ps = input()\n",
    "\n",
    "    stack_list = []\n",
    "    result = None\n",
    "\n",
    "    for i in range(len(ps)):\n",
    "        if len(stack_list) == 0:\n",
    "            if ')' == ps[i]:\n",
    "                result = 'NO'\n",
    "                break\n",
    "    \n",
    "        if '(' == ps[i]:\n",
    "            stack_list.append(ps[i])\n",
    "        elif ')' == ps[i]:\n",
    "            stack_list.pop()\n",
    "\n",
    "        if len(stack_list) == 0:\n",
    "            result = 'YES'\n",
    "        else:\n",
    "            result = 'NO'\n",
    "        \n",
    "    print(result)"
   ]
  },
  {
   "cell_type": "code",
   "execution_count": 69,
   "metadata": {},
   "outputs": [],
   "source": [
    "input_str = '(())())'"
   ]
  },
  {
   "cell_type": "code",
   "execution_count": 72,
   "metadata": {},
   "outputs": [
    {
     "name": "stdout",
     "output_type": "stream",
     "text": [
      "[]\n",
      "0\n",
      "NO\n"
     ]
    }
   ],
   "source": [
    "from collections import deque\n",
    "result = None\n",
    "stack = []\n",
    "for i in range(len(input_str)) :\n",
    "    if input_str[i] == \"(\" :\n",
    "        stack.append(\"(\")\n",
    "    else :\n",
    "        if \"(\" not in stack :\n",
    "            result = \"NO\"\n",
    "            break\n",
    "        else : stack.pop()\n",
    "\n",
    "    if len(stack) == 0 : result = \"Yes\"\n",
    "    else : result = \"No\"\n",
    "    \n",
    "print(stack)\n",
    "print(len(stack))\n",
    "print(result)"
   ]
  },
  {
   "cell_type": "code",
   "execution_count": 74,
   "metadata": {},
   "outputs": [
    {
     "data": {
      "text/plain": [
       "6"
      ]
     },
     "execution_count": 74,
     "metadata": {},
     "output_type": "execute_result"
    }
   ],
   "source": [
    "# 백준 1152\n",
    "words = 'The first character is a blank'\n",
    "len(list(words.split()))"
   ]
  },
  {
   "cell_type": "code",
   "execution_count": null,
   "metadata": {},
   "outputs": [],
   "source": []
  }
 ],
 "metadata": {
  "kernelspec": {
   "display_name": "base",
   "language": "python",
   "name": "python3"
  },
  "language_info": {
   "codemirror_mode": {
    "name": "ipython",
    "version": 3
   },
   "file_extension": ".py",
   "mimetype": "text/x-python",
   "name": "python",
   "nbconvert_exporter": "python",
   "pygments_lexer": "ipython3",
   "version": "3.10.9"
  },
  "orig_nbformat": 4
 },
 "nbformat": 4,
 "nbformat_minor": 2
}
