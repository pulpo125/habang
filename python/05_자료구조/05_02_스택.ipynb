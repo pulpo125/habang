{
 "cells": [
  {
   "cell_type": "code",
   "execution_count": 1,
   "metadata": {},
   "outputs": [],
   "source": [
    "# deque 활용\n",
    "from collections import deque\n",
    "stack = deque()\n",
    "stack.append(1)\n",
    "stack.append(2)\n",
    "stack.append(3)"
   ]
  },
  {
   "cell_type": "code",
   "execution_count": 2,
   "metadata": {},
   "outputs": [
    {
     "data": {
      "text/plain": [
       "3"
      ]
     },
     "execution_count": 2,
     "metadata": {},
     "output_type": "execute_result"
    }
   ],
   "source": [
    "stack[-1]"
   ]
  },
  {
   "cell_type": "code",
   "execution_count": 3,
   "metadata": {},
   "outputs": [
    {
     "data": {
      "text/plain": [
       "3"
      ]
     },
     "execution_count": 3,
     "metadata": {},
     "output_type": "execute_result"
    }
   ],
   "source": [
    "stack.pop()"
   ]
  },
  {
   "cell_type": "code",
   "execution_count": 4,
   "metadata": {},
   "outputs": [
    {
     "data": {
      "text/plain": [
       "2"
      ]
     },
     "execution_count": 4,
     "metadata": {},
     "output_type": "execute_result"
    }
   ],
   "source": [
    "stack[-1]"
   ]
  },
  {
   "cell_type": "code",
   "execution_count": 1,
   "metadata": {},
   "outputs": [
    {
     "name": "stdout",
     "output_type": "stream",
     "text": [
      "1 함수 호출 종료\n",
      "2 함수 호출 종료\n",
      "3 함수 호출 종료\n",
      "4 함수 호출 종료\n",
      "5 함수 호출 종료\n"
     ]
    }
   ],
   "source": [
    "# 스택 활용 예시: 함수 호출\n",
    "def print_numbers(n):\n",
    "    if n == 0:\n",
    "        return\n",
    "    # print(n)\n",
    "    print_numbers(n-1)\n",
    "    print(n, '함수 호출 종료')\n",
    "\n",
    "print_numbers(5)"
   ]
  },
  {
   "cell_type": "code",
   "execution_count": null,
   "metadata": {},
   "outputs": [],
   "source": [
    "# print_numbers(5) -> 스택: [print_numbers(5)]\n",
    "# print_numbers(4) -> 스택: [print_numbers(5), print_numbers(4)]\n",
    "# print_numbers(3) -> 스택: [print_numbers(5), print_numbers(4), print_numbers(3)]\n",
    "# print_numbers(2) -> 스택: [print_numbers(5), print_numbers(4), print_numbers(3), print_numbers(2)]\n",
    "# print_numbers(1) -> 스택: [print_numbers(5), print_numbers(4), print_numbers(3), print_numbers(2), print_numbers(1)]"
   ]
  },
  {
   "cell_type": "markdown",
   "metadata": {},
   "source": []
  }
 ],
 "metadata": {
  "kernelspec": {
   "display_name": "base",
   "language": "python",
   "name": "python3"
  },
  "language_info": {
   "codemirror_mode": {
    "name": "ipython",
    "version": 3
   },
   "file_extension": ".py",
   "mimetype": "text/x-python",
   "name": "python",
   "nbconvert_exporter": "python",
   "pygments_lexer": "ipython3",
   "version": "3.10.9"
  },
  "orig_nbformat": 4
 },
 "nbformat": 4,
 "nbformat_minor": 2
}
