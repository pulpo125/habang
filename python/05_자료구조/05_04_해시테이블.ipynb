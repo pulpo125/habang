{
 "cells": [
  {
   "cell_type": "code",
   "execution_count": 1,
   "metadata": {},
   "outputs": [
    {
     "data": {
      "text/plain": [
       "[0, 0, 0, 0, 0, 0, 0, 0, 0, 0]"
      ]
     },
     "execution_count": 1,
     "metadata": {},
     "output_type": "execute_result"
    }
   ],
   "source": [
    "# 해시 테이블\n",
    "## 단순한 형태의 해시 테이블\n",
    "\n",
    "size = 10\n",
    "table = [0 for _ in range(size)]\n",
    "table"
   ]
  },
  {
   "cell_type": "code",
   "execution_count": 4,
   "metadata": {},
   "outputs": [],
   "source": [
    "# key -> 인덱스 (해시 함수)\n",
    "def hash_function(key):\n",
    "    return key % size\n",
    "\n",
    "def insert(key, value):\n",
    "    hash_key = hash_function(key) # hash_key는 해시테이블의 index\n",
    "    table[hash_key] = value\n",
    "\n",
    "def search(key):\n",
    "    hash_key = hash_function(key)\n",
    "    return table[hash_key]"
   ]
  },
  {
   "cell_type": "code",
   "execution_count": 5,
   "metadata": {},
   "outputs": [],
   "source": [
    "insert(11, 'one') # 11이 key이고, 'one'이 value\n",
    "insert(23, 'three')\n",
    "insert(37, 'seven')"
   ]
  },
  {
   "cell_type": "code",
   "execution_count": 6,
   "metadata": {},
   "outputs": [
    {
     "data": {
      "text/plain": [
       "[0, 'one', 0, 'three', 0, 0, 0, 'seven', 0, 0]"
      ]
     },
     "execution_count": 6,
     "metadata": {},
     "output_type": "execute_result"
    }
   ],
   "source": [
    "table"
   ]
  },
  {
   "cell_type": "code",
   "execution_count": 7,
   "metadata": {},
   "outputs": [
    {
     "data": {
      "text/plain": [
       "'one'"
      ]
     },
     "execution_count": 7,
     "metadata": {},
     "output_type": "execute_result"
    }
   ],
   "source": [
    "search(11)"
   ]
  },
  {
   "cell_type": "code",
   "execution_count": 8,
   "metadata": {},
   "outputs": [
    {
     "data": {
      "text/plain": [
       "'one'"
      ]
     },
     "execution_count": 8,
     "metadata": {},
     "output_type": "execute_result"
    }
   ],
   "source": [
    "search(21)"
   ]
  },
  {
   "cell_type": "code",
   "execution_count": 9,
   "metadata": {},
   "outputs": [
    {
     "data": {
      "text/plain": [
       "[0, 'twenty-one', 0, 'three', 0, 0, 0, 'seven', 0, 0]"
      ]
     },
     "execution_count": 9,
     "metadata": {},
     "output_type": "execute_result"
    }
   ],
   "source": [
    "insert(21, 'twenty-one')\n",
    "table"
   ]
  },
  {
   "cell_type": "code",
   "execution_count": 10,
   "metadata": {},
   "outputs": [],
   "source": [
    "# 충돌 해결\n",
    "size = 10\n",
    "table = [[] for _ in range(size)] # 0을 []로 수정\n",
    "\n",
    "# key -> 인덱스 (해시 함수)\n",
    "def hash_function(key):\n",
    "    return key % size\n",
    "\n",
    "def insert(key, value):\n",
    "    hash_key = hash_function(key) # hash_key는 해시테이블의 index\n",
    "    bucket = table[hash_key] # bucket은 해시값이 있는 위치에 리스트\n",
    "\n",
    "    for i, (k, v) in enumerate(bucket): # (k, v) -> [(1, 'one'), (21, 'twenty-one')]\n",
    "        if k == key:\n",
    "            bucket[i] = (key, value)\n",
    "\n",
    "    bucket.append((key,value))\n",
    "    \n",
    "\n",
    "def search(key):\n",
    "    hash_key = hash_function(key)\n",
    "    bucket = table[hash_key] # bucket은 해시값이 있는 위치에 리스트\n",
    "\n",
    "    for k, v in bucket:\n",
    "        if k == key:\n",
    "            return v\n",
    "    \n",
    "    raise KeyError(key)"
   ]
  },
  {
   "cell_type": "code",
   "execution_count": 11,
   "metadata": {},
   "outputs": [],
   "source": [
    "insert(11, 'one') # 11이 key이고, 'one'이 value\n",
    "insert(23, 'three')\n",
    "insert(37, 'seven')"
   ]
  },
  {
   "cell_type": "code",
   "execution_count": 12,
   "metadata": {},
   "outputs": [
    {
     "data": {
      "text/plain": [
       "[[], [(11, 'one')], [], [(23, 'three')], [], [], [], [(37, 'seven')], [], []]"
      ]
     },
     "execution_count": 12,
     "metadata": {},
     "output_type": "execute_result"
    }
   ],
   "source": [
    "table"
   ]
  },
  {
   "cell_type": "code",
   "execution_count": 13,
   "metadata": {},
   "outputs": [
    {
     "ename": "KeyError",
     "evalue": "21",
     "output_type": "error",
     "traceback": [
      "\u001b[1;31m---------------------------------------------------------------------------\u001b[0m",
      "\u001b[1;31mKeyError\u001b[0m                                  Traceback (most recent call last)",
      "Cell \u001b[1;32mIn[13], line 1\u001b[0m\n\u001b[1;32m----> 1\u001b[0m search(\u001b[39m21\u001b[39;49m)\n",
      "Cell \u001b[1;32mIn[10], line 28\u001b[0m, in \u001b[0;36msearch\u001b[1;34m(key)\u001b[0m\n\u001b[0;32m     25\u001b[0m     \u001b[39mif\u001b[39;00m k \u001b[39m==\u001b[39m key:\n\u001b[0;32m     26\u001b[0m         \u001b[39mreturn\u001b[39;00m v\n\u001b[1;32m---> 28\u001b[0m \u001b[39mraise\u001b[39;00m \u001b[39mKeyError\u001b[39;00m(key)\n",
      "\u001b[1;31mKeyError\u001b[0m: 21"
     ]
    }
   ],
   "source": [
    "search(21)"
   ]
  },
  {
   "cell_type": "code",
   "execution_count": 14,
   "metadata": {},
   "outputs": [
    {
     "data": {
      "text/plain": [
       "[[],\n",
       " [(11, 'one'), (21, 'twenty-one')],\n",
       " [],\n",
       " [(23, 'three')],\n",
       " [],\n",
       " [],\n",
       " [],\n",
       " [(37, 'seven')],\n",
       " [],\n",
       " []]"
      ]
     },
     "execution_count": 14,
     "metadata": {},
     "output_type": "execute_result"
    }
   ],
   "source": [
    "insert(21, 'twenty-one')\n",
    "table"
   ]
  },
  {
   "cell_type": "code",
   "execution_count": 15,
   "metadata": {},
   "outputs": [
    {
     "data": {
      "text/plain": [
       "'twenty-one'"
      ]
     },
     "execution_count": 15,
     "metadata": {},
     "output_type": "execute_result"
    }
   ],
   "source": [
    "search(21)"
   ]
  },
  {
   "cell_type": "code",
   "execution_count": 16,
   "metadata": {},
   "outputs": [
    {
     "data": {
      "text/plain": [
       "'one'"
      ]
     },
     "execution_count": 16,
     "metadata": {},
     "output_type": "execute_result"
    }
   ],
   "source": [
    "search(11)"
   ]
  },
  {
   "cell_type": "code",
   "execution_count": 17,
   "metadata": {},
   "outputs": [
    {
     "data": {
      "text/plain": [
       "'2cf24dba5fb0a30e26e83b2ac5b9e29e1b161e5c1fa7425e73043362938b9824'"
      ]
     },
     "execution_count": 17,
     "metadata": {},
     "output_type": "execute_result"
    }
   ],
   "source": [
    "# 문자열을 키로 사용\n",
    "import hashlib\n",
    "\n",
    "# sha256 값 추출\n",
    "\n",
    "def hash_string(string):\n",
    "    sha256 = hashlib.sha256()\n",
    "    sha256.update(string.encode('utf-8'))\n",
    "    return sha256.hexdigest()\n",
    "\n",
    "key = 'hello'\n",
    "sha256_output = hash_string(key)\n",
    "sha256_output"
   ]
  },
  {
   "cell_type": "code",
   "execution_count": 18,
   "metadata": {},
   "outputs": [
    {
     "data": {
      "text/plain": [
       "'185f8db32271fe25f561a6fc938b2e264306ec304eda518007d1764826381969'"
      ]
     },
     "execution_count": 18,
     "metadata": {},
     "output_type": "execute_result"
    }
   ],
   "source": [
    "key = 'Hello'\n",
    "sha256_output = hash_string(key)\n",
    "sha256_output"
   ]
  },
  {
   "cell_type": "code",
   "execution_count": 19,
   "metadata": {},
   "outputs": [
    {
     "data": {
      "text/plain": [
       "7"
      ]
     },
     "execution_count": 19,
     "metadata": {},
     "output_type": "execute_result"
    }
   ],
   "source": [
    "int('111', 2)"
   ]
  },
  {
   "cell_type": "code",
   "execution_count": 20,
   "metadata": {},
   "outputs": [
    {
     "data": {
      "text/plain": [
       "11024336812845202542736754815889718862783203771635063178616734621641926515049"
      ]
     },
     "execution_count": 20,
     "metadata": {},
     "output_type": "execute_result"
    }
   ],
   "source": [
    "int(sha256_output, 16) # 16진수 -> 10진수"
   ]
  },
  {
   "cell_type": "code",
   "execution_count": 21,
   "metadata": {},
   "outputs": [
    {
     "data": {
      "text/plain": [
       "49"
      ]
     },
     "execution_count": 21,
     "metadata": {},
     "output_type": "execute_result"
    }
   ],
   "source": [
    "int(sha256_output, 16) % 100"
   ]
  },
  {
   "cell_type": "code",
   "execution_count": 22,
   "metadata": {},
   "outputs": [],
   "source": [
    "size = 10\n",
    "table = [[] for _ in range(size)]\n",
    "\n",
    "def hash_string(string):\n",
    "    sha256 = hashlib.sha256()\n",
    "    sha256.update(string.encode('utf-8'))\n",
    "    return sha256.hexdigest()\n",
    "\n",
    "# 해시 함수에 sha256 적용\n",
    "def hash_function(key):\n",
    "    if type(key) == str:\n",
    "        key = int(hash_string(key), 16) # 문자열 -> 숫자로 변환\n",
    "\n",
    "    return key % size"
   ]
  },
  {
   "cell_type": "code",
   "execution_count": 23,
   "metadata": {},
   "outputs": [],
   "source": [
    "insert(11, 'one')\n",
    "insert(23, 'three')\n",
    "insert(21, 'twenty-one')\n",
    "insert('Alice', 'A')\n",
    "insert('John', 'B')\n",
    "insert('Americano', 1500)"
   ]
  },
  {
   "cell_type": "code",
   "execution_count": 24,
   "metadata": {},
   "outputs": [
    {
     "data": {
      "text/plain": [
       "[[],\n",
       " [(11, 'one'), (21, 'twenty-one')],\n",
       " [],\n",
       " [(23, 'three')],\n",
       " [],\n",
       " [],\n",
       " [],\n",
       " [('Alice', 'A'), ('Americano', 1500)],\n",
       " [('John', 'B')],\n",
       " []]"
      ]
     },
     "execution_count": 24,
     "metadata": {},
     "output_type": "execute_result"
    }
   ],
   "source": [
    "table"
   ]
  },
  {
   "cell_type": "code",
   "execution_count": 25,
   "metadata": {},
   "outputs": [
    {
     "data": {
      "text/plain": [
       "60948614642103942435991023375337409941733875488146433515220392626931848773837"
      ]
     },
     "execution_count": 25,
     "metadata": {},
     "output_type": "execute_result"
    }
   ],
   "source": [
    "int(hash_string('Americano'), 16)"
   ]
  },
  {
   "cell_type": "code",
   "execution_count": 26,
   "metadata": {},
   "outputs": [
    {
     "data": {
      "text/plain": [
       "27034640024117331033063128044004318218486816931520886405535659934417438781507"
      ]
     },
     "execution_count": 26,
     "metadata": {},
     "output_type": "execute_result"
    }
   ],
   "source": [
    "int(hash_string('Alice'), 16)"
   ]
  },
  {
   "cell_type": "code",
   "execution_count": 27,
   "metadata": {},
   "outputs": [
    {
     "data": {
      "text/plain": [
       "1500"
      ]
     },
     "execution_count": 27,
     "metadata": {},
     "output_type": "execute_result"
    }
   ],
   "source": [
    "search('Americano')"
   ]
  },
  {
   "cell_type": "code",
   "execution_count": 30,
   "metadata": {},
   "outputs": [],
   "source": [
    "# 파이썬 딕셔너리\n",
    "dict_obj = dict()"
   ]
  },
  {
   "cell_type": "code",
   "execution_count": 31,
   "metadata": {},
   "outputs": [],
   "source": [
    "dict_obj['Americano'] = 1500\n",
    "dict_obj['Alice'] = 'A'\n",
    "dict_obj[11] = 'one'\n",
    "dict_obj[23] = 'three'"
   ]
  },
  {
   "cell_type": "code",
   "execution_count": 32,
   "metadata": {},
   "outputs": [
    {
     "data": {
      "text/plain": [
       "{'Americano': 1500, 'Alice': 'A', 11: 'one', 23: 'three'}"
      ]
     },
     "execution_count": 32,
     "metadata": {},
     "output_type": "execute_result"
    }
   ],
   "source": [
    "dict_obj"
   ]
  },
  {
   "cell_type": "code",
   "execution_count": 33,
   "metadata": {},
   "outputs": [
    {
     "data": {
      "text/plain": [
       "1500"
      ]
     },
     "execution_count": 33,
     "metadata": {},
     "output_type": "execute_result"
    }
   ],
   "source": [
    "dict_obj['Americano']"
   ]
  },
  {
   "cell_type": "code",
   "execution_count": 34,
   "metadata": {},
   "outputs": [
    {
     "data": {
      "text/plain": [
       "{'Americano': 2000, 'Alice': 'A', 11: 'one', 23: 'three'}"
      ]
     },
     "execution_count": 34,
     "metadata": {},
     "output_type": "execute_result"
    }
   ],
   "source": [
    "dict_obj['Americano'] = 2000\n",
    "dict_obj"
   ]
  }
 ],
 "metadata": {
  "kernelspec": {
   "display_name": "base",
   "language": "python",
   "name": "python3"
  },
  "language_info": {
   "codemirror_mode": {
    "name": "ipython",
    "version": 3
   },
   "file_extension": ".py",
   "mimetype": "text/x-python",
   "name": "python",
   "nbconvert_exporter": "python",
   "pygments_lexer": "ipython3",
   "version": "3.10.9"
  },
  "orig_nbformat": 4
 },
 "nbformat": 4,
 "nbformat_minor": 2
}
