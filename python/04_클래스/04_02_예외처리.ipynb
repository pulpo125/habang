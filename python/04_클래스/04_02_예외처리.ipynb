{
 "cells": [
  {
   "cell_type": "code",
   "execution_count": null,
   "metadata": {},
   "outputs": [],
   "source": [
    "# ctrl / 주석\n",
    "# alt shift down 해당 줄 복사 후 밑줄에 불여놓기\n",
    "# ctrl a 전체내용 드래그\n",
    "# tab 들여쓰기\n",
    "# shift tab 반대로 들여쓰기\n",
    "\n",
    "variable = 1\n",
    "variable = 2\n"
   ]
  },
  {
   "cell_type": "code",
   "execution_count": 1,
   "metadata": {},
   "outputs": [
    {
     "name": "stdout",
     "output_type": "stream",
     "text": [
      "에러발생\n"
     ]
    }
   ],
   "source": [
    "def div(a, b):\n",
    "    print(a / b)\n",
    "\n",
    "try: \n",
    "    # 이 부분에서 어떤 에러가 발생하면, 종류와 관계없이\n",
    "    while True:\n",
    "        a, b = map(int.input().split())\n",
    "        div(a, b)\n",
    "except:\n",
    "    # 이 부분으로 넘어감\n",
    "    print('에러발생')\n"
   ]
  },
  {
   "cell_type": "code",
   "execution_count": 4,
   "metadata": {},
   "outputs": [
    {
     "name": "stdout",
     "output_type": "stream",
     "text": [
      "division by zero\n"
     ]
    }
   ],
   "source": [
    "# 에러 발생\n",
    "\n",
    "try: \n",
    "   #no_variable\n",
    "   result = 10 / 0\n",
    "except ZeroDivisionError as e: #내장 클래스\n",
    "   print(e)"
   ]
  },
  {
   "cell_type": "code",
   "execution_count": 3,
   "metadata": {},
   "outputs": [
    {
     "name": "stdout",
     "output_type": "stream",
     "text": [
      "에러발생\n"
     ]
    }
   ],
   "source": [
    "\n",
    "try: \n",
    "   no_variable\n",
    "   result = 10 / 0\n",
    "except:\n",
    "    print('에러발생')"
   ]
  },
  {
   "cell_type": "code",
   "execution_count": 5,
   "metadata": {},
   "outputs": [
    {
     "name": "stdout",
     "output_type": "stream",
     "text": [
      "name 'no_variable' is not defined\n"
     ]
    }
   ],
   "source": [
    "try: \n",
    "   print(no_variable)\n",
    "except NameError as e: #내장 클래스\n",
    "   print(e)"
   ]
  },
  {
   "cell_type": "code",
   "execution_count": 6,
   "metadata": {},
   "outputs": [
    {
     "name": "stdout",
     "output_type": "stream",
     "text": [
      "name 'no_variable' is not defined\n"
     ]
    }
   ],
   "source": [
    "try: \n",
    "   print(no_variable)\n",
    "   result = 10 / 0\n",
    "except NameError as e: #내장 클래스\n",
    "   print(e)\n",
    "except ZeroDivisionError as e: #내장 클래스\n",
    "   print(e)"
   ]
  },
  {
   "cell_type": "code",
   "execution_count": null,
   "metadata": {},
   "outputs": [],
   "source": []
  }
 ],
 "metadata": {
  "kernelspec": {
   "display_name": "base",
   "language": "python",
   "name": "python3"
  },
  "language_info": {
   "codemirror_mode": {
    "name": "ipython",
    "version": 3
   },
   "file_extension": ".py",
   "mimetype": "text/x-python",
   "name": "python",
   "nbconvert_exporter": "python",
   "pygments_lexer": "ipython3",
   "version": "3.10.9"
  },
  "orig_nbformat": 4
 },
 "nbformat": 4,
 "nbformat_minor": 2
}
