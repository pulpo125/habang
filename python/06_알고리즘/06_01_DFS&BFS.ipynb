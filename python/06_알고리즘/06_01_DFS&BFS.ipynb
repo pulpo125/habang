{
 "cells": [
  {
   "attachments": {},
   "cell_type": "markdown",
   "metadata": {},
   "source": [
    "## 그래프의 탐색\n",
    "### 깊이우선탐색(DFS), 너비우선탐색(BFS)"
   ]
  },
  {
   "cell_type": "code",
   "execution_count": null,
   "metadata": {},
   "outputs": [],
   "source": [
    "# 4 5 1\n",
    "# 1 2\n",
    "# 1 3\n",
    "# 1 4\n",
    "# 2 4\n",
    "# 3 4"
   ]
  },
  {
   "cell_type": "code",
   "execution_count": null,
   "metadata": {},
   "outputs": [],
   "source": [
    "n, m, v = list(map(int, input().split()))\n",
    "graph = [[] for _ in range(n+1)] #n+1: 처음[]는 만들어놓고 사용은 안함, 인덱싱 편하도록\n",
    "graph"
   ]
  },
  {
   "cell_type": "code",
   "execution_count": null,
   "metadata": {},
   "outputs": [],
   "source": [
    "for _ in range(m):\n",
    "    i, j = list(map(int, input().split()))\n",
    "    graph[i].append(j)\n",
    "    graph[j].append(i)"
   ]
  },
  {
   "cell_type": "code",
   "execution_count": null,
   "metadata": {},
   "outputs": [],
   "source": [
    "graph"
   ]
  },
  {
   "cell_type": "code",
   "execution_count": null,
   "metadata": {},
   "outputs": [],
   "source": [
    "# DFS, 깊이 우선 탐색, bj 1260\n",
    "visited = [False] * (n+1)\n",
    "visited"
   ]
  },
  {
   "cell_type": "code",
   "execution_count": null,
   "metadata": {},
   "outputs": [],
   "source": [
    "def dfs(node):\n",
    "    if not visited[node]: \n",
    "        print(node, end=' ')\n",
    "        visited[node] = True\n",
    "\n",
    "        for val in sorted(graph[node]):\n",
    "            dfs(val)\n",
    "\n",
    "dfs(v)"
   ]
  },
  {
   "cell_type": "code",
   "execution_count": null,
   "metadata": {},
   "outputs": [],
   "source": [
    "print()"
   ]
  },
  {
   "cell_type": "code",
   "execution_count": null,
   "metadata": {},
   "outputs": [],
   "source": [
    "# BFS: 너비 우선 탐색\n",
    "from collections import deque\n",
    "visited = [False] * (n+1)\n",
    "visited"
   ]
  },
  {
   "cell_type": "code",
   "execution_count": null,
   "metadata": {},
   "outputs": [],
   "source": [
    "def bfs(node):\n",
    "    queue = deque()\n",
    "    queue.append(node)\n",
    "    visited[node] = True\n",
    "\n",
    "    while queue:\n",
    "        new_node = queue.popleft()\n",
    "        print(new_node, end = ' ')\n",
    "        for val in sorted(graph[new_node]):\n",
    "            if not visited[val]:\n",
    "                queue.append(val)\n",
    "                visited[val] = True"
   ]
  },
  {
   "cell_type": "code",
   "execution_count": null,
   "metadata": {},
   "outputs": [],
   "source": [
    "bfs(v)"
   ]
  },
  {
   "cell_type": "code",
   "execution_count": null,
   "metadata": {},
   "outputs": [],
   "source": [
    "not visited[0]"
   ]
  }
 ],
 "metadata": {
  "kernelspec": {
   "display_name": "base",
   "language": "python",
   "name": "python3"
  },
  "language_info": {
   "codemirror_mode": {
    "name": "ipython",
    "version": 3
   },
   "file_extension": ".py",
   "mimetype": "text/x-python",
   "name": "python",
   "nbconvert_exporter": "python",
   "pygments_lexer": "ipython3",
   "version": "3.10.9"
  },
  "orig_nbformat": 4
 },
 "nbformat": 4,
 "nbformat_minor": 2
}
