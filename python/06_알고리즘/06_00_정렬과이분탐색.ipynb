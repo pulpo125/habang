{
 "cells": [
  {
   "cell_type": "code",
   "execution_count": 1,
   "metadata": {},
   "outputs": [
    {
     "data": {
      "text/plain": [
       "[93, 92, 58, 95, 69, 86, 70, 22, 63, 73]"
      ]
     },
     "execution_count": 1,
     "metadata": {},
     "output_type": "execute_result"
    }
   ],
   "source": [
    "# 정렬과 이분탐색\n",
    "import random\n",
    "rd_lst = random.sample(range(100), 10)\n",
    "rd_lst"
   ]
  },
  {
   "cell_type": "code",
   "execution_count": 2,
   "metadata": {},
   "outputs": [],
   "source": [
    "rd_lst.sort()"
   ]
  },
  {
   "cell_type": "code",
   "execution_count": 3,
   "metadata": {},
   "outputs": [
    {
     "data": {
      "text/plain": [
       "[22, 58, 63, 69, 70, 73, 86, 92, 93, 95]"
      ]
     },
     "execution_count": 3,
     "metadata": {},
     "output_type": "execute_result"
    }
   ],
   "source": [
    "rd_lst"
   ]
  },
  {
   "cell_type": "code",
   "execution_count": 4,
   "metadata": {},
   "outputs": [
    {
     "data": {
      "text/plain": [
       "[30, 0, 41, 2, 83, 50, 36, 22, 21, 37]"
      ]
     },
     "execution_count": 4,
     "metadata": {},
     "output_type": "execute_result"
    }
   ],
   "source": [
    "rd_lst = random.sample(range(100), 10)\n",
    "rd_lst"
   ]
  },
  {
   "cell_type": "code",
   "execution_count": 5,
   "metadata": {},
   "outputs": [
    {
     "data": {
      "text/plain": [
       "[0, 2, 21, 22, 30, 36, 37, 41, 50, 83]"
      ]
     },
     "execution_count": 5,
     "metadata": {},
     "output_type": "execute_result"
    }
   ],
   "source": [
    "sorted(rd_lst)"
   ]
  },
  {
   "cell_type": "code",
   "execution_count": 6,
   "metadata": {},
   "outputs": [
    {
     "data": {
      "text/plain": [
       "[30, 0, 41, 2, 83, 50, 36, 22, 21, 37]"
      ]
     },
     "execution_count": 6,
     "metadata": {},
     "output_type": "execute_result"
    }
   ],
   "source": [
    "rd_lst"
   ]
  },
  {
   "cell_type": "code",
   "execution_count": 7,
   "metadata": {},
   "outputs": [
    {
     "name": "stdout",
     "output_type": "stream",
     "text": [
      "3\n"
     ]
    }
   ],
   "source": [
    "# 이분 탐색(Bianary Search)\n",
    "\n",
    "target = int(input())\n",
    "n_list = [1,2,3,4,5]\n",
    "\n",
    "start_idx = 0\n",
    "end_idx = len(n_list) - 1\n",
    "\n",
    "# 찾으려는 값이 있는idx를 도출, -1 반환\n",
    "result = None\n",
    "while start_idx <= end_idx:\n",
    "    mid_idx = (start_idx + end_idx) // 2\n",
    "    if target == n_list[mid_idx]:\n",
    "        result = mid_idx\n",
    "        break\n",
    "    else:\n",
    "        if target > n_list[mid_idx]:\n",
    "            start_idx = mid_idx + 1\n",
    "        elif target < n_list[mid_idx]:\n",
    "            end_idx = mid_idx -1\n",
    "\n",
    "if not result:\n",
    "    result = -1\n",
    "print(result)"
   ]
  }
 ],
 "metadata": {
  "kernelspec": {
   "display_name": "base",
   "language": "python",
   "name": "python3"
  },
  "language_info": {
   "codemirror_mode": {
    "name": "ipython",
    "version": 3
   },
   "file_extension": ".py",
   "mimetype": "text/x-python",
   "name": "python",
   "nbconvert_exporter": "python",
   "pygments_lexer": "ipython3",
   "version": "3.10.9"
  },
  "orig_nbformat": 4
 },
 "nbformat": 4,
 "nbformat_minor": 2
}
