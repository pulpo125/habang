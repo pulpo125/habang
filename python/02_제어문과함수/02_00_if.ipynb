{
 "cells": [
  {
   "cell_type": "code",
   "execution_count": 4,
   "metadata": {},
   "outputs": [],
   "source": [
    "money = 20000\n"
   ]
  },
  {
   "cell_type": "code",
   "execution_count": 6,
   "metadata": {},
   "outputs": [
    {
     "name": "stdout",
     "output_type": "stream",
     "text": [
      "점심을 먹는다.\n"
     ]
    }
   ],
   "source": [
    "if money >= 5000 and money < 10000:\n",
    "    print(\"택시를 탄다.\")\n",
    "elif money >= 10000:\n",
    "    print(\"점심을 먹는다.\")\n",
    "else:\n",
    "    print(\"집에 간다.\")"
   ]
  },
  {
   "attachments": {},
   "cell_type": "markdown",
   "metadata": {},
   "source": [
    "- 관계연산자"
   ]
  },
  {
   "cell_type": "code",
   "execution_count": 9,
   "metadata": {},
   "outputs": [
    {
     "name": "stdout",
     "output_type": "stream",
     "text": [
      "x는 문자열이 아님\n"
     ]
    }
   ],
   "source": [
    "# x = 'hello'\n",
    "x = 5\n",
    "if type(x) == str:\n",
    "    print('x는 문자열')\n",
    "else: \n",
    "    print('x는 문자열이 아님')\n"
   ]
  },
  {
   "cell_type": "code",
   "execution_count": 10,
   "metadata": {},
   "outputs": [
    {
     "name": "stdout",
     "output_type": "stream",
     "text": [
      "x는 정수\n"
     ]
    }
   ],
   "source": [
    "# x = 'hello'\n",
    "x = 5\n",
    "if type(x) != int:\n",
    "    print('x는 정수가 아님')\n",
    "else: \n",
    "    print('x는 정수')"
   ]
  },
  {
   "attachments": {},
   "cell_type": "markdown",
   "metadata": {},
   "source": [
    "- membership 연산자 in"
   ]
  },
  {
   "cell_type": "code",
   "execution_count": 71,
   "metadata": {},
   "outputs": [
    {
     "name": "stdout",
     "output_type": "stream",
     "text": [
      "사과 있음\n"
     ]
    }
   ],
   "source": [
    "fruits = ['apple', 'banana', 'orange']\n",
    "#fruits.remove('apple')\n",
    "if 'apple' in fruits:\n",
    "    print(\"사과 있음\")\n",
    "else:\n",
    "    print('사과 없음')"
   ]
  },
  {
   "cell_type": "code",
   "execution_count": 72,
   "metadata": {},
   "outputs": [
    {
     "name": "stdout",
     "output_type": "stream",
     "text": [
      "사과 있음\n"
     ]
    }
   ],
   "source": [
    "print('사과 있음' if 'apple' in fruits else \"사과 없음\")"
   ]
  },
  {
   "cell_type": "code",
   "execution_count": 15,
   "metadata": {},
   "outputs": [
    {
     "name": "stdout",
     "output_type": "stream",
     "text": [
      "사과 알라지 때문에 먹을 수 없음\n"
     ]
    }
   ],
   "source": [
    "if 'apple' not in fruits:\n",
    "    print(\"사과 알러지가 있어도 먹을 수 있는 과일\")\n",
    "else:\n",
    "    print('사과 알라지 때문에 먹을 수 없음')"
   ]
  },
  {
   "cell_type": "code",
   "execution_count": 1,
   "metadata": {},
   "outputs": [],
   "source": [
    "pocket = ['paper', 'money', 'cellphone']\n",
    "if 'money' in pocket:\n",
    "    pass \n",
    "else:\n",
    "    print(\"카드를 꺼내라\")"
   ]
  },
  {
   "attachments": {},
   "cell_type": "markdown",
   "metadata": {},
   "source": [
    "- 논리 연산자를 사용한 조건(and, or, not)"
   ]
  },
  {
   "cell_type": "code",
   "execution_count": 17,
   "metadata": {},
   "outputs": [
    {
     "name": "stdout",
     "output_type": "stream",
     "text": [
      "못 타요\n"
     ]
    }
   ],
   "source": [
    "# 놀이기구 탈 수 있는 조건\n",
    "age = 10\n",
    "# height = 150 #cm 기준\n",
    "height = 130\n",
    "\n",
    "if age >= 5 and height >= 140: #and는 모두 참이어야 참\n",
    "    print(\"놀이기구 탈 수 있음\")\n",
    "else:\n",
    "    print(\"못 타요\")"
   ]
  },
  {
   "cell_type": "code",
   "execution_count": 18,
   "metadata": {},
   "outputs": [],
   "source": [
    "# 자격증\n",
    "person = {\n",
    "    'name' : '홍길동',\n",
    "    'ADsP' : True,\n",
    "    'SQLD' : False\n",
    "\n",
    "}"
   ]
  },
  {
   "cell_type": "code",
   "execution_count": 19,
   "metadata": {},
   "outputs": [
    {
     "name": "stdout",
     "output_type": "stream",
     "text": [
      "열공중\n"
     ]
    }
   ],
   "source": [
    "# person['ADsp'] == person.get('ADsp')\n",
    "\n",
    "if person.get('ADsp') or person.get('SQLD'): #or은 둘 중 하나만 참이어도 참\n",
    "    print(\"자격증 보유\")\n",
    "else:\n",
    "    print(\"열공중\")"
   ]
  },
  {
   "cell_type": "code",
   "execution_count": 22,
   "metadata": {},
   "outputs": [
    {
     "name": "stdout",
     "output_type": "stream",
     "text": [
      "5보다 큼\n"
     ]
    }
   ],
   "source": [
    "num = 10\n",
    "\n",
    "if not num > 5:\n",
    "    print(\"5보다 크지 않음\")\n",
    "else:\n",
    "    print(\"5보다 큼\")"
   ]
  },
  {
   "cell_type": "code",
   "execution_count": 38,
   "metadata": {},
   "outputs": [],
   "source": [
    "#문제 1\n",
    "text1 = '데이터 분석에 대한 기초를 배워보세요.'\n",
    "text2 = '운동은 건강한 삶을 유지하는 데에 매우 중요한 역할을 합니다.'"
   ]
  },
  {
   "cell_type": "code",
   "execution_count": 61,
   "metadata": {},
   "outputs": [],
   "source": [
    "def check_data(text):\n",
    "    if '데이터' not in text:\n",
    "        result = '데이터 관련 글 아님'\n",
    "    else:\n",
    "        result = '데이터 관련 글임'\n",
    "    return  result"
   ]
  },
  {
   "cell_type": "code",
   "execution_count": 63,
   "metadata": {},
   "outputs": [],
   "source": [
    "assert check_data(text1) == '데이터 관련 글임'\n",
    "assert check_data(text2) == '데이터 관련 글 아님'"
   ]
  },
  {
   "cell_type": "code",
   "execution_count": 64,
   "metadata": {},
   "outputs": [],
   "source": [
    "# 문제 2\n",
    "num1 = 10\n",
    "num2 = -5\n",
    "num3 = 0"
   ]
  },
  {
   "cell_type": "code",
   "execution_count": 65,
   "metadata": {},
   "outputs": [],
   "source": [
    "def check_number(num):\n",
    "    if num > 0:\n",
    "        result = '양수'\n",
    "    elif num == 0:\n",
    "        result = '0'\n",
    "    else:\n",
    "        result = '음수'\n",
    "    return  result"
   ]
  },
  {
   "cell_type": "code",
   "execution_count": 66,
   "metadata": {},
   "outputs": [],
   "source": [
    "assert check_number(num1) == '양수'\n",
    "assert check_number(num2) == '음수'\n",
    "assert check_number(num3) == '0'"
   ]
  },
  {
   "cell_type": "code",
   "execution_count": 70,
   "metadata": {},
   "outputs": [
    {
     "name": "stdout",
     "output_type": "stream",
     "text": [
      "B\n"
     ]
    }
   ],
   "source": [
    "Score = 77\n",
    "\n",
    "if Score == 100: Grade = 'A'\n",
    "elif Score > 70: Grade = 'B'\n",
    "else           : Grade = 'C'\n",
    "\n",
    "print(Grade)"
   ]
  },
  {
   "cell_type": "code",
   "execution_count": 68,
   "metadata": {},
   "outputs": [
    {
     "name": "stdout",
     "output_type": "stream",
     "text": [
      "B\n"
     ]
    }
   ],
   "source": [
    "Score = 77\n",
    "Grade = 'A' if Score == 100 else 'B' if Score > 70 else 'C'\n",
    "print(Grade)"
   ]
  },
  {
   "cell_type": "code",
   "execution_count": 73,
   "metadata": {},
   "outputs": [
    {
     "name": "stdout",
     "output_type": "stream",
     "text": [
      "same\n"
     ]
    }
   ],
   "source": [
    "int_a =2\n",
    "print(\"over\" if int_a > 3 else \"same\" if int_a == 2 else \"under\")"
   ]
  }
 ],
 "metadata": {
  "kernelspec": {
   "display_name": "base",
   "language": "python",
   "name": "python3"
  },
  "language_info": {
   "codemirror_mode": {
    "name": "ipython",
    "version": 3
   },
   "file_extension": ".py",
   "mimetype": "text/x-python",
   "name": "python",
   "nbconvert_exporter": "python",
   "pygments_lexer": "ipython3",
   "version": "3.10.9"
  },
  "orig_nbformat": 4
 },
 "nbformat": 4,
 "nbformat_minor": 2
}
