{
 "cells": [
  {
   "attachments": {},
   "cell_type": "markdown",
   "metadata": {},
   "source": [
    "- 매개변수와 return 여부"
   ]
  },
  {
   "cell_type": "code",
   "execution_count": 1,
   "metadata": {},
   "outputs": [
    {
     "data": {
      "text/plain": [
       "6"
      ]
     },
     "execution_count": 1,
     "metadata": {},
     "output_type": "execute_result"
    }
   ],
   "source": [
    "# 매개변수와 return 모두 있음\n",
    "\n",
    "def multiply(a, b):\n",
    "    return a * b\n",
    "\n",
    "multiply(2, 3)"
   ]
  },
  {
   "cell_type": "code",
   "execution_count": 2,
   "metadata": {},
   "outputs": [],
   "source": [
    "# 매개변수, return 모두 없음\n",
    "import time\n",
    "\n",
    "def alarm():\n",
    "    print('빨리 일어나!')\n",
    "    time.sleep(5)\n",
    "    print('5초가 지났어 빨리 일어나!')"
   ]
  },
  {
   "cell_type": "code",
   "execution_count": 3,
   "metadata": {},
   "outputs": [
    {
     "name": "stdout",
     "output_type": "stream",
     "text": [
      "빨리 일어나!\n",
      "5초가 지났어 빨리 일어나!\n"
     ]
    }
   ],
   "source": [
    "alarm()"
   ]
  },
  {
   "cell_type": "code",
   "execution_count": 4,
   "metadata": {},
   "outputs": [],
   "source": [
    "# 매개변수는 있고  return 은 없음\n",
    "def print_message(message):\n",
    "    print(f'오늘의 좋은 글: {message}')"
   ]
  },
  {
   "cell_type": "code",
   "execution_count": 5,
   "metadata": {},
   "outputs": [
    {
     "name": "stdout",
     "output_type": "stream",
     "text": [
      "오늘의 좋은 글: 굿 데이\n"
     ]
    }
   ],
   "source": [
    "print_message('굿 데이')"
   ]
  },
  {
   "cell_type": "code",
   "execution_count": 6,
   "metadata": {},
   "outputs": [
    {
     "data": {
      "text/plain": [
       "7"
      ]
     },
     "execution_count": 6,
     "metadata": {},
     "output_type": "execute_result"
    }
   ],
   "source": [
    "# 매개변수는 없고 return 만 있음\n",
    "\n",
    "import random\n",
    "\n",
    "def get_random_number_10():\n",
    "    return random.randint(1, 10)\n",
    "\n",
    "get_random_number_10()"
   ]
  },
  {
   "attachments": {},
   "cell_type": "markdown",
   "metadata": {},
   "source": [
    "* 전역변수와 로컬변수"
   ]
  },
  {
   "cell_type": "code",
   "execution_count": 8,
   "metadata": {},
   "outputs": [
    {
     "name": "stdout",
     "output_type": "stream",
     "text": [
      "1\n"
     ]
    }
   ],
   "source": [
    "# 전역변수\n",
    "num1 = 1\n",
    "\n",
    "def test():\n",
    "    print(num1)\n",
    "\n",
    "test()"
   ]
  },
  {
   "cell_type": "code",
   "execution_count": 3,
   "metadata": {},
   "outputs": [
    {
     "name": "stdout",
     "output_type": "stream",
     "text": [
      "함수 안:  0\n",
      "함수 실행 이후:  1\n"
     ]
    }
   ],
   "source": [
    "# 전역변수와 지역변수의 관계\n",
    "num1 = 1\n",
    "\n",
    "def test():\n",
    "    num1 = 0\n",
    "    print('함수 안: ', num1)\n",
    "\n",
    "test()\n",
    "print('함수 실행 이후: ', num1)"
   ]
  },
  {
   "cell_type": "code",
   "execution_count": 4,
   "metadata": {},
   "outputs": [
    {
     "name": "stdout",
     "output_type": "stream",
     "text": [
      "0\n"
     ]
    }
   ],
   "source": [
    "num1 = 1\n",
    "num1 = 0\n",
    "print(num1)"
   ]
  },
  {
   "cell_type": "code",
   "execution_count": 5,
   "metadata": {},
   "outputs": [
    {
     "name": "stdout",
     "output_type": "stream",
     "text": [
      "0\n"
     ]
    }
   ],
   "source": [
    "# 함수 return => 전역변수에 대입 (추천 방법!)\n",
    "num1 = 1\n",
    "\n",
    "def test():\n",
    "    num1 = 0\n",
    "    return num1\n",
    "\n",
    "num1 = test()\n",
    "print(num1)\n"
   ]
  },
  {
   "cell_type": "code",
   "execution_count": 12,
   "metadata": {},
   "outputs": [
    {
     "name": "stdout",
     "output_type": "stream",
     "text": [
      "0\n"
     ]
    }
   ],
   "source": [
    "# global 명령 사용\n",
    "cnt = 0\n",
    "\n",
    "def increment_cnt():\n",
    "    cnt = 0\n",
    "    cnt += 1\n",
    "\n",
    "increment_cnt()\n",
    "print(cnt)"
   ]
  },
  {
   "cell_type": "code",
   "execution_count": 11,
   "metadata": {},
   "outputs": [
    {
     "data": {
      "text/plain": [
       "'5'"
      ]
     },
     "execution_count": 11,
     "metadata": {},
     "output_type": "execute_result"
    }
   ],
   "source": [
    "a = input('write: ')\n",
    "a"
   ]
  },
  {
   "cell_type": "code",
   "execution_count": 16,
   "metadata": {},
   "outputs": [],
   "source": [
    "# global은 함수 안에서 변수에 값을 대입하기 전에 사용\n",
    "cnt = 0\n",
    "\n",
    "def increment_cnt():\n",
    "    global cnt \n",
    "    cnt += 1"
   ]
  },
  {
   "cell_type": "code",
   "execution_count": 17,
   "metadata": {},
   "outputs": [
    {
     "name": "stdout",
     "output_type": "stream",
     "text": [
      "1\n"
     ]
    }
   ],
   "source": [
    "increment_cnt()\n",
    "print(cnt)"
   ]
  },
  {
   "attachments": {},
   "cell_type": "markdown",
   "metadata": {},
   "source": [
    "- 함수와 return"
   ]
  },
  {
   "cell_type": "code",
   "execution_count": 18,
   "metadata": {},
   "outputs": [
    {
     "name": "stdout",
     "output_type": "stream",
     "text": [
      "결과:  None\n"
     ]
    }
   ],
   "source": [
    "def sum_numbers(a,b):\n",
    "    a + b\n",
    "\n",
    "print('결과: ', sum_numbers(3, 5))\n"
   ]
  },
  {
   "cell_type": "code",
   "execution_count": 19,
   "metadata": {},
   "outputs": [
    {
     "name": "stdout",
     "output_type": "stream",
     "text": [
      "결과:  8\n"
     ]
    }
   ],
   "source": [
    "def sum_numbers(a,b):\n",
    "    return a + b\n",
    "\n",
    "print('결과: ', sum_numbers(3, 5))"
   ]
  },
  {
   "cell_type": "code",
   "execution_count": 20,
   "metadata": {},
   "outputs": [
    {
     "name": "stdout",
     "output_type": "stream",
     "text": [
      "12\n"
     ]
    }
   ],
   "source": [
    "num1 = sum_numbers(10, 5)\n",
    "num2 = sum_numbers(1, 2)\n",
    "print(num1 - num2)"
   ]
  },
  {
   "attachments": {},
   "cell_type": "markdown",
   "metadata": {},
   "source": [
    "- 함수와 매개변수"
   ]
  },
  {
   "cell_type": "code",
   "execution_count": 21,
   "metadata": {},
   "outputs": [
    {
     "data": {
      "text/plain": [
       "'hellohellohello'"
      ]
     },
     "execution_count": 21,
     "metadata": {},
     "output_type": "execute_result"
    }
   ],
   "source": [
    "def repeat_text(text, num):\n",
    "    return text * num\n",
    "\n",
    "repeat_text('hello', 3) #매개변수 명 없이 인수 전달 시 순서대로 적으면 됌"
   ]
  },
  {
   "cell_type": "code",
   "execution_count": 22,
   "metadata": {},
   "outputs": [
    {
     "ename": "TypeError",
     "evalue": "repeat_text() missing 1 required positional argument: 'num'",
     "output_type": "error",
     "traceback": [
      "\u001b[1;31m---------------------------------------------------------------------------\u001b[0m",
      "\u001b[1;31mTypeError\u001b[0m                                 Traceback (most recent call last)",
      "Cell \u001b[1;32mIn[22], line 2\u001b[0m\n\u001b[0;32m      1\u001b[0m \u001b[39m# 정의한 매개 변수보다 더 적거나 많게 입력하면 에러 발생\u001b[39;00m\n\u001b[1;32m----> 2\u001b[0m repeat_text(\u001b[39m'\u001b[39;49m\u001b[39mhello\u001b[39;49m\u001b[39m'\u001b[39;49m)\n",
      "\u001b[1;31mTypeError\u001b[0m: repeat_text() missing 1 required positional argument: 'num'"
     ]
    }
   ],
   "source": [
    "# 정의한 매개 변수보다 더 적거나 많게 입력하면 에러 발생\n",
    "repeat_text('hello') # 인수가 매개변수 보다 많은 경우 -> 에러 (많아도 에러 발생)"
   ]
  },
  {
   "cell_type": "code",
   "execution_count": 23,
   "metadata": {},
   "outputs": [
    {
     "data": {
      "text/plain": [
       "'hellohello'"
      ]
     },
     "execution_count": 23,
     "metadata": {},
     "output_type": "execute_result"
    }
   ],
   "source": [
    "# default 지정 (매개변수에 인수를 입력하지 않을 경우 default 값으로 대입)\n",
    "def repeat_text(text, num=2):\n",
    "    return text * num\n",
    "\n",
    "repeat_text('hello')"
   ]
  },
  {
   "attachments": {},
   "cell_type": "markdown",
   "metadata": {},
   "source": [
    "- 매개변수 개수를 미리 알 수 없을 때"
   ]
  },
  {
   "cell_type": "code",
   "execution_count": 28,
   "metadata": {},
   "outputs": [],
   "source": [
    "# argument\n",
    "def print_args(*args):\n",
    "    print('type: ', type(args))\n",
    "    print('args: ', args)\n",
    "    print('리스트 사용 가능: ', args[0])\n",
    "\n",
    "    for arg in args:\n",
    "        print('arg: ', arg)\n"
   ]
  },
  {
   "cell_type": "code",
   "execution_count": 29,
   "metadata": {},
   "outputs": [
    {
     "name": "stdout",
     "output_type": "stream",
     "text": [
      "type:  <class 'tuple'>\n",
      "args:  ('a', 'b', 'c')\n",
      "리스트 사용 가능:  a\n",
      "args:  a\n",
      "args:  b\n",
      "args:  c\n"
     ]
    }
   ],
   "source": [
    "print_args('a', 'b', 'c')"
   ]
  },
  {
   "cell_type": "code",
   "execution_count": 31,
   "metadata": {},
   "outputs": [],
   "source": [
    "def print_kwargs(**kwargs):\n",
    "    print('type: ', type(kwargs))\n",
    "    print('print_kwargs: ', kwargs)"
   ]
  },
  {
   "cell_type": "code",
   "execution_count": 33,
   "metadata": {},
   "outputs": [
    {
     "name": "stdout",
     "output_type": "stream",
     "text": [
      "type:  <class 'dict'>\n",
      "args:  {'first': 'a', 'second': 'b'}\n"
     ]
    }
   ],
   "source": [
    "print_kwargs(first= 'a', second='b')"
   ]
  },
  {
   "cell_type": "code",
   "execution_count": 41,
   "metadata": {},
   "outputs": [],
   "source": [
    "def print_kwargs(country, **kwargs):\n",
    "    print('type: ', type(kwargs))\n",
    "    print('print_kwargs: ', kwargs)\n",
    "    print('country: ', country)"
   ]
  },
  {
   "cell_type": "code",
   "execution_count": 42,
   "metadata": {},
   "outputs": [
    {
     "name": "stdout",
     "output_type": "stream",
     "text": [
      "type:  <class 'dict'>\n",
      "print_kwargs:  {'first': 'a', 'second': 'b'}\n",
      "country:  USA\n"
     ]
    }
   ],
   "source": [
    "print_kwargs('USA', first= 'a', second='b')"
   ]
  },
  {
   "cell_type": "code",
   "execution_count": null,
   "metadata": {},
   "outputs": [],
   "source": []
  }
 ],
 "metadata": {
  "kernelspec": {
   "display_name": "base",
   "language": "python",
   "name": "python3"
  },
  "language_info": {
   "codemirror_mode": {
    "name": "ipython",
    "version": 3
   },
   "file_extension": ".py",
   "mimetype": "text/x-python",
   "name": "python",
   "nbconvert_exporter": "python",
   "pygments_lexer": "ipython3",
   "version": "3.10.9"
  },
  "orig_nbformat": 4
 },
 "nbformat": 4,
 "nbformat_minor": 2
}
