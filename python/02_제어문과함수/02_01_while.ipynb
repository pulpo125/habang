{
 "cells": [
  {
   "attachments": {},
   "cell_type": "markdown",
   "metadata": {},
   "source": [
    "## while 문\n",
    "- 조건에 연산자 활용"
   ]
  },
  {
   "cell_type": "code",
   "execution_count": 1,
   "metadata": {},
   "outputs": [
    {
     "name": "stdout",
     "output_type": "stream",
     "text": [
      "1\n",
      "2\n",
      "3\n",
      "4\n",
      "5\n",
      "6\n",
      "7\n",
      "8\n",
      "9\n",
      "10\n"
     ]
    }
   ],
   "source": [
    "num = 1\n",
    "\n",
    "while num <= 10:\n",
    "    print(num)\n",
    "    num += 1"
   ]
  },
  {
   "cell_type": "code",
   "execution_count": 2,
   "metadata": {},
   "outputs": [
    {
     "name": "stdout",
     "output_type": "stream",
     "text": [
      "10\n",
      "9\n",
      "8\n",
      "7\n",
      "6\n",
      "5\n",
      "4\n",
      "3\n",
      "2\n",
      "1\n"
     ]
    }
   ],
   "source": [
    "num = 10\n",
    "\n",
    "while num > 0:\n",
    "    print(num)\n",
    "    num -= 1"
   ]
  },
  {
   "cell_type": "code",
   "execution_count": 4,
   "metadata": {},
   "outputs": [
    {
     "name": "stdout",
     "output_type": "stream",
     "text": [
      "프로그램 종료\n"
     ]
    }
   ],
   "source": [
    "# exit이나 quit이란 입력할 때까지 계속 입력을 받는 기능\n",
    "text = ''\n",
    "while text != 'exit' and text != 'quit':\n",
    "    text = input('값을 입력하세요: ')\n",
    "print('프로그램 종료')"
   ]
  },
  {
   "attachments": {},
   "cell_type": "markdown",
   "metadata": {},
   "source": [
    "- 리스트 자료형 활용"
   ]
  },
  {
   "cell_type": "code",
   "execution_count": 5,
   "metadata": {},
   "outputs": [
    {
     "data": {
      "text/plain": [
       "False"
      ]
     },
     "execution_count": 5,
     "metadata": {},
     "output_type": "execute_result"
    }
   ],
   "source": [
    "bool([])"
   ]
  },
  {
   "cell_type": "code",
   "execution_count": 6,
   "metadata": {},
   "outputs": [
    {
     "data": {
      "text/plain": [
       "True"
      ]
     },
     "execution_count": 6,
     "metadata": {},
     "output_type": "execute_result"
    }
   ],
   "source": [
    "bool([1])"
   ]
  },
  {
   "cell_type": "code",
   "execution_count": 8,
   "metadata": {},
   "outputs": [
    {
     "name": "stdout",
     "output_type": "stream",
     "text": [
      "9\n"
     ]
    }
   ],
   "source": [
    "# 리스트 원소 중 가장 큰 값 찾기\n",
    "numbers = [3, 7, 2, 9, 4, 1]\n",
    "max_value = 0\n",
    "\n",
    "while numbers:\n",
    "    value = numbers.pop()\n",
    "    if value > max_value:\n",
    "        max_value = value\n",
    "\n",
    "print(max_value)\n",
    "#max(numbers)"
   ]
  },
  {
   "attachments": {},
   "cell_type": "markdown",
   "metadata": {},
   "source": [
    "- break 사용"
   ]
  },
  {
   "cell_type": "code",
   "execution_count": 10,
   "metadata": {},
   "outputs": [
    {
     "name": "stdout",
     "output_type": "stream",
     "text": [
      "총합은 6입니다.\n"
     ]
    }
   ],
   "source": [
    "# stop이라고 입력하기 전까지 입력된 숫자를 더하는 것\n",
    "total = 0\n",
    "\n",
    "while True: #True 조건을 입력하게되면 꼭 break를 사용하여 종료해야 한다. 안하면 무한루프 문제가 발생한다\n",
    "    num = input('숫자를 입력하세요(멈추고 싶으면 stop을 입력): ')\n",
    "    if num == 'stop':\n",
    "        break\n",
    "    total += int(num)\n",
    "\n",
    "print(f'총합은 {total}입니다.')"
   ]
  },
  {
   "cell_type": "code",
   "execution_count": 17,
   "metadata": {},
   "outputs": [
    {
     "name": "stdout",
     "output_type": "stream",
     "text": [
      "1-10사이의 정수로 다시 입력해주세요.\n",
      "1-10사이의 정수로 다시 입력해주세요.\n",
      "1-10사이의 정수로 다시 입력해주세요.\n",
      "2\n"
     ]
    }
   ],
   "source": [
    "#문제: 범위에 있는 숫자를 입력할 경우, 그 숫자 출력 후 종료(break)\n",
    "while True:\n",
    "    num = int(input('숫자를 입력하세요: '))\n",
    "    if num > 0 and num <= 10:\n",
    "        print(num)\n",
    "        break\n",
    "    else:\n",
    "        print(\"1-10사이의 정수로 다시 입력해주세요.\")"
   ]
  },
  {
   "cell_type": "code",
   "execution_count": 22,
   "metadata": {},
   "outputs": [
    {
     "name": "stdout",
     "output_type": "stream",
     "text": [
      "200.0\n"
     ]
    }
   ],
   "source": [
    "clicks = [100, -50, 500, -60, 300, 60, 40]\n",
    "total = 0\n",
    "cnt = 0\n",
    "\n",
    "while clicks:\n",
    "    value = clicks.pop()\n",
    "    if value >= 0:\n",
    "        total += value\n",
    "        cnt += 1\n",
    "\n",
    "print(total/cnt)"
   ]
  },
  {
   "cell_type": "code",
   "execution_count": 25,
   "metadata": {},
   "outputs": [
    {
     "name": "stdout",
     "output_type": "stream",
     "text": [
      "200.0\n"
     ]
    }
   ],
   "source": [
    "clicks = [100, -50, 500, -60, 300, 60, 40]\n",
    "total = 0\n",
    "cnt = 0\n",
    "\n",
    "while clicks:\n",
    "    value = clicks.pop()\n",
    "    if value < 0:\n",
    "        continue\n",
    "    else:\n",
    "        total += value\n",
    "        cnt += 1\n",
    "\n",
    "print(total/cnt)"
   ]
  },
  {
   "cell_type": "code",
   "execution_count": 43,
   "metadata": {},
   "outputs": [],
   "source": [
    "#문제 1\n",
    "def sum_n(n):\n",
    "    i = 0\n",
    "    lst = []\n",
    "    while i < n:\n",
    "        i += 1\n",
    "        lst.append(i)\n",
    "    return sum(lst)"
   ]
  },
  {
   "cell_type": "code",
   "execution_count": 44,
   "metadata": {},
   "outputs": [],
   "source": [
    "#answer\n",
    "def sum_n(n):\n",
    "    i = 1\n",
    "    total = 0\n",
    "\n",
    "    while i <= n:\n",
    "        total += i\n",
    "        i += 1\n",
    "        \n",
    "    return total"
   ]
  },
  {
   "cell_type": "code",
   "execution_count": 45,
   "metadata": {},
   "outputs": [],
   "source": [
    "def sum_n(n):\n",
    "    n_list = [i for i in range(1, n+1)]\n",
    "    return sum(n_list)"
   ]
  },
  {
   "cell_type": "code",
   "execution_count": 46,
   "metadata": {},
   "outputs": [],
   "source": [
    "assert sum_n(5) == 15 # 1+2+3+4+5 = 15\n",
    "assert sum_n(7) == 28 # 1+2+3+4+5+6+7 = 28\n",
    "assert sum_n(10) == 55 #1+2+3+4+5+6+7+8+9+10 = 55"
   ]
  },
  {
   "cell_type": "code",
   "execution_count": 73,
   "metadata": {},
   "outputs": [],
   "source": [
    "# 문제 2: 모음 빼고 자음만 출력\n",
    "\n",
    "def remove_vowels(string):\n",
    "    vowels = ['a','e','i','o','u']\n",
    "    i = 0\n",
    "    result = ''\n",
    "    while i < len(string):\n",
    "        if string[i] not in vowels:\n",
    "            result += string[i]\n",
    "        i += 1\n",
    "    return result"
   ]
  },
  {
   "cell_type": "code",
   "execution_count": 75,
   "metadata": {},
   "outputs": [],
   "source": [
    "def remove_vowels(string):\n",
    "    vowels = ['a','e','i','o','u']\n",
    "\n",
    "    while vowels:\n",
    "        vowel = vowels.pop()\n",
    "        string = string.replace(vowel,'')\n",
    "\n",
    "    return string"
   ]
  },
  {
   "cell_type": "code",
   "execution_count": 76,
   "metadata": {},
   "outputs": [],
   "source": [
    "assert remove_vowels('hello') == 'hll'\n",
    "assert remove_vowels('python') == 'pythn'\n",
    "assert remove_vowels('data science') == 'dt scnc'"
   ]
  },
  {
   "cell_type": "code",
   "execution_count": 112,
   "metadata": {},
   "outputs": [
    {
     "data": {
      "text/plain": [
       "['h', 'e', 'l', 'l', 'o']"
      ]
     },
     "execution_count": 112,
     "metadata": {},
     "output_type": "execute_result"
    }
   ],
   "source": [
    "string = 'hello'\n",
    "vowels = ['a','e','i','o','u']\n",
    "i = 0\n",
    "list_st = list(string)\n",
    "list_st"
   ]
  },
  {
   "cell_type": "code",
   "execution_count": 105,
   "metadata": {},
   "outputs": [
    {
     "name": "stdout",
     "output_type": "stream",
     "text": [
      "['h', 'l', 'l']\n"
     ]
    }
   ],
   "source": [
    "string = 'hello'\n",
    "vowels = ['a','e','i','o','u']\n",
    "i = 0\n",
    "list_st = list(string)\n",
    "result = []\n",
    "while i < len(string) :\n",
    "    if list_st[i] not in vowels :\n",
    "        result.append(list_st[i])\n",
    "    i += 1\n",
    "print(result)"
   ]
  }
 ],
 "metadata": {
  "kernelspec": {
   "display_name": "base",
   "language": "python",
   "name": "python3"
  },
  "language_info": {
   "codemirror_mode": {
    "name": "ipython",
    "version": 3
   },
   "file_extension": ".py",
   "mimetype": "text/x-python",
   "name": "python",
   "nbconvert_exporter": "python",
   "pygments_lexer": "ipython3",
   "version": "3.10.9"
  },
  "orig_nbformat": 4
 },
 "nbformat": 4,
 "nbformat_minor": 2
}
