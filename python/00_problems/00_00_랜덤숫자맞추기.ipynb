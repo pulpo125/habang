{
 "cells": [
  {
   "cell_type": "code",
   "execution_count": 2,
   "metadata": {},
   "outputs": [],
   "source": [
    "# 랜덤 숫자 맞추기\n",
    "import random"
   ]
  },
  {
   "cell_type": "code",
   "execution_count": 4,
   "metadata": {},
   "outputs": [
    {
     "data": {
      "text/plain": [
       "98"
      ]
     },
     "execution_count": 4,
     "metadata": {},
     "output_type": "execute_result"
    }
   ],
   "source": [
    "random.randint(1, 100) #1 <= n <= 100"
   ]
  },
  {
   "cell_type": "code",
   "execution_count": null,
   "metadata": {},
   "outputs": [],
   "source": [
    "answer = random.randint(1, 100) #1 <= n <= 100\n",
    "\n",
    "# while문 사용자에게 입력을 받는다\n",
    "# 사용자가 입력한 값(user_value) < answer 이면 더 높은 값을 입력해주세요\n",
    "# 사용자가 입력한 값(user_value) > answer 이면 더 작은 값을 입력해주세요\n",
    "# 사용자가 입력한 값(user_value) == answer 이면 정답입니다. 종료"
   ]
  },
  {
   "cell_type": "code",
   "execution_count": 5,
   "metadata": {},
   "outputs": [
    {
     "name": "stdout",
     "output_type": "stream",
     "text": [
      "입력한 숫자보다 큽니다. 더 큰 숫자를 입력하세요.\n",
      "입력한 숫자보다 큽니다. 더 큰 숫자를 입력하세요.\n",
      "입력한 숫자보다 작습니다. 더 작은 숫자를 입력하세요.\n",
      "입력한 숫자보다 작습니다. 더 작은 숫자를 입력하세요.\n",
      "입력한 숫자보다 큽니다. 더 큰 숫자를 입력하세요.\n",
      "입력한 숫자보다 큽니다. 더 큰 숫자를 입력하세요.\n",
      "입력한 숫자보다 큽니다. 더 큰 숫자를 입력하세요.\n",
      "입력한 숫자보다 큽니다. 더 큰 숫자를 입력하세요.\n",
      "정답입니다! 입력한 숫자와 일치합니다.\n"
     ]
    }
   ],
   "source": [
    "answer = random.randint(1, 100)\n",
    "\n",
    "while True:\n",
    "    user_value = int(input(\"숫자를 입력하세요 (1부터 100 사이)\"))\n",
    "    if answer < user_value:\n",
    "        print(\"입력한 숫자보다 작습니다. 더 작은 숫자를 입력하세요.\")\n",
    "    elif answer > user_value:\n",
    "        print(\"입력한 숫자보다 큽니다. 더 큰 숫자를 입력하세요.\")\n",
    "    else:\n",
    "        print(\"정답입니다! 입력한 숫자와 일치합니다.\")\n",
    "        break"
   ]
  },
  {
   "cell_type": "code",
   "execution_count": 3,
   "metadata": {},
   "outputs": [
    {
     "name": "stdout",
     "output_type": "stream",
     "text": [
      "더 작은 값을 입력해주세요\n",
      "더 작은 값을 입력해주세요\n",
      "정답입니다. 종료\n"
     ]
    }
   ],
   "source": [
    "answer = random.randint(1, 100)\n",
    "\n",
    "your_input = int(input())\n",
    "while your_input != answer:\n",
    "    print('더 큰 값을 입력해주세요') if your_input < answer else print('더 작은 값을 입력해주세요')\n",
    "    your_input = int(input())\n",
    "print('정답입니다. 종료')"
   ]
  },
  {
   "cell_type": "code",
   "execution_count": 20,
   "metadata": {},
   "outputs": [],
   "source": [
    "import random\n",
    "\n",
    "def guess_number(start=1,end=100):\n",
    "    answer = random.randint(start, end)\n",
    "    guess_cnt = 0\n",
    "\n",
    "    while True: # if (while 조건 == True) -> 코드에 break 필요, 아니라면 break 사용 안 함\n",
    "        user_guess = int(input(f'{start}부터 {end} 중에 숫자를 맞춰봐:'))\n",
    "        guess_cnt += 1\n",
    "        \n",
    "        if user_guess > answer:\n",
    "            print('더 작은 수를 입력해주세요.')\n",
    "        elif user_guess < answer:\n",
    "            print('더 큰 수를 입력해주세요.')\n",
    "        else:\n",
    "            print('정답입니다!!!')\n",
    "            return guess_cnt"
   ]
  },
  {
   "cell_type": "code",
   "execution_count": 18,
   "metadata": {},
   "outputs": [
    {
     "name": "stdout",
     "output_type": "stream",
     "text": [
      "입력한 숫자보다 작습니다. 더 작은 숫자를 입력하세요.\n",
      "입력한 숫자보다 큽니다. 더 큰 숫자를 입력하세요.\n",
      "입력한 숫자보다 큽니다. 더 큰 숫자를 입력하세요.\n",
      "정답입니다! 입력한 숫자와 일치합니다.\n"
     ]
    }
   ],
   "source": [
    "my_guess_cnt = guess_number()"
   ]
  },
  {
   "cell_type": "code",
   "execution_count": 21,
   "metadata": {},
   "outputs": [
    {
     "name": "stdout",
     "output_type": "stream",
     "text": [
      "더 작은 수를 입력해주세요.\n",
      "더 작은 수를 입력해주세요.\n",
      "정답입니다!!!\n",
      "------------\n",
      "더 큰 수를 입력해주세요.\n"
     ]
    },
    {
     "ename": "ValueError",
     "evalue": "invalid literal for int() with base 10: ''",
     "output_type": "error",
     "traceback": [
      "\u001b[1;31m---------------------------------------------------------------------------\u001b[0m",
      "\u001b[1;31mValueError\u001b[0m                                Traceback (most recent call last)",
      "Cell \u001b[1;32mIn[21], line 6\u001b[0m\n\u001b[0;32m      3\u001b[0m guess_cnt_list \u001b[39m=\u001b[39m []\n\u001b[0;32m      5\u001b[0m \u001b[39mfor\u001b[39;00m _ \u001b[39min\u001b[39;00m \u001b[39mrange\u001b[39m(game_num):\n\u001b[1;32m----> 6\u001b[0m     guess_cnt \u001b[39m=\u001b[39m guess_number(start\u001b[39m=\u001b[39;49m\u001b[39m1\u001b[39;49m,end\u001b[39m=\u001b[39;49m\u001b[39m10\u001b[39;49m)\n\u001b[0;32m      7\u001b[0m     guess_cnt_list\u001b[39m.\u001b[39mappend(guess_cnt)\n\u001b[0;32m      8\u001b[0m     \u001b[39mprint\u001b[39m(\u001b[39m'\u001b[39m\u001b[39m------------\u001b[39m\u001b[39m'\u001b[39m)\n",
      "Cell \u001b[1;32mIn[20], line 8\u001b[0m, in \u001b[0;36mguess_number\u001b[1;34m(start, end)\u001b[0m\n\u001b[0;32m      5\u001b[0m guess_cnt \u001b[39m=\u001b[39m \u001b[39m0\u001b[39m\n\u001b[0;32m      7\u001b[0m \u001b[39mwhile\u001b[39;00m \u001b[39mTrue\u001b[39;00m: \u001b[39m# if (while 조건 == True) -> 코드에 break 필요, 아니라면 break 사용 안 함\u001b[39;00m\n\u001b[1;32m----> 8\u001b[0m     user_guess \u001b[39m=\u001b[39m \u001b[39mint\u001b[39;49m(\u001b[39minput\u001b[39;49m(\u001b[39mf\u001b[39;49m\u001b[39m'\u001b[39;49m\u001b[39m{\u001b[39;49;00mstart\u001b[39m}\u001b[39;49;00m\u001b[39m부터 \u001b[39;49m\u001b[39m{\u001b[39;49;00mend\u001b[39m}\u001b[39;49;00m\u001b[39m 중에 숫자를 맞춰봐:\u001b[39;49m\u001b[39m'\u001b[39;49m))\n\u001b[0;32m      9\u001b[0m     guess_cnt \u001b[39m+\u001b[39m\u001b[39m=\u001b[39m \u001b[39m1\u001b[39m\n\u001b[0;32m     11\u001b[0m     \u001b[39mif\u001b[39;00m user_guess \u001b[39m>\u001b[39m answer:\n",
      "\u001b[1;31mValueError\u001b[0m: invalid literal for int() with base 10: ''"
     ]
    }
   ],
   "source": [
    "#import numpy as np\n",
    "game_num = 3\n",
    "guess_cnt_list = []\n",
    "\n",
    "for _ in range(game_num):\n",
    "    guess_cnt = guess_number(start=1,end=10)\n",
    "    guess_cnt_list.append(guess_cnt)\n",
    "    print('------------')\n",
    "\n",
    "#print(f'평균 {np.mean(guess_cnt_list)}에 정답을 맞췄어요!')"
   ]
  },
  {
   "cell_type": "code",
   "execution_count": 14,
   "metadata": {},
   "outputs": [
    {
     "data": {
      "text/plain": [
       "2.0"
      ]
     },
     "execution_count": 14,
     "metadata": {},
     "output_type": "execute_result"
    }
   ],
   "source": [
    "lst = [1, 2, 3]\n",
    "np.mean(lst)"
   ]
  },
  {
   "cell_type": "code",
   "execution_count": 7,
   "metadata": {},
   "outputs": [],
   "source": [
    "import random\n",
    "\n",
    "def guess_number(start=1,end=100):\n",
    "    answer = random.randint(start, end)\n",
    "    guess_cnt = 0\n",
    "\n",
    "    while True: # if (while 조건 == True) -> 코드에 break 필요, 아니라면 break 사용 안 함\n",
    "        user_guess = int(input(f'{start}부터 {end} 중에 숫자를 맞춰봐:'))\n",
    "        guess_cnt += 1\n",
    "        \n",
    "        if user_guess > answer:\n",
    "            print('더 작은 수를 입력해주세요.')\n",
    "        elif user_guess < answer:\n",
    "            print('더 큰 수를 입력해주세요.')\n",
    "        else:\n",
    "            print('정답입니다!!!')\n",
    "            return guess_cnt"
   ]
  },
  {
   "cell_type": "code",
   "execution_count": 2,
   "metadata": {},
   "outputs": [
    {
     "ename": "NameError",
     "evalue": "name 'guess_number' is not defined",
     "output_type": "error",
     "traceback": [
      "\u001b[1;31m---------------------------------------------------------------------------\u001b[0m",
      "\u001b[1;31mNameError\u001b[0m                                 Traceback (most recent call last)",
      "Cell \u001b[1;32mIn[2], line 1\u001b[0m\n\u001b[1;32m----> 1\u001b[0m my_guess_cnt \u001b[39m=\u001b[39m guess_number()\n",
      "\u001b[1;31mNameError\u001b[0m: name 'guess_number' is not defined"
     ]
    }
   ],
   "source": [
    "my_guess_cnt = guess_number()"
   ]
  },
  {
   "cell_type": "code",
   "execution_count": 11,
   "metadata": {},
   "outputs": [
    {
     "data": {
      "text/plain": [
       "8"
      ]
     },
     "execution_count": 11,
     "metadata": {},
     "output_type": "execute_result"
    }
   ],
   "source": [
    "my_guess_cnt"
   ]
  },
  {
   "cell_type": "code",
   "execution_count": 9,
   "metadata": {},
   "outputs": [
    {
     "name": "stdout",
     "output_type": "stream",
     "text": [
      "정답입니다!!!\n",
      "------------\n",
      "더 작은 수를 입력해주세요.\n",
      "더 작은 수를 입력해주세요.\n",
      "더 작은 수를 입력해주세요.\n",
      "더 큰 수를 입력해주세요.\n",
      "더 작은 수를 입력해주세요.\n",
      "정답입니다!!!\n",
      "------------\n"
     ]
    },
    {
     "ename": "ValueError",
     "evalue": "invalid literal for int() with base 10: '1=3'",
     "output_type": "error",
     "traceback": [
      "\u001b[1;31m---------------------------------------------------------------------------\u001b[0m",
      "\u001b[1;31mValueError\u001b[0m                                Traceback (most recent call last)",
      "Cell \u001b[1;32mIn[9], line 5\u001b[0m\n\u001b[0;32m      2\u001b[0m guess_cnt_list \u001b[39m=\u001b[39m []\n\u001b[0;32m      4\u001b[0m \u001b[39mfor\u001b[39;00m _ \u001b[39min\u001b[39;00m \u001b[39mrange\u001b[39m(game_num):\n\u001b[1;32m----> 5\u001b[0m     guess_cnt \u001b[39m=\u001b[39m guess_number(start\u001b[39m=\u001b[39;49m\u001b[39m1\u001b[39;49m,end\u001b[39m=\u001b[39;49m\u001b[39m10\u001b[39;49m)\n\u001b[0;32m      6\u001b[0m     guess_cnt_list\u001b[39m.\u001b[39mappend(guess_cnt)\n\u001b[0;32m      7\u001b[0m     \u001b[39mprint\u001b[39m(\u001b[39m'\u001b[39m\u001b[39m------------\u001b[39m\u001b[39m'\u001b[39m)\n",
      "Cell \u001b[1;32mIn[7], line 8\u001b[0m, in \u001b[0;36mguess_number\u001b[1;34m(start, end)\u001b[0m\n\u001b[0;32m      5\u001b[0m guess_cnt \u001b[39m=\u001b[39m \u001b[39m0\u001b[39m\n\u001b[0;32m      7\u001b[0m \u001b[39mwhile\u001b[39;00m \u001b[39mTrue\u001b[39;00m: \u001b[39m# if (while 조건 == True) -> 코드에 break 필요, 아니라면 break 사용 안 함\u001b[39;00m\n\u001b[1;32m----> 8\u001b[0m     user_guess \u001b[39m=\u001b[39m \u001b[39mint\u001b[39;49m(\u001b[39minput\u001b[39;49m(\u001b[39mf\u001b[39;49m\u001b[39m'\u001b[39;49m\u001b[39m{\u001b[39;49;00mstart\u001b[39m}\u001b[39;49;00m\u001b[39m부터 \u001b[39;49m\u001b[39m{\u001b[39;49;00mend\u001b[39m}\u001b[39;49;00m\u001b[39m 중에 숫자를 맞춰봐:\u001b[39;49m\u001b[39m'\u001b[39;49m))\n\u001b[0;32m      9\u001b[0m     guess_cnt \u001b[39m+\u001b[39m\u001b[39m=\u001b[39m \u001b[39m1\u001b[39m\n\u001b[0;32m     11\u001b[0m     \u001b[39mif\u001b[39;00m user_guess \u001b[39m>\u001b[39m answer:\n",
      "\u001b[1;31mValueError\u001b[0m: invalid literal for int() with base 10: '1=3'"
     ]
    }
   ],
   "source": [
    "game_num = 3\n",
    "guess_cnt_list = []\n",
    "\n",
    "for _ in range(game_num):\n",
    "    guess_cnt = guess_number(start=1,end=10)\n",
    "    guess_cnt_list.append(guess_cnt)\n",
    "    print('------------')"
   ]
  }
 ],
 "metadata": {
  "kernelspec": {
   "display_name": "base",
   "language": "python",
   "name": "python3"
  },
  "language_info": {
   "codemirror_mode": {
    "name": "ipython",
    "version": 3
   },
   "file_extension": ".py",
   "mimetype": "text/x-python",
   "name": "python",
   "nbconvert_exporter": "python",
   "pygments_lexer": "ipython3",
   "version": "3.10.9"
  },
  "orig_nbformat": 4
 },
 "nbformat": 4,
 "nbformat_minor": 2
}
