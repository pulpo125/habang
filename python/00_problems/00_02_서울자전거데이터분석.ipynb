{
 "cells": [
  {
   "attachments": {},
   "cell_type": "markdown",
   "metadata": {},
   "source": [
    "## 서울 자전거 데이터 분석"
   ]
  },
  {
   "cell_type": "code",
   "execution_count": 1,
   "metadata": {},
   "outputs": [],
   "source": [
    "# 파일 읽기 (상대 경로로 파일 위치 입력)\n",
    "with open('../0_data/SeoulBikeData.csv','r') as f:\n",
    "    data = f.readlines()"
   ]
  },
  {
   "cell_type": "code",
   "execution_count": 3,
   "metadata": {},
   "outputs": [
    {
     "data": {
      "text/plain": [
       "'Date,Rented Bike Count,Hour,Temperature,Humidity(%),Wind speed (m/s),Visibility (10m),Dew point temperature,Solar Radiation (MJ/m2),Rainfall(mm),Snowfall (cm),Seasons,Holiday,Functioning Day\\n'"
      ]
     },
     "execution_count": 3,
     "metadata": {},
     "output_type": "execute_result"
    }
   ],
   "source": [
    "data[0] # 컬럼명"
   ]
  },
  {
   "attachments": {},
   "cell_type": "markdown",
   "metadata": {},
   "source": [
    "- 1단계: 첫 행(컬럼명 있는 행) 없애기(8761개 -> 8760개로) "
   ]
  },
  {
   "cell_type": "code",
   "execution_count": 3,
   "metadata": {},
   "outputs": [],
   "source": [
    "data = data[1:]  \n",
    "assert len(data) == 8760 # 개수 8760 맞는지 체크"
   ]
  },
  {
   "cell_type": "code",
   "execution_count": 4,
   "metadata": {},
   "outputs": [
    {
     "name": "stdout",
     "output_type": "stream",
     "text": [
      "첫줄 확인: 01/12/2017,254,0,-5.2,37,2.2,2000,-17.6,0,0,0,Winter,No Holiday,Yes\n",
      "\n",
      "마지막줄 확인: 30/11/2018,584,23,1.9,43,1.3,1909,-9.3,0,0,0,Autumn,No Holiday,Yes\n",
      "\n"
     ]
    }
   ],
   "source": [
    "# 데이터 잘 들어갔는지 앞에랑 뒤에 확인\n",
    "print('첫줄 확인:', data[0])\n",
    "print('마지막줄 확인:', data[-1])"
   ]
  },
  {
   "attachments": {},
   "cell_type": "markdown",
   "metadata": {},
   "source": [
    "- 2단계: Date 원소가 있는 컬럼만 추출 ['01/12/2017','01/12/2017','01/12/2017',....,'DD/MM/YYYY'] v\n",
    "- 3단계 : Rented Bike Count 컬럼만 추출 ['254','300', .... '250'] v\n",
    "- 4단계 : Date 컬럼에서 월만 추출하여 정수로 변환 => [12,12,...,1,1,...,11,11,...,MM] (정수 변환 없이 문자열로도 해결 가능)\n",
    "- 5단계 : Rented Bike Count 컬럼의 값을 정수로 변경 [254,300, .... 250])"
   ]
  },
  {
   "cell_type": "code",
   "execution_count": 5,
   "metadata": {},
   "outputs": [
    {
     "data": {
      "text/plain": [
       "['01/12/2017',\n",
       " '254',\n",
       " '0',\n",
       " '-5.2',\n",
       " '37',\n",
       " '2.2',\n",
       " '2000',\n",
       " '-17.6',\n",
       " '0',\n",
       " '0',\n",
       " '0',\n",
       " 'Winter',\n",
       " 'No Holiday',\n",
       " 'Yes\\n']"
      ]
     },
     "execution_count": 5,
     "metadata": {},
     "output_type": "execute_result"
    }
   ],
   "source": [
    "# 한 줄에 있는 문자열을 원소별로 구분하는 것 확인\n",
    "# 콤마(,)로 구분되어 있으므로 문자열의 split() 함수 사용. 인수로 콤마(,)를 입력해야 함\n",
    "# 예시 -> 각 행 마다 date와 rented bike count 를 가지고 와서 따로 저장해야 함\n",
    "data[0].split(',')"
   ]
  },
  {
   "attachments": {},
   "cell_type": "markdown",
   "metadata": {},
   "source": [
    "| 단계별 접근 (2단계 -> 3단계 -> 4단계 -> 5단계)\n",
    "- 2~3단계"
   ]
  },
  {
   "cell_type": "code",
   "execution_count": 6,
   "metadata": {},
   "outputs": [
    {
     "name": "stdout",
     "output_type": "stream",
     "text": [
      "각 리스트 원소 개수 확인: 8760 8760\n"
     ]
    }
   ],
   "source": [
    "# 2단계와 3단계 \n",
    "date_list = []\n",
    "bike_cnt_list = []\n",
    "\n",
    "for row in data:\n",
    "    splited_row = row.split(',')  # ['01/12/2017', '254', '0', ...] (각 행의 원소가 리스트에 들어감)\n",
    "    date = splited_row[0] # 날짜 있는 원소만 인덱싱\n",
    "    bike_cnt = splited_row[1] # 자전거 대여량 있는 원소만 인덱싱\n",
    "\n",
    "    date_list.append(date) # 날짜만 포함시킬 리스트에 더하기\n",
    "    bike_cnt_list.append(bike_cnt) # 자전거 대여량만 포함시킬 리스트에 더하기\n",
    "\n",
    "print('각 리스트 원소 개수 확인:', len(date_list), len(bike_cnt_list))"
   ]
  },
  {
   "attachments": {},
   "cell_type": "markdown",
   "metadata": {},
   "source": [
    "- 4단계"
   ]
  },
  {
   "cell_type": "code",
   "execution_count": 7,
   "metadata": {},
   "outputs": [
    {
     "data": {
      "text/plain": [
       "['01/12/2017', '01/12/2017', '01/12/2017', '01/12/2017', '01/12/2017']"
      ]
     },
     "execution_count": 7,
     "metadata": {},
     "output_type": "execute_result"
    }
   ],
   "source": [
    "# 앞에 5개 내용 확인\n",
    "date_list[0:5]"
   ]
  },
  {
   "cell_type": "code",
   "execution_count": 8,
   "metadata": {},
   "outputs": [
    {
     "name": "stdout",
     "output_type": "stream",
     "text": [
      "01/12/2017\n",
      "['01', '12', '2017']\n",
      "12\n",
      "12\n"
     ]
    }
   ],
   "source": [
    "# 4단계: 날짜 리스트에서 월만 추출 후 정수 변환\n",
    "# 한 개의 원소를 통해 어떻게 할지 확인 (첫번째 방식)\n",
    "print(date_list[0])\n",
    "print(date_list[0].split('/')) # split 함수 사용\n",
    "print(date_list[0].split('/')[1]) # 1번째 원소 인덱싱 (인덱싱은 0부터 시작)\n",
    "print(int(date_list[0].split('/')[1])) # 데이터 타입 정수로 변경"
   ]
  },
  {
   "cell_type": "code",
   "execution_count": 9,
   "metadata": {},
   "outputs": [
    {
     "name": "stdout",
     "output_type": "stream",
     "text": [
      "01/12/2017\n",
      "12\n",
      "12\n"
     ]
    }
   ],
   "source": [
    "# 한 개의 원소를 통해 어떻게 할지 확인 (두번째 방식)\n",
    "print(date_list[0])\n",
    "print(date_list[0][3:5]) # 슬라이싱 활용\n",
    "print(int(date_list[0][3:5])) # 데이터 타입 정수로 변경"
   ]
  },
  {
   "cell_type": "code",
   "execution_count": 10,
   "metadata": {},
   "outputs": [
    {
     "data": {
      "text/plain": [
       "8760"
      ]
     },
     "execution_count": 10,
     "metadata": {},
     "output_type": "execute_result"
    }
   ],
   "source": [
    "# 리스트 안에 for 문 사용 + 두번째 방식 사용\n",
    "month_list = [int(date[3:5]) for date in date_list]\n",
    "len(month_list)"
   ]
  },
  {
   "cell_type": "code",
   "execution_count": 11,
   "metadata": {},
   "outputs": [
    {
     "data": {
      "text/plain": [
       "[12, 12, 12, 12, 12]"
      ]
     },
     "execution_count": 11,
     "metadata": {},
     "output_type": "execute_result"
    }
   ],
   "source": [
    "# 5개만 확인\n",
    "month_list[:5]"
   ]
  },
  {
   "attachments": {},
   "cell_type": "markdown",
   "metadata": {},
   "source": [
    "- 5단계"
   ]
  },
  {
   "cell_type": "code",
   "execution_count": 12,
   "metadata": {},
   "outputs": [
    {
     "data": {
      "text/plain": [
       "['254', '204', '173', '107', '78']"
      ]
     },
     "execution_count": 12,
     "metadata": {},
     "output_type": "execute_result"
    }
   ],
   "source": [
    "# 자전거 대여량 앞에 5개 내용 확인\n",
    "bike_cnt_list[:5]"
   ]
  },
  {
   "cell_type": "code",
   "execution_count": 13,
   "metadata": {},
   "outputs": [
    {
     "data": {
      "text/plain": [
       "8760"
      ]
     },
     "execution_count": 13,
     "metadata": {},
     "output_type": "execute_result"
    }
   ],
   "source": [
    "# 리스트 안에 for 문 사용 + int 함수 사용하여 정수로 변환\n",
    "bike_cnt_int_list = [int(bike_cnt) for bike_cnt in bike_cnt_list]\n",
    "len(bike_cnt_int_list)"
   ]
  },
  {
   "cell_type": "code",
   "execution_count": 14,
   "metadata": {},
   "outputs": [
    {
     "data": {
      "text/plain": [
       "[254, 204, 173, 107, 78]"
      ]
     },
     "execution_count": 14,
     "metadata": {},
     "output_type": "execute_result"
    }
   ],
   "source": [
    "# 5개만 확인\n",
    "bike_cnt_int_list[:5]"
   ]
  },
  {
   "cell_type": "code",
   "execution_count": 15,
   "metadata": {},
   "outputs": [],
   "source": [
    "# 4단계 잘 되었는지 체크 (개수와 원소 타입 확인)\n",
    "assert len(month_list) == 8760 and type(month_list[0]) == int\n",
    "# 5단계 잘 되었는지 체크 (개수와 원소 타입 확인)\n",
    "assert len(bike_cnt_int_list) == 8760 and type(bike_cnt_int_list[0]) == int\n"
   ]
  },
  {
   "attachments": {},
   "cell_type": "markdown",
   "metadata": {},
   "source": [
    "- 6 단계: 반복문과 조건문을 적절히 활용하여, Date에 있는 원소가 1월인 것끼리 Rented Bike Count 더하고 개수로 나누고, 2월도, 3월도 같은 작업 반복, ... "
   ]
  },
  {
   "cell_type": "code",
   "execution_count": 16,
   "metadata": {},
   "outputs": [
    {
     "data": {
      "text/plain": [
       "{1: [],\n",
       " 2: [],\n",
       " 3: [],\n",
       " 4: [],\n",
       " 5: [],\n",
       " 6: [],\n",
       " 7: [],\n",
       " 8: [],\n",
       " 9: [],\n",
       " 10: [],\n",
       " 11: [],\n",
       " 12: []}"
      ]
     },
     "execution_count": 16,
     "metadata": {},
     "output_type": "execute_result"
    }
   ],
   "source": [
    "# 딕셔너리를 활용하여 월별로 자전거 대여량을 리스트에 더하기\n",
    "# {1: [123,321,100, ...], 2: [234,567,123, ...], ... 12: [10,123,333] } (임의 숫자 포함)\n",
    "month_bike_cnt_list_dict = {i: [] for i in range(1,13)}\n",
    "month_bike_cnt_list_dict"
   ]
  },
  {
   "cell_type": "code",
   "execution_count": 17,
   "metadata": {},
   "outputs": [
    {
     "data": {
      "text/plain": [
       "(12, 254)"
      ]
     },
     "execution_count": 17,
     "metadata": {},
     "output_type": "execute_result"
    }
   ],
   "source": [
    "# zip을 통해 한 번에 월, 자전거대여량을 튜플로 받을 수 있도록 함\n",
    "next(zip(month_list, bike_cnt_int_list))"
   ]
  },
  {
   "cell_type": "code",
   "execution_count": 18,
   "metadata": {},
   "outputs": [],
   "source": [
    "for month, bike_cnt_int in zip(month_list, bike_cnt_int_list):\n",
    "    # 딕셔너리의 key의 value는 딕셔너리[key]로 접근 가능\n",
    "    # value가 리스트이므로 append함수를 함수를 사용하여 더할 수 있음\n",
    "    month_bike_cnt_list_dict[month].append(bike_cnt_int)"
   ]
  },
  {
   "cell_type": "code",
   "execution_count": 19,
   "metadata": {},
   "outputs": [
    {
     "name": "stdout",
     "output_type": "stream",
     "text": [
      "1월: [206, 230, 178, 119, 62, 61, 65, 81, 89, 121]\n",
      "2월: [122, 149, 103, 81, 37, 51, 95, 244, 459, 259]\n",
      "3월: [71, 147, 180, 92, 28, 11, 33, 61, 148, 160]\n",
      "4월: [579, 453, 322, 221, 147, 96, 110, 169, 342, 485]\n",
      "5월: [782, 705, 534, 343, 187, 166, 306, 614, 1067, 1024]\n",
      "6월: [963, 776, 554, 366, 265, 306, 672, 1421, 2149, 1219]\n",
      "7월: [865, 740, 586, 368, 211, 54, 60, 25, 20, 9]\n",
      "8월: [875, 724, 501, 362, 250, 315, 622, 1061, 1550, 853]\n",
      "9월: [1075, 975, 785, 514, 338, 260, 362, 511, 812, 925]\n",
      "10월: [680, 402, 262, 179, 143, 246, 632, 1429, 2101, 1106]\n",
      "11월: [584, 524, 362, 242, 147, 154, 433, 1055, 1899, 1011]\n",
      "12월: [254, 204, 173, 107, 78, 100, 181, 460, 930, 490]\n"
     ]
    }
   ],
   "source": [
    "# 각 월마다 10개씩 내용 확인\n",
    "for i in month_bike_cnt_list_dict.keys():\n",
    "    print(f'{i}월: {month_bike_cnt_list_dict[i][:10]}')"
   ]
  },
  {
   "attachments": {},
   "cell_type": "markdown",
   "metadata": {},
   "source": [
    "- 월별 자전거 대여량 평균!"
   ]
  },
  {
   "cell_type": "code",
   "execution_count": 20,
   "metadata": {},
   "outputs": [
    {
     "name": "stdout",
     "output_type": "stream",
     "text": [
      "1월: 201.62\n",
      "2월: 225.94\n",
      "3월: 511.55\n",
      "4월: 728.09\n",
      "5월: 950.39\n",
      "6월: 1245.68\n",
      "7월: 987.18\n",
      "8월: 876.19\n",
      "9월: 935.57\n",
      "10월: 874.56\n",
      "11월: 646.83\n",
      "12월: 249.10\n"
     ]
    }
   ],
   "source": [
    "for i in month_bike_cnt_list_dict.keys():\n",
    "    print('{}월: {:.2f}'.format(i, sum(month_bike_cnt_list_dict[i]) / len(month_bike_cnt_list_dict[i])))"
   ]
  },
  {
   "attachments": {},
   "cell_type": "markdown",
   "metadata": {},
   "source": [
    "## 부록\n",
    "다른 접근 (2+3+4+5단계 동시에) "
   ]
  },
  {
   "cell_type": "code",
   "execution_count": 21,
   "metadata": {},
   "outputs": [
    {
     "data": {
      "text/plain": [
       "8760"
      ]
     },
     "execution_count": 21,
     "metadata": {},
     "output_type": "execute_result"
    }
   ],
   "source": [
    "with open('data/SeoulBikeData.csv','r') as f:\n",
    "    data = f.readlines()\n",
    "data = data[1:]\n",
    "len(data)"
   ]
  },
  {
   "cell_type": "code",
   "execution_count": 22,
   "metadata": {},
   "outputs": [
    {
     "name": "stdout",
     "output_type": "stream",
     "text": [
      "각 리스트 원소 개수 확인: 8760 8760\n"
     ]
    }
   ],
   "source": [
    "month_list = []\n",
    "bike_cnt_int_list = []\n",
    "\n",
    "for row in data:\n",
    "    splited_row = row.split(',')\n",
    "    month = int(splited_row[0][3:5]) # 한 번에 월 추출\n",
    "    bike_cnt_int = int(splited_row[1]) # 한 번에 정수형으로 변환\n",
    "\n",
    "    month_list.append(month)\n",
    "    bike_cnt_int_list.append(bike_cnt_int)\n",
    "\n",
    "print('각 리스트 원소 개수 확인:', len(month_list), len(bike_cnt_int_list))"
   ]
  },
  {
   "cell_type": "code",
   "execution_count": 23,
   "metadata": {},
   "outputs": [
    {
     "name": "stdout",
     "output_type": "stream",
     "text": [
      "month_list: [12, 12, 12, 12, 12, 12, 12, 12, 12, 12]\n",
      "bike_cnt_int_list [254, 204, 173, 107, 78, 100, 181, 460, 930, 490]\n"
     ]
    }
   ],
   "source": [
    "# month_list, bike_cnt_int_list 원소 10개씩 확인\n",
    "print('month_list:', month_list[:10])\n",
    "print('bike_cnt_int_list', bike_cnt_int_list[:10])"
   ]
  },
  {
   "cell_type": "code",
   "execution_count": 24,
   "metadata": {},
   "outputs": [],
   "source": [
    "month_bike_cnt_list_dict = {i: [] for i in range(1,13)}\n",
    "for month, bike_cnt_int in zip(month_list, bike_cnt_int_list):\n",
    "    month_bike_cnt_list_dict[month].append(bike_cnt_int)"
   ]
  },
  {
   "cell_type": "code",
   "execution_count": 25,
   "metadata": {},
   "outputs": [
    {
     "name": "stdout",
     "output_type": "stream",
     "text": [
      "1월: 201.62\n",
      "2월: 225.94\n",
      "3월: 511.55\n",
      "4월: 728.09\n",
      "5월: 950.39\n",
      "6월: 1245.68\n",
      "7월: 987.18\n",
      "8월: 876.19\n",
      "9월: 935.57\n",
      "10월: 874.56\n",
      "11월: 646.83\n",
      "12월: 249.10\n"
     ]
    }
   ],
   "source": [
    "for i in month_bike_cnt_list_dict.keys():\n",
    "    print('{}월: {:.2f}'.format(i, sum(month_bike_cnt_list_dict[i]) / len(month_bike_cnt_list_dict[i])))"
   ]
  },
  {
   "attachments": {},
   "cell_type": "markdown",
   "metadata": {},
   "source": [
    "- 더 간단한 코드 "
   ]
  },
  {
   "cell_type": "code",
   "execution_count": 26,
   "metadata": {},
   "outputs": [
    {
     "data": {
      "text/plain": [
       "8760"
      ]
     },
     "execution_count": 26,
     "metadata": {},
     "output_type": "execute_result"
    }
   ],
   "source": [
    "with open('data/SeoulBikeData.csv','r') as f:\n",
    "    data = f.readlines()\n",
    "data = data[1:]\n",
    "len(data)"
   ]
  },
  {
   "cell_type": "code",
   "execution_count": 28,
   "metadata": {},
   "outputs": [
    {
     "name": "stdout",
     "output_type": "stream",
     "text": [
      "각 리스트 원소 개수 확인: 8760 8760\n"
     ]
    }
   ],
   "source": [
    "# 2~5 단계\n",
    "month_list = [int(row.split(',')[0][3:5]) for row in data]\n",
    "bike_cnt_int_list = [int(row.split(',')[1]) for row in data]\n",
    "\n",
    "print('각 리스트 원소 개수 확인:', len(month_list), len(bike_cnt_int_list))"
   ]
  },
  {
   "cell_type": "code",
   "execution_count": 29,
   "metadata": {},
   "outputs": [],
   "source": [
    "month_bike_cnt_list_dict = {i: [] for i in range(1,13)}\n",
    "for month, bike_cnt_int in zip(month_list, bike_cnt_int_list):\n",
    "    month_bike_cnt_list_dict[month].append(bike_cnt_int)"
   ]
  },
  {
   "cell_type": "code",
   "execution_count": 30,
   "metadata": {},
   "outputs": [
    {
     "name": "stdout",
     "output_type": "stream",
     "text": [
      "1월: 201.62\n",
      "2월: 225.94\n",
      "3월: 511.55\n",
      "4월: 728.09\n",
      "5월: 950.39\n",
      "6월: 1245.68\n",
      "7월: 987.18\n",
      "8월: 876.19\n",
      "9월: 935.57\n",
      "10월: 874.56\n",
      "11월: 646.83\n",
      "12월: 249.10\n"
     ]
    }
   ],
   "source": [
    "for i in month_bike_cnt_list_dict.keys():\n",
    "    print('{}월: {:.2f}'.format(i, sum(month_bike_cnt_list_dict[i]) / len(month_bike_cnt_list_dict[i])))"
   ]
  }
 ],
 "metadata": {
  "kernelspec": {
   "display_name": "base",
   "language": "python",
   "name": "python3"
  },
  "language_info": {
   "codemirror_mode": {
    "name": "ipython",
    "version": 3
   },
   "file_extension": ".py",
   "mimetype": "text/x-python",
   "name": "python",
   "nbconvert_exporter": "python",
   "pygments_lexer": "ipython3",
   "version": "3.10.9"
  },
  "orig_nbformat": 4
 },
 "nbformat": 4,
 "nbformat_minor": 2
}
