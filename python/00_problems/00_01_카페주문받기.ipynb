{
 "cells": [
  {
   "attachments": {},
   "cell_type": "markdown",
   "metadata": {},
   "source": [
    "### solve_1"
   ]
  },
  {
   "cell_type": "code",
   "execution_count": 1,
   "metadata": {},
   "outputs": [],
   "source": [
    "def order_output(order_list):\n",
    "    print('주문 내역')\n",
    "\n",
    "    total_price = 0\n",
    "    for menu, price, cnt in order_list:\n",
    "        print(f'{menu}: {cnt}잔')\n",
    "        total_price += price * cnt\n",
    "\n",
    "    print(f'총 가격: {total_price}원')"
   ]
  },
  {
   "cell_type": "code",
   "execution_count": 20,
   "metadata": {},
   "outputs": [],
   "source": [
    "def order_coffee():\n",
    "    menu_list = ['아메리카노', '카페라떼', '밀크티']\n",
    "    price_list = [1500, 2000, 3000]\n",
    "    cnt_list = [0, 0, 0]\n",
    "    while True:\n",
    "        order = input('주문하실 음료를 입력하세요 (아메리카노, 카페라떼, 밀크티): ')\n",
    "        if order == '종료':\n",
    "            break\n",
    "\n",
    "        elif order in menu_list:\n",
    "            menu_index = menu_list.index(order)\n",
    "            cnt_list[menu_index] += 1\n",
    "            order_list = list(zip(menu_list, price_list, cnt_list))\n",
    "\n",
    "        else:\n",
    "            print('해당 음료는 판매하지 않습니다.')\n",
    "\n",
    "    return order_output(order_list)"
   ]
  },
  {
   "cell_type": "code",
   "execution_count": 2,
   "metadata": {},
   "outputs": [],
   "source": [
    "def order_coffee():\n",
    "    menu_list = ['아메리카노', '카페라떼', '밀크티']\n",
    "    price_list = [1500, 2000, 3000]\n",
    "    cnt_list = [0, 0, 0]\n",
    "    while True:\n",
    "        order = input('주문하실 음료를 입력하세요 (아메리카노, 카페라떼, 밀크티): ')\n",
    "        if order == '종료':\n",
    "            break\n",
    "\n",
    "        elif order in menu_list:\n",
    "            menu_index = menu_list.index(order)\n",
    "            cnt_list[menu_index] += 1\n",
    "            order_list = list(zip(menu_list, price_list, cnt_list))\n",
    "            \n",
    "            print('주문 내역')\n",
    "            \n",
    "            total_price = 0\n",
    "            for menu, price, cnt in order_list:\n",
    "                print(f'{menu}: {cnt}잔')\n",
    "                total_price += price * cnt\n",
    "            \n",
    "            print(f'총 가격: {total_price}원')\n",
    "\n",
    "        else:\n",
    "            print('해당 음료는 판매하지 않습니다.')"
   ]
  },
  {
   "cell_type": "code",
   "execution_count": 3,
   "metadata": {},
   "outputs": [
    {
     "name": "stdout",
     "output_type": "stream",
     "text": [
      "주문 내역\n",
      "아메리카노: 1잔\n",
      "카페라떼: 0잔\n",
      "밀크티: 0잔\n",
      "총 가격: 1500원\n"
     ]
    }
   ],
   "source": [
    "order_coffee()"
   ]
  },
  {
   "attachments": {},
   "cell_type": "markdown",
   "metadata": {},
   "source": [
    "### solve_1_2"
   ]
  },
  {
   "cell_type": "code",
   "execution_count": 6,
   "metadata": {},
   "outputs": [],
   "source": [
    "def order_output(order_history, total_price):\n",
    "    print('주문 내역')\n",
    "    \n",
    "    for order in order_history:\n",
    "        print(f'{order}: {order_history[order][1]}잔')\n",
    "\n",
    "    print(f'총 가격: {total_price}원')\n",
    "\n",
    "\n",
    "\n",
    "def order_coffee():\n",
    "    order_history = {'아메리카노': [1500, 0], '카페라떼': [2000, 0], '밀크티': [3000, 0]} #{'order' : [price, cnt]}\n",
    "    total_price = 0\n",
    "\n",
    "    while True:\n",
    "        order = input('주문하실 음료를 입력하세요 (아메리카노, 카페라떼, 밀크티): ')\n",
    "        if order == '종료':\n",
    "            break\n",
    "\n",
    "        elif order in order_history:\n",
    "            order_history[order][1] += 1\n",
    "            total_price += order_history[order][0]\n",
    "\n",
    "        else:\n",
    "            print('해당 음료는 판매하지 않습니다.')\n",
    "\n",
    "    return order_output(order_history, total_price)"
   ]
  },
  {
   "cell_type": "code",
   "execution_count": 7,
   "metadata": {},
   "outputs": [
    {
     "data": {
      "text/plain": [
       "0"
      ]
     },
     "execution_count": 7,
     "metadata": {},
     "output_type": "execute_result"
    }
   ],
   "source": [
    "order_history = {'아메리카노': [1500, 0], '카페라떼': [2000, 0], '밀크티': [3000, 0]} #{'order' : [price, cnt]}\n",
    "order_history['아메리카노'][1]"
   ]
  },
  {
   "cell_type": "code",
   "execution_count": 8,
   "metadata": {},
   "outputs": [
    {
     "name": "stdout",
     "output_type": "stream",
     "text": [
      "주문 내역\n",
      "아메리카노: 1잔\n",
      "카페라떼: 0잔\n",
      "밀크티: 0잔\n",
      "총 가격: 1500원\n"
     ]
    }
   ],
   "source": [
    "order_coffee()"
   ]
  },
  {
   "attachments": {},
   "cell_type": "markdown",
   "metadata": {},
   "source": [
    "### solve_1_3"
   ]
  },
  {
   "cell_type": "code",
   "execution_count": 36,
   "metadata": {},
   "outputs": [],
   "source": [
    "def order_coffee():\n",
    "    order_history = {'아메리카노': [1500, 0], '카페라떼': [2000, 0], '밀크티': [3000, 0]} #{'order' : [price, cnt]}\n",
    "    total_price = 0\n",
    "\n",
    "    while True:\n",
    "        order = input('주문하실 음료를 입력하세요 (아메리카노, 카페라떼, 밀크티): ')\n",
    "        if order == '종료':\n",
    "            break\n",
    "        elif order not in order_history:\n",
    "            print('해당 음료는 판매하지 않습니다.')\n",
    "            continue\n",
    "        order_history[order][1] += 1\n",
    "        total_price += order_history[order][0]\n",
    "\n",
    "    print(\"\\n주문 내역\\n아메리카노: \", order_history['아메리카노'][1], \"잔\\n카페라떼: \", order_history['카페라떼'][1], \"잔\\n밀크티: \", order_history['밀크티'][1], \"잔\\n총 가격: \", total_price, \"원\")"
   ]
  },
  {
   "cell_type": "code",
   "execution_count": 37,
   "metadata": {},
   "outputs": [
    {
     "name": "stdout",
     "output_type": "stream",
     "text": [
      "\n",
      "주문 내역\n",
      "아메리카노:  0 잔\n",
      "카페라떼:  0 잔\n",
      "밀크티:  1 잔\n",
      "총 가격:  3000 원\n"
     ]
    }
   ],
   "source": [
    "order_coffee()"
   ]
  },
  {
   "attachments": {},
   "cell_type": "markdown",
   "metadata": {},
   "source": [
    "### solve_2: 성재님"
   ]
  },
  {
   "cell_type": "code",
   "execution_count": 38,
   "metadata": {},
   "outputs": [
    {
     "name": "stdout",
     "output_type": "stream",
     "text": [
      "\n",
      "주문 내역\n",
      "아메리카노:  1 잔\n",
      "카페라떼:  0 잔\n",
      "밀크티:  0 잔\n",
      "총 가격:  1500 원\n"
     ]
    }
   ],
   "source": [
    "americano = 1500\n",
    "latte = 2000\n",
    "milktea = 3000\n",
    "\n",
    "order_list = [0, 0, 0]\n",
    "while True:\n",
    "    c = input()\n",
    "    if c == '종료':\n",
    "        break\n",
    "    elif c == '아메리카노':\n",
    "        order_list[0] += 1\n",
    "    elif c == '카페라떼':\n",
    "        order_list[1] += 1\n",
    "    elif c == '밀크티':\n",
    "        order_list[2] += 1\n",
    "    else:\n",
    "        print('해당 음료는 판매하지 않습니다.')\n",
    "\n",
    "total_price = order_list[0] * americano + order_list[1] * latte + order_list[2] * milktea\n",
    "print(\"\\n주문 내역\\n아메리카노: \", order_list[0], \"잔\\n카페라떼: \", order_list[1], \"잔\\n밀크티: \", order_list[2], \"잔\\n총 가격: \", total_price, \"원\")"
   ]
  }
 ],
 "metadata": {
  "kernelspec": {
   "display_name": "base",
   "language": "python",
   "name": "python3"
  },
  "language_info": {
   "codemirror_mode": {
    "name": "ipython",
    "version": 3
   },
   "file_extension": ".py",
   "mimetype": "text/x-python",
   "name": "python",
   "nbconvert_exporter": "python",
   "pygments_lexer": "ipython3",
   "version": "3.10.9"
  },
  "orig_nbformat": 4
 },
 "nbformat": 4,
 "nbformat_minor": 2
}
