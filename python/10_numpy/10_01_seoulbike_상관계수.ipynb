{
 "cells": [
  {
   "attachments": {},
   "cell_type": "markdown",
   "metadata": {},
   "source": [
    "## 서울 자전거 NumPy 실습 (상관계수)"
   ]
  },
  {
   "cell_type": "code",
   "execution_count": 1,
   "metadata": {},
   "outputs": [],
   "source": [
    "import numpy as np\n",
    "import pandas as pd"
   ]
  },
  {
   "cell_type": "code",
   "execution_count": 2,
   "metadata": {},
   "outputs": [
    {
     "data": {
      "text/plain": [
       "(8760, 14)"
      ]
     },
     "execution_count": 2,
     "metadata": {},
     "output_type": "execute_result"
    }
   ],
   "source": [
    "seoul_bike = np.genfromtxt('../0_data/SeoulBikeData.csv', delimiter=',', skip_header=1)\n",
    "seoul_bike.shape"
   ]
  },
  {
   "cell_type": "code",
   "execution_count": 3,
   "metadata": {},
   "outputs": [
    {
     "data": {
      "text/html": [
       "<div>\n",
       "<style scoped>\n",
       "    .dataframe tbody tr th:only-of-type {\n",
       "        vertical-align: middle;\n",
       "    }\n",
       "\n",
       "    .dataframe tbody tr th {\n",
       "        vertical-align: top;\n",
       "    }\n",
       "\n",
       "    .dataframe thead th {\n",
       "        text-align: right;\n",
       "    }\n",
       "</style>\n",
       "<table border=\"1\" class=\"dataframe\">\n",
       "  <thead>\n",
       "    <tr style=\"text-align: right;\">\n",
       "      <th></th>\n",
       "      <th>Date</th>\n",
       "      <th>Rented Bike Count</th>\n",
       "      <th>Hour</th>\n",
       "      <th>Temperature</th>\n",
       "      <th>Humidity(%)</th>\n",
       "      <th>Wind speed (m/s)</th>\n",
       "      <th>Visibility (10m)</th>\n",
       "      <th>Dew point temperature</th>\n",
       "      <th>Solar Radiation (MJ/m2)</th>\n",
       "      <th>Rainfall(mm)</th>\n",
       "      <th>Snowfall (cm)</th>\n",
       "      <th>Seasons</th>\n",
       "      <th>Holiday</th>\n",
       "      <th>Functioning Day</th>\n",
       "    </tr>\n",
       "  </thead>\n",
       "  <tbody>\n",
       "    <tr>\n",
       "      <th>0</th>\n",
       "      <td>01/12/2017</td>\n",
       "      <td>254</td>\n",
       "      <td>0</td>\n",
       "      <td>-5.2</td>\n",
       "      <td>37</td>\n",
       "      <td>2.2</td>\n",
       "      <td>2000</td>\n",
       "      <td>-17.6</td>\n",
       "      <td>0.0</td>\n",
       "      <td>0.0</td>\n",
       "      <td>0.0</td>\n",
       "      <td>Winter</td>\n",
       "      <td>No Holiday</td>\n",
       "      <td>Yes</td>\n",
       "    </tr>\n",
       "    <tr>\n",
       "      <th>1</th>\n",
       "      <td>01/12/2017</td>\n",
       "      <td>204</td>\n",
       "      <td>1</td>\n",
       "      <td>-5.5</td>\n",
       "      <td>38</td>\n",
       "      <td>0.8</td>\n",
       "      <td>2000</td>\n",
       "      <td>-17.6</td>\n",
       "      <td>0.0</td>\n",
       "      <td>0.0</td>\n",
       "      <td>0.0</td>\n",
       "      <td>Winter</td>\n",
       "      <td>No Holiday</td>\n",
       "      <td>Yes</td>\n",
       "    </tr>\n",
       "    <tr>\n",
       "      <th>2</th>\n",
       "      <td>01/12/2017</td>\n",
       "      <td>173</td>\n",
       "      <td>2</td>\n",
       "      <td>-6.0</td>\n",
       "      <td>39</td>\n",
       "      <td>1.0</td>\n",
       "      <td>2000</td>\n",
       "      <td>-17.7</td>\n",
       "      <td>0.0</td>\n",
       "      <td>0.0</td>\n",
       "      <td>0.0</td>\n",
       "      <td>Winter</td>\n",
       "      <td>No Holiday</td>\n",
       "      <td>Yes</td>\n",
       "    </tr>\n",
       "    <tr>\n",
       "      <th>3</th>\n",
       "      <td>01/12/2017</td>\n",
       "      <td>107</td>\n",
       "      <td>3</td>\n",
       "      <td>-6.2</td>\n",
       "      <td>40</td>\n",
       "      <td>0.9</td>\n",
       "      <td>2000</td>\n",
       "      <td>-17.6</td>\n",
       "      <td>0.0</td>\n",
       "      <td>0.0</td>\n",
       "      <td>0.0</td>\n",
       "      <td>Winter</td>\n",
       "      <td>No Holiday</td>\n",
       "      <td>Yes</td>\n",
       "    </tr>\n",
       "    <tr>\n",
       "      <th>4</th>\n",
       "      <td>01/12/2017</td>\n",
       "      <td>78</td>\n",
       "      <td>4</td>\n",
       "      <td>-6.0</td>\n",
       "      <td>36</td>\n",
       "      <td>2.3</td>\n",
       "      <td>2000</td>\n",
       "      <td>-18.6</td>\n",
       "      <td>0.0</td>\n",
       "      <td>0.0</td>\n",
       "      <td>0.0</td>\n",
       "      <td>Winter</td>\n",
       "      <td>No Holiday</td>\n",
       "      <td>Yes</td>\n",
       "    </tr>\n",
       "  </tbody>\n",
       "</table>\n",
       "</div>"
      ],
      "text/plain": [
       "         Date  Rented Bike Count  Hour  Temperature  Humidity(%)  \\\n",
       "0  01/12/2017                254     0         -5.2           37   \n",
       "1  01/12/2017                204     1         -5.5           38   \n",
       "2  01/12/2017                173     2         -6.0           39   \n",
       "3  01/12/2017                107     3         -6.2           40   \n",
       "4  01/12/2017                 78     4         -6.0           36   \n",
       "\n",
       "   Wind speed (m/s)  Visibility (10m)  Dew point temperature  \\\n",
       "0               2.2              2000                  -17.6   \n",
       "1               0.8              2000                  -17.6   \n",
       "2               1.0              2000                  -17.7   \n",
       "3               0.9              2000                  -17.6   \n",
       "4               2.3              2000                  -18.6   \n",
       "\n",
       "   Solar Radiation (MJ/m2)  Rainfall(mm)  Snowfall (cm) Seasons     Holiday  \\\n",
       "0                      0.0           0.0            0.0  Winter  No Holiday   \n",
       "1                      0.0           0.0            0.0  Winter  No Holiday   \n",
       "2                      0.0           0.0            0.0  Winter  No Holiday   \n",
       "3                      0.0           0.0            0.0  Winter  No Holiday   \n",
       "4                      0.0           0.0            0.0  Winter  No Holiday   \n",
       "\n",
       "  Functioning Day  \n",
       "0             Yes  \n",
       "1             Yes  \n",
       "2             Yes  \n",
       "3             Yes  \n",
       "4             Yes  "
      ]
     },
     "execution_count": 3,
     "metadata": {},
     "output_type": "execute_result"
    }
   ],
   "source": [
    "df = pd.read_csv('../0_data/SeoulBikeData.csv')\n",
    "df.head()"
   ]
  },
  {
   "cell_type": "code",
   "execution_count": 4,
   "metadata": {},
   "outputs": [
    {
     "name": "stdout",
     "output_type": "stream",
     "text": [
      "<class 'pandas.core.frame.DataFrame'>\n",
      "RangeIndex: 8760 entries, 0 to 8759\n",
      "Data columns (total 14 columns):\n",
      " #   Column                   Non-Null Count  Dtype  \n",
      "---  ------                   --------------  -----  \n",
      " 0   Date                     8760 non-null   object \n",
      " 1   Rented Bike Count        8760 non-null   int64  \n",
      " 2   Hour                     8760 non-null   int64  \n",
      " 3   Temperature              8760 non-null   float64\n",
      " 4   Humidity(%)              8760 non-null   int64  \n",
      " 5   Wind speed (m/s)         8760 non-null   float64\n",
      " 6   Visibility (10m)         8760 non-null   int64  \n",
      " 7   Dew point temperature    8760 non-null   float64\n",
      " 8   Solar Radiation (MJ/m2)  8760 non-null   float64\n",
      " 9   Rainfall(mm)             8760 non-null   float64\n",
      " 10  Snowfall (cm)            8760 non-null   float64\n",
      " 11  Seasons                  8760 non-null   object \n",
      " 12  Holiday                  8760 non-null   object \n",
      " 13  Functioning Day          8760 non-null   object \n",
      "dtypes: float64(6), int64(4), object(4)\n",
      "memory usage: 958.2+ KB\n"
     ]
    }
   ],
   "source": [
    "df.info()"
   ]
  },
  {
   "cell_type": "code",
   "execution_count": 5,
   "metadata": {},
   "outputs": [
    {
     "data": {
      "text/html": [
       "<div>\n",
       "<style scoped>\n",
       "    .dataframe tbody tr th:only-of-type {\n",
       "        vertical-align: middle;\n",
       "    }\n",
       "\n",
       "    .dataframe tbody tr th {\n",
       "        vertical-align: top;\n",
       "    }\n",
       "\n",
       "    .dataframe thead th {\n",
       "        text-align: right;\n",
       "    }\n",
       "</style>\n",
       "<table border=\"1\" class=\"dataframe\">\n",
       "  <thead>\n",
       "    <tr style=\"text-align: right;\">\n",
       "      <th></th>\n",
       "      <th>Rented Bike Count</th>\n",
       "      <th>Hour</th>\n",
       "      <th>Temperature</th>\n",
       "      <th>Humidity(%)</th>\n",
       "      <th>Wind speed (m/s)</th>\n",
       "      <th>Visibility (10m)</th>\n",
       "      <th>Dew point temperature</th>\n",
       "      <th>Solar Radiation (MJ/m2)</th>\n",
       "      <th>Rainfall(mm)</th>\n",
       "      <th>Snowfall (cm)</th>\n",
       "    </tr>\n",
       "  </thead>\n",
       "  <tbody>\n",
       "    <tr>\n",
       "      <th>count</th>\n",
       "      <td>8760.000000</td>\n",
       "      <td>8760.000000</td>\n",
       "      <td>8760.000000</td>\n",
       "      <td>8760.000000</td>\n",
       "      <td>8760.000000</td>\n",
       "      <td>8760.000000</td>\n",
       "      <td>8760.000000</td>\n",
       "      <td>8760.000000</td>\n",
       "      <td>8760.000000</td>\n",
       "      <td>8760.000000</td>\n",
       "    </tr>\n",
       "    <tr>\n",
       "      <th>mean</th>\n",
       "      <td>704.602055</td>\n",
       "      <td>11.500000</td>\n",
       "      <td>12.882922</td>\n",
       "      <td>58.226256</td>\n",
       "      <td>1.724909</td>\n",
       "      <td>1436.825799</td>\n",
       "      <td>4.073813</td>\n",
       "      <td>0.569111</td>\n",
       "      <td>0.148687</td>\n",
       "      <td>0.075068</td>\n",
       "    </tr>\n",
       "    <tr>\n",
       "      <th>std</th>\n",
       "      <td>644.997468</td>\n",
       "      <td>6.922582</td>\n",
       "      <td>11.944825</td>\n",
       "      <td>20.362413</td>\n",
       "      <td>1.036300</td>\n",
       "      <td>608.298712</td>\n",
       "      <td>13.060369</td>\n",
       "      <td>0.868746</td>\n",
       "      <td>1.128193</td>\n",
       "      <td>0.436746</td>\n",
       "    </tr>\n",
       "    <tr>\n",
       "      <th>min</th>\n",
       "      <td>0.000000</td>\n",
       "      <td>0.000000</td>\n",
       "      <td>-17.800000</td>\n",
       "      <td>0.000000</td>\n",
       "      <td>0.000000</td>\n",
       "      <td>27.000000</td>\n",
       "      <td>-30.600000</td>\n",
       "      <td>0.000000</td>\n",
       "      <td>0.000000</td>\n",
       "      <td>0.000000</td>\n",
       "    </tr>\n",
       "    <tr>\n",
       "      <th>25%</th>\n",
       "      <td>191.000000</td>\n",
       "      <td>5.750000</td>\n",
       "      <td>3.500000</td>\n",
       "      <td>42.000000</td>\n",
       "      <td>0.900000</td>\n",
       "      <td>940.000000</td>\n",
       "      <td>-4.700000</td>\n",
       "      <td>0.000000</td>\n",
       "      <td>0.000000</td>\n",
       "      <td>0.000000</td>\n",
       "    </tr>\n",
       "    <tr>\n",
       "      <th>50%</th>\n",
       "      <td>504.500000</td>\n",
       "      <td>11.500000</td>\n",
       "      <td>13.700000</td>\n",
       "      <td>57.000000</td>\n",
       "      <td>1.500000</td>\n",
       "      <td>1698.000000</td>\n",
       "      <td>5.100000</td>\n",
       "      <td>0.010000</td>\n",
       "      <td>0.000000</td>\n",
       "      <td>0.000000</td>\n",
       "    </tr>\n",
       "    <tr>\n",
       "      <th>75%</th>\n",
       "      <td>1065.250000</td>\n",
       "      <td>17.250000</td>\n",
       "      <td>22.500000</td>\n",
       "      <td>74.000000</td>\n",
       "      <td>2.300000</td>\n",
       "      <td>2000.000000</td>\n",
       "      <td>14.800000</td>\n",
       "      <td>0.930000</td>\n",
       "      <td>0.000000</td>\n",
       "      <td>0.000000</td>\n",
       "    </tr>\n",
       "    <tr>\n",
       "      <th>max</th>\n",
       "      <td>3556.000000</td>\n",
       "      <td>23.000000</td>\n",
       "      <td>39.400000</td>\n",
       "      <td>98.000000</td>\n",
       "      <td>7.400000</td>\n",
       "      <td>2000.000000</td>\n",
       "      <td>27.200000</td>\n",
       "      <td>3.520000</td>\n",
       "      <td>35.000000</td>\n",
       "      <td>8.800000</td>\n",
       "    </tr>\n",
       "  </tbody>\n",
       "</table>\n",
       "</div>"
      ],
      "text/plain": [
       "       Rented Bike Count         Hour  Temperature  Humidity(%)  \\\n",
       "count        8760.000000  8760.000000  8760.000000  8760.000000   \n",
       "mean          704.602055    11.500000    12.882922    58.226256   \n",
       "std           644.997468     6.922582    11.944825    20.362413   \n",
       "min             0.000000     0.000000   -17.800000     0.000000   \n",
       "25%           191.000000     5.750000     3.500000    42.000000   \n",
       "50%           504.500000    11.500000    13.700000    57.000000   \n",
       "75%          1065.250000    17.250000    22.500000    74.000000   \n",
       "max          3556.000000    23.000000    39.400000    98.000000   \n",
       "\n",
       "       Wind speed (m/s)  Visibility (10m)  Dew point temperature  \\\n",
       "count       8760.000000       8760.000000            8760.000000   \n",
       "mean           1.724909       1436.825799               4.073813   \n",
       "std            1.036300        608.298712              13.060369   \n",
       "min            0.000000         27.000000             -30.600000   \n",
       "25%            0.900000        940.000000              -4.700000   \n",
       "50%            1.500000       1698.000000               5.100000   \n",
       "75%            2.300000       2000.000000              14.800000   \n",
       "max            7.400000       2000.000000              27.200000   \n",
       "\n",
       "       Solar Radiation (MJ/m2)  Rainfall(mm)  Snowfall (cm)  \n",
       "count              8760.000000   8760.000000    8760.000000  \n",
       "mean                  0.569111      0.148687       0.075068  \n",
       "std                   0.868746      1.128193       0.436746  \n",
       "min                   0.000000      0.000000       0.000000  \n",
       "25%                   0.000000      0.000000       0.000000  \n",
       "50%                   0.010000      0.000000       0.000000  \n",
       "75%                   0.930000      0.000000       0.000000  \n",
       "max                   3.520000     35.000000       8.800000  "
      ]
     },
     "execution_count": 5,
     "metadata": {},
     "output_type": "execute_result"
    }
   ],
   "source": [
    "df.describe()"
   ]
  },
  {
   "attachments": {},
   "cell_type": "markdown",
   "metadata": {},
   "source": [
    "- 넘파이를 활용하여 데이터 슬라이싱"
   ]
  },
  {
   "cell_type": "code",
   "execution_count": 9,
   "metadata": {},
   "outputs": [
    {
     "data": {
      "text/plain": [
       "(8760, 10)"
      ]
     },
     "execution_count": 9,
     "metadata": {},
     "output_type": "execute_result"
    }
   ],
   "source": [
    "seoul_bike = seoul_bike[:, 1:-3]\n",
    "seoul_bike.shape"
   ]
  },
  {
   "attachments": {},
   "cell_type": "markdown",
   "metadata": {},
   "source": [
    "- 간단한 통계계산"
   ]
  },
  {
   "cell_type": "code",
   "execution_count": 11,
   "metadata": {},
   "outputs": [],
   "source": [
    "# Rented Bike Count 컬럼 슬라이싱\n",
    "rented_bike_cnt = seoul_bike[:,0]"
   ]
  },
  {
   "cell_type": "code",
   "execution_count": 12,
   "metadata": {},
   "outputs": [
    {
     "data": {
      "text/plain": [
       "8760"
      ]
     },
     "execution_count": 12,
     "metadata": {},
     "output_type": "execute_result"
    }
   ],
   "source": [
    "len(rented_bike_cnt)"
   ]
  },
  {
   "cell_type": "code",
   "execution_count": 13,
   "metadata": {},
   "outputs": [
    {
     "data": {
      "text/plain": [
       "704.6020547945205"
      ]
     },
     "execution_count": 13,
     "metadata": {},
     "output_type": "execute_result"
    }
   ],
   "source": [
    "rented_bike_cnt.mean()"
   ]
  },
  {
   "cell_type": "code",
   "execution_count": 14,
   "metadata": {},
   "outputs": [
    {
     "data": {
      "text/plain": [
       "644.9606517645436"
      ]
     },
     "execution_count": 14,
     "metadata": {},
     "output_type": "execute_result"
    }
   ],
   "source": [
    "rented_bike_cnt.std()"
   ]
  },
  {
   "cell_type": "code",
   "execution_count": 15,
   "metadata": {},
   "outputs": [
    {
     "data": {
      "text/plain": [
       "0.0"
      ]
     },
     "execution_count": 15,
     "metadata": {},
     "output_type": "execute_result"
    }
   ],
   "source": [
    "rented_bike_cnt.min()"
   ]
  },
  {
   "cell_type": "code",
   "execution_count": 17,
   "metadata": {},
   "outputs": [
    {
     "data": {
      "text/plain": [
       "504.5"
      ]
     },
     "execution_count": 17,
     "metadata": {},
     "output_type": "execute_result"
    }
   ],
   "source": [
    "np.quantile(rented_bike_cnt, 0.5) # median = np.median(rented_bike_cnt)"
   ]
  },
  {
   "cell_type": "code",
   "execution_count": 18,
   "metadata": {},
   "outputs": [
    {
     "data": {
      "text/plain": [
       "191.0"
      ]
     },
     "execution_count": 18,
     "metadata": {},
     "output_type": "execute_result"
    }
   ],
   "source": [
    "np.quantile(rented_bike_cnt, 0.25) # 25%"
   ]
  },
  {
   "cell_type": "code",
   "execution_count": 19,
   "metadata": {},
   "outputs": [
    {
     "data": {
      "text/plain": [
       "1065.25"
      ]
     },
     "execution_count": 19,
     "metadata": {},
     "output_type": "execute_result"
    }
   ],
   "source": [
    "np.quantile(rented_bike_cnt, 0.75) # 75%"
   ]
  },
  {
   "cell_type": "code",
   "execution_count": 20,
   "metadata": {},
   "outputs": [
    {
     "data": {
      "text/plain": [
       "3556.0"
      ]
     },
     "execution_count": 20,
     "metadata": {},
     "output_type": "execute_result"
    }
   ],
   "source": [
    "rented_bike_cnt.max()"
   ]
  },
  {
   "attachments": {},
   "cell_type": "markdown",
   "metadata": {},
   "source": [
    "- 상관계수 계산"
   ]
  },
  {
   "cell_type": "code",
   "execution_count": 27,
   "metadata": {},
   "outputs": [
    {
     "data": {
      "text/plain": [
       "['Rented Bike Count',\n",
       " 'Hour',\n",
       " 'Temperature',\n",
       " 'Humidity(%)',\n",
       " 'Wind speed (m/s)',\n",
       " 'Visibility (10m)',\n",
       " 'Dew point temperature',\n",
       " 'Solar Radiation (MJ/m2)',\n",
       " 'Rainfall(mm)',\n",
       " 'Snowfall (cm)']"
      ]
     },
     "execution_count": 27,
     "metadata": {},
     "output_type": "execute_result"
    }
   ],
   "source": [
    "columns = list(df.columns)[1:-3]\n",
    "columns"
   ]
  },
  {
   "cell_type": "code",
   "execution_count": 28,
   "metadata": {},
   "outputs": [],
   "source": [
    "temperature = seoul_bike[:,2]"
   ]
  },
  {
   "cell_type": "code",
   "execution_count": 29,
   "metadata": {},
   "outputs": [
    {
     "data": {
      "text/plain": [
       "12.882922374429223"
      ]
     },
     "execution_count": 29,
     "metadata": {},
     "output_type": "execute_result"
    }
   ],
   "source": [
    "temperature.mean()"
   ]
  },
  {
   "cell_type": "code",
   "execution_count": 30,
   "metadata": {},
   "outputs": [
    {
     "data": {
      "text/plain": [
       "array([-5.2, -5.5, -6. , -6.2, -6. , -6.4, -6.6, -7.4, -7.6, -6.5])"
      ]
     },
     "execution_count": 30,
     "metadata": {},
     "output_type": "execute_result"
    }
   ],
   "source": [
    "temperature[:10]"
   ]
  },
  {
   "cell_type": "code",
   "execution_count": 32,
   "metadata": {},
   "outputs": [
    {
     "data": {
      "text/plain": [
       "array([[1.        , 0.53855815],\n",
       "       [0.53855815, 1.        ]])"
      ]
     },
     "execution_count": 32,
     "metadata": {},
     "output_type": "execute_result"
    }
   ],
   "source": [
    "np.corrcoef(temperature, rented_bike_cnt) # 온도와 자전거 대여량 상관관계 분석\n",
    "# 자신과의 상관관계는 1,0.7 이상이면 양의 상관관계가 높다고 판별"
   ]
  },
  {
   "cell_type": "code",
   "execution_count": 33,
   "metadata": {},
   "outputs": [
    {
     "data": {
      "text/plain": [
       "array([[1.        , 0.99968215, 0.99916291, ..., 0.97557956, 0.9689233 ,\n",
       "        0.98452257],\n",
       "       [0.99968215, 1.        , 0.99987655, ..., 0.96974951, 0.96239886,\n",
       "        0.97981303],\n",
       "       [0.99916291, 0.99987655, 1.        , ..., 0.96580448, 0.95802417,\n",
       "        0.97656372],\n",
       "       ...,\n",
       "       [0.97557956, 0.96974951, 0.96580448, ..., 1.        , 0.99959118,\n",
       "        0.99896484],\n",
       "       [0.9689233 , 0.96239886, 0.95802417, ..., 0.99959118, 1.        ,\n",
       "        0.99726923],\n",
       "       [0.98452257, 0.97981303, 0.97656372, ..., 0.99896484, 0.99726923,\n",
       "        1.        ]])"
      ]
     },
     "execution_count": 33,
     "metadata": {},
     "output_type": "execute_result"
    }
   ],
   "source": [
    "np.corrcoef(seoul_bike)"
   ]
  },
  {
   "cell_type": "code",
   "execution_count": 35,
   "metadata": {},
   "outputs": [
    {
     "data": {
      "text/plain": [
       "(-5.2, 254.0)"
      ]
     },
     "execution_count": 35,
     "metadata": {},
     "output_type": "execute_result"
    }
   ],
   "source": [
    "temperature[0], rented_bike_cnt[0]"
   ]
  },
  {
   "cell_type": "code",
   "execution_count": 39,
   "metadata": {},
   "outputs": [
    {
     "data": {
      "text/plain": [
       "array([[-5.2],\n",
       "       [-5.5],\n",
       "       [-6. ],\n",
       "       ...,\n",
       "       [ 2.6],\n",
       "       [ 2.1],\n",
       "       [ 1.9]])"
      ]
     },
     "execution_count": 39,
     "metadata": {},
     "output_type": "execute_result"
    }
   ],
   "source": [
    "np.array([temperature]).transpose()"
   ]
  },
  {
   "cell_type": "code",
   "execution_count": 43,
   "metadata": {},
   "outputs": [
    {
     "data": {
      "text/plain": [
       "(365, 24)"
      ]
     },
     "execution_count": 43,
     "metadata": {},
     "output_type": "execute_result"
    }
   ],
   "source": [
    "# 하루 (24시간)의 데이터\n",
    "temperature.reshape(-1,24).shape # -1: 다른 차원 값을 가져와서 알아서 계산 해라"
   ]
  },
  {
   "cell_type": "code",
   "execution_count": 45,
   "metadata": {},
   "outputs": [
    {
     "data": {
      "text/plain": [
       "(8760,)"
      ]
     },
     "execution_count": 45,
     "metadata": {},
     "output_type": "execute_result"
    }
   ],
   "source": [
    "temperature.shape"
   ]
  },
  {
   "cell_type": "code",
   "execution_count": 38,
   "metadata": {},
   "outputs": [
    {
     "data": {
      "text/plain": [
       "array([[-5.2],\n",
       "       [-5.5],\n",
       "       [-6. ],\n",
       "       ...,\n",
       "       [ 2.6],\n",
       "       [ 2.1],\n",
       "       [ 1.9]])"
      ]
     },
     "execution_count": 38,
     "metadata": {},
     "output_type": "execute_result"
    }
   ],
   "source": [
    "temperature.reshape(-1,1) # -1 = 8760"
   ]
  },
  {
   "cell_type": "code",
   "execution_count": 59,
   "metadata": {},
   "outputs": [],
   "source": [
    "# 온도 컬럼을 8760 개의 행과 1개의 열의 데이터로 배열 모양 변형\n",
    "tmp_bike1 = np.hstack([temperature.reshape(-1,1), rented_bike_cnt.reshape(-1,1)])"
   ]
  },
  {
   "cell_type": "code",
   "execution_count": 55,
   "metadata": {},
   "outputs": [
    {
     "data": {
      "text/plain": [
       "array([[ -5.2, 254. ],\n",
       "       [ -5.5, 204. ],\n",
       "       [ -6. , 173. ],\n",
       "       ...,\n",
       "       [  2.6, 694. ],\n",
       "       [  2.1, 712. ],\n",
       "       [  1.9, 584. ]])"
      ]
     },
     "execution_count": 55,
     "metadata": {},
     "output_type": "execute_result"
    }
   ],
   "source": [
    "# 위의 동일함\n",
    "np.vstack([temperature, rented_bike_cnt]).transpose()"
   ]
  },
  {
   "cell_type": "code",
   "execution_count": 69,
   "metadata": {},
   "outputs": [],
   "source": [
    "# 온도가 28보다 작은 부분만 저장\n",
    "tmp_bike_part = tmp_bike1[tmp_bike1[:,0]<28,:]"
   ]
  },
  {
   "cell_type": "code",
   "execution_count": 62,
   "metadata": {},
   "outputs": [
    {
     "data": {
      "text/plain": [
       "(7869, 2)"
      ]
     },
     "execution_count": 62,
     "metadata": {},
     "output_type": "execute_result"
    }
   ],
   "source": [
    "tmp_bike_part.shape"
   ]
  },
  {
   "cell_type": "code",
   "execution_count": 65,
   "metadata": {},
   "outputs": [
    {
     "data": {
      "text/plain": [
       "27.9"
      ]
     },
     "execution_count": 65,
     "metadata": {},
     "output_type": "execute_result"
    }
   ],
   "source": [
    "tmp_bike_part[:,0].max()"
   ]
  },
  {
   "cell_type": "code",
   "execution_count": 71,
   "metadata": {},
   "outputs": [
    {
     "data": {
      "text/plain": [
       "array([[1.        , 0.53673761],\n",
       "       [0.53673761, 1.        ]])"
      ]
     },
     "execution_count": 71,
     "metadata": {},
     "output_type": "execute_result"
    }
   ],
   "source": [
    "np.corrcoef(tmp_bike_part, rowvar=False)"
   ]
  },
  {
   "cell_type": "code",
   "execution_count": 74,
   "metadata": {},
   "outputs": [
    {
     "data": {
      "text/plain": [
       "array([[ 1.        , -0.12655309],\n",
       "       [-0.12655309,  1.        ]])"
      ]
     },
     "execution_count": 74,
     "metadata": {},
     "output_type": "execute_result"
    }
   ],
   "source": [
    "# 온도가 34보다 큰 데이터\n",
    "tmp_bike_part2 = tmp_bike1[tmp_bike1[:,0]>34,:]\n",
    "np.corrcoef(tmp_bike_part2, rowvar=False)"
   ]
  },
  {
   "cell_type": "code",
   "execution_count": 1,
   "metadata": {},
   "outputs": [],
   "source": [
    "# Rented Bike Count 와 양의 상관관계가 있는 변수들과 상관관계값 (0.3 보다 큰 값)\n",
    "# [['Hour' '0.41025729132248584']\n",
    "#  ['Temperature' '0.5385581530139789']\n",
    "#  ['Dew point temperature' '0.3797881212449726']]\n",
    "# --------------------------------------------------\n",
    "# Hour 와 양의 상관관계가 있는 변수들과 상관관계값 (0.3 보다 큰 값)\n",
    "# [['Rented Bike Count' '0.4102572913224858']]\n",
    "# --------------------------------------------------\n",
    "# Temperature 와 양의 상관관계가 있는 변수들과 상관관계값 (0.3 보다 큰 값)\n",
    "# [['Rented Bike Count' '0.5385581530139789']\n",
    "#  ['Dew point temperature' '0.9127982187579918']\n",
    "#  ['Solar Radiation (MJ/m2)' '0.353505470147949']]\n",
    "# --------------------------------------------------\n",
    "# Humidity(%) 와 양의 상관관계가 있는 변수들과 상관관계값 (0.3 보다 큰 값)\n",
    "# [['Dew point temperature' '0.5368944942226763']]\n",
    "# --------------------------------------------------\n",
    "# Wind speed (m/s) 와 양의 상관관계가 있는 변수들과 상관관계값 (0.3 보다 큰 값)\n",
    "# [['Solar Radiation (MJ/m2)' '0.33227424599890565']]\n",
    "# --------------------------------------------------\n",
    "# Visibility (10m) 와 양의 상관관계가 있는 변수들과 상관관계값 (0.3 보다 큰 값)\n",
    "# []\n",
    "# --------------------------------------------------\n",
    "# Dew point temperature 와 양의 상관관계가 있는 변수들과 상관관계값 (0.3 보다 큰 값)\n",
    "# [['Rented Bike Count' '0.3797881212449726']\n",
    "#  ['Temperature' '0.9127982187579917']\n",
    "#  ['Humidity(%)' '0.5368944942226764']]\n",
    "# --------------------------------------------------\n",
    "# Solar Radiation (MJ/m2) 와 양의 상관관계가 있는 변수들과 상관관계값 (0.3 보다 큰 값)\n",
    "# [['Temperature' '0.353505470147949']\n",
    "#  ['Wind speed (m/s)' '0.33227424599890565']]\n",
    "# --------------------------------------------------\n",
    "# Rainfall(mm) 와 양의 상관관계가 있는 변수들과 상관관계값 (0.3 보다 큰 값)\n",
    "# []\n",
    "# --------------------------------------------------\n",
    "# Snowfall (cm) 와 양의 상관관계가 있는 변수들과 상관관계값 (0.3 보다 큰 값)\n",
    "# []\n",
    "# --------------------------------------------------"
   ]
  },
  {
   "cell_type": "code",
   "execution_count": null,
   "metadata": {},
   "outputs": [],
   "source": [
    "# Rented Bike Count 와 음의 상관관계가 있는 변수들과 상관관계값 (0.3 보다 작은 값)\n",
    "# []\n",
    "# --------------------------------------------------\n",
    "# Hour 와 음의 상관관계가 있는 변수들과 상관관계값 (0.3 보다 작은 값)\n",
    "# []\n",
    "# --------------------------------------------------\n",
    "# Temperature 와 음의 상관관계가 있는 변수들과 상관관계값 (0.3 보다 작은 값)\n",
    "# []\n",
    "# --------------------------------------------------\n",
    "# Humidity(%) 와 음의 상관관계가 있는 변수들과 상관관계값 (0.3 보다 작은 값)\n",
    "# [['Wind speed (m/s)' '-0.3366830416913436']\n",
    "#  ['Visibility (10m)' '-0.5430903446558317']\n",
    "#  ['Solar Radiation (MJ/m2)' '-0.4619187969811591']]\n",
    "# --------------------------------------------------\n",
    "# Wind speed (m/s) 와 음의 상관관계가 있는 변수들과 상관관계값 (0.3 보다 작은 값)\n",
    "# [['Humidity(%)' '-0.3366830416913436']]\n",
    "# --------------------------------------------------\n",
    "# Visibility (10m) 와 음의 상관관계가 있는 변수들과 상관관계값 (0.3 보다 작은 값)\n",
    "# [['Humidity(%)' '-0.5430903446558316']]\n",
    "# --------------------------------------------------\n",
    "# Dew point temperature 와 음의 상관관계가 있는 변수들과 상관관계값 (0.3 보다 작은 값)\n",
    "# []\n",
    "# --------------------------------------------------\n",
    "# Solar Radiation (MJ/m2) 와 음의 상관관계가 있는 변수들과 상관관계값 (0.3 보다 작은 값)\n",
    "# [['Humidity(%)' '-0.4619187969811592']]\n",
    "# --------------------------------------------------\n",
    "# Rainfall(mm) 와 음의 상관관계가 있는 변수들과 상관관계값 (0.3 보다 작은 값)\n",
    "# []\n",
    "# --------------------------------------------------\n",
    "# Snowfall (cm) 와 음의 상관관계가 있는 변수들과 상관관계값 (0.3 보다 작은 값)\n",
    "# []\n",
    "# --------------------------------------------------"
   ]
  }
 ],
 "metadata": {
  "kernelspec": {
   "display_name": "base",
   "language": "python",
   "name": "python3"
  },
  "language_info": {
   "codemirror_mode": {
    "name": "ipython",
    "version": 3
   },
   "file_extension": ".py",
   "mimetype": "text/x-python",
   "name": "python",
   "nbconvert_exporter": "python",
   "pygments_lexer": "ipython3",
   "version": "3.10.9"
  },
  "orig_nbformat": 4
 },
 "nbformat": 4,
 "nbformat_minor": 2
}
