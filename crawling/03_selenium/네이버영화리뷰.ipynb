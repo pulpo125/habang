{
 "cells": [
  {
   "attachments": {},
   "cell_type": "markdown",
   "metadata": {},
   "source": [
    "## 네이버 영화 리뷰 수집"
   ]
  },
  {
   "cell_type": "code",
   "execution_count": 34,
   "metadata": {},
   "outputs": [],
   "source": [
    "from bs4 import BeautifulSoup\n",
    "from selenium import webdriver\n",
    "from selenium.webdriver.common.by import By\n",
    "from bs4 import BeautifulSoup\n",
    "import time\n",
    "import pandas as pd\n",
    "import re"
   ]
  },
  {
   "cell_type": "code",
   "execution_count": 35,
   "metadata": {},
   "outputs": [
    {
     "name": "stderr",
     "output_type": "stream",
     "text": [
      "C:\\Users\\Playdata\\AppData\\Local\\Temp\\ipykernel_9736\\2719056226.py:2: DeprecationWarning: executable_path has been deprecated, please pass in a Service object\n",
      "  driver = webdriver.Chrome(driver_path)\n"
     ]
    }
   ],
   "source": [
    "driver_path = 'C:/Users/Playdata/Desktop/dev/setup/chromdriver.exe'\n",
    "driver = webdriver.Chrome(driver_path)"
   ]
  },
  {
   "cell_type": "code",
   "execution_count": 36,
   "metadata": {},
   "outputs": [],
   "source": [
    "url = 'https://search.naver.com/search.naver?where=nexearch&sm=tab_etc&mra=bkEw&pkid=68&os=8068758&qvt=0&query=%EA%B0%80%EB%94%94%EC%96%B8%EC%A6%88%20%EC%98%A4%EB%B8%8C%20%EA%B0%A4%EB%9F%AD%EC%8B%9C%3A%20Volume%203%20%ED%8F%89%EC%A0%90'\n",
    "driver.get(url)"
   ]
  },
  {
   "attachments": {},
   "cell_type": "markdown",
   "metadata": {},
   "source": [
    "- 스크롤 동작하기"
   ]
  },
  {
   "cell_type": "code",
   "execution_count": 37,
   "metadata": {},
   "outputs": [],
   "source": [
    "height = 500"
   ]
  },
  {
   "cell_type": "code",
   "execution_count": 38,
   "metadata": {},
   "outputs": [],
   "source": [
    "# 스크롤 내리기\n",
    "import time\n",
    "for _ in range(20):\n",
    "    driver.execute_script(f\"document.querySelector('div.lego_review_list._scroller').scrollTo(0,{height})\")\n",
    "    height += 500\n",
    "    time.sleep(1)"
   ]
  },
  {
   "attachments": {},
   "cell_type": "markdown",
   "metadata": {},
   "source": [
    "- 셀레니움으로 텍스트 추출"
   ]
  },
  {
   "cell_type": "code",
   "execution_count": 43,
   "metadata": {},
   "outputs": [],
   "source": [
    "from selenium.webdriver.common.by import By\n",
    "div_review_element = driver.find_element(By.CSS_SELECTOR, 'div.lego_review_list._scroller')"
   ]
  },
  {
   "cell_type": "code",
   "execution_count": 44,
   "metadata": {},
   "outputs": [
    {
     "data": {
      "text/plain": [
       "310"
      ]
     },
     "execution_count": 44,
     "metadata": {},
     "output_type": "execute_result"
    }
   ],
   "source": [
    "reviews_elements = div_review_element.find_elements(By.CSS_SELECTOR, 'span.desc._text')\n",
    "len(reviews_elements)"
   ]
  },
  {
   "cell_type": "code",
   "execution_count": 45,
   "metadata": {},
   "outputs": [
    {
     "data": {
      "text/plain": [
       "310"
      ]
     },
     "execution_count": 45,
     "metadata": {},
     "output_type": "execute_result"
    }
   ],
   "source": [
    "review_list = [review_element.text.strip() for review_element in reviews_elements]\n",
    "len(review_list)"
   ]
  },
  {
   "attachments": {},
   "cell_type": "markdown",
   "metadata": {},
   "source": [
    "- 스크롤을 끝까지 내리는 동작"
   ]
  },
  {
   "cell_type": "code",
   "execution_count": 42,
   "metadata": {},
   "outputs": [
    {
     "name": "stdout",
     "output_type": "stream",
     "text": [
      "last_height: 11622 , new_height: 13315\n",
      "last_height: 13315 , new_height: 15052\n",
      "last_height: 15052 , new_height: 16705\n",
      "last_height: 16705 , new_height: 18398\n",
      "last_height: 18398 , new_height: 20135\n",
      "last_height: 20135 , new_height: 21809\n",
      "last_height: 21809 , new_height: 23523\n",
      "last_height: 23523 , new_height: 25155\n",
      "last_height: 25155 , new_height: 26974\n",
      "last_height: 26974 , new_height: 28625\n",
      "last_height: 28625 , new_height: 30278\n",
      "last_height: 30278 , new_height: 31912\n",
      "last_height: 31912 , new_height: 33628\n",
      "last_height: 33628 , new_height: 35344\n",
      "last_height: 35344 , new_height: 37058\n",
      "last_height: 37058 , new_height: 38751\n",
      "last_height: 38751 , new_height: 40383\n",
      "last_height: 40383 , new_height: 42034\n",
      "last_height: 42034 , new_height: 43685\n",
      "last_height: 43685 , new_height: 45336\n",
      "last_height: 45336 , new_height: 47008\n",
      "last_height: 47008 , new_height: 48661\n",
      "last_height: 48661 , new_height: 50333\n",
      "last_height: 50333 , new_height: 52047\n",
      "last_height: 52047 , new_height: 52047\n"
     ]
    }
   ],
   "source": [
    "for i in range(100):\n",
    "    last_height = driver.execute_script(\"return document.querySelector('div.lego_review_list._scroller').scrollHeight\")\n",
    "    driver.execute_script(f\"document.querySelector('div.lego_review_list._scroller').scrollTo(0,{last_height})\")\n",
    "    time.sleep(0.5)\n",
    "    new_height = driver.execute_script(\"return document.querySelector('div.lego_review_list._scroller').scrollHeight\")\n",
    "    print('last_height:',last_height,', new_height:',new_height)\n",
    "    if new_height == last_height:\n",
    "        break"
   ]
  },
  {
   "cell_type": "code",
   "execution_count": 46,
   "metadata": {},
   "outputs": [
    {
     "data": {
      "text/html": [
       "<div>\n",
       "<style scoped>\n",
       "    .dataframe tbody tr th:only-of-type {\n",
       "        vertical-align: middle;\n",
       "    }\n",
       "\n",
       "    .dataframe tbody tr th {\n",
       "        vertical-align: top;\n",
       "    }\n",
       "\n",
       "    .dataframe thead th {\n",
       "        text-align: right;\n",
       "    }\n",
       "</style>\n",
       "<table border=\"1\" class=\"dataframe\">\n",
       "  <thead>\n",
       "    <tr style=\"text-align: right;\">\n",
       "      <th></th>\n",
       "      <th>후기</th>\n",
       "    </tr>\n",
       "  </thead>\n",
       "  <tbody>\n",
       "    <tr>\n",
       "      <th>0</th>\n",
       "      <td>개인적으로 마블영화 총 통틀어서 3손가락 안에 드는것 같음 가족애적인 부분이 너무 좋았음</td>\n",
       "    </tr>\n",
       "    <tr>\n",
       "      <th>1</th>\n",
       "      <td>일본 신파가 한국 거쳐 미국에 자리잡았네</td>\n",
       "    </tr>\n",
       "    <tr>\n",
       "      <th>2</th>\n",
       "      <td>이 영화, 그리고 이 시리즈를 계속 사랑할수 있게 해줘서 너무 너무 고맙고 또 고맙...</td>\n",
       "    </tr>\n",
       "    <tr>\n",
       "      <th>3</th>\n",
       "      <td>이 영화를 끝으로, 태초의 마블 감성도 끝났다.</td>\n",
       "    </tr>\n",
       "    <tr>\n",
       "      <th>4</th>\n",
       "      <td>엔드게임 이후 최고의 마블영화</td>\n",
       "    </tr>\n",
       "  </tbody>\n",
       "</table>\n",
       "</div>"
      ],
      "text/plain": [
       "                                                  후기\n",
       "0  개인적으로 마블영화 총 통틀어서 3손가락 안에 드는것 같음 가족애적인 부분이 너무 좋았음\n",
       "1                             일본 신파가 한국 거쳐 미국에 자리잡았네\n",
       "2  이 영화, 그리고 이 시리즈를 계속 사랑할수 있게 해줘서 너무 너무 고맙고 또 고맙...\n",
       "3                         이 영화를 끝으로, 태초의 마블 감성도 끝났다.\n",
       "4                                   엔드게임 이후 최고의 마블영화"
      ]
     },
     "execution_count": 46,
     "metadata": {},
     "output_type": "execute_result"
    }
   ],
   "source": [
    "df = pd.DataFrame(review_list)\n",
    "df.columns = ['후기']\n",
    "df.head()"
   ]
  },
  {
   "cell_type": "code",
   "execution_count": 47,
   "metadata": {},
   "outputs": [
    {
     "data": {
      "text/plain": [
       "후기    310\n",
       "dtype: int64"
      ]
     },
     "execution_count": 47,
     "metadata": {},
     "output_type": "execute_result"
    }
   ],
   "source": [
    "df.count()"
   ]
  },
  {
   "cell_type": "code",
   "execution_count": 48,
   "metadata": {},
   "outputs": [],
   "source": [
    "df.to_excel('naver_movie_review.xlsx')"
   ]
  },
  {
   "cell_type": "code",
   "execution_count": null,
   "metadata": {},
   "outputs": [],
   "source": []
  }
 ],
 "metadata": {
  "kernelspec": {
   "display_name": "base",
   "language": "python",
   "name": "python3"
  },
  "language_info": {
   "codemirror_mode": {
    "name": "ipython",
    "version": 3
   },
   "file_extension": ".py",
   "mimetype": "text/x-python",
   "name": "python",
   "nbconvert_exporter": "python",
   "pygments_lexer": "ipython3",
   "version": "3.10.9"
  },
  "orig_nbformat": 4
 },
 "nbformat": 4,
 "nbformat_minor": 2
}
