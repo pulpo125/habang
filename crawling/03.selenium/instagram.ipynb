{
 "cells": [
  {
   "cell_type": "code",
   "execution_count": 60,
   "metadata": {},
   "outputs": [
    {
     "name": "stderr",
     "output_type": "stream",
     "text": [
      "C:\\Users\\Playdata\\AppData\\Local\\Temp\\ipykernel_6568\\1838170495.py:6: DeprecationWarning: executable_path has been deprecated, please pass in a Service object\n",
      "  driver = webdriver.Chrome(driver_path)\n"
     ]
    }
   ],
   "source": [
    "from bs4 import BeautifulSoup\n",
    "from selenium import webdriver\n",
    "from selenium.webdriver.common.by import By\n",
    "\n",
    "driver_path = 'C:/Users/Playdata/Desktop/dev/setup/chromdriver.exe'\n",
    "driver = webdriver.Chrome(driver_path)\n",
    "url = 'https://www.instagram.com'\n",
    "driver.get(url)\n",
    "# html = driver.page_source\n",
    "# soup = BeautifulSoup(html, 'html.parser')"
   ]
  },
  {
   "attachments": {},
   "cell_type": "markdown",
   "metadata": {},
   "source": [
    "- 로그인"
   ]
  },
  {
   "cell_type": "code",
   "execution_count": 61,
   "metadata": {},
   "outputs": [],
   "source": [
    "# bs4의 select와 동일한 기능\n",
    "input_id = driver.find_elements(By.CSS_SELECTOR, 'input._aa4b')[0]\n",
    "input_id.send_keys('####id입력####')\n",
    "\n",
    "input_pw = driver.find_elements(By.CSS_SELECTOR, 'input._aa4b')[1]\n",
    "input_pw.send_keys('#####PW입력#######')"
   ]
  },
  {
   "cell_type": "code",
   "execution_count": 62,
   "metadata": {},
   "outputs": [],
   "source": [
    "button = driver.find_element(By.CSS_SELECTOR, 'button._acan._acap._acas._aj1-')\n",
    "button.click()"
   ]
  },
  {
   "attachments": {},
   "cell_type": "markdown",
   "metadata": {},
   "source": [
    "- 검색 결과 URL 만들어서 접속"
   ]
  },
  {
   "cell_type": "code",
   "execution_count": 63,
   "metadata": {},
   "outputs": [],
   "source": [
    "def insta_search(word):\n",
    "    url = 'https://www.instagram.com/explore/tags/' + word\n",
    "    return url"
   ]
  },
  {
   "cell_type": "code",
   "execution_count": 64,
   "metadata": {},
   "outputs": [],
   "source": [
    "word = '제주도맛집'\n",
    "url = insta_search(word)\n",
    "driver.get(url)"
   ]
  },
  {
   "attachments": {},
   "cell_type": "markdown",
   "metadata": {},
   "source": [
    "- 첫번째 게시글 열기"
   ]
  },
  {
   "cell_type": "code",
   "execution_count": 65,
   "metadata": {},
   "outputs": [],
   "source": [
    "import time\n",
    "import random\n",
    "\n",
    "def select_first(driver):\n",
    "    first = driver.find_element(By.CSS_SELECTOR, 'div._aagw')\n",
    "    first.click()\n",
    "    time.sleep(random.randint(2,4))\n",
    "\n",
    "select_first(driver)"
   ]
  },
  {
   "attachments": {},
   "cell_type": "markdown",
   "metadata": {},
   "source": [
    "* 게시글 정보 가져오기 "
   ]
  },
  {
   "cell_type": "code",
   "execution_count": 71,
   "metadata": {},
   "outputs": [],
   "source": [
    "import re\n",
    "from bs4 import BeautifulSoup\n",
    "import unicodedata\n",
    "\n",
    "def get_content(driver):\n",
    "    html = driver.page_source\n",
    "    soup = BeautifulSoup(html, 'html.parser')\n",
    "\n",
    "    # 인스타그램의 내용 추출\n",
    "    try:\n",
    "        content = soup.select_one('div._a9zs').get_text()\n",
    "        content = unicodedata.normalize('NFC', content)\n",
    "    except:\n",
    "        content = ' '\n",
    "\n",
    "    # 그 내용 중 해시태그 부분만 추출하여 리스트로 반환\n",
    "    tags = re.findall(r'#[^\\s#,\\\\]+', content)\n",
    "\n",
    "    # 게시물의 시간 추출(날짜만)\n",
    "    date = soup.select_one('time')['datetime'][:10]\n",
    "\n",
    "    # 좋아요 개수 추출\n",
    "    try:\n",
    "        pattern = re.compile('좋아요 <span>([0-9]+)</span>')\n",
    "        match_obj = pattern.search(html)\n",
    "        like = int(match_obj.group(1))\n",
    "    except:\n",
    "        like = 0\n",
    "        \n",
    "    data = [date, content, tags, like]\n",
    "\n",
    "    return data\n"
   ]
  },
  {
   "cell_type": "code",
   "execution_count": 72,
   "metadata": {},
   "outputs": [
    {
     "data": {
      "text/plain": [
       "['2023-05-11',\n",
       " '제주의 푸른 바다뷰와 함께 하는 해저에서는336시간이라는 기다림의 숙성으로 맛을 더한‘제주 흑돼지 구이’ 와 더해 ‘제주 딱새우회’ 도 함께 즐기실 수 있습니다.식재료 모두 직접 선별하여 최상급으로 사용하고 있습니다!밑반찬, 사이드메뉴 하나하나전부 많은 연구를 거듭해 완성했습니다전좌석이 제주도의 오션뷰를 느끼며 식사 하실 수 있습니다 :-)제주에서의 행복한 기억과 특별한 시간을 보내기에 최적화된 장소라고 자부할 수 있습니다.손님분들의 편안하고 쾌적한 식사, 가장 맛있게 고기를 드실 수 있게저희 해저는 직원들이 직접 그릴링 서비스도 함께 제공합니다 넓은 주차공간과 아기의자도 구비되어있어더욱 편안하게 즐기실 수 있습니다 !제주의 모든 시간대의 풍경을 실시간으로 즐기며잊지 못할 추억을 쌓으시길 바래요☺⠀⊙제주시 한립읍 귀덕리 4169-3⊙070-8817-3000⊙open 11:00~22:00 / last order 21:00⊙가게뒷편 주차가능, 해안도로 주차가능⊙6인 단체석 보유, 애견 출입 불가능 ⠀#한림맛집 #제주한림맛집 #제주맛집 #제주흑돼지맛집 #제주흑돼지 #제주도흑돼지맛집 #제주도흑돼지 #한림흑돼지 #한림흑돼지맛집 #협재흑돼지 #협재흑돼지맛집 #제주해저 #제주도맛집 #애월맛집 #한림고기맛집 #애월고기맛집 #제주노을맛집 #제주한림맛집',\n",
       " ['#한림맛집',\n",
       "  '#제주한림맛집',\n",
       "  '#제주맛집',\n",
       "  '#제주흑돼지맛집',\n",
       "  '#제주흑돼지',\n",
       "  '#제주도흑돼지맛집',\n",
       "  '#제주도흑돼지',\n",
       "  '#한림흑돼지',\n",
       "  '#한림흑돼지맛집',\n",
       "  '#협재흑돼지',\n",
       "  '#협재흑돼지맛집',\n",
       "  '#제주해저',\n",
       "  '#제주도맛집',\n",
       "  '#애월맛집',\n",
       "  '#한림고기맛집',\n",
       "  '#애월고기맛집',\n",
       "  '#제주노을맛집',\n",
       "  '#제주한림맛집'],\n",
       " 1072]"
      ]
     },
     "execution_count": 72,
     "metadata": {},
     "output_type": "execute_result"
    }
   ],
   "source": [
    "get_content(driver)"
   ]
  },
  {
   "cell_type": "code",
   "execution_count": 66,
   "metadata": {},
   "outputs": [],
   "source": [
    "html = driver.page_source\n",
    "soup = BeautifulSoup(html, 'html.parser')\n"
   ]
  },
  {
   "cell_type": "code",
   "execution_count": 28,
   "metadata": {},
   "outputs": [
    {
     "data": {
      "text/plain": [
       "<selenium.webdriver.remote.webelement.WebElement (session=\"91df04f6588f737a64b470d9bbc44ef1\", element=\"2DA4D168700EE94D3E868DD257CEF196_element_1059\")>"
      ]
     },
     "execution_count": 28,
     "metadata": {},
     "output_type": "execute_result"
    }
   ],
   "source": [
    "driver.find_element(By.CSS_SELECTOR, 'h1._aacl._aaco')"
   ]
  },
  {
   "cell_type": "code",
   "execution_count": 46,
   "metadata": {},
   "outputs": [
    {
     "data": {
      "text/plain": [
       "\"_shhunyenkir광고)대게 or 킹크랩 2KG이상 주문시랍스터버터구이 서비스. 포장도 O.K제주공항에서 진~짜가깝고 개별룸이 많아서 더 좋고맛있는 도민맛집으로유명한 '연동대게회타운'낮3시부터 ~ 밤 12시까지개인룸에서 맘편하게 먹자!!🙊이야.. 살이 꽉 차있네소리가 절로나오는탱글 쫄깃한💦속살에⠀녹~찐한 내장까지증말 스릉흔다❤❤⠀밑반찬 구성도푸짐하니 다양하게즐길 수 있어 좋고!⠀살이꽉찬 대게&킹크랩 맛집👏⠀개별룸 형식으로걱정🙅 ♀없이 먹는'연동대게회타운'⠀🧭연동대게회타운*제주 제주시 신대로 125*064-903-1889#제주도맛집#제주맛집#서귀포맛집#제주공항근처맛집#제주시맛집#제주연동맛집#제주도연동맛집#연동맛집#노형동맛집#노형맛집#제주노형맛집#제주도노형맛집#제주노형동맛집#제주도노형동맛집#제주대게맛집14시간\""
      ]
     },
     "execution_count": 46,
     "metadata": {},
     "output_type": "execute_result"
    }
   ],
   "source": [
    "content = soup.select_one('div._a9zr').get_text()\n",
    "content = unicodedata.normalize('NFC', content)\n",
    "content"
   ]
  },
  {
   "cell_type": "code",
   "execution_count": 47,
   "metadata": {},
   "outputs": [
    {
     "data": {
      "text/plain": [
       "['#제주도맛집',\n",
       " '#제주맛집',\n",
       " '#서귀포맛집',\n",
       " '#제주공항근처맛집',\n",
       " '#제주시맛집',\n",
       " '#제주연동맛집',\n",
       " '#제주도연동맛집',\n",
       " '#연동맛집',\n",
       " '#노형동맛집',\n",
       " '#노형맛집',\n",
       " '#제주노형맛집',\n",
       " '#제주도노형맛집',\n",
       " '#제주노형동맛집',\n",
       " '#제주도노형동맛집',\n",
       " '#제주대게맛집14시간']"
      ]
     },
     "execution_count": 47,
     "metadata": {},
     "output_type": "execute_result"
    }
   ],
   "source": [
    "tags = re.findall(r'#[^\\s#,\\\\]+', content)"
   ]
  },
  {
   "cell_type": "code",
   "execution_count": 54,
   "metadata": {},
   "outputs": [
    {
     "data": {
      "text/plain": [
       "'2023-05-10'"
      ]
     },
     "execution_count": 54,
     "metadata": {},
     "output_type": "execute_result"
    }
   ],
   "source": [
    "soup.select_one('time')['datetime'][:10]"
   ]
  },
  {
   "cell_type": "code",
   "execution_count": 67,
   "metadata": {},
   "outputs": [
    {
     "data": {
      "text/plain": [
       "1072"
      ]
     },
     "execution_count": 67,
     "metadata": {},
     "output_type": "execute_result"
    }
   ],
   "source": [
    "# 좋아요 개수 추출\n",
    "pattern = re.compile('좋아요 <span>([0-9]+)</span>')\n",
    "match_obj = pattern.search(html)\n",
    "like = int(match_obj.group(1))\n",
    "like\n"
   ]
  },
  {
   "attachments": {},
   "cell_type": "markdown",
   "metadata": {},
   "source": [
    "- 다음 버튼 선택"
   ]
  },
  {
   "cell_type": "code",
   "execution_count": 56,
   "metadata": {},
   "outputs": [],
   "source": [
    "right = driver.find_element(By.CSS_SELECTOR, 'div._aaqg._aaqh')\n",
    "right.click()"
   ]
  },
  {
   "cell_type": "code",
   "execution_count": 73,
   "metadata": {},
   "outputs": [],
   "source": [
    "import time\n",
    "import random\n",
    "def move_next(driver):\n",
    "    right = driver.find_element(By.CSS_SELECTOR, 'div._aaqg._aaqh')\n",
    "    right.click()\n",
    "    time.sleep(random.randint(2,4))\n",
    "\n",
    "move_next(driver)"
   ]
  },
  {
   "attachments": {},
   "cell_type": "markdown",
   "metadata": {},
   "source": [
    "- 여러 게시글 정보 수집 (20개 까지)"
   ]
  },
  {
   "cell_type": "code",
   "execution_count": 75,
   "metadata": {},
   "outputs": [
    {
     "data": {
      "text/plain": [
       "['2023-05-11',\n",
       " '✔ 당장 돈 되는 재택근무 - 무료교육✔ 2023년부터는 집에서 돈 번다! 3시간 300만 원, 5시간 500만 원☞ #무료특강신청 : https://open.kakao.com/o/sRBqZ1Ne ☎ 문의 : 010-8259-0144#꽃바구니 #선팔하면맞팔 #선팔 #선팔환영 #선팔맞팔 #선팔좋아요 #선팔선팔 #해운대맛집 #제주맛집 #맛집탐방 #맛집 #서면맛집 #강남맛집 #맛집추천 #홍대맛집 #이태원맛집 #부산맛집 #맛집스타그램 #제주도맛집 #대구맛집 #kbeauty #화장품 #피부관리 #koreanbeauty #아들램 #육아일기 #육아일상 #딸스타그램',\n",
       " ['#무료특강신청',\n",
       "  '#꽃바구니',\n",
       "  '#선팔하면맞팔',\n",
       "  '#선팔',\n",
       "  '#선팔환영',\n",
       "  '#선팔맞팔',\n",
       "  '#선팔좋아요',\n",
       "  '#선팔선팔',\n",
       "  '#해운대맛집',\n",
       "  '#제주맛집',\n",
       "  '#맛집탐방',\n",
       "  '#맛집',\n",
       "  '#서면맛집',\n",
       "  '#강남맛집',\n",
       "  '#맛집추천',\n",
       "  '#홍대맛집',\n",
       "  '#이태원맛집',\n",
       "  '#부산맛집',\n",
       "  '#맛집스타그램',\n",
       "  '#제주도맛집',\n",
       "  '#대구맛집',\n",
       "  '#kbeauty',\n",
       "  '#화장품',\n",
       "  '#피부관리',\n",
       "  '#koreanbeauty',\n",
       "  '#아들램',\n",
       "  '#육아일기',\n",
       "  '#육아일상',\n",
       "  '#딸스타그램'],\n",
       " 0]"
      ]
     },
     "execution_count": 75,
     "metadata": {},
     "output_type": "execute_result"
    }
   ],
   "source": [
    "results = []\n",
    "num = 20\n",
    "for _ in range(num):\n",
    "    try:\n",
    "        result = get_content(driver)\n",
    "        results.append(result)\n",
    "        move_next(driver)\n",
    "    except:\n",
    "        time.sleep(2)\n",
    "        move_next(driver)"
   ]
  },
  {
   "cell_type": "code",
   "execution_count": 76,
   "metadata": {},
   "outputs": [
    {
     "data": {
      "text/plain": [
       "20"
      ]
     },
     "execution_count": 76,
     "metadata": {},
     "output_type": "execute_result"
    }
   ],
   "source": [
    "len(results)"
   ]
  },
  {
   "cell_type": "code",
   "execution_count": 78,
   "metadata": {},
   "outputs": [
    {
     "data": {
      "text/plain": [
       "['2023-05-10',\n",
       " '(광고) 초대박 가성비 제주산 갈치조림세트 맛집❤제주바다에❤ 두두등장!!제주산 갈치조림세트 1인분 2만원에😲제주산갈치조림 + 영양솥밥 + 황게튀김 + 왕새우장까지🦐상다리 휘어지는 갓성비 구성👍👍영양만점 활전복 주문할 때 미리 추가 가능!!사장님 강추 조합!!갈치조림 비법 양념소스 제대로 벤 무랑 감자🤤고소한 황게튀김과 영양솥밥이랑🙌같이 드셔보세요도소매 전문으로하는 대게, 킹크랩!!🦀🦞거품 싹 빠진 저렴한 가격으로 제대로 즐겨보자🌈 @jejubadae🧭제주바다에주소 : 제주 제주시 연북로 550문의 : 064-759-2797영업 : 매일 11:00 ~ 21:00#제주도맛집#제주여행#제주도여행#제주여행코스#제주도여행코스#제주가볼만한곳#제주도가볼만한곳#제주갈만한곳#제주여행중#제주시가볼만한곳#아라동맛집#아라동맛집추천#아라동밥집#아라동카페',\n",
       " ['#제주도맛집',\n",
       "  '#제주여행',\n",
       "  '#제주도여행',\n",
       "  '#제주여행코스',\n",
       "  '#제주도여행코스',\n",
       "  '#제주가볼만한곳',\n",
       "  '#제주도가볼만한곳',\n",
       "  '#제주갈만한곳',\n",
       "  '#제주여행중',\n",
       "  '#제주시가볼만한곳',\n",
       "  '#아라동맛집',\n",
       "  '#아라동맛집추천',\n",
       "  '#아라동밥집',\n",
       "  '#아라동카페'],\n",
       " 0]"
      ]
     },
     "execution_count": 78,
     "metadata": {},
     "output_type": "execute_result"
    }
   ],
   "source": [
    "results[0]"
   ]
  },
  {
   "cell_type": "code",
   "execution_count": 80,
   "metadata": {},
   "outputs": [
    {
     "data": {
      "text/plain": [
       "['2023-05-11',\n",
       " '(광고)안녕하세요! 제주공항근처맛집 제주더비치크랩을 소개합니다 :)\\u3000더비치크랩 제주공항점에서는 전좌석 오션뷰에 비행기뷰,노을뷰 등 제주에서 손꼽히는 바다뷰를 자랑합니다.\\u3000\\u3000메뉴는 케나다산활랍스터와 제주산돼지고기를 사용하며,돈마호크스테이크, 활랍스타찜, 하와이안딱새우보일링, 세트로묶여있는 메뉴가있어 3가지메인메뉴를 가성비있게 골고루 드실수있습니다.\\u3000랍스타는 100% 활랍스타만을 사용을 하고있습니다.딱새우보일링은 하와이안식 케이준양념으로 한번더 볶아낸 음식으로 쉽게 접할수있는 음식이 아닌 저희가게만의 비법양념으로 만든 ✨시그니처메뉴✨입니다.\\u3000 관광객들에게 인기있는 메뉴인 딱새우와 전복이 들어가며 새우, 감자, 옥수수, 고구마, 소시지, 홍합 등 푸짐하면서도 망치로까먹는 재미가있는 하와이안딱새우 ✨보일링메뉴✨입니다.\\u3000돈마호크스테이크는 제주산 돼지고기이며, 해산물을 못드시는분들이나 어린애들도 좋아하는 메뉴입니다.저희 가게만의 방식으로 숙성을 시켜 육즙이 살아있으며,미니화구도 같이 나오니 굽는 재미와 함께 맛 또한 따뜻함을 유지시키며 드실수있는 저희가게의 인기있는 메뉴👍입니다.\\u3000그 외 어린이 동반가족을 위한 \"어린이세트\"와 \"쉬림프라이스\" 사이드메뉴도 준비되어있습니다.🤤\\u3000\\u3000영업시간매일 11:00 - 22:0021:00 라스트오더(연중무휴 노브레이크타임)당일 매장상황에 따라 전화예약 가능합니다만, 웨이팅발생시 오시는대로 식사가능합니다\\u3000🚗 오시는길🏠 제주 제주시 동한두기길 31 제주더비치크랩📌(제주 라마다호텔 근처위치, 제주공항 동문시장 제주시청등 15분거리로 가깝습니다)☎ 0507 - 1352 - 3155\\u3000\\u3000..#제주맛집#제주도맛집#제주공항근처맛집 #제주공항맛집 #신제주맛집 #제주시맛집 #용두암맛집 #제주탑동맛집 #제주시맛집추천#탑동맛집#제주동문시장맛집#제주공항근처#연동맛집#제주용담맛집#제주랍스터',\n",
       " ['#제주맛집',\n",
       "  '#제주도맛집',\n",
       "  '#제주공항근처맛집',\n",
       "  '#제주공항맛집',\n",
       "  '#신제주맛집',\n",
       "  '#제주시맛집',\n",
       "  '#용두암맛집',\n",
       "  '#제주탑동맛집',\n",
       "  '#제주시맛집추천',\n",
       "  '#탑동맛집',\n",
       "  '#제주동문시장맛집',\n",
       "  '#제주공항근처',\n",
       "  '#연동맛집',\n",
       "  '#제주용담맛집',\n",
       "  '#제주랍스터'],\n",
       " 0]"
      ]
     },
     "execution_count": 80,
     "metadata": {},
     "output_type": "execute_result"
    }
   ],
   "source": [
    "results[-2]"
   ]
  },
  {
   "cell_type": "code",
   "execution_count": 85,
   "metadata": {},
   "outputs": [],
   "source": [
    "import pandas as pd\n",
    "df = pd.DataFrame(results)\n",
    "df.columns = ['날짜', '내용', '해시태그', '좋아요']\n",
    "df.to_excel('instagram.xlsx')"
   ]
  },
  {
   "cell_type": "code",
   "execution_count": null,
   "metadata": {},
   "outputs": [],
   "source": []
  }
 ],
 "metadata": {
  "kernelspec": {
   "display_name": "base",
   "language": "python",
   "name": "python3"
  },
  "language_info": {
   "codemirror_mode": {
    "name": "ipython",
    "version": 3
   },
   "file_extension": ".py",
   "mimetype": "text/x-python",
   "name": "python",
   "nbconvert_exporter": "python",
   "pygments_lexer": "ipython3",
   "version": "3.10.9"
  },
  "orig_nbformat": 4
 },
 "nbformat": 4,
 "nbformat_minor": 2
}
