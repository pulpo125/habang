{
 "cells": [
  {
   "attachments": {},
   "cell_type": "markdown",
   "metadata": {},
   "source": [
    "## 네이버 블로그 수집"
   ]
  },
  {
   "cell_type": "code",
   "execution_count": 1,
   "metadata": {},
   "outputs": [],
   "source": [
    "from bs4 import BeautifulSoup\n",
    "from selenium import webdriver\n",
    "from selenium.webdriver.common.by import By\n",
    "import re\n",
    "from bs4 import BeautifulSoup\n",
    "import unicodedata\n",
    "import time\n",
    "import random\n",
    "import pandas as pd"
   ]
  },
  {
   "cell_type": "code",
   "execution_count": 8,
   "metadata": {},
   "outputs": [
    {
     "name": "stderr",
     "output_type": "stream",
     "text": [
      "C:\\Users\\Playdata\\AppData\\Local\\Temp\\ipykernel_1496\\2318196145.py:2: DeprecationWarning: executable_path has been deprecated, please pass in a Service object\n",
      "  driver = webdriver.Chrome(driver_path)\n"
     ]
    }
   ],
   "source": [
    "driver_path = 'C:/Users/Playdata/Desktop/dev/setup/chromdriver.exe'\n",
    "driver = webdriver.Chrome(driver_path)\n",
    "driver.implicitly_wait(3)"
   ]
  },
  {
   "cell_type": "code",
   "execution_count": null,
   "metadata": {},
   "outputs": [],
   "source": [
    "#https://section.blog.naver.com/Search/Post.naver?pageNo=1&rangeType=WEEK&orderBy=sim&startDate=2023-05-04&endDate=2023-05-11&keyword=%EC%A0%9C%EC%A3%BC%EB%8F%84%EB%A7%9B%EC%A7%91"
   ]
  },
  {
   "cell_type": "code",
   "execution_count": 9,
   "metadata": {},
   "outputs": [],
   "source": [
    "def get_blog_search_url(keyword, start_date, end_date, page):\n",
    "    url = 'https://section.blog.naver.com/Search/Post.naver?'\n",
    "    url += f'pageNo={page}&rangeType=WEEK&orderBy=sim&'\n",
    "    url += f'startDate={start_date}&endDate={end_date}&keyword={keyword}'\n",
    "\n",
    "    return url"
   ]
  },
  {
   "cell_type": "code",
   "execution_count": 10,
   "metadata": {},
   "outputs": [],
   "source": [
    "keyword = '제주도맛집'\n",
    "start_date = '2023-05-04'\n",
    "end_date = '2023-05-11'\n",
    "page = 1\n",
    "url = get_blog_search_url(keyword, start_date, end_date, page)"
   ]
  },
  {
   "cell_type": "code",
   "execution_count": 11,
   "metadata": {},
   "outputs": [],
   "source": [
    "# 페이지 이동\n",
    "driver.get(url)\n"
   ]
  },
  {
   "cell_type": "code",
   "execution_count": 12,
   "metadata": {},
   "outputs": [],
   "source": [
    "html = driver.page_source\n",
    "# len(html)\n",
    "soup = BeautifulSoup(html, 'html.parser')"
   ]
  },
  {
   "cell_type": "code",
   "execution_count": 10,
   "metadata": {},
   "outputs": [
    {
     "data": {
      "text/plain": [
       "7"
      ]
     },
     "execution_count": 10,
     "metadata": {},
     "output_type": "execute_result"
    }
   ],
   "source": [
    "# len(soup.select('div > a.desc_inner'))"
   ]
  },
  {
   "cell_type": "code",
   "execution_count": 13,
   "metadata": {},
   "outputs": [
    {
     "data": {
      "text/plain": [
       "['https://blog.naver.com/kidart01/223095054870',\n",
       " 'https://blog.naver.com/the_yoons/223095690267',\n",
       " 'https://blog.naver.com/skdud2028/223094524030',\n",
       " 'https://blog.naver.com/namnom8888/223094738155',\n",
       " 'https://blog.naver.com/wkdu200/223093053779',\n",
       " 'https://blog.naver.com/aldksaldks93/223093063963',\n",
       " 'https://blog.naver.com/namokran66/223094838570']"
      ]
     },
     "execution_count": 13,
     "metadata": {},
     "output_type": "execute_result"
    }
   ],
   "source": [
    "one_page_blog_urls = [a['href'] for a in soup.select('div > a.desc_inner')]\n",
    "one_page_blog_urls"
   ]
  },
  {
   "cell_type": "code",
   "execution_count": 14,
   "metadata": {},
   "outputs": [],
   "source": [
    "#1. 7개 블로그 URL 추출하는 함수\n",
    "def get_one_page_blog_urls(driver):\n",
    "    html = driver.page_source\n",
    "    soup = BeautifulSoup(html, 'html.parser')\n",
    "    one_page_blog_urls = [a['href'] for a in soup.select('div > a.desc_inner')]\n",
    "\n",
    "    return one_page_blog_urls"
   ]
  },
  {
   "cell_type": "code",
   "execution_count": 19,
   "metadata": {},
   "outputs": [],
   "source": [
    "#2. 1~10페이지로 반복하여 이동하며 70개의 블로그 url 추출\n",
    "page_num = 10\n",
    "\n",
    "total_blog_url_list = []\n",
    "page_nums_list = []\n",
    "\n",
    "for i in range(1, page_num+1):\n",
    "    url = get_blog_search_url(keyword, start_date, end_date, i)\n",
    "    driver.get(url)\n",
    "    time.sleep(3)\n",
    "\n",
    "    one_page_blog_urls = get_one_page_blog_urls(driver) # 7개\n",
    "    total_blog_url_list += one_page_blog_urls #.extend() 사용해도 됌\n",
    "    page_nums_list += [i] * len(one_page_blog_urls)"
   ]
  },
  {
   "cell_type": "code",
   "execution_count": 20,
   "metadata": {},
   "outputs": [
    {
     "data": {
      "text/plain": [
       "70"
      ]
     },
     "execution_count": 20,
     "metadata": {},
     "output_type": "execute_result"
    }
   ],
   "source": [
    "len(total_blog_url_list)"
   ]
  },
  {
   "cell_type": "code",
   "execution_count": 21,
   "metadata": {},
   "outputs": [],
   "source": [
    "url_dict = dict()\n",
    "url_dict['page'] = page_nums_list\n",
    "url_dict['blog_url'] = total_blog_url_list"
   ]
  },
  {
   "cell_type": "code",
   "execution_count": 25,
   "metadata": {},
   "outputs": [],
   "source": [
    "df = pd.DataFrame(url_dict)"
   ]
  },
  {
   "cell_type": "code",
   "execution_count": 26,
   "metadata": {},
   "outputs": [],
   "source": [
    "df.to_excel('네이버블로그_제주도맛집_URL.xlsx', index=False)"
   ]
  },
  {
   "attachments": {},
   "cell_type": "markdown",
   "metadata": {},
   "source": [
    "- 각 블로그 페이지 데이터 추출(iframe 처리)"
   ]
  },
  {
   "cell_type": "code",
   "execution_count": 6,
   "metadata": {},
   "outputs": [
    {
     "data": {
      "text/html": [
       "<div>\n",
       "<style scoped>\n",
       "    .dataframe tbody tr th:only-of-type {\n",
       "        vertical-align: middle;\n",
       "    }\n",
       "\n",
       "    .dataframe tbody tr th {\n",
       "        vertical-align: top;\n",
       "    }\n",
       "\n",
       "    .dataframe thead th {\n",
       "        text-align: right;\n",
       "    }\n",
       "</style>\n",
       "<table border=\"1\" class=\"dataframe\">\n",
       "  <thead>\n",
       "    <tr style=\"text-align: right;\">\n",
       "      <th></th>\n",
       "      <th>page</th>\n",
       "      <th>blog_url</th>\n",
       "    </tr>\n",
       "  </thead>\n",
       "  <tbody>\n",
       "    <tr>\n",
       "      <th>0</th>\n",
       "      <td>1</td>\n",
       "      <td>https://blog.naver.com/kidart01/223095054870</td>\n",
       "    </tr>\n",
       "    <tr>\n",
       "      <th>1</th>\n",
       "      <td>1</td>\n",
       "      <td>https://blog.naver.com/the_yoons/223095690267</td>\n",
       "    </tr>\n",
       "    <tr>\n",
       "      <th>2</th>\n",
       "      <td>1</td>\n",
       "      <td>https://blog.naver.com/skdud2028/223094524030</td>\n",
       "    </tr>\n",
       "    <tr>\n",
       "      <th>3</th>\n",
       "      <td>1</td>\n",
       "      <td>https://blog.naver.com/namnom8888/223094738155</td>\n",
       "    </tr>\n",
       "    <tr>\n",
       "      <th>4</th>\n",
       "      <td>1</td>\n",
       "      <td>https://blog.naver.com/wkdu200/223093053779</td>\n",
       "    </tr>\n",
       "  </tbody>\n",
       "</table>\n",
       "</div>"
      ],
      "text/plain": [
       "   page                                        blog_url\n",
       "0     1    https://blog.naver.com/kidart01/223095054870\n",
       "1     1   https://blog.naver.com/the_yoons/223095690267\n",
       "2     1   https://blog.naver.com/skdud2028/223094524030\n",
       "3     1  https://blog.naver.com/namnom8888/223094738155\n",
       "4     1     https://blog.naver.com/wkdu200/223093053779"
      ]
     },
     "execution_count": 6,
     "metadata": {},
     "output_type": "execute_result"
    }
   ],
   "source": [
    "df_url = pd.read_excel('네이버블로그_제주도맛집_URL.xlsx')\n",
    "df_url.head()"
   ]
  },
  {
   "cell_type": "code",
   "execution_count": 28,
   "metadata": {},
   "outputs": [],
   "source": [
    "driver.get(df_url['blog_url'][0])"
   ]
  },
  {
   "cell_type": "code",
   "execution_count": 29,
   "metadata": {},
   "outputs": [
    {
     "name": "stdout",
     "output_type": "stream",
     "text": [
      "<body>\n",
      " <iframe allowfullscreen=\"true\" id=\"mainFrame\" name=\"mainFrame\" onload=\"oFramesetTitleController.start(self.frames['mainFrame'], self, sTitle);oFramesetTitleController.onLoadFrame();oFramesetUrlController.start(self.frames['mainFrame']);oFramesetUrlController.onLoadFrame()\" scrolling=\"auto\" src=\"/PostView.naver?blogId=kidart01&amp;logNo=223095054870&amp;redirect=Dlog&amp;widgetTypeCall=true&amp;directAccess=false\">\n",
      " </iframe>\n",
      "</body>\n"
     ]
    }
   ],
   "source": [
    "# iframe 안에 내용을 바로 읽을 수 없음\n",
    "html = driver.page_source\n",
    "soup = BeautifulSoup(html, 'html.parser')\n",
    "print(soup.select_one('body').prettify())"
   ]
  },
  {
   "cell_type": "code",
   "execution_count": 49,
   "metadata": {},
   "outputs": [],
   "source": [
    "# 프레임을 선택 (name 안쪽)\n",
    "driver.switch_to.frame('mainFrame')"
   ]
  },
  {
   "cell_type": "code",
   "execution_count": 50,
   "metadata": {},
   "outputs": [
    {
     "data": {
      "text/plain": [
       "415227"
      ]
     },
     "execution_count": 50,
     "metadata": {},
     "output_type": "execute_result"
    }
   ],
   "source": [
    "html = driver.page_source\n",
    "soup = BeautifulSoup(html, 'html.parser')\n",
    "len(html)"
   ]
  },
  {
   "cell_type": "code",
   "execution_count": null,
   "metadata": {},
   "outputs": [],
   "source": [
    "# 날짜 span.se_publishDate\n",
    "# 제목 div.se-title-text\n",
    "# 내용 div.se-main-container\n",
    "# URL"
   ]
  },
  {
   "cell_type": "code",
   "execution_count": 32,
   "metadata": {},
   "outputs": [
    {
     "data": {
      "text/plain": [
       "'https://blog.naver.com/kidart01/223095054870'"
      ]
     },
     "execution_count": 32,
     "metadata": {},
     "output_type": "execute_result"
    }
   ],
   "source": [
    "# URL\n",
    "driver.current_url"
   ]
  },
  {
   "cell_type": "code",
   "execution_count": 34,
   "metadata": {},
   "outputs": [
    {
     "data": {
      "text/plain": [
       "'2023. 5. 6. 21:00'"
      ]
     },
     "execution_count": 34,
     "metadata": {},
     "output_type": "execute_result"
    }
   ],
   "source": [
    "soup.select_one('span.se_publishDate').get_text()"
   ]
  },
  {
   "cell_type": "code",
   "execution_count": 38,
   "metadata": {},
   "outputs": [
    {
     "data": {
      "text/plain": [
       "'추천할만한 제주도 맛집 리스트'"
      ]
     },
     "execution_count": 38,
     "metadata": {},
     "output_type": "execute_result"
    }
   ],
   "source": [
    "soup.select_one('div.se-title-text').get_text().strip()"
   ]
  },
  {
   "cell_type": "code",
   "execution_count": 37,
   "metadata": {},
   "outputs": [
    {
     "data": {
      "text/plain": [
       "'\\n\\n\\n\\n\\n\\u200b\\n\\n\\n\\n \\n\\n\\n\\n\\n\\n\\n\\n\\n\\n \\n\\n\\n\\n\\u200b\\u200b오랜만에 동창 모임에서 제주 여행을 떠나게 되었습니다. \\u200b\\n\\n\\n\\n \\n\\n\\n\\n\\n\\n\\n\\n\\n\\n \\n\\n\\n\\n\\u200b간 김에 꼭 한번 가보고 싶던 제주도 맛집 리스트에 있는 산지물을 방문했는데요. 다양하고 다채로운 향토음식에 절로 빠져버리고 말았던 날이었어요.\\u200b\\u200b\\n\\n\\n\\n \\n\\n\\n50m© NAVER Corp.더보기 /OpenStreetMap지도 데이터x© NAVER Corp. /OpenStreetMap지도 컨트롤러 범례부동산거리읍,면,동시,군,구시,도국가\\n\\n\\n\\n\\n산지물\\n제주특별자치도 제주시 임항로 26\\n\\n\\n\\n\\n\\n \\n\\n\\n\\n\\u200b\\n\\n\\n\\n \\n\\n\\n\\n\\n\\n\\n\\n\\n\\n \\n\\n\\n\\n산지물주소 : 제주 제주시 임항로 26영업시간 : 매일 07:30 ~ 22:30                    연중무휴전화번호 : 064-752-5599\\n\\n\\n\\n\\n\\n\\n\\n\\n\\n\\n\\n\\n\\n\\n \\n\\n\\n\\n주문 메뉴 : 갈치조림(소) 40,000원 고등어구이 17,000원 전복죽(중) 13,000원 자리물회 15,000원 장대 미역국 9,000원\\u200b\\u200b\\u200b\\n\\n\\n\\n \\n\\n\\n\\n\\n\\n\\n\\n\\n\\n \\n\\n\\n\\n\\u200b\\n\\n\\n\\n \\n\\n\\n\\n\\n\\n\\n\\n\\n\\n\\n\\n\\n\\n\\n\\u200b이날 방문했던 음식점은 제주공항에서 차로 10분 거리에 위치한 향토음식 전문점입니다. 탑동 광장 바로 맞은편에 위치해 있어서 찾아가기도 수월했어요.\\u200b\\n\\n\\n\\n \\n\\n\\n\\n\\n\\n\\n\\n\\n\\n\\n\\n\\n\\n\\n\\u200b매장 뒤편으로는 널찍한 공간의 전용 주차장이 마련되어 있어서 금세 차를 대고 안으로 들어갈 수 있었습니다.\\u200b\\n\\n\\n\\n \\n\\n\\n\\n\\n\\n\\n\\n\\n\\n \\n\\n\\n\\n\\u200b\\n\\n\\n\\n \\n\\n\\n\\n\\n\\n\\n\\n\\n\\n\\n\\n\\n\\n\\n\\u200b입구에 2대째 이어가는 향토음식 전문점이라고 적힌 문구에 절로 기대감이 높아졌는데요, 어찌나 설레는 마음이 들던지 기분이 업 되었습니다.\\u200b\\n\\n\\n\\n \\n\\n\\n\\n\\n\\n\\n\\n\\n\\n\\n\\n\\n\\n\\n\\u200b안으로 들어가 보니 1층과 2층, 3층으로 나눠져 있었던 실내를 마주할 수 있었어요. 단체 손님들을 위한 룸도 있어서 여러 명이 한 번에 몰려들어도 전혀 걱정이 없겠더군요.\\u200b\\n\\n\\n\\n \\n\\n\\n\\n\\n\\n\\n\\n\\n\\n\\n\\n\\n\\n\\n\\u200b벽면에는 각종 매스컴과 방송 출연을 한 흔적들이 걸려있는 모습을 볼 수 있었습니다. 유명하다는 것을 익히 들어 알고는 있었지만 이렇게 마주하니 더욱 기대가 되더라고요.\\u200b\\n\\n\\n\\n \\n\\n\\n\\n\\n\\n\\n\\n\\n\\n \\n\\n\\n\\n\\u200b\\n\\n\\n\\n \\n\\n\\n\\n\\n\\n\\n\\n\\n\\n\\n\\n\\n\\n\\n\\u200b위로 올라가 보니 탁 트인 내부가 우리를 반겨주었습니다. 통창문 너머로 들어오는 채광에 포근함까지 제대로 느껴지던 곳이었어요.\\u200b\\n\\n\\n\\n \\n\\n\\n\\n\\n\\n\\n\\n\\n\\n \\n\\n\\n\\n\\u200b\\n\\n\\n\\n \\n\\n\\n\\n\\n\\n\\n\\n\\n\\n\\n\\n\\n\\n\\n\\u200b우선 자리를 잡고 앉아서 메뉴판을 살펴보았는데요, \\u200b\\n\\n\\n\\n \\n\\n\\n\\n\\n\\n\\n\\n\\n\\n \\n\\n\\n\\n\\u200b제주도 맛집 리스트에 있어서 그런가굉장히 다채로운 먹거리가 적혀있었고 우리는 이날 갈치조림과 고등어구이, 죽, 물회를 주문했습니다.\\u200b\\n\\n\\n\\n \\n\\n\\n\\n\\n\\n\\n\\n\\n\\n\\n\\n\\n\\n\\n\\u200b주문을 하니 밑반찬이 한가득 차려졌는데, 제일 먼저 먹어본 두부조림은 상당히 먹음직스러운 비주얼로 내어졌어요. 약간 매콤한게 식전에 애피타이저로 즐기기에 딱이었습니다.\\u200b\\n\\n\\n\\n \\n\\n\\n\\n\\n\\n\\n\\n\\n\\n\\n\\n\\n\\n\\n\\u200b자리 강정은 평소에 육지에서 즐기기 어려운 음식이라 그런지 호기심이 생겼어요. 한입 먹어보니 달짝지근하면서도 담백한게 제 취향을 저격했답니다.\\u200b\\n\\n\\n\\n \\n\\n\\n\\n\\n\\n\\n\\n\\n\\n\\n\\n\\n\\n\\n\\u200b한상 가득 푸짐하게 차려진 모습은 보고만 있어도 절로 기분이 업 되었는데요, 제주도 맛집은 밑반찬도 정갈했고 메인 요리들의 퀄리티까지 우수한게 으뜸이었습니다.\\u200b\\n\\n\\n\\n \\n\\n\\n\\n\\n\\n\\n\\n\\n\\n \\n\\n\\n\\n\\u200b\\n\\n\\n\\n \\n\\n\\n\\n\\n\\n\\n\\n\\n\\n\\n\\n\\n\\n\\n\\u200b\\n\\n\\n\\n \\n\\n\\n\\n\\n\\n\\n\\n\\n\\n \\n\\n\\n\\n\\u200b메인요리를 먹어볼 차례가 되어 제일 먼저 손이 갔던 전복죽! 상당히 쫄깃한 전복이 푸짐하게 들어가 있어서인지 고소한 풍미가 일품이었어요.\\u200b\\u200b\\n\\n\\n\\n \\n\\n\\n\\n\\n\\n\\n\\n\\n\\n\\n\\n\\n\\n\\n\\u200b위에 밑반찬으로 내어진 다양한 음식들을 곁들여 먹어보니 그 진가를 알 수 있었는데요, 먹으면 먹을수록 속이 든든하게 차오르는게 예술이었어요.\\u200b\\n\\n\\n\\n \\n\\n\\n\\n\\n\\n\\n\\n\\n\\n\\n\\n\\n\\n\\n\\u200b장대 미역국은 생선을 통째로 넣고 끓인 것으로 색다른 비주얼에 호기심을 자극했어요.\\u200b\\n\\n\\n\\n \\n\\n\\n\\n\\n\\n\\n\\n\\n\\n\\n\\n\\n\\n\\n\\u200b한입 먹어보니 감탄이 절로 나올 정도로 깔끔하고 담백한 매력이 있었죠. 뽀얀 국물이 지리탕 같은 시원함을 즐기게 해줬던 음식이랍니다.\\u200b\\n\\n\\n\\n \\n\\n\\n\\n\\n\\n\\n\\n\\n\\n\\n\\n\\n\\n\\n\\u200b밥을 싹 말아서도 한입 먹어봤는데요, 연거푸 먹을수록 속이 쫙 풀리는게 전날 과음을 하고 다음날 아침 해장음식으로도 제격이겠다는 생각이 들었습니다.\\u200b\\n\\n\\n\\n \\n\\n\\n\\n\\n\\n\\n\\n\\n\\n\\n\\n\\n\\n\\n\\u200b장대생선의 살도 가득 차있어서 깍두기와 함께 먹어보니 특유의 감칠맛과 아삭함이 조화롭게 잘 어울리더라고요. 자꾸만 손이 가던 마성의 매력을 지닌 녀석이었답니다.\\u200b\\n\\n\\n\\n \\n\\n\\n\\n\\n\\n\\n\\n\\n\\n\\n\\n\\n\\n\\n\\u200b갈치조림은 주문이 들어가자마자 즉시 조리가 되어나와 편하게 먹을 수 있었으며, 제주도 맛집 리스트에 이 매장이 왜 들어가 있는지 느낄 수 있었어요.\\u200b\\n\\n\\n\\n \\n\\n\\n\\n\\n\\n\\n\\n\\n\\n\\n\\n\\n\\n\\n\\u200b한토막 들어서 접시에 담아보니 그 묵직함이 상당했는데 사진으로 보는 것처럼 사이즈가 장난이 아닙니다.\\u200b\\n\\n\\n\\n \\n\\n\\n\\n\\n\\n\\n\\n\\n\\n \\n\\n\\n\\n\\u200b\\n\\n\\n\\n \\n\\n\\n\\n\\n\\n\\n\\n\\n\\n\\n\\n\\n\\n\\n\\u200b반을 싹 갈라서 먹어보니 안쪽 살점에 윤기가 좌르르 흐르고 있는 게 제주도 맛집 갈치조림은 보고만 있어도 절로 기분이 업 되었던 그런 음식이었어요.\\u200b\\n\\n\\n\\n \\n\\n\\n\\n\\n\\n\\n\\n\\n\\n\\n\\n\\n\\n\\n\\u200b역시 냉동이 아닌 생물만을 사용하는 이유를 먹자마자 단번에 알 수 있었습니다. 뭐가 달라도 다르다는 느낌이 바로 들더라고요.\\u200b\\n\\n\\n\\n \\n\\n\\n\\n\\n\\n\\n\\n\\n\\n\\n\\n\\n\\n\\n\\u200b우럭 튀김은 식사 메뉴 2인 기준 작은 녀석으로,4인 기준 큰 녀석으로 한마리가 서비스로 내어졌는데요, 서비스 치곤 퀄리티가 대단했어요.\\u200b\\n\\n\\n\\n \\n\\n\\n\\n\\n\\n\\n\\n\\n\\n\\n\\n\\n\\n\\n\\u200b한입 먹어보니 달짝지근한 소스에 우럭의 담백함이 함께 어우러져서 굉장히 조화로운 조합을 탄생시켰어요. \\u200b\\n\\n\\n\\n \\n\\n\\n\\n\\n\\n\\n\\n\\n\\n\\n\\n\\n\\n\\n\\u200b고등어구이는 노릇노릇하게 잘 구워져 나와서 한입 먹어봤는데, 겉은 바삭하고 속은 촉촉한게 겉바속촉의 대명사라고 해도 과언이 아니었습니다.\\u200b\\n\\n\\n\\n \\n\\n\\n\\n\\n\\n\\n\\n\\n\\n\\n\\n\\n\\n\\n\\u200b짭조롬하게 간이 배어있어서 그런지 밥과도 잘 어울렸고 생선의 기름기가 듬뿍 올라와 있어 굉장히 구미를 당기던 그런 맛이었어요.\\u200b\\n\\n\\n\\n \\n\\n\\n\\n\\n\\n\\n\\n\\n\\n\\n\\n\\n\\n\\n\\u200b자리 물회는 새콤한 육수 위에 푸짐하게 올라가있던 회와 채소들을 잘 섞어서 먹을 수 있었습니다.\\u200b\\n\\n\\n\\n \\n\\n\\n\\n\\n\\n\\n\\n\\n\\n\\n\\n\\n\\n\\n\\u200b육수를 한입 쭉 들이킨 뒤에 안에 들어있는 다양한 식재료들을 슥슥 섞어서 한입 먹어봤는데, 각양각색의 맛과 풍미가 가득 느껴지는 게 엄지 척이었어요.\\u200b\\n\\n\\n\\n \\n\\n\\n\\n\\n\\n\\n\\n\\n\\n\\n\\n\\n\\n\\n\\u200b제주도 맛집 리스트에 있던 물회는 신선도가 굉장히 우수하고 입안을 싹 정돈해주는게  마지막을 장식하기에 이만한 녀석도 없다는 생각이 들었습니다.\\u200b\\u200b\\n\\n\\n\\n \\n\\n\\n\\n\\n\\n\\n\\n\\n\\n \\n\\n\\n\\n\\u200b\\n\\n\\n\\n \\n\\n\\n\\n\\n\\n\\n\\n\\n\\n \\n\\n\\n\\n\\u200b\\u200b\\n\\n\\n\\n \\n\\n\\n\\n\\n\\n\\n\\n\\n\\n \\n\\n\\n\\n\\u200b\\n\\n\\n\\n '"
      ]
     },
     "execution_count": 37,
     "metadata": {},
     "output_type": "execute_result"
    }
   ],
   "source": [
    "soup.select_one('div.se-main-container').get_text()"
   ]
  },
  {
   "cell_type": "code",
   "execution_count": 19,
   "metadata": {},
   "outputs": [
    {
     "ename": "IndentationError",
     "evalue": "expected an indented block after 'except' statement on line 19 (366571858.py, line 22)",
     "output_type": "error",
     "traceback": [
      "\u001b[1;36m  Cell \u001b[1;32mIn[19], line 22\u001b[1;36m\u001b[0m\n\u001b[1;33m    data = [date, title, content, url]\u001b[0m\n\u001b[1;37m    ^\u001b[0m\n\u001b[1;31mIndentationError\u001b[0m\u001b[1;31m:\u001b[0m expected an indented block after 'except' statement on line 19\n"
     ]
    }
   ],
   "source": [
    "def get_content(driver):\n",
    "    driver.switch_to.frame('mainFrame')\n",
    "    html = driver.page_source\n",
    "    soup = BeautifulSoup(html, 'html.parser')\n",
    "    try:\n",
    "        # 날짜\n",
    "        date = soup.select_one('span.se_publishDate').get_text()\n",
    "    except:\n",
    "        date = ''\n",
    "    try:    \n",
    "        # 제목\n",
    "        title = soup.select_one('div.se-title-text').get_text().strip()\n",
    "    except:\n",
    "        title = ''\n",
    "    try:    \n",
    "        # 내용\n",
    "        content = soup.select_one('div.se-main-container').get_text()\n",
    "        content = re.sub('[^0-9가-힣a-zA-Z.,:~#-?!]',' ',content)\n",
    "        content = re.sub(' +',' ',content)\n",
    "    except:\n",
    "        content = ''\n",
    "\n",
    "    # URL\n",
    "    url = driver.current_url\n",
    "        \n",
    "    data = [date, title, content, url]\n",
    "\n",
    "    return data"
   ]
  },
  {
   "cell_type": "code",
   "execution_count": 8,
   "metadata": {},
   "outputs": [
    {
     "data": {
      "text/plain": [
       "['2023. 5. 6. 3:15',\n",
       " '제주도 맛집 환상의 맛 오멍가멍흑돼지 & 미영이네',\n",
       " ' 드디어 그토록 바라던 제주도에 가게 되었어요. 그렇게 온지 이틀째 되던날 처음왔을땐 너무 지쳐서 밥도 맛있는거 못먹고간단하게 때우고 그랬는데 이번엔 맛있는걸 먹어야겠더라구요. 근데 아는 맛집이 없어서 어떡하지 하는데 주변에서 강추해주던 제주도 맛집 두곳을 소개해드릴까해요. 진짜 회도 싱싱하고 저녁엔 든든한 흑돼지를 먹었는데 아직도 잊을 수 가 없네요. 둘다 정말 인기있는 맛집이라서 한번 방문해보시면 후회할 일 없이 정말 좋아하실거에요. 50m NAVER Corp.더보기 /OpenStreetMap지도 데이터x NAVER Corp. /OpenStreetMap지도 컨트롤러 범례부동산거리읍,면,동시,군,구시,도국가 미영이네 제주특별자치도 서귀포시 대정읍 하모항구로 42 미영이네주소 : 제주 서귀포시 대정읍 하모항구로 42영업시간 : 11:30 - 22:00정기휴무 : 매주 수요일라스트오더 : 20:30전화번호 : 064-792-0077 제주도하면 회가 떠오르잖아요. 낮에는 우선 회를 먹으러 왔어요.이름이 정말 친근한 미영이네는 정말 유명하다고 해요. 모르면 간첩이라는데 여기 회가 정말 싱싱하다고 하더라구요.주차시설도 나름 괜찮아서 너무 만족스러웠던 가게에요.가면 순번으로 예약하는 기계가 있어서 그걸 먼저 뽑고 기다리면 되요. 생각보다 엄청 기다리지 않아서 좋았어요.요즘 웨이팅 하는 가게들이 굉장히 많아졌는데맛있어도 오래기다려서 먹는 걸 좋아할 만큼 인내심이 있진 않아서회전율이 빠른 게 굉장히 좋더라구요. 미영이네 메뉴고등어회대+탕 85,000고등어회소+탕 60,000방어회 변동고등어구이 15,000 미영이네는 내부가 정말 깔끔하고 인테리어도 깔끔하니 좋더라구요.저희는 방어를 먹을까 고민하다가 고등어회를 먹게 되었어요. 고등어회에 고등어구이까지 먹었는데 정말 양이 많아서 배터질거 같더라구요.진짜 회를 잘먹는 저인데도 양이 정말 많았어요.기본찬도 깔끔하게 나오면서 고등어의 상태가 너무 싱싱하더라구요.갈치속젓에 같이 먹으니 진짜 너무 맛있었어요.기름지면서 고소한데 쫄깃해서 제가 먹은 횟집중 가장 맛있었어요.미영이네의 고등어회는 정말 비린맛이 하나도 안나더라구요.기본적으로 고등어회는 엄청 비린데 미영이네는 달랐어요. 미영이네의 고등어구이도 정말 바삭하면서 살도 엄청 통통하더라구요.겉은 바삭하면서 속은 엄청 촉촉하고 부드러워서 먹기 부담 스럽지도 않았어요.밥이랑 먹으니까 진짜 중독성있는맛이에요.가성비도 은근 괜찮아서 여럿이서 가는게 더욱 좋더라구요.저는 배터져서 죽을거 같았어요. 나중에 흑돼지를 먹기로 해서 진짜 운동 산책 엄청 열심히 했어요. 소화시키기 위해서. 회가 너무 신선하고 싱싱해서 여기서 회를 시켜먹길 너무 잘한것 같아요.소화를 힘들게 시키고 가고싶었던 흑돼지 집을 가보았는데 여기도 정말 구성이 너무 좋더라구요. 50m NAVER Corp.더보기 /OpenStreetMap지도 데이터x NAVER Corp. /OpenStreetMap지도 컨트롤러 범례부동산거리읍,면,동시,군,구시,도국가 오멍가멍흑돼지 본점 제주특별자치도 제주시 서해안로 272 1층 예약 오멍가멍흑돼지 본점주소 : 제주 제주시 서해안로 272 1층영업시간 : 매일 12:00 - 23:00전화번호 : 0507-1313-5952 아름다운 무지개 해안도로와 오션뷰를 보다보면 무지개 고기집이 나오더라구요.주차시설은 바로 앞에도 댈 수 있었는데 저희가 간 시간대에는 정말 쾌적하니 엄청 편하게 주차 할 수 있었어요.멀리서부터 고기집이 바로 눈에 띄게 보이더라구요. 가게옆에 밭이 있길래 여쭤보니 텃밭작물을 직접 키워 재배하신다고 하네요.무농약으로 재배를 하셔서 안심도 되고건강을 생각해 주시는 사장님의 따듯한 마음씨가 보여서 제 마음도 따듯해지더라구요.사장님이 너무 친절해서 좋았어요. 내부도 깔끔하고 숙성된냉장고도 따로 있더라구요. 자리에 앉자마자 오멍가멍 한상 세트를 주문 하였는데100인 한정으로 판매하고 있어서 조기 소진할 수 있으니 미리 예약하고 가면 좋을것 같더라구요. 네이버 예약을 하면 한상세트가 무려 5프로나 할인이 가능하니예약학고 오시면 더더욱 좋을 것 같더라구요. 야외테이블도 예약하는 사람을 우선으로 받고 있다고 해요.단체석은 2층에 따로 마련되어 있었어요. 제가 주문 한 오멍가멍 한상세트는슈퍼맨이 돌아왔다에 정준호 신현준님의 가족분들이 드셨다고해요. 티비에도 나올법한 음식을 제가 먹게 되다니 너무 좋았어요.아직도 사진보면 군침이 도는데 정말 싱싱하고 질좋은 음식을 맛 볼 수 있어서 행복했어요. 제주도 맛집의 딱새우회가 나오자마자 정말 군침이 너무 돌았어요.오통통하면서 엄청 싱싱한 딱새우더라구요.살도 되게 두툼해서 너무 맛있어 보였고 신선도도 오래가니 천천히 즐길 수 있어서 좋었어요. 딱새우를 한 입 넣자마자 정말 눈물이 그렁그렁 하더라구요.여태 스트레스는 싹 날라갈 정도로 정말 맛있었어요. 탱글탱글하면서도 은은한 바다향이 나면서 자연의 감칠맛이 나는데 소스가 필요없더라구요.근데 먹을수록 물리는 느낌이 나서 초장에 찍어 먹어보니 매콤하니 너무 맛있었어요. 제가 좋아하는 전복회도 같이 나왔는데 역시나 너무 맛있더라구요. 초장에 찍어먹으니 매콤하면서 입맛이 살아나는 맛이였어요.정말 싱싱하고 딱새우랑 같이 먹어도 진짜 맛있더라구요. 새우머리튀김은 정말 고소하니 맛있었어요.자연의 과자라고 느낄 만큼 워낙 맛있고 제대로 된 식사를 하기전에 먹기 좋더라구요.가볍게 회를 먹으면서 고기를 굽기전에 먹기 좋았어요. 신선한 흑돼지도 같이 나왔는데 선홍빛이 도는 고기에색감을 보고 생고기인 상태로 봐도 정말 맛있어 보이더라구요. 정말 소문난 맛집이던데 얼마나 맛있을지 기대가 되었어요. 제주도 맛집은 밑반찬들도 하나하나 간도 잘맞고 맛있더라구요.채소도 텃밭에서 가져온거라 그런지 더욱 싱싱하고 아삭했어요.예쁜 오션뷰를 보면서 고기를 굽는동안에 추억도 쌓고많은 얘기도 하고 사진찍기도 정말 좋았어요. 흑돼지를 불판에 올리지마자 지글지글 하는 소리와 함께 맛있는 냄새가 퍼지는데 정말 너무 좋았어요. 빨리 먹고 싶어서 정말 몸을 베베꼬았어요.숯불구이 흑돼지를 정말 얼마만에 즐기는지 너무 설레더라구요. 제주흑돼지를 안먹어본지 꽤 오래되었는데 직접 보고 있으니 참기가 너무 힘들더라구요.탱글 촉촉한 딱새우회를 먹으면서 힘들게 견뎠어요.너무 먹고싶었어서 그런지 정말 어느때보다 참기 힘들었어요. 고기가 익는동안 가게를 살펴보니 정말 분위기도 좋고 물건하나하나 엄청 청결하더라구요.깨끗하지 않은게 없었고 친구가 화장실을 다녀왔는데 화장실도 엄청 깨끗하다고하더라구요.청결의 왕 이였어요. 고기를 먹기좋게 잘라주는데 정말 두툼하면서도 자르면서도 엄청 부드러워 보이더라구요.비율이 너무 좋고 때깔이 너무 좋은 고기가 거의다 익어가기 시작하니 설렜어요.빨리 먹고싶다는 생각밖에 안들더라구요. 제주도 맛집의 고기를 기다리다 못해결국 전복회와 딱새우를 올렸어요. 익기전에 금방 익는 전복회와 딱새우를 익혀먹으면입이 쉬는 시간이 없어 더욱 즐겁거든요. 함께 구운 회가 다 익었는데 전복회부터 얼른 먹어보았더니식감도 좋고 정말 꼬들한 느낌은 없이 쫄깃하면서 부드럽더라구요. 거기에 그냥 먹어도 정말 맛있고 전복의 싱싱한 맛이 그대로 느껴져서 좋았어요.전복 좋아하시는 분들에게 엄청 추천드려요. 딱새우회를 먹어봤는데 일단 껍질이 까져있으니 구웠을때도 먹기 편하더라구요.딱새우가 익으니 더욱 부드럽고 살결하나하나 느껴져서 먹는 맛이 있었어요.엄청 달달하면서 숯불향이 나니 더욱 맛있더라구요. 다익은 흑돼지를 먼저 기본으로 먹어봤는데 육질이 너무 부드럽고 잡내가 하나도 안나더라구요. 엄청 쫄깃하고 부드러우면서 육즙이 엄청 고소했어요.살고기가 질기지 않아서 좋았어요. 뜨거워진 멜젓소스에 듬뿍 찍어먹어도 정말 맛있더라구요. 저는 이 소스를 굉장히 좋아하지만 평소에는 잘 먹지 못해서 너무 먹고싶었는데간만에 먹으니 정말 너무 맛있었어요. 제주도민뿐만 아니라 저도 정말 즐겨먹는 소스인데 고기랑 찰떡궁합이에요. 잘익은 흑돼지를 밥위에 올려먹으면 정말 맛있는데밥의 달달한맛과 잘어울러져서 고기맛이 저는 더 잘느껴져서 좋더라구요.밥이랑 김치랑 같이 먹으면 진짜 행복이 터지는 맛이였어요. 흑돼지를 매콤한 마늘에 같이 쌈싸먹으니 더욱 맛있더라구요.무농약 상추에 먹으니 더욱 건강한느낌이 들면서 한입가득 우겨넣으니 진짜 계속 먹게 되면서 든든하니 좋았어요.항상 고기먹을때 상추를 잘 먹는편인데 역시 고기는 쌈이최고였어요. 김치찌개의 비주얼도 정말 장난 없었는데 술이 들어가면서 얼큰한 국물이 너무 땡기더라구요.김치가 듬뿍들어가면서 고기도 듬뿍가니 정말 먹음직스러워 보였어요. 밥을 말아먹도 정말 맛있었어요. 국물맛도 깊어서 좋고 김치의 진한맛이 나서 너무 맛있더라구요. 김치도 잘익은 김치에 밥을 같이 먹으니 진짜 밥도둑이였어요.흑돼지도 들어갔는데 정말 엄청 많이 들어가면서 비계도 쫄깃쫄깃하니 너무 맛있었어요. 시원 칼칼한 딱새우라면이 나왔는데 정말 국물이 엄청 진하고 칼칼해서 맛있었어요.적당히 매콤해서 부담스럽지 않고 진하면서 간이 적당히니 너무 맛있었어요. 딱새우도 담백쫄깃해서 맛있더라구요.진짜 새우살의 탱금함을 느끼면서 싱싱한 쑥도 들어가서 같이 먹으면 식감이 대박이에요.쑥향도 같이 느낄 수 있어서 가성비가 대박이에요.낮에는 회를 먹고 저녁엔 든든하게 흑돼지를 먹으니 너무 든든했어요.제주도 맛집으로 추천드린 두 곳 다 후회없는 맛집이니까 한번 가보시길 바래요. 광고 후 계속됩니다. 다음 subject author 취소 제주도 맛집 환상의 맛 오멍가멍흑돼지 & 미영이네 재생 0 좋아요 0 좋아요 공유 하기 0:00:00 재생 음소거 00:00 00:24 실시간 설정 전체 화면 해상도 자동 480p 자막 사용 안함 재생 속도 1.0x (기본) 해상도 자동 (480p) 480p 270p 144p 자막 설정 사용 안함 옵션 글자 크기 배경색 재생 속도 0.5x 1.0x (기본) 1.5x 2.0x 알 수 없는 오류가 발생했습니다. 도움말 보기 음소거 상태입니다. 도움말 라이센스 고화질 재생이 가능한 영상입니다. 설정에서 해상도를 변경해보세요. 더 알아보기 0:00:00 제주도 맛집 환상의 맛 오멍가멍흑돼지 & 미영이네 ',\n",
       " 'https://blog.naver.com/williamx4016/223094617779']"
      ]
     },
     "execution_count": 8,
     "metadata": {},
     "output_type": "execute_result"
    }
   ],
   "source": [
    "results = []\n",
    "num = 10\n",
    "\n",
    "for i in range(num):\n",
    "    driver.get(df_url['blog_url'][i])\n",
    "    time.sleep(2)\n",
    "\n",
    "    blog_data = get_content(driver)\n",
    "    results.append(blog_data)\n",
    "\n",
    "results[9]"
   ]
  },
  {
   "cell_type": "code",
   "execution_count": 9,
   "metadata": {},
   "outputs": [
    {
     "data": {
      "text/plain": [
       "10"
      ]
     },
     "execution_count": 9,
     "metadata": {},
     "output_type": "execute_result"
    }
   ],
   "source": [
    "len(results)"
   ]
  },
  {
   "cell_type": "code",
   "execution_count": 10,
   "metadata": {},
   "outputs": [],
   "source": [
    "df = pd.DataFrame(results)\n",
    "df.columns = ['날짜', '제목', '내용', 'URL']\n",
    "df.to_excel('블로그내용_10개.xlsx')"
   ]
  },
  {
   "cell_type": "code",
   "execution_count": null,
   "metadata": {},
   "outputs": [],
   "source": []
  }
 ],
 "metadata": {
  "kernelspec": {
   "display_name": "base",
   "language": "python",
   "name": "python3"
  },
  "language_info": {
   "codemirror_mode": {
    "name": "ipython",
    "version": 3
   },
   "file_extension": ".py",
   "mimetype": "text/x-python",
   "name": "python",
   "nbconvert_exporter": "python",
   "pygments_lexer": "ipython3",
   "version": "3.10.9"
  },
  "orig_nbformat": 4
 },
 "nbformat": 4,
 "nbformat_minor": 2
}
