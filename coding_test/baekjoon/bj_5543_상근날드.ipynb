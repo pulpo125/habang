{
 "cells": [
  {
   "cell_type": "code",
   "execution_count": null,
   "metadata": {},
   "outputs": [],
   "source": [
    "## 5543\n",
    "# 세트면 합계 - 50\n",
    "b_list = []\n",
    "d_list = []\n",
    "for i in range(5):\n",
    "    input_menu = int(input())\n",
    "    if i < 3:\n",
    "        b_list.append(input_menu)\n",
    "    else:\n",
    "        d_list.append(input_menu)\n",
    "\n",
    "print(min(b_list) + min(d_list) - 50)"
   ]
  }
 ],
 "metadata": {
  "language_info": {
   "name": "python"
  },
  "orig_nbformat": 4
 },
 "nbformat": 4,
 "nbformat_minor": 2
}
