{
 "cells": [
  {
   "cell_type": "code",
   "execution_count": 2,
   "metadata": {},
   "outputs": [
    {
     "name": "stdout",
     "output_type": "stream",
     "text": [
      "1 2 4 3 \n",
      "1 2 3 4 "
     ]
    }
   ],
   "source": [
    "n, m, v = list(map(int, input().split()))\n",
    "graph = [[] for _ in range(n+1)]\n",
    "\n",
    "for _ in range(m):\n",
    "    i, j = list(map(int, input().split()))\n",
    "    graph[i].append(j)\n",
    "    graph[j].append(i)\n",
    "        \n",
    "# DFS\n",
    "visited = [False] * (n+1)\n",
    "\n",
    "def dfs(node):\n",
    "    if not visited[node]: \n",
    "        print(node, end=' ')\n",
    "        visited[node] = True\n",
    "\n",
    "        for val in sorted(graph[node]):\n",
    "            dfs(val)\n",
    "\n",
    "dfs(v)\n",
    "\n",
    "print() # 공백\n",
    "                \n",
    "# BFS\n",
    "from collections import deque\n",
    "visited = [False] * (n+1)\n",
    "\n",
    "def bfs(node):\n",
    "    queue = deque()\n",
    "    queue.append(node)\n",
    "    visited[node] = True\n",
    "\n",
    "    while queue:\n",
    "        new_node = queue.popleft()\n",
    "        print(new_node, end = ' ')\n",
    "        for val in sorted(graph[new_node]):\n",
    "            if not visited[val]:\n",
    "                queue.append(val)\n",
    "                visited[val] = True\n",
    "                \n",
    "bfs(v)"
   ]
  },
  {
   "cell_type": "code",
   "execution_count": null,
   "metadata": {},
   "outputs": [],
   "source": []
  }
 ],
 "metadata": {
  "kernelspec": {
   "display_name": "base",
   "language": "python",
   "name": "python3"
  },
  "language_info": {
   "codemirror_mode": {
    "name": "ipython",
    "version": 3
   },
   "file_extension": ".py",
   "mimetype": "text/x-python",
   "name": "python",
   "nbconvert_exporter": "python",
   "pygments_lexer": "ipython3",
   "version": "3.10.9"
  },
  "orig_nbformat": 4
 },
 "nbformat": 4,
 "nbformat_minor": 2
}
