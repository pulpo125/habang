{
 "cells": [
  {
   "cell_type": "code",
   "execution_count": null,
   "metadata": {},
   "outputs": [],
   "source": [
    "# 1966: 프린터 큐\n",
    "\n",
    "test_case = int(input()) # 테스트 케이스 수\n",
    "\n",
    "priority_list = []\n",
    "# 테스트 케이스 수 만큼 input 받음\n",
    "for _ in range(test_case):\n",
    "    n, m = list(map(int, input().split())) # n: 문서의 개수 / m: 찾는 문서 위치\n",
    "    priority_list = list(map(int, input().split())) # 문서의 중요도\n",
    "    index_priority_arr = list(enumerate(priority_list)) #[(index, priority)]\n",
    "\n",
    "    my_doc = index_priority_arr[m] # 찾는 문서\n",
    "    cnt = 0 # 몇 번째 출력되는지 (결과값)\n",
    "    while index_priority_arr:\n",
    "        max_value = max([i[1] for i in index_priority_arr])\n",
    "\n",
    "        # 맨 앞 문서의 중요도가 최댓값이랑 같으면 출력\n",
    "        if index_priority_arr[0][1] == max_value:\n",
    "            curr_doc = index_priority_arr.pop(0)\n",
    "            cnt += 1\n",
    "\n",
    "            # 현재 출력한 문서가 내가 찾는 문서이면 cnt 출력 후 종료\n",
    "            if curr_doc == my_doc:\n",
    "                print(cnt)\n",
    "                break\n",
    "        \n",
    "        # 맨 앞의 문서의 중요도가 최댓값보다 작으면 뒤로 추가\n",
    "        else:\n",
    "            curr_doc = index_priority_arr.pop(0)\n",
    "            index_priority_arr.append(curr_doc)"
   ]
  }
 ],
 "metadata": {
  "language_info": {
   "name": "python"
  },
  "orig_nbformat": 4
 },
 "nbformat": 4,
 "nbformat_minor": 2
}
