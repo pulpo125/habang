{
 "cells": [
  {
   "cell_type": "code",
   "execution_count": null,
   "metadata": {},
   "outputs": [],
   "source": [
    "# 11659\n",
    "n, m = list(map(int, input().split()))\n",
    "nums = list(input().split())\n",
    "\n",
    "for _ in range(m):\n",
    "    i, j = list(map(int, input().split()))\n",
    "    result = '+'.join(nums[i-1:j])\n",
    "    print(eval(result))"
   ]
  },
  {
   "cell_type": "code",
   "execution_count": null,
   "metadata": {},
   "outputs": [],
   "source": [
    "import sys\n",
    "# input = sys.stdin.readline\n",
    "n, m = map(int, input().split())\n",
    "nums_list = list(map(int, input().split()))\n",
    "sum_list = [0] # 인덱스 초기값 설정\n",
    " \n",
    "sum = 0    \n",
    "for num in nums_list:   \n",
    "    sum += num\n",
    "    sum_list.append(sum)\n",
    "\n",
    "#print(sum_list)\n",
    " \n",
    "for k in range(m):\n",
    "    i, j = map(int, input().split())\n",
    "    print(sum_list[j] - sum_list[i-1])"
   ]
  }
 ],
 "metadata": {
  "language_info": {
   "name": "python"
  },
  "orig_nbformat": 4
 },
 "nbformat": 4,
 "nbformat_minor": 2
}
