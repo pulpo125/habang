{
 "cells": [
  {
   "cell_type": "code",
   "execution_count": null,
   "metadata": {},
   "outputs": [],
   "source": [
    "# 10799 쇠막대기\n",
    "total = 0\n",
    "total += len([1, 2, 3]) * 2 \n",
    "total += len([1, 2, 3])\n",
    "# len([0, 1])\n",
    "total += len([1, 2]) + len([4]) * 2\n",
    "# len([0, 1])\n",
    "total += len([1, 2])\n",
    "# len([])\n",
    "total += len([5]) * 2"
   ]
  }
 ],
 "metadata": {
  "language_info": {
   "name": "python"
  },
  "orig_nbformat": 4
 },
 "nbformat": 4,
 "nbformat_minor": 2
}
