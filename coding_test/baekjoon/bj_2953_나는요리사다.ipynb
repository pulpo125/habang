{
 "cells": [
  {
   "cell_type": "code",
   "execution_count": null,
   "metadata": {},
   "outputs": [],
   "source": [
    "# 백준 2953번: 나는 요리사다 / 배열\n",
    "score_array = []\n",
    "for i in range(5):\n",
    "    score_list = list(map(int, input().split()))\n",
    "    score_array.append(score_list)\n",
    "\n",
    "result_list = []\n",
    "for i in range(len(score_array)):\n",
    "    sum_value = sum(score_array[i])\n",
    "    result_list.append(sum(score_array[i]))\n",
    "\n",
    "print(result_list.index(max(result_list))+1, max(result_list))"
   ]
  }
 ],
 "metadata": {
  "language_info": {
   "name": "python"
  },
  "orig_nbformat": 4
 },
 "nbformat": 4,
 "nbformat_minor": 2
}
