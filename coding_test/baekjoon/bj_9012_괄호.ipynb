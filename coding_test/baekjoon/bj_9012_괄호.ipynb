{
 "cells": [
  {
   "attachments": {},
   "cell_type": "markdown",
   "metadata": {},
   "source": [
    "##9012_괄호\n",
    "- 스택"
   ]
  },
  {
   "cell_type": "code",
   "execution_count": null,
   "metadata": {},
   "outputs": [],
   "source": [
    "n = int(input())\n",
    "\n",
    "for _ in range(n):\n",
    "    ps = input()\n",
    "    ps_list = list(ps)\n",
    "\n",
    "    stack_list = []\n",
    "    result = None\n",
    "\n",
    "    for i in range(len(ps_list)):\n",
    "        if len(stack_list) == 0:\n",
    "            if ')' == ps_list[i]:\n",
    "                result = 'NO'\n",
    "                break\n",
    "    \n",
    "        if '(' == ps_list[i]:\n",
    "            stack_list.append(ps_list[i])\n",
    "        elif ')' == ps_list[i]:\n",
    "            stack_list.pop()\n",
    "\n",
    "        if len(stack_list) == 0:\n",
    "            result = 'YES'\n",
    "        else:\n",
    "            result = 'NO'\n",
    "        \n",
    "    print(result)"
   ]
  }
 ],
 "metadata": {
  "language_info": {
   "name": "python"
  },
  "orig_nbformat": 4
 },
 "nbformat": 4,
 "nbformat_minor": 2
}
