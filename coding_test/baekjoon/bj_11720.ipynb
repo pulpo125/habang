{
 "cells": [
  {
   "cell_type": "code",
   "execution_count": null,
   "metadata": {},
   "outputs": [],
   "source": [
    "# 11720\n",
    "n = int(input()) # 문자의 개수\n",
    "nums = input()\n",
    "print(eval('+'.join(nums)))"
   ]
  }
 ],
 "metadata": {
  "language_info": {
   "name": "python"
  },
  "orig_nbformat": 4
 },
 "nbformat": 4,
 "nbformat_minor": 2
}
