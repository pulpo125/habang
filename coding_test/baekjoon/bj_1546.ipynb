{
 "cells": [
  {
   "cell_type": "code",
   "execution_count": null,
   "metadata": {},
   "outputs": [],
   "source": [
    "# 1546: 평균\n",
    "# m 최댓값\n",
    "# 총 점수 / m * 100\n",
    "\n",
    "n = int(input()) # 과목의 개수\n",
    "\n",
    "grade_list = list(map(int, input().split()))\n",
    "max_val = max(grade_list)\n",
    "\n",
    "new_list = []\n",
    "for i in range(n):\n",
    "    new_list.append(grade_list[i] / max_val * 100)\n",
    "\n",
    "print(sum(new_list)/len(new_list))\n"
   ]
  }
 ],
 "metadata": {
  "language_info": {
   "name": "python"
  },
  "orig_nbformat": 4
 },
 "nbformat": 4,
 "nbformat_minor": 2
}
